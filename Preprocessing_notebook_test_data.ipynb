{
 "cells": [
  {
   "cell_type": "code",
   "execution_count": null,
   "id": "af3af8c5-c8a8-4f0a-84ea-d9c04ec25661",
   "metadata": {},
   "outputs": [],
   "source": [
    "import pandas as pd\n",
    "import numpy as np\n",
    "import matplotlib.pyplot as plt\n",
    "import tensorflow as tf\n",
    "import xml\n",
    "import xml.etree.ElementTree as ET\n",
    "import cv2\n",
    "import math\n",
    "import warnings\n",
    "from skimage.transform import resize\n",
    "import os\n",
    "from scipy import ndimage\n",
    "import shutil"
   ]
  },
  {
   "cell_type": "code",
   "execution_count": null,
   "id": "0e42cabd-3746-4570-943a-393facd24130",
   "metadata": {},
   "outputs": [],
   "source": [
    "# see if the noetbook accesses the GPU\n",
    "tf.config.list_physical_devices(\"GPU\")"
   ]
  },
  {
   "cell_type": "markdown",
   "id": "466d11f5-663d-474e-b17b-bcddda4db55a",
   "metadata": {},
   "source": [
    "##### Preprocessing for train data"
   ]
  },
  {
   "cell_type": "code",
   "execution_count": null,
   "id": "7d81ef71-59a1-4eeb-8dbf-22143b225d0d",
   "metadata": {},
   "outputs": [],
   "source": [
    "# Train data locations\n",
    "block_0101 = '../Block_1_TN/Block_1_images_and_xml'\n",
    "block_0102 = '../Block_2_TN/Block_2_images_and_xml'\n",
    "block_0203 = '../Block_9_TN/Block_9_images_and_xml'\n",
    "block_0301 = '../Block_13_TN/Block_13_images_and_xml'\n",
    "\n",
    "train_blocks = [block_0101, block_0102, block_0203, block_0301]\n",
    "\n",
    "# valid data location\n",
    "block_0204 = '../Block_10_TN/Block_10_images_and_xml'\n",
    "\n",
    "valid_blocks = [block_0204]\n",
    "\n",
    "\n",
    "# test data location\n",
    "block_0103 = '../Block_3_TN/Block_3_images_and_xml'\n",
    "block_0104 = '../Block_4_TN/Block_4_images_and_xml'\n",
    "block_0105 = '../Block_5_TN/Block_5_images_and_xml'\n",
    "block_0106 = '../Block_6_TN/Block_6_images_and_xml'\n",
    "block_0201 = '../Block_7_TN/Block_7_images_and_xml'\n",
    "block_0202 = '../Block_8_TN/Block_8_images_and_xml'\n",
    "block_0205 = '../Block_11_TN/Block_11_images_and_xml'\n",
    "block_0206 = '../Block_12_TN/Block_12_images_and_xml'\n",
    "block_0302 = '../Block_14_TN/Block_14_images_and_xml'\n",
    "block_0303 = '../Block_15_TN/Block_15_images_and_xml'\n",
    "block_0304 = '../Block_16_TN/Block_16_images_and_xml'\n",
    "block_0305 = '../Block_17_TN/Block_17_images_and_xml'\n",
    "block_0306 = '../Block_18_TN/Block_18_images_and_xml'\n",
    "\n",
    "test_blocks = [block_0103, block_0104, block_0105, block_0106, block_0201, block_0202, block_0205, block_0206, block_0302, block_0303, block_0304, block_0305, block_0306]"
   ]
  },
  {
   "cell_type": "code",
   "execution_count": null,
   "id": "4aace742-beea-49fe-bc6e-793e43e902ad",
   "metadata": {},
   "outputs": [],
   "source": [
    "# list all the image and the xml files for the train data\n",
    "all_train_contents = []\n",
    "for item in train_blocks:\n",
    "    block_contents = os.listdir(item)\n",
    "    block_contents.sort()\n",
    "    all_train_contents.append(block_contents)"
   ]
  },
  {
   "cell_type": "code",
   "execution_count": null,
   "id": "17b5f993-c35d-465f-ace2-4e717ef1e3d4",
   "metadata": {},
   "outputs": [],
   "source": [
    "# need to separate the image and the xml files - define a function\n",
    "def separate_img_xml(content_list):\n",
    "    image_files = []\n",
    "    xml_files = []\n",
    "    for file in content_list:\n",
    "        if file.split(\".\")[-1] == 'jpeg':\n",
    "            image_files.append(file)\n",
    "            image_files.sort()\n",
    "        else:\n",
    "            xml_files.append(file)\n",
    "            xml_files.sort()\n",
    "    return(image_files, xml_files)"
   ]
  },
  {
   "cell_type": "code",
   "execution_count": null,
   "id": "bcdd1854-5139-4102-aefd-0807c01c81b9",
   "metadata": {},
   "outputs": [],
   "source": [
    "# separate the annotated and not annotated images\n",
    "def separate_annot_and_not(img_list, xml_list):\n",
    "    image_names = [name.split(\".\")[0] for name in xml_list]\n",
    "    annotated_images = []\n",
    "    not_annotated_images = []\n",
    "    for file in img_list:\n",
    "        if file.split('.')[0] in image_names:\n",
    "            annotated_images.append(file)\n",
    "        else:\n",
    "            not_annotated_images.append(file)\n",
    "    return(annotated_images, not_annotated_images)"
   ]
  },
  {
   "cell_type": "code",
   "execution_count": null,
   "id": "6853428c-1d38-4c36-81af-dd4684a17bca",
   "metadata": {},
   "outputs": [],
   "source": [
    "# separete the vertically and horizontally annotated images\n",
    "def separate_annnot_vertical_horizontal(annotated_images, all_xml_files, n):\n",
    "    annot_vertical_images = annotated_images[:n]\n",
    "    annot_vertical_xmls = all_xml_files[:n]\n",
    "    annot_horizontal_images = annotated_images[n:]\n",
    "    annot_horizontal_xmls = all_xml_files[n:]\n",
    "    return(annot_vertical_images, annot_vertical_xmls, annot_horizontal_images, annot_horizontal_xmls)"
   ]
  },
  {
   "cell_type": "code",
   "execution_count": null,
   "id": "bd902edb-a800-4813-92b9-0d54f06d3684",
   "metadata": {},
   "outputs": [],
   "source": [
    "# check if the annotated horizontal and vertical file names match\n",
    "def check_annot(annot_vertical_images, annot_vertical_xmls, annot_horizontal_images, annot_horizontal_xmls):\n",
    "    # are the vertical image and xml files matching\n",
    "    annot_vertical = []\n",
    "    for i in range(len(annot_vertical_images)):\n",
    "        if annot_vertical_images[i].split(\".\")[0] == annot_vertical_xmls[i].split(\".\")[0]:\n",
    "            annot_vertical.append(1)\n",
    "    print(len(annot_vertical), len(annot_vertical_images))\n",
    "\n",
    "    annot_horizontal = []\n",
    "    # are the horizontally annotated images and the xml files the same?\n",
    "    for j in range(len(annot_horizontal_images)):\n",
    "        if annot_horizontal_images[i].split(\".\")[0] == annot_horizontal_xmls[i].split(\".\")[0]:\n",
    "            annot_horizontal.append(1)\n",
    "    print(len(annot_horizontal), len(annot_horizontal_images))       "
   ]
  },
  {
   "cell_type": "code",
   "execution_count": null,
   "id": "cf1f96f8-a1f7-4426-a0ab-b778d2b60fde",
   "metadata": {},
   "outputs": [],
   "source": [
    "# now store the images as npy files?\n",
    "\n",
    "# define a function to store the images as npy files - need two functions for vertical and horizontal separately - beacuse all images are read as horizontal images else.\n",
    "def store_images_as_np_arrays_vertical(img_old_path, img_name, img_store_path):\n",
    "    # join the path\n",
    "    image_path = os.path.join(img_old_path, img_name)\n",
    "    # read the image\n",
    "    read_image = plt.imread(image_path)\n",
    "    read_image = ndimage.rotate(read_image, 270)\n",
    "    image_size = read_image.shape\n",
    "    # show the image\n",
    "    plt.imshow(read_image)\n",
    "    plt.show()\n",
    "    # save the image in new location\n",
    "    np.save(img_store_path + '/' + img_name.split(\".\")[0] + '.npy', read_image)\n",
    "    return(image_size)"
   ]
  },
  {
   "cell_type": "code",
   "execution_count": null,
   "id": "d5db2dfc-c382-466c-904c-d9881c1dc42d",
   "metadata": {},
   "outputs": [],
   "source": [
    "# save the outlier image in block 31 - the first vertical na image\n",
    "def store_images_as_np_arrays_vertical_outlier(img_old_path, img_name, img_store_path):\n",
    "    # join the path\n",
    "    image_path = os.path.join(img_old_path, img_name)\n",
    "    # read the image\n",
    "    read_image = plt.imread(image_path)\n",
    "    read_image = ndimage.rotate(read_image, 90)\n",
    "    image_size = read_image.shape\n",
    "    # show the image\n",
    "    plt.imshow(read_image)\n",
    "    plt.show()\n",
    "    # save the image in new location\n",
    "    np.save(img_store_path + '/' + img_name.split(\".\")[0] + '.npy', read_image)\n",
    "    return(image_size)"
   ]
  },
  {
   "cell_type": "code",
   "execution_count": null,
   "id": "9de280a5-a458-4056-a6b9-c5ed668c59ce",
   "metadata": {},
   "outputs": [],
   "source": [
    "# define a function to store horizontal images\n",
    "def store_images_as_np_arrays_horizontal(img_old_path, img_name, img_store_path):\n",
    "    # join the path\n",
    "    image_path = os.path.join(img_old_path, img_name)\n",
    "    # read the image\n",
    "    read_image = plt.imread(image_path)\n",
    "    image_size = read_image.shape\n",
    "    # show the image\n",
    "    plt.imshow(read_image)\n",
    "    plt.show()\n",
    "    # save the image in new location\n",
    "    np.save(img_store_path + '/' + img_name.split(\".\")[0] + '.npy', read_image)\n",
    "    return(image_size)"
   ]
  },
  {
   "cell_type": "code",
   "execution_count": null,
   "id": "4e9e7ff0-cf57-4ab1-9960-f457b3b018eb",
   "metadata": {},
   "outputs": [],
   "source": [
    "# note that the first horizontal image needs rotation, else the density map and the image file use for training the model will not match\n",
    "def store_images_as_np_arrays_horizontal_0(img_old_path, img_name, img_store_path):\n",
    "    # join the path\n",
    "    image_path = os.path.join(img_old_path, img_name)\n",
    "    # read the image\n",
    "    read_image = plt.imread(image_path)\n",
    "    read_image = ndimage.rotate(read_image, 180)\n",
    "    image_size = read_image.shape\n",
    "    # show the image\n",
    "    plt.imshow(read_image)\n",
    "    plt.show()\n",
    "    # save the image in new location\n",
    "    np.save(img_store_path + '/' + img_name.split(\".\")[0] + '.npy', read_image)\n",
    "    return(image_size)"
   ]
  },
  {
   "cell_type": "code",
   "execution_count": null,
   "id": "2df68424-bf49-4904-b601-ecb975b137e4",
   "metadata": {},
   "outputs": [],
   "source": [
    "# for vertically annotated images\n",
    "def get_density_maps_vertical(file_name, image_path, xml_path, save_density_path):\n",
    "    xml_file = file_name + '.xml'\n",
    "    xml_file_path = os.path.join(xml_path, xml_file)\n",
    "\n",
    "    # Get coords from the xml file\n",
    "    # parse the xml file\n",
    "    parsed_file = ET.parse(xml_file_path)\n",
    "    # get the roots\n",
    "    root = parsed_file.getroot()\n",
    "    # get the roots here\n",
    "    coords = []\n",
    "    for child in root:\n",
    "        for i in child:\n",
    "            for j in i:\n",
    "                coords.append(int(j.text))\n",
    "    \n",
    "    # chunk the points into sets of 4 - these are the coordinates of the bounding boxes\n",
    "    points_tupples = []\n",
    "    for i in range(0, len(coords), 4):\n",
    "        points_tupples.append(coords[i:i + 4])\n",
    "\n",
    "    # make a dataframe with these points\n",
    "    coords_df = pd.DataFrame(points_tupples, columns = [\"bleft_x\", \"bleft_y\", \"tright_x\", \"tright_y\"])\n",
    "\n",
    "    # compute the number of tassels in each image\n",
    "    no_of_tassels = len(points_tupples)\n",
    "\n",
    "    # compute the mid coordinates\n",
    "    coords_df[\"mid_x\"] = (round(0.5*(coords_df[\"bleft_x\"] + coords_df[\"tright_x\"]))).astype(int)\n",
    "    coords_df[\"mid_y\"] = (round(0.5*(coords_df[\"bleft_y\"] + coords_df[\"tright_y\"]))).astype(int)\n",
    "\n",
    "    # extract the mid cordinates\n",
    "    mid_coords = coords_df[[\"mid_x\", \"mid_y\"]]\n",
    "    warnings.filterwarnings(\"ignore\")\n",
    "    # cap the coords at the max height and width values\n",
    "    mid_coords.loc[mid_coords['mid_x'] > 768, 'mid_x'] = 767\n",
    "    mid_coords.loc[mid_coords['mid_y'] > 1024, 'mid_y'] = 1023\n",
    "    \n",
    "\n",
    "    # plot the bounding boxes on images\n",
    "    # get image name and path\n",
    "    image_name = file_name + '.npy'\n",
    "    imge_file_path = os.path.join(image_path, image_name)\n",
    "    # read the image\n",
    "    read_image = np.load(imge_file_path)\n",
    "\n",
    "    # check the shape of the read image\n",
    "    read_image_shape = read_image.shape\n",
    "    #  plot the bounding boxes on the image\n",
    "    for points in points_tupples:\n",
    "        annotated_image = cv2.rectangle(read_image, (points[0],points[1]), (points[2],points[3]), color = (255,0,0), thickness = 2)\n",
    "    # plt.figure(figsize = (12,18))\n",
    "    plt.imshow(annotated_image)\n",
    "    plt.show()\n",
    "\n",
    "    # plot the mid points on the image\n",
    "    coords_list = mid_coords.values.tolist()\n",
    "    # read the image again\n",
    "    read_image_again = np.load(imge_file_path)\n",
    "    # read_image_again = ndimage.rotate(read_image_again, 270)\n",
    "    # draw the circles on image\n",
    "    for i in coords_list:\n",
    "        image_with_mids = cv2.circle(read_image_again, i, radius=5, color=(255, 0, 0), thickness=-1)\n",
    "    # look at the annotated image\n",
    "    # plt.figure(figsize = (12,18))\n",
    "    plt.imshow(image_with_mids)\n",
    "    plt.show()\n",
    "\n",
    "    # also try creating the density map here\n",
    "    # first create the empty maps\n",
    "    np_image = np.zeros((read_image_shape[0], read_image_shape[1]))\n",
    "    # get the dot maps\n",
    "    for point in coords_list:\n",
    "        np_image[point[1], point[0]] = 1\n",
    "    # plot the image\n",
    "    # plt.figure(figsize = (12,18))\n",
    "    plt.imshow(np_image, cmap = \"Greys\")\n",
    "    plt.show()\n",
    "\n",
    "    # now define the kernel and run the convolution\n",
    "    one_d_kerenel = cv2.getGaussianKernel(50,5)\n",
    "    two_d_kernel = np.multiply(one_d_kerenel.T, one_d_kerenel)\n",
    "\n",
    "    # Shape of the 2D kernel\n",
    "    twoD_shape = two_d_kernel.shape\n",
    "        \n",
    "    # do the convolution\n",
    "    convolution = ndimage.convolve(np_image, two_d_kernel)\n",
    "        \n",
    "    # plot the density map\n",
    "    # plt.figure(figsize = (12,18))\n",
    "    plt.imshow(convolution, cmap = \"Greys\")\n",
    "    plt.show()\n",
    "        \n",
    "    # get the sums of the images\n",
    "    img_sum = np.sum(convolution)\n",
    "\n",
    "    # save the density map\n",
    "    np.save(save_density_path + '/' + file_name + '_density_map.npy', convolution)\n",
    "\n",
    "    return(file_name, read_image_shape, no_of_tassels, img_sum, convolution)"
   ]
  },
  {
   "cell_type": "code",
   "execution_count": null,
   "id": "a1343cbf-cd25-48db-895e-e937c235fdb3",
   "metadata": {},
   "outputs": [],
   "source": [
    "# create density maps for the horizontally annotated images\n",
    "def get_density_maps_horizontal(file_name, image_path, xml_path, save_density_path):\n",
    "    xml_file = file_name + '.xml'\n",
    "    xml_file_path = os.path.join(xml_path, xml_file)\n",
    "\n",
    "    # Get coords from the xml file\n",
    "    # parse the xml file\n",
    "    parsed_file = ET.parse(xml_file_path)\n",
    "    # get the roots\n",
    "    root = parsed_file.getroot()\n",
    "    # get the roots here\n",
    "    coords = []\n",
    "    for child in root:\n",
    "        for i in child:\n",
    "            for j in i:\n",
    "                coords.append(int(j.text))\n",
    "    \n",
    "    # chunk the points into sets of 4 - these are the coordinates of the bounding boxes\n",
    "    points_tupples = []\n",
    "    for i in range(0, len(coords), 4):\n",
    "        points_tupples.append(coords[i:i + 4])\n",
    "\n",
    "    # make a dataframe with these points\n",
    "    coords_df = pd.DataFrame(points_tupples, columns = [\"bleft_x\", \"bleft_y\", \"tright_x\", \"tright_y\"])\n",
    "\n",
    "    # compute the number of tassels in each image\n",
    "    no_of_tassels = len(points_tupples)\n",
    "\n",
    "    # compute the mid coordinates\n",
    "    coords_df[\"mid_x\"] = (round(0.5*(coords_df[\"bleft_x\"] + coords_df[\"tright_x\"]))).astype(int)\n",
    "    coords_df[\"mid_y\"] = (round(0.5*(coords_df[\"bleft_y\"] + coords_df[\"tright_y\"]))).astype(int)\n",
    "\n",
    "    # extract the mid cordinates\n",
    "    mid_coords = coords_df[[\"mid_x\", \"mid_y\"]]\n",
    "    # cap the coords at the max height and width values\n",
    "    mid_coords.loc[mid_coords['mid_x'] > 1024, 'mid_x'] = 1023\n",
    "    mid_coords.loc[mid_coords['mid_y'] > 768, 'mid_y'] = 767\n",
    "    warnings.filterwarnings(\"ignore\")\n",
    "\n",
    "    # plot the bounding boxes on images\n",
    "    # get image name and path\n",
    "    image_name = file_name + '.npy'\n",
    "    imge_file_path = os.path.join(image_path, image_name)\n",
    "    # read the image\n",
    "    read_image = np.load(imge_file_path)\n",
    "    # check the shape of the read image\n",
    "    read_image_shape = read_image.shape\n",
    "    #  plot the bounding boxes on the image\n",
    "    for points in points_tupples:\n",
    "        annotated_image = cv2.rectangle(read_image, (points[0],points[1]), (points[2],points[3]), color = (255,0,0), thickness = 2)\n",
    "    # plt.figure(figsize = (12,18))\n",
    "    plt.imshow(annotated_image)\n",
    "    plt.show()\n",
    "\n",
    "    # plot the mid points on the image\n",
    "    coords_list = mid_coords.values.tolist()\n",
    "    # read the image again\n",
    "    read_image_again = np.load(imge_file_path)\n",
    "    # draw the circles on image\n",
    "    for i in coords_list:\n",
    "        image_with_mids = cv2.circle(read_image_again, i, radius=5, color=(255, 0, 0), thickness=-1)\n",
    "    # look at the annotated image\n",
    "    # plt.figure(figsize = (12,18))\n",
    "    plt.imshow(image_with_mids)\n",
    "    plt.show()\n",
    "\n",
    "    # also try creating the density map here\n",
    "    # first create the empty maps\n",
    "    np_image = np.zeros((read_image_shape[0], read_image_shape[1]))\n",
    "    # get the dot maps\n",
    "    for point in coords_list:\n",
    "        np_image[point[1], point[0]] = 1\n",
    "    # plot the image\n",
    "    # plt.figure(figsize = (12,18))\n",
    "    plt.imshow(np_image, cmap = \"Greys\")\n",
    "    plt.show()\n",
    "\n",
    "    # now define the kernel and run the convolution\n",
    "    one_d_kerenel = cv2.getGaussianKernel(50,5)\n",
    "    two_d_kernel = np.multiply(one_d_kerenel.T, one_d_kerenel)\n",
    "\n",
    "    # Shape of the 2D kernel\n",
    "    twoD_shape = two_d_kernel.shape\n",
    "        \n",
    "    # do the convolution\n",
    "    convolution = ndimage.convolve(np_image, two_d_kernel)\n",
    "        \n",
    "    # plot the density map\n",
    "    # plt.figure(figsize = (12,18))\n",
    "    plt.imshow(convolution, cmap = \"Greys\")\n",
    "    plt.show()\n",
    "        \n",
    "    # get the sums of the images\n",
    "    img_sum = np.sum(convolution)\n",
    "\n",
    "    # save the density map\n",
    "    np.save(save_density_path + '/' + file_name + '_density_map.npy', convolution)\n",
    "\n",
    "    return(file_name, read_image_shape, no_of_tassels, img_sum, convolution)"
   ]
  },
  {
   "cell_type": "code",
   "execution_count": null,
   "id": "b7c417c7-d92c-4aac-b057-2d76896d1168",
   "metadata": {},
   "outputs": [],
   "source": [
    "# for vertically annotated images\n",
    "def get_density_maps_not_annotated(file_name, image_path, save_density_path):\n",
    "    \n",
    "    # plot the bounding boxes on images\n",
    "    # get image name and path\n",
    "    image_name = file_name + '.npy'\n",
    "    imge_file_path = os.path.join(image_path, image_name)\n",
    "    # read the image\n",
    "    read_image = np.load(imge_file_path)\n",
    "\n",
    "    plt.imshow(read_image)\n",
    "    plt.show()\n",
    "\n",
    "    read_image_shape = read_image.shape\n",
    "    \n",
    "    # also try creating the density map here\n",
    "    np_image = np.zeros((read_image_shape[0], read_image_shape[1]))\n",
    "\n",
    "    # save the density map\n",
    "    np.save(save_density_path + '/' + file_name + '_density_map.npy', np_image)\n",
    "\n",
    "    img_sum = np.sum(np_image)\n",
    "\n",
    "    return(file_name, read_image_shape, img_sum, np_image)"
   ]
  },
  {
   "cell_type": "code",
   "execution_count": null,
   "id": "70f08e1a-55b6-4f8b-8180-10a40605bf86",
   "metadata": {},
   "outputs": [],
   "source": [
    "def create_subwindows_and_counts(image, numpy_folder, stride = 8, kernel_size = 32):\n",
    "    im_name = image.split(\".\")[0]\n",
    "    im_file = im_name + '.npy'\n",
    "    count_file = im_name + '_density_map.npy'\n",
    "    # load the image and the count numpy files\n",
    "    loaded_im_file = np.load(numpy_folder + '/' + im_file)\n",
    "    loaded_count_file = np.load(numpy_folder + '/' + count_file)\n",
    "        \n",
    "    # create the subwindows and counts as follows\n",
    "    img_height = loaded_im_file.shape[0]\n",
    "    img_width = loaded_im_file.shape[1]\n",
    "    \n",
    "    density_sums = []\n",
    "    catch_image = []\n",
    "    for i in  range(0, img_height, stride):\n",
    "        for j in range(0, img_width, stride):\n",
    "            sub_window = loaded_im_file[i: i + kernel_size, j : j + kernel_size,:]\n",
    "            density = loaded_count_file[i: i + kernel_size, j : j + kernel_size]\n",
    "            dense_sum = np.sum(density)\n",
    "            density_sums.append(dense_sum)\n",
    "            sub_window = resize(sub_window, (32, 32,3))\n",
    "            catch_image.append(sub_window)\n",
    "\n",
    "    # save the combined subwindows and counts\n",
    "    return(catch_image,density_sums, im_file)"
   ]
  },
  {
   "cell_type": "markdown",
   "id": "476a147a-5ead-4373-9ea2-5f1fc3dd391c",
   "metadata": {},
   "source": [
    "##### Preprocessing for test data"
   ]
  },
  {
   "cell_type": "markdown",
   "id": "3452a679-b0cb-4edd-ad65-3768571e9647",
   "metadata": {},
   "source": [
    "Block 0202"
   ]
  },
  {
   "cell_type": "code",
   "execution_count": null,
   "id": "bf8d154f-fafe-42f9-bbc2-617a489e8fdb",
   "metadata": {},
   "outputs": [],
   "source": [
    "# need the images saved as npy arrays and let's also get the density counts, JIC."
   ]
  },
  {
   "cell_type": "code",
   "execution_count": null,
   "id": "1185f15c-4fae-43e1-8555-8a89d7440052",
   "metadata": {},
   "outputs": [],
   "source": [
    "# list all the image and the xml files for the train data\n",
    "test_contents_22 = os.listdir(block_0202)\n",
    "# separate image and xml files\n",
    "img_files_22, xml_files_22 = separate_img_xml(test_contents_22)\n",
    "# separate annotated and not annotated images\n",
    "annot_img_22, not_annot_img_22 = separate_annot_and_not(img_files_22, xml_files_22)\n",
    "# separate vertical and horizontal annotated images\n",
    "annot_vertical_images_22, annot_vertical_xmls_22, annot_horizontal_images_22, annot_horizontal_xmls_22 = separate_annnot_vertical_horizontal(annot_img_22, \n",
    "                                                                                                                                             xml_files_22, 8)\n",
    "# check shapes\n",
    "print(check_annot(annot_vertical_images_22, annot_vertical_xmls_22, annot_horizontal_images_22, annot_horizontal_xmls_22))"
   ]
  },
  {
   "cell_type": "code",
   "execution_count": null,
   "id": "7cd17b03-1ff3-482b-bf5b-4c6c4ae560c3",
   "metadata": {
    "scrolled": true
   },
   "outputs": [],
   "source": [
    "# store the vertically annotated images - validation data\n",
    "store_path = \"Images_and_dense_maps_npy_test/vertical_annotated_images/Block_22\"\n",
    "\n",
    "# blk 24\n",
    "im_shapes_annot_vertical_22 = []\n",
    "for item in annot_vertical_images_22:\n",
    "    img_shape = store_images_as_np_arrays_vertical(block_0202, item, store_path)\n",
    "    im_shapes_annot_vertical_22.append(img_shape)\n",
    "print(\"Block 22 done!\")"
   ]
  },
  {
   "cell_type": "code",
   "execution_count": null,
   "id": "87d8fe51-6981-4fbc-9c1b-480e1d5a6ecb",
   "metadata": {},
   "outputs": [],
   "source": [
    "print(im_shapes_annot_vertical_22)"
   ]
  },
  {
   "cell_type": "code",
   "execution_count": null,
   "id": "06a171ce-c0cb-4212-bea9-56ee490365e4",
   "metadata": {
    "scrolled": true
   },
   "outputs": [],
   "source": [
    "# store the vertically not-annotated images\n",
    "store_path = \"Images_and_dense_maps_npy_test/vertical_not_annotated_images/Block_22\"\n",
    "\n",
    "# blk 13\n",
    "im_shapes_notannot_vertical_22 = []\n",
    "for item in not_annot_img_22:\n",
    "    img_shape = store_images_as_np_arrays_vertical(block_0202, item, store_path)\n",
    "    im_shapes_notannot_vertical_22.append(img_shape)\n",
    "print(\"Block 22 done!\")"
   ]
  },
  {
   "cell_type": "code",
   "execution_count": null,
   "id": "b8fad3e1-eae2-474a-8e66-6ec06b3e1bec",
   "metadata": {},
   "outputs": [],
   "source": [
    "print(im_shapes_notannot_vertical_22)"
   ]
  },
  {
   "cell_type": "code",
   "execution_count": null,
   "id": "87945ba4-297b-47b9-a05a-32f9cbe2ec77",
   "metadata": {
    "scrolled": true
   },
   "outputs": [],
   "source": [
    "# store the horizontally annotated images\n",
    "store_path = \"Images_and_dense_maps_npy_test/horizontal_annotated_images/Block_22\"\n",
    "\n",
    "# blk 11 - the first horizontal image has a problem, needs to be rotated\n",
    "im_shapes_annot_horizontal_22 = []\n",
    "for item in annot_horizontal_images_22:\n",
    "    img_shape = store_images_as_np_arrays_horizontal(block_0202, item, store_path)\n",
    "    im_shapes_annot_horizontal_22.append(img_shape)\n",
    "print(\"Block 22 done!\")"
   ]
  },
  {
   "cell_type": "code",
   "execution_count": null,
   "id": "3c033fd5-4fa9-4455-8fce-317b100d34c8",
   "metadata": {},
   "outputs": [],
   "source": [
    "print(im_shapes_annot_horizontal_22)"
   ]
  },
  {
   "cell_type": "code",
   "execution_count": null,
   "id": "41b9aab2-e714-4157-9559-1884cffd418d",
   "metadata": {},
   "outputs": [],
   "source": [
    "# xml_files_22"
   ]
  },
  {
   "cell_type": "code",
   "execution_count": null,
   "id": "1017c489-054a-4cae-8b7c-e6ff2c2125c7",
   "metadata": {},
   "outputs": [],
   "source": [
    "# Get the xml file paths in a single location\n",
    "new_store_path = 'test_xml_files'\n",
    "# blk 13\n",
    "for file in xml_files_22:\n",
    "    joined_path = os.path.join(block_0202, file)\n",
    "    # store the file in new path\n",
    "    shutil.copy(joined_path, new_store_path)"
   ]
  },
  {
   "cell_type": "code",
   "execution_count": null,
   "id": "4cf5ae98-e293-4c12-99eb-58d895165487",
   "metadata": {},
   "outputs": [],
   "source": [
    "# get the outputs from this function\n",
    "image_path = \"Images_and_dense_maps_npy_test/vertical_annotated_images/Block_22/\"\n",
    "xml_path = 'test_xml_files'\n",
    "save_density_path = image_path"
   ]
  },
  {
   "cell_type": "code",
   "execution_count": null,
   "id": "221e4137-bca7-4008-8b74-4014672100df",
   "metadata": {},
   "outputs": [],
   "source": [
    "file_names_v = [file.split(\".\")[0] for file in os.listdir(image_path) if file.split(\".\")[0][-3:] != 'map']\n",
    "file_names_v.sort()"
   ]
  },
  {
   "cell_type": "code",
   "execution_count": null,
   "id": "0946e297-d3c3-471e-a2af-0551d16311a5",
   "metadata": {},
   "outputs": [],
   "source": [
    "# file_names_v"
   ]
  },
  {
   "cell_type": "code",
   "execution_count": null,
   "id": "63c0a471-bbfb-4a0a-a3aa-9305a1b2a877",
   "metadata": {
    "scrolled": true
   },
   "outputs": [],
   "source": [
    "%%time\n",
    "names_all_va_v = []\n",
    "shapes_all_va_v = []\n",
    "tasselCounts_all_va_v = []\n",
    "tasselDensities_all_va_v = []\n",
    "dense_maps_all_va_v = []\n",
    "for file_name in file_names_v:\n",
    "    name_va, shape_va, tassels_va, tassel_dense_va, dense_map_va = get_density_maps_vertical(file_name, image_path, xml_path, save_density_path)\n",
    "    names_all_va_v.append(name_va)\n",
    "    shapes_all_va_v.append(shape_va)\n",
    "    tasselCounts_all_va_v.append(tassels_va)\n",
    "    tasselDensities_all_va_v.append(tassel_dense_va)\n",
    "    dense_maps_all_va_v.append(dense_map_va)"
   ]
  },
  {
   "cell_type": "code",
   "execution_count": null,
   "id": "c453ea06-3a0c-4d5b-835b-1b7f341c894b",
   "metadata": {},
   "outputs": [],
   "source": [
    "# a few sanity checks\n",
    "np.mean(tasselCounts_all_va_v == np.round(tasselDensities_all_va_v))"
   ]
  },
  {
   "cell_type": "code",
   "execution_count": null,
   "id": "55408ffa-1fda-4b00-a87b-cc85882ca4b0",
   "metadata": {},
   "outputs": [],
   "source": [
    "# create a dataframe of the true counts\n",
    "True_tasselcounts_df_vertical_annot_test_22 = pd.DataFrame(zip(names_all_va_v, tasselCounts_all_va_v), columns = ['name', 'true_count'])"
   ]
  },
  {
   "cell_type": "code",
   "execution_count": null,
   "id": "07cde75b-c413-49e1-91ed-5229d25e7110",
   "metadata": {},
   "outputs": [],
   "source": [
    "True_tasselcounts_df_vertical_annot_test_22.shape"
   ]
  },
  {
   "cell_type": "code",
   "execution_count": null,
   "id": "9cbf9261-f7e6-4e09-9a02-a2673f309b9f",
   "metadata": {},
   "outputs": [],
   "source": [
    "True_tasselcounts_df_vertical_annot_test_22.head()"
   ]
  },
  {
   "cell_type": "code",
   "execution_count": null,
   "id": "861dca8a-6573-4f95-a3aa-bcc2f5525d66",
   "metadata": {},
   "outputs": [],
   "source": [
    "# get the outputs from this function\n",
    "image_path_h = \"Images_and_dense_maps_npy_test/horizontal_annotated_images/Block_22\"\n",
    "xml_path_h = 'test_xml_files'\n",
    "save_density_path_h = image_path_h"
   ]
  },
  {
   "cell_type": "code",
   "execution_count": null,
   "id": "e74f9c31-082f-4ed0-b921-e6ed185dc8cf",
   "metadata": {},
   "outputs": [],
   "source": [
    "file_names_h = [file.split(\".\")[0] for file in os.listdir(image_path_h) if file.split(\".\")[0][-3:] != 'map']\n",
    "file_names_h.sort()"
   ]
  },
  {
   "cell_type": "code",
   "execution_count": null,
   "id": "85fdf603-06ec-4e5f-822c-1de13bda19fc",
   "metadata": {},
   "outputs": [],
   "source": [
    "# file_names_h"
   ]
  },
  {
   "cell_type": "code",
   "execution_count": null,
   "id": "ff8bab6b-1cb6-48ad-95a7-8935643ab036",
   "metadata": {
    "scrolled": true
   },
   "outputs": [],
   "source": [
    "%%time\n",
    "names_all_h_v = []\n",
    "shapes_all_h_v = []\n",
    "tasselCounts_all_h_v = []\n",
    "tasselDensities_all_h_v = []\n",
    "dense_maps_all_h_v = []\n",
    "for file_h in file_names_h:\n",
    "    name_h, shape_h, tassels_h, tassel_dense_h, dense_map_h = get_density_maps_horizontal(file_h, image_path_h, xml_path_h, save_density_path_h)\n",
    "    names_all_h_v.append(name_h)\n",
    "    shapes_all_h_v.append(shape_h)\n",
    "    tasselCounts_all_h_v.append(tassels_h)\n",
    "    tasselDensities_all_h_v.append(tassel_dense_h)\n",
    "    dense_maps_all_h_v.append(dense_map_h)"
   ]
  },
  {
   "cell_type": "code",
   "execution_count": null,
   "id": "103b92f5-7471-44fb-a854-ac6bb4fb3888",
   "metadata": {},
   "outputs": [],
   "source": [
    "# a few sanity checks\n",
    "np.mean(tasselCounts_all_h_v == np.round(tasselDensities_all_h_v))"
   ]
  },
  {
   "cell_type": "code",
   "execution_count": null,
   "id": "a1ca6652-9d5e-47b2-8b42-314dc67ef692",
   "metadata": {},
   "outputs": [],
   "source": [
    "# create a dataframe of the true counts\n",
    "True_tasselcounts_df_horizontal_annot_test_22 = pd.DataFrame(zip(names_all_h_v, tasselCounts_all_h_v), columns = ['name', 'true_count'])"
   ]
  },
  {
   "cell_type": "code",
   "execution_count": null,
   "id": "ce6ca040-ceb2-4399-91e0-8c678533f94d",
   "metadata": {},
   "outputs": [],
   "source": [
    "True_tasselcounts_df_horizontal_annot_test_22.shape"
   ]
  },
  {
   "cell_type": "code",
   "execution_count": null,
   "id": "57de8a4f-d2a8-4233-b7cb-eab11d2cdc48",
   "metadata": {},
   "outputs": [],
   "source": [
    "True_tasselcounts_df_horizontal_annot_test_22.head()"
   ]
  },
  {
   "cell_type": "code",
   "execution_count": null,
   "id": "18612fd7-cffb-4c7f-a70f-1008c048852a",
   "metadata": {},
   "outputs": [],
   "source": [
    "image_path_vn = 'Images_and_dense_maps_npy_test/vertical_not_annotated_images/Block_22'\n",
    "save_density_path_vn = image_path_vn"
   ]
  },
  {
   "cell_type": "code",
   "execution_count": null,
   "id": "2169c594-e47c-454d-b31e-4c7dc6b8cc0a",
   "metadata": {},
   "outputs": [],
   "source": [
    "file_names_vn = [file.split(\".\")[0] for file in os.listdir(image_path_vn) if file.split(\".\")[0][-3:] != 'map']\n",
    "file_names_vn.sort()"
   ]
  },
  {
   "cell_type": "code",
   "execution_count": null,
   "id": "dccb7b8b-10ff-4bd7-a0e1-3e6a4165d01d",
   "metadata": {},
   "outputs": [],
   "source": [
    "len(file_names_vn)"
   ]
  },
  {
   "cell_type": "code",
   "execution_count": null,
   "id": "756e225f-e747-4bfb-9a04-402a1ba01647",
   "metadata": {},
   "outputs": [],
   "source": [
    "file_names_vn"
   ]
  },
  {
   "cell_type": "code",
   "execution_count": null,
   "id": "75fec727-16b1-462f-9896-3d7d5d7e0351",
   "metadata": {
    "scrolled": true
   },
   "outputs": [],
   "source": [
    "%%time\n",
    "# get the density maps for all vertically annotated image files\n",
    "names_all_vn_v = []\n",
    "shapes_all_vn_v = []\n",
    "tasselDensities_all_vn_v = []\n",
    "dense_maps_all_vn_v = []\n",
    "for file_vn in file_names_vn:\n",
    "    name_vn, shape_vn, tassel_dense_vn, dense_map_vn = get_density_maps_not_annotated(file_vn, image_path_vn, save_density_path_vn)\n",
    "    names_all_vn_v.append(name_vn)\n",
    "    shapes_all_vn_v.append(shape_vn)\n",
    "    tasselDensities_all_vn_v.append(tassel_dense_vn)\n",
    "    dense_maps_all_vn_v.append(dense_map_vn)\n",
    "    "
   ]
  },
  {
   "cell_type": "code",
   "execution_count": null,
   "id": "8290df9a-cf32-47aa-b573-f4548e6bc156",
   "metadata": {},
   "outputs": [],
   "source": [
    "Vertical_not_annotated_df_test_22 = pd.DataFrame(zip(names_all_vn_v, tasselDensities_all_vn_v), columns = ['name', 'true_count'])"
   ]
  },
  {
   "cell_type": "code",
   "execution_count": null,
   "id": "018e519f-f314-4204-a7e7-456419b07f41",
   "metadata": {},
   "outputs": [],
   "source": [
    "Vertical_not_annotated_df_test_22.head()"
   ]
  },
  {
   "cell_type": "code",
   "execution_count": null,
   "id": "11b641eb-2601-41fa-855f-25b6e3b7fbc1",
   "metadata": {},
   "outputs": [],
   "source": [
    "Vertical_not_annotated_df_test_22.shape"
   ]
  },
  {
   "cell_type": "code",
   "execution_count": null,
   "id": "af59d44c-120d-4ca0-a4ca-683fce721c81",
   "metadata": {},
   "outputs": [],
   "source": [
    "# stack and save the dataframe of testset true counts\n",
    "test_data_22 = pd.concat((Vertical_not_annotated_df_test_22, True_tasselcounts_df_vertical_annot_test_22, True_tasselcounts_df_horizontal_annot_test_22), axis = 0)"
   ]
  },
  {
   "cell_type": "code",
   "execution_count": null,
   "id": "dd00dd89-9bc4-4ec6-9712-c5e7f8952518",
   "metadata": {},
   "outputs": [],
   "source": [
    "test_data_22.head()"
   ]
  },
  {
   "cell_type": "code",
   "execution_count": null,
   "id": "44630d1a-d2ec-426f-b220-e172f0bb7dac",
   "metadata": {},
   "outputs": [],
   "source": [
    "test_data_22.shape"
   ]
  },
  {
   "cell_type": "code",
   "execution_count": null,
   "id": "66e8882e-9c58-42db-8f68-21ce2ac61922",
   "metadata": {},
   "outputs": [],
   "source": [
    "# saev this dataframe\n",
    "test_data_22.to_csv(\"True_tassel_counts/test_data/true_test_counts_blk_22.csv\", index = False)"
   ]
  },
  {
   "cell_type": "code",
   "execution_count": null,
   "id": "b377146c-cb8a-4971-89af-e2f795a8c382",
   "metadata": {},
   "outputs": [],
   "source": [
    "# move all the image and the xml files to a single location\n",
    "\n",
    "va_images_dense = 'Images_and_dense_maps_npy_test/vertical_annotated_images/Block_22'\n",
    "vn_images_dense = 'Images_and_dense_maps_npy_test/vertical_not_annotated_images/Block_22'\n",
    "h_images_dense = 'Images_and_dense_maps_npy_test/horizontal_annotated_images/Block_22'"
   ]
  },
  {
   "cell_type": "code",
   "execution_count": null,
   "id": "04dc2ec4-cb44-4446-a4ec-e568b1bef512",
   "metadata": {},
   "outputs": [],
   "source": [
    "shutil.copytree(va_images_dense, 'Preprocessed_test_data/all_img_density_files/Block_22', dirs_exist_ok=True)\n",
    "shutil.copytree(vn_images_dense, 'Preprocessed_test_data/all_img_density_files/Block_22', dirs_exist_ok=True)\n",
    "shutil.copytree(h_images_dense, 'Preprocessed_test_data/all_img_density_files/Block_22', dirs_exist_ok=True)"
   ]
  },
  {
   "cell_type": "code",
   "execution_count": null,
   "id": "f77c23d2-c360-4860-9521-9b8490e27f14",
   "metadata": {},
   "outputs": [],
   "source": [
    "test_files_path_22 = \"Preprocessed_test_data/all_img_density_files/Block_22\""
   ]
  },
  {
   "cell_type": "code",
   "execution_count": null,
   "id": "1e9508b0-d605-4f9f-a286-d807b6cae8e3",
   "metadata": {},
   "outputs": [],
   "source": [
    "test_im_and_map_contents_22 = os.listdir(test_files_path_22)\n",
    "\n",
    "# sort these - ALWAYS sort these as the order is always messed up on HCC\n",
    "test_im_and_map_contents_22.sort()"
   ]
  },
  {
   "cell_type": "code",
   "execution_count": null,
   "id": "e28e4b21-f256-4a4b-811b-b396094f9693",
   "metadata": {},
   "outputs": [],
   "source": [
    "len(test_im_and_map_contents_22)"
   ]
  },
  {
   "cell_type": "code",
   "execution_count": null,
   "id": "3613ea54-26e5-4406-b7b8-2cc9488ef8ec",
   "metadata": {},
   "outputs": [],
   "source": [
    "# get only the names of the image (npy files)\n",
    "test_im_names_22 = [item for item in test_im_and_map_contents_22 if item.split(\".\")[0][-3:] != 'map']"
   ]
  },
  {
   "cell_type": "code",
   "execution_count": null,
   "id": "fd6653d2-4f0f-470a-939d-8be00af3a8d2",
   "metadata": {},
   "outputs": [],
   "source": [
    "# how many? should be 32\n",
    "len(test_im_names_22)"
   ]
  },
  {
   "cell_type": "code",
   "execution_count": null,
   "id": "6b83a7ce-e4fb-4097-ac5f-1c03f5387c56",
   "metadata": {},
   "outputs": [],
   "source": [
    "# test_im_names_13"
   ]
  },
  {
   "cell_type": "code",
   "execution_count": null,
   "id": "0da6d2da-943d-4d5c-afc4-5426b0811684",
   "metadata": {},
   "outputs": [],
   "source": [
    "%%time\n",
    "# get the subwindows and counts for test data\n",
    "\n",
    "im_names = []\n",
    "for image in test_im_names_22:\n",
    "    test_ims, test_maps, test_names = create_subwindows_and_counts(image, test_files_path_22, stride = 8, kernel_size = 32)\n",
    "    test_im_array = np.array(test_ims)\n",
    "    test_map_array = np.array(test_maps)\n",
    "    print(image, test_im_array.shape, test_map_array.shape)\n",
    "    # save the arrays\n",
    "    # image stack\n",
    "    save_path = 'final_test_sub_windows_and_counts/Block_22'\n",
    "    np.save(save_path + '/' + 'test_ims_' + image, test_im_array)\n",
    "    # count stack\n",
    "    np.save(save_path + '/' + 'test_counts_' + image, test_im_array)\n",
    "    im_names.append(test_names)"
   ]
  },
  {
   "cell_type": "markdown",
   "id": "d436be59-3852-4e57-b39d-c7fab8522fc6",
   "metadata": {},
   "source": [
    "Block 0205"
   ]
  },
  {
   "cell_type": "code",
   "execution_count": null,
   "id": "4fc44f63-9a89-450f-9fd0-aadd235276fb",
   "metadata": {},
   "outputs": [],
   "source": [
    "# need the images saved as npy arrays and let's also get the density counts, JIC."
   ]
  },
  {
   "cell_type": "code",
   "execution_count": null,
   "id": "25184bb8-6207-4169-8e35-f0b01b396361",
   "metadata": {},
   "outputs": [],
   "source": [
    "# list all the image and the xml files for the train data\n",
    "test_contents_25 = os.listdir(block_0205)\n",
    "# separate image and xml files\n",
    "img_files_25, xml_files_25 = separate_img_xml(test_contents_25)\n",
    "# separate annotated and not annotated images\n",
    "annot_img_25, not_annot_img_25 = separate_annot_and_not(img_files_25, xml_files_25)\n",
    "# separate vertical and horizontal annotated images\n",
    "annot_vertical_images_25, annot_vertical_xmls_25, annot_horizontal_images_25, annot_horizontal_xmls_25 = separate_annnot_vertical_horizontal(annot_img_25, \n",
    "                                                                                                                                             xml_files_25, 6)\n",
    "# check shapes\n",
    "print(check_annot(annot_vertical_images_25, annot_vertical_xmls_25, annot_horizontal_images_25, annot_horizontal_xmls_25))"
   ]
  },
  {
   "cell_type": "code",
   "execution_count": null,
   "id": "1b3c5133-8b83-4078-9d2b-7cab8274576e",
   "metadata": {
    "scrolled": true
   },
   "outputs": [],
   "source": [
    "# store the vertically annotated images - validation data\n",
    "store_path = \"Images_and_dense_maps_npy_test/vertical_annotated_images/Block_25\"\n",
    "\n",
    "# blk 24\n",
    "im_shapes_annot_vertical_25 = []\n",
    "for item in annot_vertical_images_25:\n",
    "    img_shape = store_images_as_np_arrays_vertical(block_0205, item, store_path)\n",
    "    im_shapes_annot_vertical_25.append(img_shape)\n",
    "print(\"Block 25 done!\")"
   ]
  },
  {
   "cell_type": "code",
   "execution_count": null,
   "id": "d062c528-c5fe-4dcc-a337-6b7ff7238579",
   "metadata": {},
   "outputs": [],
   "source": [
    "print(im_shapes_annot_vertical_22)"
   ]
  },
  {
   "cell_type": "code",
   "execution_count": null,
   "id": "1d7e76a8-6e05-4ebc-8389-77d737c81d1e",
   "metadata": {
    "scrolled": true
   },
   "outputs": [],
   "source": [
    "# store the vertically not-annotated images\n",
    "store_path = \"Images_and_dense_maps_npy_test/vertical_not_annotated_images/Block_25\"\n",
    "\n",
    "# blk 13\n",
    "im_shapes_notannot_vertical_25 = []\n",
    "for item in not_annot_img_25:\n",
    "    img_shape = store_images_as_np_arrays_vertical(block_0205, item, store_path)\n",
    "    im_shapes_notannot_vertical_25.append(img_shape)\n",
    "print(\"Block 25 done!\")"
   ]
  },
  {
   "cell_type": "code",
   "execution_count": null,
   "id": "5f09acc7-9626-4566-b577-241567ef3774",
   "metadata": {},
   "outputs": [],
   "source": [
    "print(im_shapes_notannot_vertical_25)"
   ]
  },
  {
   "cell_type": "code",
   "execution_count": null,
   "id": "85341157-9841-418e-b68a-f3ede5762754",
   "metadata": {
    "scrolled": true
   },
   "outputs": [],
   "source": [
    "# store the horizontally annotated images\n",
    "store_path = \"Images_and_dense_maps_npy_test/horizontal_annotated_images/Block_25\"\n",
    "\n",
    "# blk 11 - the first horizontal image has a problem, needs to be rotated\n",
    "im_shapes_annot_horizontal_25 = []\n",
    "for item in annot_horizontal_images_25:\n",
    "    img_shape = store_images_as_np_arrays_horizontal(block_0205, item, store_path)\n",
    "    im_shapes_annot_horizontal_25.append(img_shape)\n",
    "print(\"Block 25 done!\")"
   ]
  },
  {
   "cell_type": "code",
   "execution_count": null,
   "id": "3263ffed-c7af-4fa6-97b3-6315a6c56274",
   "metadata": {},
   "outputs": [],
   "source": [
    "print(im_shapes_annot_horizontal_25)"
   ]
  },
  {
   "cell_type": "code",
   "execution_count": null,
   "id": "a91c7419-45f4-461f-b90e-60e8ba780e92",
   "metadata": {},
   "outputs": [],
   "source": [
    "# xml_files_25"
   ]
  },
  {
   "cell_type": "code",
   "execution_count": null,
   "id": "4588b8a6-43c3-42b2-9c9a-c3ae09c29287",
   "metadata": {},
   "outputs": [],
   "source": [
    "# Get the xml file paths in a single location\n",
    "new_store_path = 'test_xml_files'\n",
    "# blk 13\n",
    "for file in xml_files_25:\n",
    "    joined_path = os.path.join(block_0205, file)\n",
    "    # store the file in new path\n",
    "    shutil.copy(joined_path, new_store_path)"
   ]
  },
  {
   "cell_type": "code",
   "execution_count": null,
   "id": "04e3b9bb-091c-4503-9abd-1249fd79a221",
   "metadata": {},
   "outputs": [],
   "source": [
    "# get the outputs from this function\n",
    "image_path = \"Images_and_dense_maps_npy_test/vertical_annotated_images/Block_25/\"\n",
    "xml_path = 'test_xml_files'\n",
    "save_density_path = image_path"
   ]
  },
  {
   "cell_type": "code",
   "execution_count": null,
   "id": "a2fe554e-fea1-4c5d-951e-4ef9360505b2",
   "metadata": {},
   "outputs": [],
   "source": [
    "file_names_v = [file.split(\".\")[0] for file in os.listdir(image_path) if file.split(\".\")[0][-3:] != 'map']\n",
    "file_names_v.sort()"
   ]
  },
  {
   "cell_type": "code",
   "execution_count": null,
   "id": "d1ff3a5c-24e0-4a14-88f8-81a9a992a258",
   "metadata": {},
   "outputs": [],
   "source": [
    "# file_names_v"
   ]
  },
  {
   "cell_type": "code",
   "execution_count": null,
   "id": "cc52a8b4-5fc2-4c8a-b90e-91591d12f371",
   "metadata": {
    "scrolled": true
   },
   "outputs": [],
   "source": [
    "%%time\n",
    "names_all_va_v = []\n",
    "shapes_all_va_v = []\n",
    "tasselCounts_all_va_v = []\n",
    "tasselDensities_all_va_v = []\n",
    "dense_maps_all_va_v = []\n",
    "for file_name in file_names_v:\n",
    "    name_va, shape_va, tassels_va, tassel_dense_va, dense_map_va = get_density_maps_vertical(file_name, image_path, xml_path, save_density_path)\n",
    "    names_all_va_v.append(name_va)\n",
    "    shapes_all_va_v.append(shape_va)\n",
    "    tasselCounts_all_va_v.append(tassels_va)\n",
    "    tasselDensities_all_va_v.append(tassel_dense_va)\n",
    "    dense_maps_all_va_v.append(dense_map_va)"
   ]
  },
  {
   "cell_type": "code",
   "execution_count": null,
   "id": "38c753fa-8643-4017-8f9b-5fe7c7f2680f",
   "metadata": {},
   "outputs": [],
   "source": [
    "# a few sanity checks\n",
    "np.mean(tasselCounts_all_va_v == np.round(tasselDensities_all_va_v))"
   ]
  },
  {
   "cell_type": "code",
   "execution_count": null,
   "id": "ab54bc96-f362-4034-a6fa-25a4e25fd06c",
   "metadata": {},
   "outputs": [],
   "source": [
    "# create a dataframe of the true counts\n",
    "True_tasselcounts_df_vertical_annot_test_25 = pd.DataFrame(zip(names_all_va_v, tasselCounts_all_va_v), columns = ['name', 'true_count'])"
   ]
  },
  {
   "cell_type": "code",
   "execution_count": null,
   "id": "d82ab534-5d45-4ad4-8944-4a63baf07750",
   "metadata": {},
   "outputs": [],
   "source": [
    "True_tasselcounts_df_vertical_annot_test_25.shape"
   ]
  },
  {
   "cell_type": "code",
   "execution_count": null,
   "id": "6a2210a4-8d34-49b0-8271-45956c1b7db5",
   "metadata": {},
   "outputs": [],
   "source": [
    "True_tasselcounts_df_vertical_annot_test_25.head()"
   ]
  },
  {
   "cell_type": "code",
   "execution_count": null,
   "id": "da4348db-4bd4-4b31-bc90-e08bd4d6f869",
   "metadata": {},
   "outputs": [],
   "source": [
    "# get the outputs from this function\n",
    "image_path_h = \"Images_and_dense_maps_npy_test/horizontal_annotated_images/Block_25\"\n",
    "xml_path_h = 'test_xml_files'\n",
    "save_density_path_h = image_path_h"
   ]
  },
  {
   "cell_type": "code",
   "execution_count": null,
   "id": "24bd5bc8-1490-4602-a33e-d757fc1abf11",
   "metadata": {},
   "outputs": [],
   "source": [
    "file_names_h = [file.split(\".\")[0] for file in os.listdir(image_path_h) if file.split(\".\")[0][-3:] != 'map']\n",
    "file_names_h.sort()"
   ]
  },
  {
   "cell_type": "code",
   "execution_count": null,
   "id": "7a84ccee-5869-43af-bec6-b93c78b5c059",
   "metadata": {},
   "outputs": [],
   "source": [
    "# file_names_h"
   ]
  },
  {
   "cell_type": "code",
   "execution_count": null,
   "id": "a6362954-fa29-47f0-88c8-56b56c9e62d4",
   "metadata": {
    "scrolled": true
   },
   "outputs": [],
   "source": [
    "%%time\n",
    "names_all_h_v = []\n",
    "shapes_all_h_v = []\n",
    "tasselCounts_all_h_v = []\n",
    "tasselDensities_all_h_v = []\n",
    "dense_maps_all_h_v = []\n",
    "for file_h in file_names_h:\n",
    "    name_h, shape_h, tassels_h, tassel_dense_h, dense_map_h = get_density_maps_horizontal(file_h, image_path_h, xml_path_h, save_density_path_h)\n",
    "    names_all_h_v.append(name_h)\n",
    "    shapes_all_h_v.append(shape_h)\n",
    "    tasselCounts_all_h_v.append(tassels_h)\n",
    "    tasselDensities_all_h_v.append(tassel_dense_h)\n",
    "    dense_maps_all_h_v.append(dense_map_h)"
   ]
  },
  {
   "cell_type": "code",
   "execution_count": null,
   "id": "2e8a2b59-3ff3-43e6-8e38-c88984d417cf",
   "metadata": {},
   "outputs": [],
   "source": [
    "# a few sanity checks\n",
    "np.mean(tasselCounts_all_h_v == np.round(tasselDensities_all_h_v))"
   ]
  },
  {
   "cell_type": "code",
   "execution_count": null,
   "id": "d791f483-9090-43b4-8c2f-4ec7eb316743",
   "metadata": {},
   "outputs": [],
   "source": [
    "# create a dataframe of the true counts\n",
    "True_tasselcounts_df_horizontal_annot_test_25 = pd.DataFrame(zip(names_all_h_v, tasselCounts_all_h_v), columns = ['name', 'true_count'])"
   ]
  },
  {
   "cell_type": "code",
   "execution_count": null,
   "id": "15e368ca-ccba-4ed9-b5cb-68b9d6a5ab3a",
   "metadata": {},
   "outputs": [],
   "source": [
    "True_tasselcounts_df_horizontal_annot_test_25.shape"
   ]
  },
  {
   "cell_type": "code",
   "execution_count": null,
   "id": "07f8e6a6-f406-46e1-8ddc-64a900d64ec5",
   "metadata": {},
   "outputs": [],
   "source": [
    "True_tasselcounts_df_horizontal_annot_test_25.head()"
   ]
  },
  {
   "cell_type": "code",
   "execution_count": null,
   "id": "eed46265-28c7-4538-a43b-af103dfab8f6",
   "metadata": {},
   "outputs": [],
   "source": [
    "image_path_vn = 'Images_and_dense_maps_npy_test/vertical_not_annotated_images/Block_25'\n",
    "save_density_path_vn = image_path_vn"
   ]
  },
  {
   "cell_type": "code",
   "execution_count": null,
   "id": "024858ef-fa30-477c-a4a5-d8ea0a36fe79",
   "metadata": {},
   "outputs": [],
   "source": [
    "file_names_vn = [file.split(\".\")[0] for file in os.listdir(image_path_vn) if file.split(\".\")[0][-3:] != 'map']\n",
    "file_names_vn.sort()"
   ]
  },
  {
   "cell_type": "code",
   "execution_count": null,
   "id": "3755baac-9a2b-460a-b7a4-132300d4143b",
   "metadata": {},
   "outputs": [],
   "source": [
    "len(file_names_vn)"
   ]
  },
  {
   "cell_type": "code",
   "execution_count": null,
   "id": "5a28ae91-9db1-42be-b3ab-4d0b839dc7ba",
   "metadata": {},
   "outputs": [],
   "source": [
    "file_names_vn"
   ]
  },
  {
   "cell_type": "code",
   "execution_count": null,
   "id": "568f8e09-6578-427c-b92f-50df5815c133",
   "metadata": {
    "scrolled": true
   },
   "outputs": [],
   "source": [
    "%%time\n",
    "# get the density maps for all vertically annotated image files\n",
    "names_all_vn_v = []\n",
    "shapes_all_vn_v = []\n",
    "tasselDensities_all_vn_v = []\n",
    "dense_maps_all_vn_v = []\n",
    "for file_vn in file_names_vn:\n",
    "    name_vn, shape_vn, tassel_dense_vn, dense_map_vn = get_density_maps_not_annotated(file_vn, image_path_vn, save_density_path_vn)\n",
    "    names_all_vn_v.append(name_vn)\n",
    "    shapes_all_vn_v.append(shape_vn)\n",
    "    tasselDensities_all_vn_v.append(tassel_dense_vn)\n",
    "    dense_maps_all_vn_v.append(dense_map_vn)\n",
    "    "
   ]
  },
  {
   "cell_type": "code",
   "execution_count": null,
   "id": "ac8c04cc-d490-4f22-af72-a75ba8f9f417",
   "metadata": {},
   "outputs": [],
   "source": [
    "Vertical_not_annotated_df_test_25 = pd.DataFrame(zip(names_all_vn_v, tasselDensities_all_vn_v), columns = ['name', 'true_count'])"
   ]
  },
  {
   "cell_type": "code",
   "execution_count": null,
   "id": "c4738680-6bdd-46ff-bfed-0f117eb179f0",
   "metadata": {},
   "outputs": [],
   "source": [
    "Vertical_not_annotated_df_test_25.head()"
   ]
  },
  {
   "cell_type": "code",
   "execution_count": null,
   "id": "1836a889-e3c8-490a-be48-c2edb87bda5d",
   "metadata": {},
   "outputs": [],
   "source": [
    "Vertical_not_annotated_df_test_25.shape"
   ]
  },
  {
   "cell_type": "code",
   "execution_count": null,
   "id": "6cea1466-5088-4387-88be-09e6580e7265",
   "metadata": {},
   "outputs": [],
   "source": [
    "# stack and save the dataframe of testset true counts\n",
    "test_data_25 = pd.concat((Vertical_not_annotated_df_test_25, True_tasselcounts_df_vertical_annot_test_25, True_tasselcounts_df_horizontal_annot_test_25), axis = 0)"
   ]
  },
  {
   "cell_type": "code",
   "execution_count": null,
   "id": "ff14d1bc-1165-4e69-aa14-2a62324a1420",
   "metadata": {},
   "outputs": [],
   "source": [
    "test_data_25.head()"
   ]
  },
  {
   "cell_type": "code",
   "execution_count": null,
   "id": "ecda99b7-0f1f-4216-943a-251afe76f9d9",
   "metadata": {},
   "outputs": [],
   "source": [
    "test_data_25.shape"
   ]
  },
  {
   "cell_type": "code",
   "execution_count": null,
   "id": "e791552d-5098-4e67-bc70-5f2532150e95",
   "metadata": {},
   "outputs": [],
   "source": [
    "# saev this dataframe\n",
    "test_data_25.to_csv(\"True_tassel_counts/test_data/true_test_counts_blk_25.csv\", index = False)"
   ]
  },
  {
   "cell_type": "code",
   "execution_count": null,
   "id": "4dacf134-e3e6-4725-ab72-eccae377a9a4",
   "metadata": {},
   "outputs": [],
   "source": [
    "# move all the image and the xml files to a single location\n",
    "\n",
    "va_images_dense = 'Images_and_dense_maps_npy_test/vertical_annotated_images/Block_25'\n",
    "vn_images_dense = 'Images_and_dense_maps_npy_test/vertical_not_annotated_images/Block_25'\n",
    "h_images_dense = 'Images_and_dense_maps_npy_test/horizontal_annotated_images/Block_25'"
   ]
  },
  {
   "cell_type": "code",
   "execution_count": null,
   "id": "4003c5a9-3d3e-417a-9e08-9dadf5c3aa0b",
   "metadata": {},
   "outputs": [],
   "source": [
    "shutil.copytree(va_images_dense, 'Preprocessed_test_data/all_img_density_files/Block_25', dirs_exist_ok=True)\n",
    "shutil.copytree(vn_images_dense, 'Preprocessed_test_data/all_img_density_files/Block_25', dirs_exist_ok=True)\n",
    "shutil.copytree(h_images_dense, 'Preprocessed_test_data/all_img_density_files/Block_25', dirs_exist_ok=True)"
   ]
  },
  {
   "cell_type": "code",
   "execution_count": null,
   "id": "c3bd774a-f64b-427c-9396-b3d1922e64ee",
   "metadata": {},
   "outputs": [],
   "source": [
    "test_files_path_25 = \"Preprocessed_test_data/all_img_density_files/Block_25\""
   ]
  },
  {
   "cell_type": "code",
   "execution_count": null,
   "id": "c0b97bc8-66f1-4c0f-8d8c-a12ae41c56bc",
   "metadata": {},
   "outputs": [],
   "source": [
    "test_im_and_map_contents_25 = os.listdir(test_files_path_25)\n",
    "\n",
    "# sort these - ALWAYS sort these as the order is always messed up on HCC\n",
    "test_im_and_map_contents_25.sort()"
   ]
  },
  {
   "cell_type": "code",
   "execution_count": null,
   "id": "dbf0b08f-dc0f-4249-b875-c51a21fc21ec",
   "metadata": {},
   "outputs": [],
   "source": [
    "len(test_im_and_map_contents_25)"
   ]
  },
  {
   "cell_type": "code",
   "execution_count": null,
   "id": "a0d5730a-433e-47ac-be1f-b0545d546053",
   "metadata": {},
   "outputs": [],
   "source": [
    "# get only the names of the image (npy files)\n",
    "test_im_names_25 = [item for item in test_im_and_map_contents_25 if item.split(\".\")[0][-3:] != 'map']"
   ]
  },
  {
   "cell_type": "code",
   "execution_count": null,
   "id": "70d4ff03-810f-41a6-a82d-7d49738066e4",
   "metadata": {},
   "outputs": [],
   "source": [
    "# how many? should be 32\n",
    "len(test_im_names_25)"
   ]
  },
  {
   "cell_type": "code",
   "execution_count": null,
   "id": "4826b730-4e15-489d-9c9c-eb82d62edaea",
   "metadata": {},
   "outputs": [],
   "source": [
    "# test_im_names_25"
   ]
  },
  {
   "cell_type": "code",
   "execution_count": null,
   "id": "4ee799a1-0b36-4979-89f5-683cca280b69",
   "metadata": {},
   "outputs": [],
   "source": [
    "%%time\n",
    "# get the subwindows and counts for test data\n",
    "\n",
    "im_names = []\n",
    "for image in test_im_names_25:\n",
    "    test_ims, test_maps, test_names = create_subwindows_and_counts(image, test_files_path_25, stride = 8, kernel_size = 32)\n",
    "    test_im_array = np.array(test_ims)\n",
    "    test_map_array = np.array(test_maps)\n",
    "    print(image, test_im_array.shape, test_map_array.shape)\n",
    "    # save the arrays\n",
    "    # image stack\n",
    "    save_path = 'final_test_sub_windows_and_counts/Block_25'\n",
    "    np.save(save_path + '/' + 'test_ims_' + image, test_im_array)\n",
    "    # count stack\n",
    "    np.save(save_path + '/' + 'test_counts_' + image, test_im_array)\n",
    "    im_names.append(test_names)"
   ]
  },
  {
   "cell_type": "markdown",
   "id": "642716e7-74c9-4e48-8c54-08c058fb67c0",
   "metadata": {},
   "source": [
    "Block 0206"
   ]
  },
  {
   "cell_type": "code",
   "execution_count": null,
   "id": "797f00ee-000f-4aca-b4fe-955a8cab20cc",
   "metadata": {},
   "outputs": [],
   "source": [
    "# need the images saved as npy arrays and let's also get the density counts, JIC."
   ]
  },
  {
   "cell_type": "code",
   "execution_count": null,
   "id": "3c59938b-419e-4871-8be6-0aa18eb8cdad",
   "metadata": {},
   "outputs": [],
   "source": [
    "# list all the image and the xml files for the train data\n",
    "test_contents_26 = os.listdir(block_0206)\n",
    "# separate image and xml files\n",
    "img_files_26, xml_files_26 = separate_img_xml(test_contents_26)\n",
    "# separate annotated and not annotated images\n",
    "annot_img_26, not_annot_img_26 = separate_annot_and_not(img_files_26, xml_files_26)\n",
    "# separate vertical and horizontal annotated images\n",
    "annot_vertical_images_26, annot_vertical_xmls_26, annot_horizontal_images_26, annot_horizontal_xmls_26 = separate_annnot_vertical_horizontal(annot_img_26, \n",
    "                                                                                                                                             xml_files_26, 7)\n",
    "# check shapes\n",
    "print(check_annot(annot_vertical_images_26, annot_vertical_xmls_26, annot_horizontal_images_26, annot_horizontal_xmls_26))"
   ]
  },
  {
   "cell_type": "code",
   "execution_count": null,
   "id": "5aa23460-0b0d-488f-8765-7fc0d0d15189",
   "metadata": {
    "scrolled": true
   },
   "outputs": [],
   "source": [
    "# store the vertically annotated images - validation data\n",
    "store_path = \"Images_and_dense_maps_npy_test/vertical_annotated_images/Block_26\"\n",
    "\n",
    "# blk 24\n",
    "im_shapes_annot_vertical_26 = []\n",
    "for item in annot_vertical_images_26:\n",
    "    img_shape = store_images_as_np_arrays_vertical(block_0206, item, store_path)\n",
    "    im_shapes_annot_vertical_26.append(img_shape)\n",
    "print(\"Block 26 done!\")"
   ]
  },
  {
   "cell_type": "code",
   "execution_count": null,
   "id": "5a85cb30-b6f4-48a0-99ea-6c6e295a39db",
   "metadata": {},
   "outputs": [],
   "source": [
    "print(im_shapes_annot_vertical_26)"
   ]
  },
  {
   "cell_type": "code",
   "execution_count": null,
   "id": "4479b86a-23aa-4afa-987d-c4b67e08390a",
   "metadata": {
    "scrolled": true
   },
   "outputs": [],
   "source": [
    "# store the vertically not-annotated images\n",
    "store_path = \"Images_and_dense_maps_npy_test/vertical_not_annotated_images/Block_26\"\n",
    "\n",
    "# blk 13\n",
    "im_shapes_notannot_vertical_26 = []\n",
    "for item in not_annot_img_26:\n",
    "    img_shape = store_images_as_np_arrays_vertical(block_0206, item, store_path)\n",
    "    im_shapes_notannot_vertical_26.append(img_shape)\n",
    "print(\"Block 26 done!\")"
   ]
  },
  {
   "cell_type": "code",
   "execution_count": null,
   "id": "07000fb3-d156-4e48-93eb-f8a5bf165141",
   "metadata": {},
   "outputs": [],
   "source": [
    "print(im_shapes_notannot_vertical_26)"
   ]
  },
  {
   "cell_type": "code",
   "execution_count": null,
   "id": "57b14364-a3e8-4a50-a885-09b5e2d9cf9c",
   "metadata": {
    "scrolled": true
   },
   "outputs": [],
   "source": [
    "# store the horizontally annotated images\n",
    "store_path = \"Images_and_dense_maps_npy_test/horizontal_annotated_images/Block_26\"\n",
    "\n",
    "# blk 11 - the first horizontal image has a problem, needs to be rotated\n",
    "im_shapes_annot_horizontal_26 = []\n",
    "for item in annot_horizontal_images_26:\n",
    "    img_shape = store_images_as_np_arrays_horizontal(block_0206, item, store_path)\n",
    "    im_shapes_annot_horizontal_26.append(img_shape)\n",
    "print(\"Block 26 done!\")"
   ]
  },
  {
   "cell_type": "code",
   "execution_count": null,
   "id": "f68ab026-f0b4-4300-beab-d5caefba9359",
   "metadata": {},
   "outputs": [],
   "source": [
    "print(im_shapes_annot_horizontal_26)"
   ]
  },
  {
   "cell_type": "code",
   "execution_count": null,
   "id": "0a65b3b1-b378-4cbc-9708-c8e577369276",
   "metadata": {},
   "outputs": [],
   "source": [
    "# xml_files_26"
   ]
  },
  {
   "cell_type": "code",
   "execution_count": null,
   "id": "de72cdf9-de4a-4083-8d17-c1d26ca749fe",
   "metadata": {},
   "outputs": [],
   "source": [
    "# Get the xml file paths in a single location\n",
    "new_store_path = 'test_xml_files'\n",
    "# blk 13\n",
    "for file in xml_files_26:\n",
    "    joined_path = os.path.join(block_0206, file)\n",
    "    # store the file in new path\n",
    "    shutil.copy(joined_path, new_store_path)"
   ]
  },
  {
   "cell_type": "code",
   "execution_count": null,
   "id": "20d0c342-b597-4e1e-8e81-ea8031662ee0",
   "metadata": {},
   "outputs": [],
   "source": [
    "# get the outputs from this function\n",
    "image_path = \"Images_and_dense_maps_npy_test/vertical_annotated_images/Block_26/\"\n",
    "xml_path = 'test_xml_files'\n",
    "save_density_path = image_path"
   ]
  },
  {
   "cell_type": "code",
   "execution_count": null,
   "id": "dea907f2-2949-4a03-9295-715a6584c749",
   "metadata": {},
   "outputs": [],
   "source": [
    "file_names_v = [file.split(\".\")[0] for file in os.listdir(image_path) if file.split(\".\")[0][-3:] != 'map']\n",
    "file_names_v.sort()"
   ]
  },
  {
   "cell_type": "code",
   "execution_count": null,
   "id": "d962b298-b286-4bec-b7f8-6b3fb5bddf11",
   "metadata": {},
   "outputs": [],
   "source": [
    "# file_names_v"
   ]
  },
  {
   "cell_type": "code",
   "execution_count": null,
   "id": "069c478f-1901-4c38-ae6f-205bd361905b",
   "metadata": {
    "scrolled": true
   },
   "outputs": [],
   "source": [
    "%%time\n",
    "names_all_va_v = []\n",
    "shapes_all_va_v = []\n",
    "tasselCounts_all_va_v = []\n",
    "tasselDensities_all_va_v = []\n",
    "dense_maps_all_va_v = []\n",
    "for file_name in file_names_v:\n",
    "    name_va, shape_va, tassels_va, tassel_dense_va, dense_map_va = get_density_maps_vertical(file_name, image_path, xml_path, save_density_path)\n",
    "    names_all_va_v.append(name_va)\n",
    "    shapes_all_va_v.append(shape_va)\n",
    "    tasselCounts_all_va_v.append(tassels_va)\n",
    "    tasselDensities_all_va_v.append(tassel_dense_va)\n",
    "    dense_maps_all_va_v.append(dense_map_va)"
   ]
  },
  {
   "cell_type": "code",
   "execution_count": null,
   "id": "f78a4d2d-c631-498b-ab23-5e270afba4aa",
   "metadata": {},
   "outputs": [],
   "source": [
    "# a few sanity checks\n",
    "np.mean(tasselCounts_all_va_v == np.round(tasselDensities_all_va_v))"
   ]
  },
  {
   "cell_type": "code",
   "execution_count": null,
   "id": "893a2c63-eada-44c2-9ff2-ec1008e9188f",
   "metadata": {},
   "outputs": [],
   "source": [
    "# create a dataframe of the true counts\n",
    "True_tasselcounts_df_vertical_annot_test_26 = pd.DataFrame(zip(names_all_va_v, tasselCounts_all_va_v), columns = ['name', 'true_count'])"
   ]
  },
  {
   "cell_type": "code",
   "execution_count": null,
   "id": "8a0dbe41-7eaa-42c8-bfb5-4209950fc5a5",
   "metadata": {},
   "outputs": [],
   "source": [
    "True_tasselcounts_df_vertical_annot_test_26.shape"
   ]
  },
  {
   "cell_type": "code",
   "execution_count": null,
   "id": "8df4b90d-3e11-4e7a-8b05-5c8023c91abf",
   "metadata": {},
   "outputs": [],
   "source": [
    "True_tasselcounts_df_vertical_annot_test_26.head()"
   ]
  },
  {
   "cell_type": "code",
   "execution_count": null,
   "id": "f1aa9674-fd6c-4b4a-ac1f-641feaffe680",
   "metadata": {},
   "outputs": [],
   "source": [
    "# get the outputs from this function\n",
    "image_path_h = \"Images_and_dense_maps_npy_test/horizontal_annotated_images/Block_26\"\n",
    "xml_path_h = 'test_xml_files'\n",
    "save_density_path_h = image_path_h"
   ]
  },
  {
   "cell_type": "code",
   "execution_count": null,
   "id": "6ef7b045-1f7e-4f07-941f-ac893d61a9c4",
   "metadata": {},
   "outputs": [],
   "source": [
    "file_names_h = [file.split(\".\")[0] for file in os.listdir(image_path_h) if file.split(\".\")[0][-3:] != 'map']\n",
    "file_names_h.sort()"
   ]
  },
  {
   "cell_type": "code",
   "execution_count": null,
   "id": "0f776007-3246-4919-be63-587f95913989",
   "metadata": {},
   "outputs": [],
   "source": [
    "# file_names_h"
   ]
  },
  {
   "cell_type": "code",
   "execution_count": null,
   "id": "dee1bfef-63c5-4c88-9e04-c9cd97d112cc",
   "metadata": {
    "scrolled": true
   },
   "outputs": [],
   "source": [
    "%%time\n",
    "names_all_h_v = []\n",
    "shapes_all_h_v = []\n",
    "tasselCounts_all_h_v = []\n",
    "tasselDensities_all_h_v = []\n",
    "dense_maps_all_h_v = []\n",
    "for file_h in file_names_h:\n",
    "    name_h, shape_h, tassels_h, tassel_dense_h, dense_map_h = get_density_maps_horizontal(file_h, image_path_h, xml_path_h, save_density_path_h)\n",
    "    names_all_h_v.append(name_h)\n",
    "    shapes_all_h_v.append(shape_h)\n",
    "    tasselCounts_all_h_v.append(tassels_h)\n",
    "    tasselDensities_all_h_v.append(tassel_dense_h)\n",
    "    dense_maps_all_h_v.append(dense_map_h)"
   ]
  },
  {
   "cell_type": "code",
   "execution_count": null,
   "id": "2765f0bb-3704-473c-b37e-bd954d54ced3",
   "metadata": {},
   "outputs": [],
   "source": [
    "# a few sanity checks\n",
    "np.mean(tasselCounts_all_h_v == np.round(tasselDensities_all_h_v))"
   ]
  },
  {
   "cell_type": "code",
   "execution_count": null,
   "id": "a67b7a6e-add1-4f29-80f9-4aeab93eddf1",
   "metadata": {},
   "outputs": [],
   "source": [
    "# create a dataframe of the true counts\n",
    "True_tasselcounts_df_horizontal_annot_test_26 = pd.DataFrame(zip(names_all_h_v, tasselCounts_all_h_v), columns = ['name', 'true_count'])"
   ]
  },
  {
   "cell_type": "code",
   "execution_count": null,
   "id": "33c1b818-18fe-49ff-97d8-ebfba83efecc",
   "metadata": {},
   "outputs": [],
   "source": [
    "True_tasselcounts_df_horizontal_annot_test_26.shape"
   ]
  },
  {
   "cell_type": "code",
   "execution_count": null,
   "id": "5e563460-6ce5-4b44-a8aa-83dfdeb7193b",
   "metadata": {},
   "outputs": [],
   "source": [
    "True_tasselcounts_df_horizontal_annot_test_26.head()"
   ]
  },
  {
   "cell_type": "code",
   "execution_count": null,
   "id": "f306e47d-a8a0-496f-94f9-7594b2dd9d5f",
   "metadata": {},
   "outputs": [],
   "source": [
    "image_path_vn = 'Images_and_dense_maps_npy_test/vertical_not_annotated_images/Block_26'\n",
    "save_density_path_vn = image_path_vn"
   ]
  },
  {
   "cell_type": "code",
   "execution_count": null,
   "id": "bc1a415d-18b6-47f2-86d9-9bda302a1468",
   "metadata": {},
   "outputs": [],
   "source": [
    "file_names_vn = [file.split(\".\")[0] for file in os.listdir(image_path_vn) if file.split(\".\")[0][-3:] != 'map']\n",
    "file_names_vn.sort()"
   ]
  },
  {
   "cell_type": "code",
   "execution_count": null,
   "id": "cb65d06c-0c00-4b2c-99df-821c377e6699",
   "metadata": {},
   "outputs": [],
   "source": [
    "len(file_names_vn)"
   ]
  },
  {
   "cell_type": "code",
   "execution_count": null,
   "id": "985db947-0e08-46f8-8a4c-fce2a14a0cb6",
   "metadata": {},
   "outputs": [],
   "source": [
    "file_names_vn"
   ]
  },
  {
   "cell_type": "code",
   "execution_count": null,
   "id": "60d36538-f354-419f-87c8-23c7a53ed801",
   "metadata": {
    "scrolled": true
   },
   "outputs": [],
   "source": [
    "%%time\n",
    "# get the density maps for all vertically annotated image files\n",
    "names_all_vn_v = []\n",
    "shapes_all_vn_v = []\n",
    "tasselDensities_all_vn_v = []\n",
    "dense_maps_all_vn_v = []\n",
    "for file_vn in file_names_vn:\n",
    "    name_vn, shape_vn, tassel_dense_vn, dense_map_vn = get_density_maps_not_annotated(file_vn, image_path_vn, save_density_path_vn)\n",
    "    names_all_vn_v.append(name_vn)\n",
    "    shapes_all_vn_v.append(shape_vn)\n",
    "    tasselDensities_all_vn_v.append(tassel_dense_vn)\n",
    "    dense_maps_all_vn_v.append(dense_map_vn)\n",
    "    "
   ]
  },
  {
   "cell_type": "code",
   "execution_count": null,
   "id": "26fca837-4e78-4661-9e34-60bf8d232e79",
   "metadata": {},
   "outputs": [],
   "source": [
    "Vertical_not_annotated_df_test_26 = pd.DataFrame(zip(names_all_vn_v, tasselDensities_all_vn_v), columns = ['name', 'true_count'])"
   ]
  },
  {
   "cell_type": "code",
   "execution_count": null,
   "id": "5de8c8d0-a967-4817-8df9-7d9514ac68a4",
   "metadata": {},
   "outputs": [],
   "source": [
    "Vertical_not_annotated_df_test_26.head()"
   ]
  },
  {
   "cell_type": "code",
   "execution_count": null,
   "id": "86eee88f-a1fb-4800-817d-91e6c7719b1a",
   "metadata": {},
   "outputs": [],
   "source": [
    "Vertical_not_annotated_df_test_26.shape"
   ]
  },
  {
   "cell_type": "code",
   "execution_count": null,
   "id": "edad7f9a-a277-494c-a360-8ec2823f3dcb",
   "metadata": {},
   "outputs": [],
   "source": [
    "# stack and save the dataframe of testset true counts\n",
    "test_data_26 = pd.concat((Vertical_not_annotated_df_test_26, True_tasselcounts_df_vertical_annot_test_26, True_tasselcounts_df_horizontal_annot_test_26), axis = 0)"
   ]
  },
  {
   "cell_type": "code",
   "execution_count": null,
   "id": "e0fef2dc-b160-4b1b-816a-0f574f0cd85a",
   "metadata": {},
   "outputs": [],
   "source": [
    "test_data_26.head()"
   ]
  },
  {
   "cell_type": "code",
   "execution_count": null,
   "id": "2a38249b-c892-4a90-b096-20d70529ebf8",
   "metadata": {},
   "outputs": [],
   "source": [
    "test_data_26.shape"
   ]
  },
  {
   "cell_type": "code",
   "execution_count": null,
   "id": "36ac92b6-e13f-4829-88c3-76d176ec45a7",
   "metadata": {},
   "outputs": [],
   "source": [
    "# saev this dataframe\n",
    "test_data_26.to_csv(\"True_tassel_counts/test_data/true_test_counts_blk_26.csv\", index = False)"
   ]
  },
  {
   "cell_type": "code",
   "execution_count": null,
   "id": "e1082727-7c65-4887-af50-7a847d248d1e",
   "metadata": {},
   "outputs": [],
   "source": [
    "# move all the image and the xml files to a single location\n",
    "\n",
    "va_images_dense = 'Images_and_dense_maps_npy_test/vertical_annotated_images/Block_26'\n",
    "vn_images_dense = 'Images_and_dense_maps_npy_test/vertical_not_annotated_images/Block_26'\n",
    "h_images_dense = 'Images_and_dense_maps_npy_test/horizontal_annotated_images/Block_26'"
   ]
  },
  {
   "cell_type": "code",
   "execution_count": null,
   "id": "c9674acb-ef47-4b91-a4b4-1acd47c4d90f",
   "metadata": {},
   "outputs": [],
   "source": [
    "shutil.copytree(va_images_dense, 'Preprocessed_test_data/all_img_density_files/Block_26', dirs_exist_ok=True)\n",
    "shutil.copytree(vn_images_dense, 'Preprocessed_test_data/all_img_density_files/Block_26', dirs_exist_ok=True)\n",
    "shutil.copytree(h_images_dense, 'Preprocessed_test_data/all_img_density_files/Block_26', dirs_exist_ok=True)"
   ]
  },
  {
   "cell_type": "code",
   "execution_count": null,
   "id": "d6f5c752-7a19-4025-8b54-759e522c29b1",
   "metadata": {},
   "outputs": [],
   "source": [
    "test_files_path_26 = \"Preprocessed_test_data/all_img_density_files/Block_26\""
   ]
  },
  {
   "cell_type": "code",
   "execution_count": null,
   "id": "216b77eb-69b1-4054-ae4b-a5313f6cf46e",
   "metadata": {},
   "outputs": [],
   "source": [
    "test_im_and_map_contents_26 = os.listdir(test_files_path_26)\n",
    "\n",
    "# sort these - ALWAYS sort these as the order is always messed up on HCC\n",
    "test_im_and_map_contents_26.sort()"
   ]
  },
  {
   "cell_type": "code",
   "execution_count": null,
   "id": "87670c7c-d783-48d3-b63c-1fb7a07f8c55",
   "metadata": {},
   "outputs": [],
   "source": [
    "len(test_im_and_map_contents_26)"
   ]
  },
  {
   "cell_type": "code",
   "execution_count": null,
   "id": "337b914f-0636-4c74-b773-e4e4bda36468",
   "metadata": {},
   "outputs": [],
   "source": [
    "# get only the names of the image (npy files)\n",
    "test_im_names_26 = [item for item in test_im_and_map_contents_26 if item.split(\".\")[0][-3:] != 'map']"
   ]
  },
  {
   "cell_type": "code",
   "execution_count": null,
   "id": "a0b9d889-c67f-48a8-ba60-73621180b2fe",
   "metadata": {},
   "outputs": [],
   "source": [
    "# how many? should be 32\n",
    "len(test_im_names_26)"
   ]
  },
  {
   "cell_type": "code",
   "execution_count": null,
   "id": "26bd5394-625f-441a-b10d-6d2b62d4c3b9",
   "metadata": {},
   "outputs": [],
   "source": [
    "# test_im_names_26"
   ]
  },
  {
   "cell_type": "code",
   "execution_count": null,
   "id": "29bec35d-3a92-4556-ae22-537ce398b86d",
   "metadata": {},
   "outputs": [],
   "source": [
    "%%time\n",
    "# get the subwindows and counts for test data\n",
    "\n",
    "im_names = []\n",
    "for image in test_im_names_26:\n",
    "    test_ims, test_maps, test_names = create_subwindows_and_counts(image, test_files_path_26, stride = 8, kernel_size = 32)\n",
    "    test_im_array = np.array(test_ims)\n",
    "    test_map_array = np.array(test_maps)\n",
    "    print(image, test_im_array.shape, test_map_array.shape)\n",
    "    # save the arrays\n",
    "    # image stack\n",
    "    save_path = 'final_test_sub_windows_and_counts/Block_26'\n",
    "    np.save(save_path + '/' + 'test_ims_' + image, test_im_array)\n",
    "    # count stack\n",
    "    np.save(save_path + '/' + 'test_counts_' + image, test_im_array)\n",
    "    im_names.append(test_names)"
   ]
  },
  {
   "cell_type": "markdown",
   "id": "b318bf78-e825-414a-b09c-0ce97d686bb1",
   "metadata": {},
   "source": [
    "Block 0302"
   ]
  },
  {
   "cell_type": "code",
   "execution_count": null,
   "id": "afefebe2-464f-425a-9ba0-192efbcb0de5",
   "metadata": {},
   "outputs": [],
   "source": [
    "# need the images saved as npy arrays and let's also get the density counts, JIC."
   ]
  },
  {
   "cell_type": "code",
   "execution_count": null,
   "id": "fe39266b-e50c-417a-b22f-e023ef54c829",
   "metadata": {},
   "outputs": [],
   "source": [
    "# list all the image and the xml files for the train data\n",
    "test_contents_32 = os.listdir(block_0302)\n",
    "# separate image and xml files\n",
    "img_files_32, xml_files_32 = separate_img_xml(test_contents_32)\n",
    "# separate annotated and not annotated images\n",
    "annot_img_32, not_annot_img_32 = separate_annot_and_not(img_files_32, xml_files_32)\n",
    "# separate vertical and horizontal annotated images\n",
    "annot_vertical_images_32, annot_vertical_xmls_32, annot_horizontal_images_32, annot_horizontal_xmls_32 = separate_annnot_vertical_horizontal(annot_img_32, \n",
    "                                                                                                                                             xml_files_32, 6)\n",
    "# check shapes\n",
    "print(check_annot(annot_vertical_images_32, annot_vertical_xmls_32, annot_horizontal_images_32, annot_horizontal_xmls_32))"
   ]
  },
  {
   "cell_type": "code",
   "execution_count": null,
   "id": "07635908-47a6-4995-bb42-29e2278e7fef",
   "metadata": {
    "scrolled": true
   },
   "outputs": [],
   "source": [
    "# store the vertically annotated images - validation data\n",
    "store_path = \"Images_and_dense_maps_npy_test/vertical_annotated_images/Block_32\"\n",
    "\n",
    "# blk 32\n",
    "im_shapes_annot_vertical_32 = []\n",
    "for item in annot_vertical_images_32:\n",
    "    img_shape = store_images_as_np_arrays_vertical(block_0302, item, store_path)\n",
    "    im_shapes_annot_vertical_32.append(img_shape)\n",
    "print(\"Block 32 done!\")"
   ]
  },
  {
   "cell_type": "code",
   "execution_count": null,
   "id": "e9e06c1f-9102-4f5d-8ee9-0db13c028ddb",
   "metadata": {},
   "outputs": [],
   "source": [
    "print(im_shapes_annot_vertical_32)"
   ]
  },
  {
   "cell_type": "code",
   "execution_count": null,
   "id": "da47b1c5-0ab9-4810-8247-cc8d3173e097",
   "metadata": {
    "scrolled": true
   },
   "outputs": [],
   "source": [
    "# store the vertically not-annotated images\n",
    "store_path = \"Images_and_dense_maps_npy_test/vertical_not_annotated_images/Block_32\"\n",
    "\n",
    "# blk 13\n",
    "im_shapes_notannot_vertical_32 = []\n",
    "for item in not_annot_img_32:\n",
    "    img_shape = store_images_as_np_arrays_vertical(block_0302, item, store_path)\n",
    "    im_shapes_notannot_vertical_32.append(img_shape)\n",
    "print(\"Block 32 done!\")"
   ]
  },
  {
   "cell_type": "code",
   "execution_count": null,
   "id": "354b09c1-dfd6-4ea6-bfb6-6e84e8b87df8",
   "metadata": {},
   "outputs": [],
   "source": [
    "print(im_shapes_notannot_vertical_32)"
   ]
  },
  {
   "cell_type": "code",
   "execution_count": null,
   "id": "a6edadbf-d47e-4b0d-bc4e-8bcaf6d1235a",
   "metadata": {
    "scrolled": true
   },
   "outputs": [],
   "source": [
    "# store the horizontally annotated images\n",
    "store_path = \"Images_and_dense_maps_npy_test/horizontal_annotated_images/Block_32\"\n",
    "\n",
    "# blk 11 - the first horizontal image has a problem, needs to be rotated\n",
    "im_shapes_annot_horizontal_32 = []\n",
    "for item in annot_horizontal_images_32:\n",
    "    img_shape = store_images_as_np_arrays_horizontal(block_0302, item, store_path)\n",
    "    im_shapes_annot_horizontal_32.append(img_shape)\n",
    "print(\"Block 32 done!\")"
   ]
  },
  {
   "cell_type": "code",
   "execution_count": null,
   "id": "8a468909-e963-49ce-9979-9219a9feb750",
   "metadata": {},
   "outputs": [],
   "source": [
    "print(im_shapes_annot_horizontal_32)"
   ]
  },
  {
   "cell_type": "code",
   "execution_count": null,
   "id": "bbdd7ab7-0ed5-4583-9d26-c4e8b045695d",
   "metadata": {},
   "outputs": [],
   "source": [
    "# xml_files_26"
   ]
  },
  {
   "cell_type": "code",
   "execution_count": null,
   "id": "8f4fd0be-4e5c-4f1b-9168-0314453541e6",
   "metadata": {},
   "outputs": [],
   "source": [
    "# Get the xml file paths in a single location\n",
    "new_store_path = 'test_xml_files'\n",
    "# blk 13\n",
    "for file in xml_files_32:\n",
    "    joined_path = os.path.join(block_0302, file)\n",
    "    # store the file in new path\n",
    "    shutil.copy(joined_path, new_store_path)"
   ]
  },
  {
   "cell_type": "code",
   "execution_count": null,
   "id": "c3d2de52-a778-450b-9613-a93b5ab0b45b",
   "metadata": {},
   "outputs": [],
   "source": [
    "# get the outputs from this function\n",
    "image_path = \"Images_and_dense_maps_npy_test/vertical_annotated_images/Block_32/\"\n",
    "xml_path = 'test_xml_files'\n",
    "save_density_path = image_path"
   ]
  },
  {
   "cell_type": "code",
   "execution_count": null,
   "id": "9e71e1c8-68e0-4789-b243-edf39852acad",
   "metadata": {},
   "outputs": [],
   "source": [
    "file_names_v = [file.split(\".\")[0] for file in os.listdir(image_path) if file.split(\".\")[0][-3:] != 'map']\n",
    "file_names_v.sort()"
   ]
  },
  {
   "cell_type": "code",
   "execution_count": null,
   "id": "c55fd61c-b83a-4bf4-bf88-0bf02bc0a37e",
   "metadata": {},
   "outputs": [],
   "source": [
    "# file_names_v"
   ]
  },
  {
   "cell_type": "code",
   "execution_count": null,
   "id": "613e5c0c-61f8-47d5-bf3d-2fe1becc1436",
   "metadata": {
    "scrolled": true
   },
   "outputs": [],
   "source": [
    "%%time\n",
    "names_all_va_v = []\n",
    "shapes_all_va_v = []\n",
    "tasselCounts_all_va_v = []\n",
    "tasselDensities_all_va_v = []\n",
    "dense_maps_all_va_v = []\n",
    "for file_name in file_names_v:\n",
    "    name_va, shape_va, tassels_va, tassel_dense_va, dense_map_va = get_density_maps_vertical(file_name, image_path, xml_path, save_density_path)\n",
    "    names_all_va_v.append(name_va)\n",
    "    shapes_all_va_v.append(shape_va)\n",
    "    tasselCounts_all_va_v.append(tassels_va)\n",
    "    tasselDensities_all_va_v.append(tassel_dense_va)\n",
    "    dense_maps_all_va_v.append(dense_map_va)"
   ]
  },
  {
   "cell_type": "code",
   "execution_count": null,
   "id": "9dcf50c2-571d-4392-aaf1-983e9c2bc373",
   "metadata": {},
   "outputs": [],
   "source": [
    "# a few sanity checks\n",
    "np.mean(tasselCounts_all_va_v == np.round(tasselDensities_all_va_v))"
   ]
  },
  {
   "cell_type": "code",
   "execution_count": null,
   "id": "6707ef00-ca74-482e-a123-a7ad0627756c",
   "metadata": {},
   "outputs": [],
   "source": [
    "# create a dataframe of the true counts\n",
    "True_tasselcounts_df_vertical_annot_test_32 = pd.DataFrame(zip(names_all_va_v, tasselCounts_all_va_v), columns = ['name', 'true_count'])"
   ]
  },
  {
   "cell_type": "code",
   "execution_count": null,
   "id": "89b3bf06-7b99-4e40-a816-8c2a0dea9211",
   "metadata": {},
   "outputs": [],
   "source": [
    "True_tasselcounts_df_vertical_annot_test_32.shape"
   ]
  },
  {
   "cell_type": "code",
   "execution_count": null,
   "id": "98233db2-e358-482d-ae86-92411c303ec9",
   "metadata": {},
   "outputs": [],
   "source": [
    "True_tasselcounts_df_vertical_annot_test_32.head()"
   ]
  },
  {
   "cell_type": "code",
   "execution_count": null,
   "id": "d7473fd4-f78a-438c-8689-e41585e805ea",
   "metadata": {},
   "outputs": [],
   "source": [
    "# get the outputs from this function\n",
    "image_path_h = \"Images_and_dense_maps_npy_test/horizontal_annotated_images/Block_32\"\n",
    "xml_path_h = 'test_xml_files'\n",
    "save_density_path_h = image_path_h"
   ]
  },
  {
   "cell_type": "code",
   "execution_count": null,
   "id": "b864137c-13f6-4a14-a63f-556bc39dd3a0",
   "metadata": {},
   "outputs": [],
   "source": [
    "file_names_h = [file.split(\".\")[0] for file in os.listdir(image_path_h) if file.split(\".\")[0][-3:] != 'map']\n",
    "file_names_h.sort()"
   ]
  },
  {
   "cell_type": "code",
   "execution_count": null,
   "id": "d83dc919-56f5-4e53-a408-5d1843ecebae",
   "metadata": {},
   "outputs": [],
   "source": [
    "# file_names_h"
   ]
  },
  {
   "cell_type": "code",
   "execution_count": null,
   "id": "bc74b83f-b17d-48a1-9515-2a605565bf1c",
   "metadata": {
    "scrolled": true
   },
   "outputs": [],
   "source": [
    "%%time\n",
    "names_all_h_v = []\n",
    "shapes_all_h_v = []\n",
    "tasselCounts_all_h_v = []\n",
    "tasselDensities_all_h_v = []\n",
    "dense_maps_all_h_v = []\n",
    "for file_h in file_names_h:\n",
    "    name_h, shape_h, tassels_h, tassel_dense_h, dense_map_h = get_density_maps_horizontal(file_h, image_path_h, xml_path_h, save_density_path_h)\n",
    "    names_all_h_v.append(name_h)\n",
    "    shapes_all_h_v.append(shape_h)\n",
    "    tasselCounts_all_h_v.append(tassels_h)\n",
    "    tasselDensities_all_h_v.append(tassel_dense_h)\n",
    "    dense_maps_all_h_v.append(dense_map_h)"
   ]
  },
  {
   "cell_type": "code",
   "execution_count": null,
   "id": "f6ec8755-6539-4871-b458-87ebb9bf8066",
   "metadata": {},
   "outputs": [],
   "source": [
    "# a few sanity checks\n",
    "np.mean(tasselCounts_all_h_v == np.round(tasselDensities_all_h_v))"
   ]
  },
  {
   "cell_type": "code",
   "execution_count": null,
   "id": "9cc27fe9-1da6-44da-ad44-0a5c545cf6d0",
   "metadata": {},
   "outputs": [],
   "source": [
    "# create a dataframe of the true counts\n",
    "True_tasselcounts_df_horizontal_annot_test_32 = pd.DataFrame(zip(names_all_h_v, tasselCounts_all_h_v), columns = ['name', 'true_count'])"
   ]
  },
  {
   "cell_type": "code",
   "execution_count": null,
   "id": "2d8fce21-f646-4ff0-ac9b-148decf19091",
   "metadata": {},
   "outputs": [],
   "source": [
    "True_tasselcounts_df_horizontal_annot_test_32.shape"
   ]
  },
  {
   "cell_type": "code",
   "execution_count": null,
   "id": "3d12f918-c364-48fb-9da9-48184d65c173",
   "metadata": {},
   "outputs": [],
   "source": [
    "True_tasselcounts_df_horizontal_annot_test_32.head()"
   ]
  },
  {
   "cell_type": "code",
   "execution_count": null,
   "id": "e224b92e-2f87-417e-9c69-026d0ce950cb",
   "metadata": {},
   "outputs": [],
   "source": [
    "image_path_vn = 'Images_and_dense_maps_npy_test/vertical_not_annotated_images/Block_32'\n",
    "save_density_path_vn = image_path_vn"
   ]
  },
  {
   "cell_type": "code",
   "execution_count": null,
   "id": "b2b12abc-926d-4689-b8f0-6a87cc87e93a",
   "metadata": {},
   "outputs": [],
   "source": [
    "file_names_vn = [file.split(\".\")[0] for file in os.listdir(image_path_vn) if file.split(\".\")[0][-3:] != 'map']\n",
    "file_names_vn.sort()"
   ]
  },
  {
   "cell_type": "code",
   "execution_count": null,
   "id": "3bed8b6b-7438-4da5-ae5b-7f99b184b190",
   "metadata": {},
   "outputs": [],
   "source": [
    "len(file_names_vn)"
   ]
  },
  {
   "cell_type": "code",
   "execution_count": null,
   "id": "29b5102f-eaac-476e-bda2-119ab5726d3b",
   "metadata": {},
   "outputs": [],
   "source": [
    "file_names_vn"
   ]
  },
  {
   "cell_type": "code",
   "execution_count": null,
   "id": "3d1d6fae-fb9a-4786-b48a-5bc48a062130",
   "metadata": {
    "scrolled": true
   },
   "outputs": [],
   "source": [
    "%%time\n",
    "# get the density maps for all vertically annotated image files\n",
    "names_all_vn_v = []\n",
    "shapes_all_vn_v = []\n",
    "tasselDensities_all_vn_v = []\n",
    "dense_maps_all_vn_v = []\n",
    "for file_vn in file_names_vn:\n",
    "    name_vn, shape_vn, tassel_dense_vn, dense_map_vn = get_density_maps_not_annotated(file_vn, image_path_vn, save_density_path_vn)\n",
    "    names_all_vn_v.append(name_vn)\n",
    "    shapes_all_vn_v.append(shape_vn)\n",
    "    tasselDensities_all_vn_v.append(tassel_dense_vn)\n",
    "    dense_maps_all_vn_v.append(dense_map_vn)\n",
    "    "
   ]
  },
  {
   "cell_type": "code",
   "execution_count": null,
   "id": "0807bb42-9243-45c7-bc3f-33d8b30c2ee4",
   "metadata": {},
   "outputs": [],
   "source": [
    "Vertical_not_annotated_df_test_32 = pd.DataFrame(zip(names_all_vn_v, tasselDensities_all_vn_v), columns = ['name', 'true_count'])"
   ]
  },
  {
   "cell_type": "code",
   "execution_count": null,
   "id": "471cf1dd-db0e-4826-b9da-1317e0b7bd0b",
   "metadata": {},
   "outputs": [],
   "source": [
    "Vertical_not_annotated_df_test_32.head()"
   ]
  },
  {
   "cell_type": "code",
   "execution_count": null,
   "id": "da1cf29b-8708-4495-b520-b67b4984737b",
   "metadata": {},
   "outputs": [],
   "source": [
    "Vertical_not_annotated_df_test_32.shape"
   ]
  },
  {
   "cell_type": "code",
   "execution_count": null,
   "id": "e21f7f5a-c35b-4d1d-aee4-03dee37b5796",
   "metadata": {},
   "outputs": [],
   "source": [
    "# stack and save the dataframe of testset true counts\n",
    "test_data_32 = pd.concat((Vertical_not_annotated_df_test_32, True_tasselcounts_df_vertical_annot_test_32, True_tasselcounts_df_horizontal_annot_test_32), axis = 0)"
   ]
  },
  {
   "cell_type": "code",
   "execution_count": null,
   "id": "cdcb9d1f-787d-41a1-80df-ddbaa1308bb7",
   "metadata": {},
   "outputs": [],
   "source": [
    "test_data_32.head()"
   ]
  },
  {
   "cell_type": "code",
   "execution_count": null,
   "id": "ffd70f93-3161-4744-8388-f156235f20f3",
   "metadata": {},
   "outputs": [],
   "source": [
    "test_data_32.shape"
   ]
  },
  {
   "cell_type": "code",
   "execution_count": null,
   "id": "6a5d87dd-48c5-4d86-a620-f37d86f9670b",
   "metadata": {},
   "outputs": [],
   "source": [
    "# saev this dataframe\n",
    "test_data_32.to_csv(\"True_tassel_counts/test_data/true_test_counts_blk_32.csv\", index = False)"
   ]
  },
  {
   "cell_type": "code",
   "execution_count": null,
   "id": "fa3476eb-868e-491c-bcfc-8534dcb3a27a",
   "metadata": {},
   "outputs": [],
   "source": [
    "# move all the image and the xml files to a single location\n",
    "\n",
    "va_images_dense = 'Images_and_dense_maps_npy_test/vertical_annotated_images/Block_32'\n",
    "vn_images_dense = 'Images_and_dense_maps_npy_test/vertical_not_annotated_images/Block_32'\n",
    "h_images_dense = 'Images_and_dense_maps_npy_test/horizontal_annotated_images/Block_32'"
   ]
  },
  {
   "cell_type": "code",
   "execution_count": null,
   "id": "e63e0250-747b-48e4-ba6a-59ca918280c6",
   "metadata": {},
   "outputs": [],
   "source": [
    "shutil.copytree(va_images_dense, 'Preprocessed_test_data/all_img_density_files/Block_32', dirs_exist_ok=True)\n",
    "shutil.copytree(vn_images_dense, 'Preprocessed_test_data/all_img_density_files/Block_32', dirs_exist_ok=True)\n",
    "shutil.copytree(h_images_dense, 'Preprocessed_test_data/all_img_density_files/Block_32', dirs_exist_ok=True)"
   ]
  },
  {
   "cell_type": "code",
   "execution_count": null,
   "id": "d63d0d24-ef46-4b67-b9f6-6531197c153f",
   "metadata": {},
   "outputs": [],
   "source": [
    "test_files_path_32 = \"Preprocessed_test_data/all_img_density_files/Block_32\""
   ]
  },
  {
   "cell_type": "code",
   "execution_count": null,
   "id": "7bbb7015-d946-40c6-9051-ef3e98c763f8",
   "metadata": {},
   "outputs": [],
   "source": [
    "test_im_and_map_contents_32 = os.listdir(test_files_path_32)\n",
    "\n",
    "# sort these - ALWAYS sort these as the order is always messed up on HCC\n",
    "test_im_and_map_contents_32.sort()"
   ]
  },
  {
   "cell_type": "code",
   "execution_count": null,
   "id": "571d3e1f-2bf6-4848-a435-d0461b96ef54",
   "metadata": {},
   "outputs": [],
   "source": [
    "len(test_im_and_map_contents_32)"
   ]
  },
  {
   "cell_type": "code",
   "execution_count": null,
   "id": "48d6bacb-6440-4e8f-8b84-31f41a0246fe",
   "metadata": {},
   "outputs": [],
   "source": [
    "# get only the names of the image (npy files)\n",
    "test_im_names_32 = [item for item in test_im_and_map_contents_32 if item.split(\".\")[0][-3:] != 'map']"
   ]
  },
  {
   "cell_type": "code",
   "execution_count": null,
   "id": "8a0ae6fe-a8b0-4237-8175-cd6df52d3fbe",
   "metadata": {},
   "outputs": [],
   "source": [
    "# how many? should be 32\n",
    "len(test_im_names_32)"
   ]
  },
  {
   "cell_type": "code",
   "execution_count": null,
   "id": "f1543662-bc11-404b-a5ce-fd57c04aff23",
   "metadata": {},
   "outputs": [],
   "source": [
    "# test_im_names_32"
   ]
  },
  {
   "cell_type": "code",
   "execution_count": null,
   "id": "6c55ed66-15b4-413d-90b7-dfdbdf58efef",
   "metadata": {},
   "outputs": [],
   "source": [
    "%%time\n",
    "# get the subwindows and counts for test data\n",
    "\n",
    "im_names = []\n",
    "for image in test_im_names_32:\n",
    "    test_ims, test_maps, test_names = create_subwindows_and_counts(image, test_files_path_32, stride = 8, kernel_size = 32)\n",
    "    test_im_array = np.array(test_ims)\n",
    "    test_map_array = np.array(test_maps)\n",
    "    print(image, test_im_array.shape, test_map_array.shape)\n",
    "    # save the arrays\n",
    "    # image stack\n",
    "    save_path = 'final_test_sub_windows_and_counts/Block_32'\n",
    "    np.save(save_path + '/' + 'test_ims_' + image, test_im_array)\n",
    "    # count stack\n",
    "    np.save(save_path + '/' + 'test_counts_' + image, test_im_array)\n",
    "    im_names.append(test_names)"
   ]
  },
  {
   "cell_type": "code",
   "execution_count": null,
   "id": "c13f44e5-00dc-45be-8a53-e1ac718444e1",
   "metadata": {},
   "outputs": [],
   "source": [
    "# test_im_names_32"
   ]
  },
  {
   "cell_type": "markdown",
   "id": "dcf11a1c-690e-41a8-8361-71e51be8959d",
   "metadata": {},
   "source": [
    "Block 0303"
   ]
  },
  {
   "cell_type": "code",
   "execution_count": null,
   "id": "133b48af-b4eb-4e74-93b8-ea189aea10ce",
   "metadata": {},
   "outputs": [],
   "source": [
    "# need the images saved as npy arrays and let's also get the density counts, JIC."
   ]
  },
  {
   "cell_type": "code",
   "execution_count": null,
   "id": "2a09e2a6-fa3f-4e81-abe1-991c9d178a31",
   "metadata": {},
   "outputs": [],
   "source": [
    "# list all the image and the xml files for the train data\n",
    "test_contents_33 = os.listdir(block_0303)\n",
    "# separate image and xml files\n",
    "img_files_33, xml_files_33 = separate_img_xml(test_contents_33)\n",
    "# separate annotated and not annotated images\n",
    "annot_img_33, not_annot_img_33 = separate_annot_and_not(img_files_33, xml_files_33)\n",
    "# separate vertical and horizontal annotated images\n",
    "annot_vertical_images_33, annot_vertical_xmls_33, annot_horizontal_images_33, annot_horizontal_xmls_33 = separate_annnot_vertical_horizontal(annot_img_33, \n",
    "                                                                                                                                             xml_files_33, 6)\n",
    "# check shapes\n",
    "print(check_annot(annot_vertical_images_33, annot_vertical_xmls_33, annot_horizontal_images_33, annot_horizontal_xmls_33))"
   ]
  },
  {
   "cell_type": "code",
   "execution_count": null,
   "id": "a147cb02-3d54-4911-84ad-e2c701a81e64",
   "metadata": {
    "scrolled": true
   },
   "outputs": [],
   "source": [
    "# store the vertically annotated images - validation data\n",
    "store_path = \"Images_and_dense_maps_npy_test/vertical_annotated_images/Block_33\"\n",
    "\n",
    "# blk 33\n",
    "im_shapes_annot_vertical_33 = []\n",
    "for item in annot_vertical_images_33:\n",
    "    img_shape = store_images_as_np_arrays_vertical(block_0303, item, store_path)\n",
    "    im_shapes_annot_vertical_33.append(img_shape)\n",
    "print(\"Block 33 done!\")"
   ]
  },
  {
   "cell_type": "code",
   "execution_count": null,
   "id": "53966197-c6bc-4d57-b192-56493bd6a4c9",
   "metadata": {},
   "outputs": [],
   "source": [
    "print(im_shapes_annot_vertical_33)"
   ]
  },
  {
   "cell_type": "code",
   "execution_count": null,
   "id": "8ed0c7ee-2f7a-4c87-a851-acb92d95d763",
   "metadata": {},
   "outputs": [],
   "source": [
    "len(im_shapes_annot_vertical_33)"
   ]
  },
  {
   "cell_type": "code",
   "execution_count": null,
   "id": "e99d760c-f3b3-4ffc-a077-509577e7adee",
   "metadata": {
    "scrolled": true
   },
   "outputs": [],
   "source": [
    "# store the vertically not-annotated images\n",
    "store_path = \"Images_and_dense_maps_npy_test/vertical_not_annotated_images/Block_33\"\n",
    "\n",
    "# blk 33\n",
    "im_shapes_notannot_vertical_33 = []\n",
    "for item in not_annot_img_33:\n",
    "    img_shape = store_images_as_np_arrays_vertical(block_0303, item, store_path)\n",
    "    im_shapes_notannot_vertical_33.append(img_shape)\n",
    "print(\"Block 33 done!\")"
   ]
  },
  {
   "cell_type": "code",
   "execution_count": null,
   "id": "26be736a-a13f-4d4d-98f2-11bd8dc5a8ab",
   "metadata": {},
   "outputs": [],
   "source": [
    "print(im_shapes_notannot_vertical_33)"
   ]
  },
  {
   "cell_type": "code",
   "execution_count": null,
   "id": "62169c7e-43a2-4908-8401-4de89d74aadc",
   "metadata": {
    "scrolled": true
   },
   "outputs": [],
   "source": [
    "# store the horizontally annotated images\n",
    "store_path = \"Images_and_dense_maps_npy_test/horizontal_annotated_images/Block_33\"\n",
    "\n",
    "# blk 11 - the first horizontal image has a problem, needs to be rotated\n",
    "im_shapes_annot_horizontal_33 = []\n",
    "for item in annot_horizontal_images_33:\n",
    "    img_shape = store_images_as_np_arrays_horizontal(block_0303, item, store_path)\n",
    "    im_shapes_annot_horizontal_33.append(img_shape)\n",
    "print(\"Block 33 done!\")"
   ]
  },
  {
   "cell_type": "code",
   "execution_count": null,
   "id": "267c0587-cb9d-48b3-bf5b-edae12cd4901",
   "metadata": {},
   "outputs": [],
   "source": [
    "print(im_shapes_annot_horizontal_33)"
   ]
  },
  {
   "cell_type": "code",
   "execution_count": null,
   "id": "c4a05c51-3c44-4bb7-b6b3-0a8c2a4367a9",
   "metadata": {},
   "outputs": [],
   "source": [
    "# xml_files_33"
   ]
  },
  {
   "cell_type": "code",
   "execution_count": null,
   "id": "a8f1c2d7-9071-4bd2-b8ea-11a336c40a4a",
   "metadata": {},
   "outputs": [],
   "source": [
    "# Get the xml file paths in a single location\n",
    "new_store_path = 'test_xml_files'\n",
    "# blk 13\n",
    "for file in xml_files_33:\n",
    "    joined_path = os.path.join(block_0303, file)\n",
    "    # store the file in new path\n",
    "    shutil.copy(joined_path, new_store_path)"
   ]
  },
  {
   "cell_type": "code",
   "execution_count": null,
   "id": "61862afc-6cbf-451f-8ce1-d62e7e9ee9fa",
   "metadata": {},
   "outputs": [],
   "source": [
    "# get the outputs from this function\n",
    "image_path = \"Images_and_dense_maps_npy_test/vertical_annotated_images/Block_33/\"\n",
    "xml_path = 'test_xml_files'\n",
    "save_density_path = image_path"
   ]
  },
  {
   "cell_type": "code",
   "execution_count": null,
   "id": "6d8341a0-b315-4445-a819-5685ce002354",
   "metadata": {},
   "outputs": [],
   "source": [
    "file_names_v = [file.split(\".\")[0] for file in os.listdir(image_path) if file.split(\".\")[0][-3:] != 'map']\n",
    "file_names_v.sort()"
   ]
  },
  {
   "cell_type": "code",
   "execution_count": null,
   "id": "c011dbc4-be84-498f-a6ea-30ea8cb5f082",
   "metadata": {},
   "outputs": [],
   "source": [
    "# file_names_v"
   ]
  },
  {
   "cell_type": "code",
   "execution_count": null,
   "id": "01edda53-8820-49df-a0a7-8322da1d2227",
   "metadata": {
    "scrolled": true
   },
   "outputs": [],
   "source": [
    "%%time\n",
    "names_all_va_v = []\n",
    "shapes_all_va_v = []\n",
    "tasselCounts_all_va_v = []\n",
    "tasselDensities_all_va_v = []\n",
    "dense_maps_all_va_v = []\n",
    "for file_name in file_names_v:\n",
    "    name_va, shape_va, tassels_va, tassel_dense_va, dense_map_va = get_density_maps_vertical(file_name, image_path, xml_path, save_density_path)\n",
    "    names_all_va_v.append(name_va)\n",
    "    shapes_all_va_v.append(shape_va)\n",
    "    tasselCounts_all_va_v.append(tassels_va)\n",
    "    tasselDensities_all_va_v.append(tassel_dense_va)\n",
    "    dense_maps_all_va_v.append(dense_map_va)"
   ]
  },
  {
   "cell_type": "code",
   "execution_count": null,
   "id": "b7c4df85-aa8d-4e2f-abac-fad70db605cd",
   "metadata": {},
   "outputs": [],
   "source": [
    "# a few sanity checks\n",
    "np.mean(tasselCounts_all_va_v == np.round(tasselDensities_all_va_v))"
   ]
  },
  {
   "cell_type": "code",
   "execution_count": null,
   "id": "cc655780-bcee-4b87-b681-32c8aae3a9d8",
   "metadata": {},
   "outputs": [],
   "source": [
    "# create a dataframe of the true counts\n",
    "True_tasselcounts_df_vertical_annot_test_33 = pd.DataFrame(zip(names_all_va_v, tasselCounts_all_va_v), columns = ['name', 'true_count'])"
   ]
  },
  {
   "cell_type": "code",
   "execution_count": null,
   "id": "4cadc9da-0c02-4018-a9ed-3301aa6ebd7f",
   "metadata": {},
   "outputs": [],
   "source": [
    "True_tasselcounts_df_vertical_annot_test_33.shape"
   ]
  },
  {
   "cell_type": "code",
   "execution_count": null,
   "id": "9a5768b5-b689-4b02-9620-936c0b18b958",
   "metadata": {},
   "outputs": [],
   "source": [
    "True_tasselcounts_df_vertical_annot_test_33.head()"
   ]
  },
  {
   "cell_type": "code",
   "execution_count": null,
   "id": "acc29d21-539d-4c34-894c-71d4bd745a46",
   "metadata": {},
   "outputs": [],
   "source": [
    "# get the outputs from this function\n",
    "image_path_h = \"Images_and_dense_maps_npy_test/horizontal_annotated_images/Block_33\"\n",
    "xml_path_h = 'test_xml_files'\n",
    "save_density_path_h = image_path_h"
   ]
  },
  {
   "cell_type": "code",
   "execution_count": null,
   "id": "333635b8-533b-4c75-820c-c27d8fcfc469",
   "metadata": {},
   "outputs": [],
   "source": [
    "file_names_h = [file.split(\".\")[0] for file in os.listdir(image_path_h) if file.split(\".\")[0][-3:] != 'map']\n",
    "file_names_h.sort()"
   ]
  },
  {
   "cell_type": "code",
   "execution_count": null,
   "id": "08bc1cfe-4315-4ff1-b88e-7aa30d418f99",
   "metadata": {},
   "outputs": [],
   "source": [
    "# file_names_h"
   ]
  },
  {
   "cell_type": "code",
   "execution_count": null,
   "id": "9e8cee65-6c27-46fb-ba7b-8211deeb1e57",
   "metadata": {
    "scrolled": true
   },
   "outputs": [],
   "source": [
    "%%time\n",
    "names_all_h_v = []\n",
    "shapes_all_h_v = []\n",
    "tasselCounts_all_h_v = []\n",
    "tasselDensities_all_h_v = []\n",
    "dense_maps_all_h_v = []\n",
    "for file_h in file_names_h:\n",
    "    name_h, shape_h, tassels_h, tassel_dense_h, dense_map_h = get_density_maps_horizontal(file_h, image_path_h, xml_path_h, save_density_path_h)\n",
    "    names_all_h_v.append(name_h)\n",
    "    shapes_all_h_v.append(shape_h)\n",
    "    tasselCounts_all_h_v.append(tassels_h)\n",
    "    tasselDensities_all_h_v.append(tassel_dense_h)\n",
    "    dense_maps_all_h_v.append(dense_map_h)"
   ]
  },
  {
   "cell_type": "code",
   "execution_count": null,
   "id": "01b9e082-11d2-4099-ace9-3543d54dcb51",
   "metadata": {},
   "outputs": [],
   "source": [
    "# a few sanity checks\n",
    "np.mean(tasselCounts_all_h_v == np.round(tasselDensities_all_h_v))"
   ]
  },
  {
   "cell_type": "code",
   "execution_count": null,
   "id": "695f8841-4605-48f3-95ac-b54b569086b0",
   "metadata": {},
   "outputs": [],
   "source": [
    "# create a dataframe of the true counts\n",
    "True_tasselcounts_df_horizontal_annot_test_33 = pd.DataFrame(zip(names_all_h_v, tasselCounts_all_h_v), columns = ['name', 'true_count'])"
   ]
  },
  {
   "cell_type": "code",
   "execution_count": null,
   "id": "961417fb-3de6-4d02-938f-19ccda2655ed",
   "metadata": {},
   "outputs": [],
   "source": [
    "True_tasselcounts_df_horizontal_annot_test_33.shape"
   ]
  },
  {
   "cell_type": "code",
   "execution_count": null,
   "id": "6b0e9c57-1f51-4163-9e96-6af879de4c0e",
   "metadata": {},
   "outputs": [],
   "source": [
    "True_tasselcounts_df_horizontal_annot_test_33.head()"
   ]
  },
  {
   "cell_type": "code",
   "execution_count": null,
   "id": "bb5f84c2-76a3-46de-b70b-b67af5414110",
   "metadata": {},
   "outputs": [],
   "source": [
    "image_path_vn = 'Images_and_dense_maps_npy_test/vertical_not_annotated_images/Block_33'\n",
    "save_density_path_vn = image_path_vn"
   ]
  },
  {
   "cell_type": "code",
   "execution_count": null,
   "id": "3dbf89a6-fc7a-4748-879b-65e4dae41e68",
   "metadata": {},
   "outputs": [],
   "source": [
    "file_names_vn = [file.split(\".\")[0] for file in os.listdir(image_path_vn) if file.split(\".\")[0][-3:] != 'map']\n",
    "file_names_vn.sort()"
   ]
  },
  {
   "cell_type": "code",
   "execution_count": null,
   "id": "4966aa90-1095-4f9d-99b3-1f4cdd727e41",
   "metadata": {},
   "outputs": [],
   "source": [
    "len(file_names_vn)"
   ]
  },
  {
   "cell_type": "code",
   "execution_count": null,
   "id": "84f9736e-947f-4312-a55c-0013e4df401a",
   "metadata": {},
   "outputs": [],
   "source": [
    "file_names_vn"
   ]
  },
  {
   "cell_type": "code",
   "execution_count": null,
   "id": "3b5b32e8-be21-4d17-8b31-e039b9005076",
   "metadata": {
    "scrolled": true
   },
   "outputs": [],
   "source": [
    "%%time\n",
    "# get the density maps for all vertically annotated image files\n",
    "names_all_vn_v = []\n",
    "shapes_all_vn_v = []\n",
    "tasselDensities_all_vn_v = []\n",
    "dense_maps_all_vn_v = []\n",
    "for file_vn in file_names_vn:\n",
    "    name_vn, shape_vn, tassel_dense_vn, dense_map_vn = get_density_maps_not_annotated(file_vn, image_path_vn, save_density_path_vn)\n",
    "    names_all_vn_v.append(name_vn)\n",
    "    shapes_all_vn_v.append(shape_vn)\n",
    "    tasselDensities_all_vn_v.append(tassel_dense_vn)\n",
    "    dense_maps_all_vn_v.append(dense_map_vn)\n",
    "    "
   ]
  },
  {
   "cell_type": "code",
   "execution_count": null,
   "id": "e080167c-5196-44fb-894f-0eb98c925634",
   "metadata": {},
   "outputs": [],
   "source": [
    "Vertical_not_annotated_df_test_33 = pd.DataFrame(zip(names_all_vn_v, tasselDensities_all_vn_v), columns = ['name', 'true_count'])"
   ]
  },
  {
   "cell_type": "code",
   "execution_count": null,
   "id": "6227cc0a-76e2-48cc-b52d-5e4f6b49c457",
   "metadata": {},
   "outputs": [],
   "source": [
    "Vertical_not_annotated_df_test_33.head()"
   ]
  },
  {
   "cell_type": "code",
   "execution_count": null,
   "id": "b0655fc2-e106-4560-a296-2e21d8247b4c",
   "metadata": {},
   "outputs": [],
   "source": [
    "Vertical_not_annotated_df_test_33.shape"
   ]
  },
  {
   "cell_type": "code",
   "execution_count": null,
   "id": "fc054118-f69c-4046-b4ba-69229df2d4a3",
   "metadata": {},
   "outputs": [],
   "source": [
    "# stack and save the dataframe of testset true counts\n",
    "test_data_33 = pd.concat((Vertical_not_annotated_df_test_33, True_tasselcounts_df_vertical_annot_test_33, True_tasselcounts_df_horizontal_annot_test_33), axis = 0)"
   ]
  },
  {
   "cell_type": "code",
   "execution_count": null,
   "id": "d3499386-61f3-4ea2-ab39-7e9ac9dab493",
   "metadata": {},
   "outputs": [],
   "source": [
    "test_data_33.head()"
   ]
  },
  {
   "cell_type": "code",
   "execution_count": null,
   "id": "9a41424c-92bf-4d96-afa0-8dbddba4053f",
   "metadata": {},
   "outputs": [],
   "source": [
    "test_data_33.shape"
   ]
  },
  {
   "cell_type": "code",
   "execution_count": null,
   "id": "5b157102-2e21-45b0-aa84-3b14a486e9b4",
   "metadata": {},
   "outputs": [],
   "source": [
    "# saev this dataframe\n",
    "test_data_33.to_csv(\"True_tassel_counts/test_data/true_test_counts_blk_33.csv\", index = False)"
   ]
  },
  {
   "cell_type": "code",
   "execution_count": null,
   "id": "2fdaaf44-b311-45f9-a821-d476de04cd36",
   "metadata": {},
   "outputs": [],
   "source": [
    "# move all the image and the xml files to a single location\n",
    "\n",
    "va_images_dense = 'Images_and_dense_maps_npy_test/vertical_annotated_images/Block_33'\n",
    "vn_images_dense = 'Images_and_dense_maps_npy_test/vertical_not_annotated_images/Block_33'\n",
    "h_images_dense = 'Images_and_dense_maps_npy_test/horizontal_annotated_images/Block_33'"
   ]
  },
  {
   "cell_type": "code",
   "execution_count": null,
   "id": "aca9ef55-602a-49f0-9df2-e6a1e0ece715",
   "metadata": {},
   "outputs": [],
   "source": [
    "shutil.copytree(va_images_dense, 'Preprocessed_test_data/all_img_density_files/Block_33', dirs_exist_ok=True)\n",
    "shutil.copytree(vn_images_dense, 'Preprocessed_test_data/all_img_density_files/Block_33', dirs_exist_ok=True)\n",
    "shutil.copytree(h_images_dense, 'Preprocessed_test_data/all_img_density_files/Block_33', dirs_exist_ok=True)"
   ]
  },
  {
   "cell_type": "code",
   "execution_count": null,
   "id": "bff79673-19bb-48cc-8f4a-e4ca2fac8fc8",
   "metadata": {},
   "outputs": [],
   "source": [
    "test_files_path_33 = \"Preprocessed_test_data/all_img_density_files/Block_33\""
   ]
  },
  {
   "cell_type": "code",
   "execution_count": null,
   "id": "cd92db43-005e-4e24-b86b-5da44ba4acb2",
   "metadata": {},
   "outputs": [],
   "source": [
    "test_im_and_map_contents_33 = os.listdir(test_files_path_33)\n",
    "\n",
    "# sort these - ALWAYS sort these as the order is always messed up on HCC\n",
    "test_im_and_map_contents_33.sort()"
   ]
  },
  {
   "cell_type": "code",
   "execution_count": null,
   "id": "cc3fc65d-6a12-4958-8542-ef3e3c5a62bf",
   "metadata": {},
   "outputs": [],
   "source": [
    "len(test_im_and_map_contents_33)"
   ]
  },
  {
   "cell_type": "code",
   "execution_count": null,
   "id": "fb1ba1e7-0131-4781-a1b1-8af45cf39b65",
   "metadata": {},
   "outputs": [],
   "source": [
    "# get only the names of the image (npy files)\n",
    "test_im_names_33 = [item for item in test_im_and_map_contents_33 if item.split(\".\")[0][-3:] != 'map']"
   ]
  },
  {
   "cell_type": "code",
   "execution_count": null,
   "id": "fc3ab4a3-f9ed-4206-9639-721710f3ce99",
   "metadata": {},
   "outputs": [],
   "source": [
    "# how many? should be 32\n",
    "len(test_im_names_33)"
   ]
  },
  {
   "cell_type": "code",
   "execution_count": null,
   "id": "d527fdb7-98ef-4865-96d1-17e2270ddb4b",
   "metadata": {},
   "outputs": [],
   "source": [
    "# test_im_names_33"
   ]
  },
  {
   "cell_type": "code",
   "execution_count": null,
   "id": "2fd98a9c-b021-47c5-b8d1-d6c8e27dad9e",
   "metadata": {},
   "outputs": [],
   "source": [
    "%%time\n",
    "# get the subwindows and counts for test data\n",
    "\n",
    "im_names = []\n",
    "for image in test_im_names_33:\n",
    "    test_ims, test_maps, test_names = create_subwindows_and_counts(image, test_files_path_33, stride = 8, kernel_size = 32)\n",
    "    test_im_array = np.array(test_ims)\n",
    "    test_map_array = np.array(test_maps)\n",
    "    print(image, test_im_array.shape, test_map_array.shape)\n",
    "    # save the arrays\n",
    "    # image stack\n",
    "    save_path = 'final_test_sub_windows_and_counts/Block_33'\n",
    "    np.save(save_path + '/' + 'test_ims_' + image, test_im_array)\n",
    "    # count stack\n",
    "    np.save(save_path + '/' + 'test_counts_' + image, test_im_array)\n",
    "    im_names.append(test_names)"
   ]
  },
  {
   "cell_type": "markdown",
   "id": "27b5ebd1-5ebc-4c88-9b72-980f337545be",
   "metadata": {},
   "source": [
    "Block 0304"
   ]
  },
  {
   "cell_type": "code",
   "execution_count": null,
   "id": "61474822-e8cb-4adb-af35-48445eeb52e5",
   "metadata": {},
   "outputs": [],
   "source": [
    "# need the images saved as npy arrays and let's also get the density counts, JIC."
   ]
  },
  {
   "cell_type": "code",
   "execution_count": null,
   "id": "8651b826-bee9-41b4-a0fb-ef2d2399a436",
   "metadata": {},
   "outputs": [],
   "source": [
    "# list all the image and the xml files for the train data\n",
    "test_contents_34 = os.listdir(block_0304)\n",
    "# separate image and xml files\n",
    "img_files_34, xml_files_34 = separate_img_xml(test_contents_34)\n",
    "# separate annotated and not annotated images\n",
    "annot_img_34, not_annot_img_34 = separate_annot_and_not(img_files_34, xml_files_34)\n",
    "# separate vertical and horizontal annotated images\n",
    "annot_vertical_images_34, annot_vertical_xmls_34, annot_horizontal_images_34, annot_horizontal_xmls_34 = separate_annnot_vertical_horizontal(annot_img_34, \n",
    "                                                                                                                                             xml_files_34, 6)\n",
    "# check shapes\n",
    "print(check_annot(annot_vertical_images_34, annot_vertical_xmls_34, annot_horizontal_images_34, annot_horizontal_xmls_34))"
   ]
  },
  {
   "cell_type": "code",
   "execution_count": null,
   "id": "72f31d6f-ff13-43db-b627-03ed5b7934ee",
   "metadata": {
    "scrolled": true
   },
   "outputs": [],
   "source": [
    "# store the vertically annotated images - validation data\n",
    "store_path = \"Images_and_dense_maps_npy_test/vertical_annotated_images/Block_34\"\n",
    "\n",
    "# blk 34\n",
    "im_shapes_annot_vertical_34 = []\n",
    "for item in annot_vertical_images_34:\n",
    "    img_shape = store_images_as_np_arrays_vertical(block_0304, item, store_path)\n",
    "    im_shapes_annot_vertical_34.append(img_shape)\n",
    "print(\"Block 34 done!\")"
   ]
  },
  {
   "cell_type": "code",
   "execution_count": null,
   "id": "7426bc61-0c9d-4127-83a0-048a5188272e",
   "metadata": {},
   "outputs": [],
   "source": [
    "print(im_shapes_annot_vertical_34)"
   ]
  },
  {
   "cell_type": "code",
   "execution_count": null,
   "id": "1e270973-d24d-4264-8bba-32de3c4d06b0",
   "metadata": {},
   "outputs": [],
   "source": [
    "len(im_shapes_annot_vertical_34)"
   ]
  },
  {
   "cell_type": "code",
   "execution_count": null,
   "id": "9ffe1040-902d-4064-aff8-bea3891237ef",
   "metadata": {
    "scrolled": true
   },
   "outputs": [],
   "source": [
    "# store the vertically not-annotated images\n",
    "store_path = \"Images_and_dense_maps_npy_test/vertical_not_annotated_images/Block_34\"\n",
    "\n",
    "# blk 33\n",
    "im_shapes_notannot_vertical_34 = []\n",
    "for item in not_annot_img_34:\n",
    "    img_shape = store_images_as_np_arrays_vertical(block_0304, item, store_path)\n",
    "    im_shapes_notannot_vertical_34.append(img_shape)\n",
    "print(\"Block 34 done!\")"
   ]
  },
  {
   "cell_type": "code",
   "execution_count": null,
   "id": "78fea609-3740-4601-8529-d6289a338eb0",
   "metadata": {},
   "outputs": [],
   "source": [
    "print(im_shapes_notannot_vertical_34)"
   ]
  },
  {
   "cell_type": "code",
   "execution_count": null,
   "id": "4b95f08b-8817-4e0d-b9ea-806d57a218b3",
   "metadata": {
    "scrolled": true
   },
   "outputs": [],
   "source": [
    "# store the horizontally annotated images\n",
    "store_path = \"Images_and_dense_maps_npy_test/horizontal_annotated_images/Block_34\"\n",
    "\n",
    "# blk 11 - the first horizontal image has a problem, needs to be rotated\n",
    "im_shapes_annot_horizontal_34 = []\n",
    "for item in annot_horizontal_images_34:\n",
    "    img_shape = store_images_as_np_arrays_horizontal(block_0304, item, store_path)\n",
    "    im_shapes_annot_horizontal_34.append(img_shape)\n",
    "print(\"Block 34 done!\")"
   ]
  },
  {
   "cell_type": "code",
   "execution_count": null,
   "id": "6fc0c01f-6079-4876-b7c9-3f7fc53b485f",
   "metadata": {},
   "outputs": [],
   "source": [
    "print(im_shapes_annot_horizontal_34)"
   ]
  },
  {
   "cell_type": "code",
   "execution_count": null,
   "id": "0f472d3b-5752-4e78-a03f-103376c6a177",
   "metadata": {},
   "outputs": [],
   "source": [
    "# xml_files_34"
   ]
  },
  {
   "cell_type": "code",
   "execution_count": null,
   "id": "b2d698d4-4c2b-4ed5-ab81-622dadb5ef1f",
   "metadata": {},
   "outputs": [],
   "source": [
    "# Get the xml file paths in a single location\n",
    "new_store_path = 'test_xml_files'\n",
    "# blk 13\n",
    "for file in xml_files_34:\n",
    "    joined_path = os.path.join(block_0304, file)\n",
    "    # store the file in new path\n",
    "    shutil.copy(joined_path, new_store_path)"
   ]
  },
  {
   "cell_type": "code",
   "execution_count": null,
   "id": "f95b1a6c-cc65-42a8-98e8-8e1af79315a3",
   "metadata": {},
   "outputs": [],
   "source": [
    "# get the outputs from this function\n",
    "image_path = \"Images_and_dense_maps_npy_test/vertical_annotated_images/Block_34/\"\n",
    "xml_path = 'test_xml_files'\n",
    "save_density_path = image_path"
   ]
  },
  {
   "cell_type": "code",
   "execution_count": null,
   "id": "83c2d21c-ae82-4aa9-9a98-5a18adaa0cb4",
   "metadata": {},
   "outputs": [],
   "source": [
    "file_names_v = [file.split(\".\")[0] for file in os.listdir(image_path) if file.split(\".\")[0][-3:] != 'map']\n",
    "file_names_v.sort()"
   ]
  },
  {
   "cell_type": "code",
   "execution_count": null,
   "id": "154dbf3e-16ec-4d95-ad80-6bc94ac2a57d",
   "metadata": {},
   "outputs": [],
   "source": [
    "# file_names_v"
   ]
  },
  {
   "cell_type": "code",
   "execution_count": null,
   "id": "d33c73c3-263e-4e11-a73c-1a8ddf9e8f6d",
   "metadata": {
    "scrolled": true
   },
   "outputs": [],
   "source": [
    "%%time\n",
    "names_all_va_v = []\n",
    "shapes_all_va_v = []\n",
    "tasselCounts_all_va_v = []\n",
    "tasselDensities_all_va_v = []\n",
    "dense_maps_all_va_v = []\n",
    "for file_name in file_names_v:\n",
    "    name_va, shape_va, tassels_va, tassel_dense_va, dense_map_va = get_density_maps_vertical(file_name, image_path, xml_path, save_density_path)\n",
    "    names_all_va_v.append(name_va)\n",
    "    shapes_all_va_v.append(shape_va)\n",
    "    tasselCounts_all_va_v.append(tassels_va)\n",
    "    tasselDensities_all_va_v.append(tassel_dense_va)\n",
    "    dense_maps_all_va_v.append(dense_map_va)"
   ]
  },
  {
   "cell_type": "code",
   "execution_count": null,
   "id": "67f5ce3f-643f-4b9a-b567-b6fd6994d242",
   "metadata": {},
   "outputs": [],
   "source": [
    "# a few sanity checks\n",
    "np.mean(tasselCounts_all_va_v == np.round(tasselDensities_all_va_v))"
   ]
  },
  {
   "cell_type": "code",
   "execution_count": null,
   "id": "0c13da38-bd43-4969-81f5-eb2a59ebff4c",
   "metadata": {},
   "outputs": [],
   "source": [
    "# create a dataframe of the true counts\n",
    "True_tasselcounts_df_vertical_annot_test_34 = pd.DataFrame(zip(names_all_va_v, tasselCounts_all_va_v), columns = ['name', 'true_count'])"
   ]
  },
  {
   "cell_type": "code",
   "execution_count": null,
   "id": "c5aac3af-3ba0-43df-b7c7-d33f7544c179",
   "metadata": {},
   "outputs": [],
   "source": [
    "True_tasselcounts_df_vertical_annot_test_34.shape"
   ]
  },
  {
   "cell_type": "code",
   "execution_count": null,
   "id": "cdeef929-6d56-451d-bd49-c9362a6d4272",
   "metadata": {},
   "outputs": [],
   "source": [
    "True_tasselcounts_df_vertical_annot_test_34.head()"
   ]
  },
  {
   "cell_type": "code",
   "execution_count": null,
   "id": "11fdbb61-207f-4505-9cbc-30280fc606da",
   "metadata": {},
   "outputs": [],
   "source": [
    "# get the outputs from this function\n",
    "image_path_h = \"Images_and_dense_maps_npy_test/horizontal_annotated_images/Block_34\"\n",
    "xml_path_h = 'test_xml_files'\n",
    "save_density_path_h = image_path_h"
   ]
  },
  {
   "cell_type": "code",
   "execution_count": null,
   "id": "b0fc1c96-e39e-4d7d-95cb-ee0f2031492a",
   "metadata": {},
   "outputs": [],
   "source": [
    "file_names_h = [file.split(\".\")[0] for file in os.listdir(image_path_h) if file.split(\".\")[0][-3:] != 'map']\n",
    "file_names_h.sort()"
   ]
  },
  {
   "cell_type": "code",
   "execution_count": null,
   "id": "f60bfb08-5ec6-4ca8-8f39-988969eae68c",
   "metadata": {},
   "outputs": [],
   "source": [
    "# file_names_h"
   ]
  },
  {
   "cell_type": "code",
   "execution_count": null,
   "id": "f36cb8e9-fcc3-4112-90f7-79b2b2510f09",
   "metadata": {
    "scrolled": true
   },
   "outputs": [],
   "source": [
    "%%time\n",
    "names_all_h_v = []\n",
    "shapes_all_h_v = []\n",
    "tasselCounts_all_h_v = []\n",
    "tasselDensities_all_h_v = []\n",
    "dense_maps_all_h_v = []\n",
    "for file_h in file_names_h:\n",
    "    name_h, shape_h, tassels_h, tassel_dense_h, dense_map_h = get_density_maps_horizontal(file_h, image_path_h, xml_path_h, save_density_path_h)\n",
    "    names_all_h_v.append(name_h)\n",
    "    shapes_all_h_v.append(shape_h)\n",
    "    tasselCounts_all_h_v.append(tassels_h)\n",
    "    tasselDensities_all_h_v.append(tassel_dense_h)\n",
    "    dense_maps_all_h_v.append(dense_map_h)"
   ]
  },
  {
   "cell_type": "code",
   "execution_count": null,
   "id": "6008b8b1-b848-4a3d-a167-ce7655f68b6a",
   "metadata": {},
   "outputs": [],
   "source": [
    "# a few sanity checks\n",
    "np.mean(tasselCounts_all_h_v == np.round(tasselDensities_all_h_v))"
   ]
  },
  {
   "cell_type": "code",
   "execution_count": null,
   "id": "a3979cdb-a50e-4cda-ae79-139a2b14d6c2",
   "metadata": {},
   "outputs": [],
   "source": [
    "# create a dataframe of the true counts\n",
    "True_tasselcounts_df_horizontal_annot_test_34 = pd.DataFrame(zip(names_all_h_v, tasselCounts_all_h_v), columns = ['name', 'true_count'])"
   ]
  },
  {
   "cell_type": "code",
   "execution_count": null,
   "id": "fad036a5-c791-4671-8b9b-cf58cd8c678f",
   "metadata": {},
   "outputs": [],
   "source": [
    "True_tasselcounts_df_horizontal_annot_test_34.shape"
   ]
  },
  {
   "cell_type": "code",
   "execution_count": null,
   "id": "e26a2dfc-c26f-484c-9b3b-40f19a054057",
   "metadata": {},
   "outputs": [],
   "source": [
    "True_tasselcounts_df_horizontal_annot_test_34.head()"
   ]
  },
  {
   "cell_type": "code",
   "execution_count": null,
   "id": "a6a8a99d-6e20-428b-ac2b-2e8af3b4cd20",
   "metadata": {},
   "outputs": [],
   "source": [
    "image_path_vn = 'Images_and_dense_maps_npy_test/vertical_not_annotated_images/Block_34'\n",
    "save_density_path_vn = image_path_vn"
   ]
  },
  {
   "cell_type": "code",
   "execution_count": null,
   "id": "0023d572-8a74-49e8-8a59-1f49327cec07",
   "metadata": {},
   "outputs": [],
   "source": [
    "file_names_vn = [file.split(\".\")[0] for file in os.listdir(image_path_vn) if file.split(\".\")[0][-3:] != 'map']\n",
    "file_names_vn.sort()"
   ]
  },
  {
   "cell_type": "code",
   "execution_count": null,
   "id": "63950ad9-dc24-47d8-b246-d80c4e58af45",
   "metadata": {},
   "outputs": [],
   "source": [
    "len(file_names_vn)"
   ]
  },
  {
   "cell_type": "code",
   "execution_count": null,
   "id": "2de8383b-777a-43a4-9b23-8dafd6a9352b",
   "metadata": {},
   "outputs": [],
   "source": [
    "file_names_vn"
   ]
  },
  {
   "cell_type": "code",
   "execution_count": null,
   "id": "5f5bc499-a192-4cd5-bcc4-3c71bf10364f",
   "metadata": {
    "scrolled": true
   },
   "outputs": [],
   "source": [
    "%%time\n",
    "# get the density maps for all vertically annotated image files\n",
    "names_all_vn_v = []\n",
    "shapes_all_vn_v = []\n",
    "tasselDensities_all_vn_v = []\n",
    "dense_maps_all_vn_v = []\n",
    "for file_vn in file_names_vn:\n",
    "    name_vn, shape_vn, tassel_dense_vn, dense_map_vn = get_density_maps_not_annotated(file_vn, image_path_vn, save_density_path_vn)\n",
    "    names_all_vn_v.append(name_vn)\n",
    "    shapes_all_vn_v.append(shape_vn)\n",
    "    tasselDensities_all_vn_v.append(tassel_dense_vn)\n",
    "    dense_maps_all_vn_v.append(dense_map_vn)\n",
    "    "
   ]
  },
  {
   "cell_type": "code",
   "execution_count": null,
   "id": "b5195b51-25bf-4e82-a98a-cd20601e3184",
   "metadata": {},
   "outputs": [],
   "source": [
    "Vertical_not_annotated_df_test_34 = pd.DataFrame(zip(names_all_vn_v, tasselDensities_all_vn_v), columns = ['name', 'true_count'])"
   ]
  },
  {
   "cell_type": "code",
   "execution_count": null,
   "id": "2ec739ad-fb8e-4314-96dc-4e44f857d4d3",
   "metadata": {},
   "outputs": [],
   "source": [
    "Vertical_not_annotated_df_test_34.head()"
   ]
  },
  {
   "cell_type": "code",
   "execution_count": null,
   "id": "880cd12d-a981-46ad-ba0b-ce8a730a5782",
   "metadata": {},
   "outputs": [],
   "source": [
    "Vertical_not_annotated_df_test_34.shape"
   ]
  },
  {
   "cell_type": "code",
   "execution_count": null,
   "id": "46c0da66-e745-41b7-81fd-362ebb4be5c3",
   "metadata": {},
   "outputs": [],
   "source": [
    "# stack and save the dataframe of testset true counts\n",
    "test_data_34 = pd.concat((Vertical_not_annotated_df_test_34, True_tasselcounts_df_vertical_annot_test_34, True_tasselcounts_df_horizontal_annot_test_34), axis = 0)"
   ]
  },
  {
   "cell_type": "code",
   "execution_count": null,
   "id": "0f1bce2f-ef0b-4293-a630-1766d08dc215",
   "metadata": {},
   "outputs": [],
   "source": [
    "test_data_34.head()"
   ]
  },
  {
   "cell_type": "code",
   "execution_count": null,
   "id": "68dd75c0-c37b-4d03-923d-0ba891229b03",
   "metadata": {},
   "outputs": [],
   "source": [
    "test_data_34.shape"
   ]
  },
  {
   "cell_type": "code",
   "execution_count": null,
   "id": "e46952bf-b0b0-4a60-ab47-14452931a24b",
   "metadata": {},
   "outputs": [],
   "source": [
    "# saev this dataframe\n",
    "test_data_34.to_csv(\"True_tassel_counts/test_data/true_test_counts_blk_34.csv\", index = False)"
   ]
  },
  {
   "cell_type": "code",
   "execution_count": null,
   "id": "fb400309-a122-4661-986e-2fd613dfecae",
   "metadata": {},
   "outputs": [],
   "source": [
    "# move all the image and the xml files to a single location\n",
    "\n",
    "va_images_dense = 'Images_and_dense_maps_npy_test/vertical_annotated_images/Block_34'\n",
    "vn_images_dense = 'Images_and_dense_maps_npy_test/vertical_not_annotated_images/Block_34'\n",
    "h_images_dense = 'Images_and_dense_maps_npy_test/horizontal_annotated_images/Block_34'"
   ]
  },
  {
   "cell_type": "code",
   "execution_count": null,
   "id": "5ca8c292-c3f7-40e7-90ea-3f42d72310d7",
   "metadata": {},
   "outputs": [],
   "source": [
    "shutil.copytree(va_images_dense, 'Preprocessed_test_data/all_img_density_files/Block_34', dirs_exist_ok=True)\n",
    "shutil.copytree(vn_images_dense, 'Preprocessed_test_data/all_img_density_files/Block_34', dirs_exist_ok=True)\n",
    "shutil.copytree(h_images_dense, 'Preprocessed_test_data/all_img_density_files/Block_34', dirs_exist_ok=True)"
   ]
  },
  {
   "cell_type": "code",
   "execution_count": null,
   "id": "808a3410-c963-4304-adf1-6bf1b21cf511",
   "metadata": {},
   "outputs": [],
   "source": [
    "test_files_path_34 = \"Preprocessed_test_data/all_img_density_files/Block_34\""
   ]
  },
  {
   "cell_type": "code",
   "execution_count": null,
   "id": "44d05899-a3eb-4f98-a86c-26abbd1d9916",
   "metadata": {},
   "outputs": [],
   "source": [
    "test_im_and_map_contents_34 = os.listdir(test_files_path_34)\n",
    "\n",
    "# sort these - ALWAYS sort these as the order is always messed up on HCC\n",
    "test_im_and_map_contents_34.sort()"
   ]
  },
  {
   "cell_type": "code",
   "execution_count": null,
   "id": "70e419d1-347e-476e-b1c3-00ea56620fdb",
   "metadata": {},
   "outputs": [],
   "source": [
    "len(test_im_and_map_contents_34)"
   ]
  },
  {
   "cell_type": "code",
   "execution_count": null,
   "id": "59dabc1c-f0d1-49cd-91ae-588bad3957f0",
   "metadata": {},
   "outputs": [],
   "source": [
    "# get only the names of the image (npy files)\n",
    "test_im_names_34 = [item for item in test_im_and_map_contents_34 if item.split(\".\")[0][-3:] != 'map']"
   ]
  },
  {
   "cell_type": "code",
   "execution_count": null,
   "id": "03631436-073d-4dea-b27c-6541fc1997fb",
   "metadata": {},
   "outputs": [],
   "source": [
    "# how many? should be 32\n",
    "len(test_im_names_34)"
   ]
  },
  {
   "cell_type": "code",
   "execution_count": null,
   "id": "ded570fb-4277-4f67-827f-e75fa79a6208",
   "metadata": {},
   "outputs": [],
   "source": [
    "# test_im_names_34"
   ]
  },
  {
   "cell_type": "code",
   "execution_count": null,
   "id": "536d35f8-1590-4bc2-b4d3-b53ad1790e61",
   "metadata": {},
   "outputs": [],
   "source": [
    "%%time\n",
    "# get the subwindows and counts for test data\n",
    "\n",
    "im_names = []\n",
    "for image in test_im_names_34:\n",
    "    test_ims, test_maps, test_names = create_subwindows_and_counts(image, test_files_path_34, stride = 8, kernel_size = 32)\n",
    "    test_im_array = np.array(test_ims)\n",
    "    test_map_array = np.array(test_maps)\n",
    "    print(image, test_im_array.shape, test_map_array.shape)\n",
    "    # save the arrays\n",
    "    # image stack\n",
    "    save_path = 'final_test_sub_windows_and_counts/Block_34'\n",
    "    np.save(save_path + '/' + 'test_ims_' + image, test_im_array)\n",
    "    # count stack\n",
    "    np.save(save_path + '/' + 'test_counts_' + image, test_im_array)\n",
    "    im_names.append(test_names)"
   ]
  },
  {
   "cell_type": "markdown",
   "id": "a75c4ace-bb7b-4c79-9d85-8144c2f7903d",
   "metadata": {},
   "source": [
    "Block 0305"
   ]
  },
  {
   "cell_type": "code",
   "execution_count": null,
   "id": "5d38ceb6-aaad-4cf0-bf21-7ac2b2387768",
   "metadata": {},
   "outputs": [],
   "source": [
    "# need the images saved as npy arrays and let's also get the density counts, JIC."
   ]
  },
  {
   "cell_type": "code",
   "execution_count": null,
   "id": "b213252d-94df-4948-a518-78f79d01f2fa",
   "metadata": {},
   "outputs": [],
   "source": [
    "# list all the image and the xml files for the train data\n",
    "test_contents_35 = os.listdir(block_0305)\n",
    "# separate image and xml files\n",
    "img_files_35, xml_files_35 = separate_img_xml(test_contents_35)\n",
    "# separate annotated and not annotated images\n",
    "annot_img_35, not_annot_img_35 = separate_annot_and_not(img_files_35, xml_files_35)\n",
    "# separate vertical and horizontal annotated images\n",
    "annot_vertical_images_35, annot_vertical_xmls_35, annot_horizontal_images_35, annot_horizontal_xmls_35 = separate_annnot_vertical_horizontal(annot_img_35, \n",
    "                                                                                                                                             xml_files_35, 6)\n",
    "# check shapes\n",
    "print(check_annot(annot_vertical_images_35, annot_vertical_xmls_35, annot_horizontal_images_35, annot_horizontal_xmls_35))"
   ]
  },
  {
   "cell_type": "code",
   "execution_count": null,
   "id": "e6b0e705-45d0-4373-ba64-4cc78d13b642",
   "metadata": {
    "scrolled": true
   },
   "outputs": [],
   "source": [
    "# store the vertically annotated images - validation data\n",
    "store_path = \"Images_and_dense_maps_npy_test/vertical_annotated_images/Block_35\"\n",
    "\n",
    "# blk 35\n",
    "im_shapes_annot_vertical_35 = []\n",
    "for item in annot_vertical_images_35:\n",
    "    img_shape = store_images_as_np_arrays_vertical(block_0305, item, store_path)\n",
    "    im_shapes_annot_vertical_35.append(img_shape)\n",
    "print(\"Block 35 done!\")"
   ]
  },
  {
   "cell_type": "code",
   "execution_count": null,
   "id": "87d35d80-d810-4a85-9597-abb8ed54bfa5",
   "metadata": {},
   "outputs": [],
   "source": [
    "print(im_shapes_annot_vertical_35)"
   ]
  },
  {
   "cell_type": "code",
   "execution_count": null,
   "id": "82cbd437-0e08-4a03-95dd-b448edf5d1ca",
   "metadata": {},
   "outputs": [],
   "source": [
    "len(im_shapes_annot_vertical_35)"
   ]
  },
  {
   "cell_type": "code",
   "execution_count": null,
   "id": "41336f91-cced-4de8-ac49-7919c0708602",
   "metadata": {
    "scrolled": true
   },
   "outputs": [],
   "source": [
    "# store the vertically not-annotated images\n",
    "store_path = \"Images_and_dense_maps_npy_test/vertical_not_annotated_images/Block_35\"\n",
    "\n",
    "# blk 35\n",
    "im_shapes_notannot_vertical_35 = []\n",
    "for item in not_annot_img_35:\n",
    "    img_shape = store_images_as_np_arrays_vertical(block_0305, item, store_path)\n",
    "    im_shapes_notannot_vertical_35.append(img_shape)\n",
    "print(\"Block 35 done!\")"
   ]
  },
  {
   "cell_type": "code",
   "execution_count": null,
   "id": "42bf98c1-065d-425c-982c-cba30179d6c6",
   "metadata": {},
   "outputs": [],
   "source": [
    "print(im_shapes_notannot_vertical_35)"
   ]
  },
  {
   "cell_type": "code",
   "execution_count": null,
   "id": "e511d530-b9ee-467c-81a8-4e18d89c2e7d",
   "metadata": {
    "scrolled": true
   },
   "outputs": [],
   "source": [
    "# store the horizontally annotated images\n",
    "store_path = \"Images_and_dense_maps_npy_test/horizontal_annotated_images/Block_35\"\n",
    "\n",
    "# blk 11 - the first horizontal image has a problem, needs to be rotated\n",
    "im_shapes_annot_horizontal_35 = []\n",
    "for item in annot_horizontal_images_35:\n",
    "    img_shape = store_images_as_np_arrays_horizontal(block_0305, item, store_path)\n",
    "    im_shapes_annot_horizontal_35.append(img_shape)\n",
    "print(\"Block 35 done!\")"
   ]
  },
  {
   "cell_type": "code",
   "execution_count": null,
   "id": "446d312e-1983-4595-b93a-87d38aec8a9a",
   "metadata": {},
   "outputs": [],
   "source": [
    "print(im_shapes_annot_horizontal_35)"
   ]
  },
  {
   "cell_type": "code",
   "execution_count": null,
   "id": "84336da9-a05e-4ba7-b892-cb6a3d39f6c3",
   "metadata": {},
   "outputs": [],
   "source": [
    "# xml_files_35"
   ]
  },
  {
   "cell_type": "code",
   "execution_count": null,
   "id": "68ff84bc-b94a-4700-8b2e-b3e0956b4696",
   "metadata": {},
   "outputs": [],
   "source": [
    "# Get the xml file paths in a single location\n",
    "new_store_path = 'test_xml_files'\n",
    "# blk 13\n",
    "for file in xml_files_35:\n",
    "    joined_path = os.path.join(block_0305, file)\n",
    "    # store the file in new path\n",
    "    shutil.copy(joined_path, new_store_path)"
   ]
  },
  {
   "cell_type": "code",
   "execution_count": null,
   "id": "8658a734-b3d8-4fb9-b890-76302f0ba1af",
   "metadata": {},
   "outputs": [],
   "source": [
    "# get the outputs from this function\n",
    "image_path = \"Images_and_dense_maps_npy_test/vertical_annotated_images/Block_35/\"\n",
    "xml_path = 'test_xml_files'\n",
    "save_density_path = image_path"
   ]
  },
  {
   "cell_type": "code",
   "execution_count": null,
   "id": "f08e2afd-ccd6-4455-85f1-87f9f55b427a",
   "metadata": {},
   "outputs": [],
   "source": [
    "file_names_v = [file.split(\".\")[0] for file in os.listdir(image_path) if file.split(\".\")[0][-3:] != 'map']\n",
    "file_names_v.sort()"
   ]
  },
  {
   "cell_type": "code",
   "execution_count": null,
   "id": "70dfd15c-242a-4b5a-9f82-268fc73fc177",
   "metadata": {},
   "outputs": [],
   "source": [
    "# file_names_v"
   ]
  },
  {
   "cell_type": "code",
   "execution_count": null,
   "id": "f93cb273-798d-410e-b4e5-400dcf56ef7a",
   "metadata": {
    "scrolled": true
   },
   "outputs": [],
   "source": [
    "%%time\n",
    "names_all_va_v = []\n",
    "shapes_all_va_v = []\n",
    "tasselCounts_all_va_v = []\n",
    "tasselDensities_all_va_v = []\n",
    "dense_maps_all_va_v = []\n",
    "for file_name in file_names_v:\n",
    "    name_va, shape_va, tassels_va, tassel_dense_va, dense_map_va = get_density_maps_vertical(file_name, image_path, xml_path, save_density_path)\n",
    "    names_all_va_v.append(name_va)\n",
    "    shapes_all_va_v.append(shape_va)\n",
    "    tasselCounts_all_va_v.append(tassels_va)\n",
    "    tasselDensities_all_va_v.append(tassel_dense_va)\n",
    "    dense_maps_all_va_v.append(dense_map_va)"
   ]
  },
  {
   "cell_type": "code",
   "execution_count": null,
   "id": "97869400-d13e-45b9-a658-04e116452b95",
   "metadata": {},
   "outputs": [],
   "source": [
    "# a few sanity checks\n",
    "np.mean(tasselCounts_all_va_v == np.round(tasselDensities_all_va_v))"
   ]
  },
  {
   "cell_type": "code",
   "execution_count": null,
   "id": "1be2f070-5b18-4501-9158-e820ad84b31b",
   "metadata": {},
   "outputs": [],
   "source": [
    "# create a dataframe of the true counts\n",
    "True_tasselcounts_df_vertical_annot_test_35 = pd.DataFrame(zip(names_all_va_v, tasselCounts_all_va_v), columns = ['name', 'true_count'])"
   ]
  },
  {
   "cell_type": "code",
   "execution_count": null,
   "id": "7e642d13-2b76-4914-ace4-04426acaa6bb",
   "metadata": {},
   "outputs": [],
   "source": [
    "True_tasselcounts_df_vertical_annot_test_35.shape"
   ]
  },
  {
   "cell_type": "code",
   "execution_count": null,
   "id": "0edd9f46-0ca0-457a-ad78-feaf8320a34f",
   "metadata": {},
   "outputs": [],
   "source": [
    "True_tasselcounts_df_vertical_annot_test_35.head()"
   ]
  },
  {
   "cell_type": "code",
   "execution_count": null,
   "id": "8112ce34-9cf9-4cc2-9b3b-cd24595f538a",
   "metadata": {},
   "outputs": [],
   "source": [
    "# get the outputs from this function\n",
    "image_path_h = \"Images_and_dense_maps_npy_test/horizontal_annotated_images/Block_35\"\n",
    "xml_path_h = 'test_xml_files'\n",
    "save_density_path_h = image_path_h"
   ]
  },
  {
   "cell_type": "code",
   "execution_count": null,
   "id": "32b39e56-3941-43d7-8494-0823f095276e",
   "metadata": {},
   "outputs": [],
   "source": [
    "file_names_h = [file.split(\".\")[0] for file in os.listdir(image_path_h) if file.split(\".\")[0][-3:] != 'map']\n",
    "file_names_h.sort()"
   ]
  },
  {
   "cell_type": "code",
   "execution_count": null,
   "id": "319e9c61-a0cc-4a3a-ae81-72fd9fb09d8d",
   "metadata": {},
   "outputs": [],
   "source": [
    "# file_names_h"
   ]
  },
  {
   "cell_type": "code",
   "execution_count": null,
   "id": "918806c6-4fe4-4720-a6f1-83124f1410f4",
   "metadata": {
    "scrolled": true
   },
   "outputs": [],
   "source": [
    "%%time\n",
    "names_all_h_v = []\n",
    "shapes_all_h_v = []\n",
    "tasselCounts_all_h_v = []\n",
    "tasselDensities_all_h_v = []\n",
    "dense_maps_all_h_v = []\n",
    "for file_h in file_names_h:\n",
    "    name_h, shape_h, tassels_h, tassel_dense_h, dense_map_h = get_density_maps_horizontal(file_h, image_path_h, xml_path_h, save_density_path_h)\n",
    "    names_all_h_v.append(name_h)\n",
    "    shapes_all_h_v.append(shape_h)\n",
    "    tasselCounts_all_h_v.append(tassels_h)\n",
    "    tasselDensities_all_h_v.append(tassel_dense_h)\n",
    "    dense_maps_all_h_v.append(dense_map_h)"
   ]
  },
  {
   "cell_type": "code",
   "execution_count": null,
   "id": "72f8314f-a389-44c1-8e08-43f36c823277",
   "metadata": {},
   "outputs": [],
   "source": [
    "# a few sanity checks\n",
    "np.mean(tasselCounts_all_h_v == np.round(tasselDensities_all_h_v))"
   ]
  },
  {
   "cell_type": "code",
   "execution_count": null,
   "id": "ac07fa0a-6fb9-4dda-9051-19bc65045cce",
   "metadata": {},
   "outputs": [],
   "source": [
    "# create a dataframe of the true counts\n",
    "True_tasselcounts_df_horizontal_annot_test_35 = pd.DataFrame(zip(names_all_h_v, tasselCounts_all_h_v), columns = ['name', 'true_count'])"
   ]
  },
  {
   "cell_type": "code",
   "execution_count": null,
   "id": "534a75e1-c574-4ab0-b6bf-73f165820aca",
   "metadata": {},
   "outputs": [],
   "source": [
    "True_tasselcounts_df_horizontal_annot_test_35.shape"
   ]
  },
  {
   "cell_type": "code",
   "execution_count": null,
   "id": "6715761a-9b3c-4e17-acec-2fcbcd714c05",
   "metadata": {},
   "outputs": [],
   "source": [
    "True_tasselcounts_df_horizontal_annot_test_35.head()"
   ]
  },
  {
   "cell_type": "code",
   "execution_count": null,
   "id": "2d6ce381-3056-4156-9e5f-f8c23ff73f3e",
   "metadata": {},
   "outputs": [],
   "source": [
    "image_path_vn = 'Images_and_dense_maps_npy_test/vertical_not_annotated_images/Block_35'\n",
    "save_density_path_vn = image_path_vn"
   ]
  },
  {
   "cell_type": "code",
   "execution_count": null,
   "id": "2e189b5e-aa34-46fe-adae-e12e70f14765",
   "metadata": {},
   "outputs": [],
   "source": [
    "file_names_vn = [file.split(\".\")[0] for file in os.listdir(image_path_vn) if file.split(\".\")[0][-3:] != 'map']\n",
    "file_names_vn.sort()"
   ]
  },
  {
   "cell_type": "code",
   "execution_count": null,
   "id": "a0925784-b84a-4d19-989c-495c7c1aa74f",
   "metadata": {},
   "outputs": [],
   "source": [
    "len(file_names_vn)"
   ]
  },
  {
   "cell_type": "code",
   "execution_count": null,
   "id": "1dc3987d-e7b0-4405-8eba-5216109a90d2",
   "metadata": {},
   "outputs": [],
   "source": [
    "file_names_vn"
   ]
  },
  {
   "cell_type": "code",
   "execution_count": null,
   "id": "e28c4ee2-5ab6-46f9-8a05-583550842e91",
   "metadata": {
    "scrolled": true
   },
   "outputs": [],
   "source": [
    "%%time\n",
    "# get the density maps for all vertically annotated image files\n",
    "names_all_vn_v = []\n",
    "shapes_all_vn_v = []\n",
    "tasselDensities_all_vn_v = []\n",
    "dense_maps_all_vn_v = []\n",
    "for file_vn in file_names_vn:\n",
    "    name_vn, shape_vn, tassel_dense_vn, dense_map_vn = get_density_maps_not_annotated(file_vn, image_path_vn, save_density_path_vn)\n",
    "    names_all_vn_v.append(name_vn)\n",
    "    shapes_all_vn_v.append(shape_vn)\n",
    "    tasselDensities_all_vn_v.append(tassel_dense_vn)\n",
    "    dense_maps_all_vn_v.append(dense_map_vn)\n",
    "    "
   ]
  },
  {
   "cell_type": "code",
   "execution_count": null,
   "id": "a5e841c4-b4ac-46ae-a9b4-ca3aa09c105a",
   "metadata": {},
   "outputs": [],
   "source": [
    "Vertical_not_annotated_df_test_35 = pd.DataFrame(zip(names_all_vn_v, tasselDensities_all_vn_v), columns = ['name', 'true_count'])"
   ]
  },
  {
   "cell_type": "code",
   "execution_count": null,
   "id": "e81d618f-f8e1-4998-8086-baa929f64316",
   "metadata": {},
   "outputs": [],
   "source": [
    "Vertical_not_annotated_df_test_35.head()"
   ]
  },
  {
   "cell_type": "code",
   "execution_count": null,
   "id": "4e562ca7-9502-4a6d-af94-047db07a1efb",
   "metadata": {},
   "outputs": [],
   "source": [
    "Vertical_not_annotated_df_test_35.shape"
   ]
  },
  {
   "cell_type": "code",
   "execution_count": null,
   "id": "90a857f6-427e-4950-9ebb-1e27512a7766",
   "metadata": {},
   "outputs": [],
   "source": [
    "# stack and save the dataframe of testset true counts\n",
    "test_data_35 = pd.concat((Vertical_not_annotated_df_test_35, True_tasselcounts_df_vertical_annot_test_35, True_tasselcounts_df_horizontal_annot_test_35), axis = 0)"
   ]
  },
  {
   "cell_type": "code",
   "execution_count": null,
   "id": "0c987066-65a4-4682-8ea5-82829ee1971c",
   "metadata": {},
   "outputs": [],
   "source": [
    "test_data_35.head()"
   ]
  },
  {
   "cell_type": "code",
   "execution_count": null,
   "id": "893ac5f5-1e0c-425c-a79d-9cd0658a76e4",
   "metadata": {},
   "outputs": [],
   "source": [
    "test_data_35.shape"
   ]
  },
  {
   "cell_type": "code",
   "execution_count": null,
   "id": "eb614adb-2a82-4964-a2bc-fd342576cec0",
   "metadata": {},
   "outputs": [],
   "source": [
    "# saev this dataframe\n",
    "test_data_35.to_csv(\"True_tassel_counts/test_data/true_test_counts_blk_35.csv\", index = False)"
   ]
  },
  {
   "cell_type": "code",
   "execution_count": null,
   "id": "f46bef5f-fc8a-47d1-b5ac-eb27edb2d2f4",
   "metadata": {},
   "outputs": [],
   "source": [
    "# move all the image and the xml files to a single location\n",
    "\n",
    "va_images_dense = 'Images_and_dense_maps_npy_test/vertical_annotated_images/Block_35'\n",
    "vn_images_dense = 'Images_and_dense_maps_npy_test/vertical_not_annotated_images/Block_35'\n",
    "h_images_dense = 'Images_and_dense_maps_npy_test/horizontal_annotated_images/Block_35'"
   ]
  },
  {
   "cell_type": "code",
   "execution_count": null,
   "id": "380e890e-46a5-4a50-bf12-5c0170d8302c",
   "metadata": {},
   "outputs": [],
   "source": [
    "shutil.copytree(va_images_dense, 'Preprocessed_test_data/all_img_density_files/Block_35', dirs_exist_ok=True)\n",
    "shutil.copytree(vn_images_dense, 'Preprocessed_test_data/all_img_density_files/Block_35', dirs_exist_ok=True)\n",
    "shutil.copytree(h_images_dense, 'Preprocessed_test_data/all_img_density_files/Block_35', dirs_exist_ok=True)"
   ]
  },
  {
   "cell_type": "code",
   "execution_count": null,
   "id": "3ebaf361-b538-4f64-8303-11b2fd01965e",
   "metadata": {},
   "outputs": [],
   "source": [
    "test_files_path_35 = \"Preprocessed_test_data/all_img_density_files/Block_35\""
   ]
  },
  {
   "cell_type": "code",
   "execution_count": null,
   "id": "2414f3ca-3619-4a7a-9574-be9e859d21f2",
   "metadata": {},
   "outputs": [],
   "source": [
    "test_im_and_map_contents_35 = os.listdir(test_files_path_35)\n",
    "\n",
    "# sort these - ALWAYS sort these as the order is always messed up on HCC\n",
    "test_im_and_map_contents_35.sort()"
   ]
  },
  {
   "cell_type": "code",
   "execution_count": null,
   "id": "4a7f59f8-5bb1-4cf6-b02c-19430ddc1f97",
   "metadata": {},
   "outputs": [],
   "source": [
    "len(test_im_and_map_contents_35)"
   ]
  },
  {
   "cell_type": "code",
   "execution_count": null,
   "id": "27f8d869-5a75-41a4-9573-401cdcad7ae5",
   "metadata": {},
   "outputs": [],
   "source": [
    "# get only the names of the image (npy files)\n",
    "test_im_names_35 = [item for item in test_im_and_map_contents_35 if item.split(\".\")[0][-3:] != 'map']"
   ]
  },
  {
   "cell_type": "code",
   "execution_count": null,
   "id": "30cdf862-b25b-48f4-b728-7ff69288ab53",
   "metadata": {},
   "outputs": [],
   "source": [
    "# how many? should be 32\n",
    "len(test_im_names_35)"
   ]
  },
  {
   "cell_type": "code",
   "execution_count": null,
   "id": "ea35e0ec-a991-4ad7-b55a-1c55948da250",
   "metadata": {},
   "outputs": [],
   "source": [
    "# test_im_names_34"
   ]
  },
  {
   "cell_type": "code",
   "execution_count": null,
   "id": "a9c4c23d-9073-4628-9925-d710192d1cfd",
   "metadata": {},
   "outputs": [],
   "source": [
    "%%time\n",
    "# get the subwindows and counts for test data\n",
    "\n",
    "im_names = []\n",
    "for image in test_im_names_35:\n",
    "    test_ims, test_maps, test_names = create_subwindows_and_counts(image, test_files_path_35, stride = 8, kernel_size = 32)\n",
    "    test_im_array = np.array(test_ims)\n",
    "    test_map_array = np.array(test_maps)\n",
    "    print(image, test_im_array.shape, test_map_array.shape)\n",
    "    # save the arrays\n",
    "    # image stack\n",
    "    save_path = 'final_test_sub_windows_and_counts/Block_35'\n",
    "    np.save(save_path + '/' + 'test_ims_' + image, test_im_array)\n",
    "    # count stack\n",
    "    np.save(save_path + '/' + 'test_counts_' + image, test_im_array)\n",
    "    im_names.append(test_names)"
   ]
  },
  {
   "cell_type": "markdown",
   "id": "bdde76d1-a189-4284-b306-35111b4e119c",
   "metadata": {},
   "source": [
    "Block 0306"
   ]
  },
  {
   "cell_type": "code",
   "execution_count": null,
   "id": "ae37df7a-675b-4cbf-8b25-cfbccb0c6352",
   "metadata": {},
   "outputs": [],
   "source": [
    "# need the images saved as npy arrays and let's also get the density counts, JIC."
   ]
  },
  {
   "cell_type": "code",
   "execution_count": null,
   "id": "6a86e788-8033-4f98-b72b-8e83ac439b8f",
   "metadata": {},
   "outputs": [],
   "source": [
    "# list all the image and the xml files for the train data\n",
    "test_contents_36 = os.listdir(block_0306)\n",
    "# separate image and xml files\n",
    "img_files_36, xml_files_36 = separate_img_xml(test_contents_36)\n",
    "# separate annotated and not annotated images\n",
    "annot_img_36, not_annot_img_36 = separate_annot_and_not(img_files_36, xml_files_36)\n",
    "# separate vertical and horizontal annotated images\n",
    "annot_vertical_images_36, annot_vertical_xmls_36, annot_horizontal_images_36, annot_horizontal_xmls_36 = separate_annnot_vertical_horizontal(annot_img_36, \n",
    "                                                                                                                                             xml_files_36, 6)\n",
    "# check shapes\n",
    "print(check_annot(annot_vertical_images_36, annot_vertical_xmls_36, annot_horizontal_images_36, annot_horizontal_xmls_36))"
   ]
  },
  {
   "cell_type": "code",
   "execution_count": null,
   "id": "819a3d4b-e027-45cf-b0e9-aaaf55e35f5f",
   "metadata": {
    "scrolled": true
   },
   "outputs": [],
   "source": [
    "# store the vertically annotated images - validation data\n",
    "store_path = \"Images_and_dense_maps_npy_test/vertical_annotated_images/Block_36\"\n",
    "\n",
    "# blk 36\n",
    "im_shapes_annot_vertical_36 = []\n",
    "for item in annot_vertical_images_36:\n",
    "    img_shape = store_images_as_np_arrays_vertical(block_0306, item, store_path)\n",
    "    im_shapes_annot_vertical_36.append(img_shape)\n",
    "print(\"Block 36 done!\")"
   ]
  },
  {
   "cell_type": "code",
   "execution_count": null,
   "id": "5752e487-8d35-4bbc-ae1c-2d2b0d59ccba",
   "metadata": {},
   "outputs": [],
   "source": [
    "print(im_shapes_annot_vertical_36)"
   ]
  },
  {
   "cell_type": "code",
   "execution_count": null,
   "id": "69ff326e-a96d-459a-be45-8dbf7f656ad3",
   "metadata": {},
   "outputs": [],
   "source": [
    "len(im_shapes_annot_vertical_36)"
   ]
  },
  {
   "cell_type": "code",
   "execution_count": null,
   "id": "cf1d5767-c573-4484-ba48-836c0e9ef1e5",
   "metadata": {
    "scrolled": true
   },
   "outputs": [],
   "source": [
    "# store the vertically not-annotated images\n",
    "store_path = \"Images_and_dense_maps_npy_test/vertical_not_annotated_images/Block_36\"\n",
    "\n",
    "# blk 36\n",
    "im_shapes_notannot_vertical_36 = []\n",
    "for item in not_annot_img_36:\n",
    "    img_shape = store_images_as_np_arrays_vertical(block_0306, item, store_path)\n",
    "    im_shapes_notannot_vertical_36.append(img_shape)\n",
    "print(\"Block 36 done!\")"
   ]
  },
  {
   "cell_type": "code",
   "execution_count": null,
   "id": "d75a4502-678e-4214-bf18-54f1dd4b6426",
   "metadata": {},
   "outputs": [],
   "source": [
    "print(im_shapes_notannot_vertical_36)"
   ]
  },
  {
   "cell_type": "code",
   "execution_count": null,
   "id": "8085a694-4e95-4fa5-9445-12d10369d81d",
   "metadata": {
    "scrolled": true
   },
   "outputs": [],
   "source": [
    "# store the horizontally annotated images\n",
    "store_path = \"Images_and_dense_maps_npy_test/horizontal_annotated_images/Block_36\"\n",
    "\n",
    "im_shapes_annot_horizontal_36 = []\n",
    "for item in annot_horizontal_images_36:\n",
    "    img_shape = store_images_as_np_arrays_horizontal(block_0306, item, store_path)\n",
    "    im_shapes_annot_horizontal_36.append(img_shape)\n",
    "print(\"Block 36 done!\")"
   ]
  },
  {
   "cell_type": "code",
   "execution_count": null,
   "id": "1c780e82-0418-4a84-b126-e587bab3bef1",
   "metadata": {},
   "outputs": [],
   "source": [
    "print(im_shapes_annot_horizontal_36)"
   ]
  },
  {
   "cell_type": "code",
   "execution_count": null,
   "id": "69989241-d424-459f-a216-1bb625ad1a61",
   "metadata": {},
   "outputs": [],
   "source": [
    "# xml_files_36"
   ]
  },
  {
   "cell_type": "code",
   "execution_count": null,
   "id": "640a8da5-695e-4b66-bc5d-ec67c0a6b48d",
   "metadata": {},
   "outputs": [],
   "source": [
    "# Get the xml file paths in a single location\n",
    "new_store_path = 'test_xml_files'\n",
    "# blk 13\n",
    "for file in xml_files_36:\n",
    "    joined_path = os.path.join(block_0306, file)\n",
    "    # store the file in new path\n",
    "    shutil.copy(joined_path, new_store_path)"
   ]
  },
  {
   "cell_type": "code",
   "execution_count": null,
   "id": "8a23599d-bb82-4d7a-9056-004cdc17bf25",
   "metadata": {},
   "outputs": [],
   "source": [
    "# get the outputs from this function\n",
    "image_path = \"Images_and_dense_maps_npy_test/vertical_annotated_images/Block_36/\"\n",
    "xml_path = 'test_xml_files'\n",
    "save_density_path = image_path"
   ]
  },
  {
   "cell_type": "code",
   "execution_count": null,
   "id": "c2f2d02b-ed28-4f83-82d6-b5fd3134903e",
   "metadata": {},
   "outputs": [],
   "source": [
    "file_names_v = [file.split(\".\")[0] for file in os.listdir(image_path) if file.split(\".\")[0][-3:] != 'map']\n",
    "file_names_v.sort()"
   ]
  },
  {
   "cell_type": "code",
   "execution_count": null,
   "id": "c22815c1-8786-4702-afdc-2bfdf095aa40",
   "metadata": {},
   "outputs": [],
   "source": [
    "# file_names_v"
   ]
  },
  {
   "cell_type": "code",
   "execution_count": null,
   "id": "ccfb88ad-65ee-4424-9f0b-9bfef3129fa7",
   "metadata": {
    "scrolled": true
   },
   "outputs": [],
   "source": [
    "%%time\n",
    "names_all_va_v = []\n",
    "shapes_all_va_v = []\n",
    "tasselCounts_all_va_v = []\n",
    "tasselDensities_all_va_v = []\n",
    "dense_maps_all_va_v = []\n",
    "for file_name in file_names_v:\n",
    "    name_va, shape_va, tassels_va, tassel_dense_va, dense_map_va = get_density_maps_vertical(file_name, image_path, xml_path, save_density_path)\n",
    "    names_all_va_v.append(name_va)\n",
    "    shapes_all_va_v.append(shape_va)\n",
    "    tasselCounts_all_va_v.append(tassels_va)\n",
    "    tasselDensities_all_va_v.append(tassel_dense_va)\n",
    "    dense_maps_all_va_v.append(dense_map_va)"
   ]
  },
  {
   "cell_type": "code",
   "execution_count": null,
   "id": "c6409b95-d4d5-49c5-b895-a0a29aa68d92",
   "metadata": {},
   "outputs": [],
   "source": [
    "# a few sanity checks\n",
    "np.mean(tasselCounts_all_va_v == np.round(tasselDensities_all_va_v))"
   ]
  },
  {
   "cell_type": "code",
   "execution_count": null,
   "id": "001fc47c-70ba-4a63-9ec3-0139dd96800b",
   "metadata": {},
   "outputs": [],
   "source": [
    "# create a dataframe of the true counts\n",
    "True_tasselcounts_df_vertical_annot_test_36 = pd.DataFrame(zip(names_all_va_v, tasselCounts_all_va_v), columns = ['name', 'true_count'])"
   ]
  },
  {
   "cell_type": "code",
   "execution_count": null,
   "id": "4bde8f7d-009d-4f0a-90c3-9ef7f34e16f4",
   "metadata": {},
   "outputs": [],
   "source": [
    "True_tasselcounts_df_vertical_annot_test_36.shape"
   ]
  },
  {
   "cell_type": "code",
   "execution_count": null,
   "id": "4fc3c8c7-cdf6-489f-9338-5316141694b3",
   "metadata": {},
   "outputs": [],
   "source": [
    "True_tasselcounts_df_vertical_annot_test_36.head()"
   ]
  },
  {
   "cell_type": "code",
   "execution_count": null,
   "id": "5c5e63e5-0171-4250-9dde-54b8fa83b470",
   "metadata": {},
   "outputs": [],
   "source": [
    "# get the outputs from this function\n",
    "image_path_h = \"Images_and_dense_maps_npy_test/horizontal_annotated_images/Block_36\"\n",
    "xml_path_h = 'test_xml_files'\n",
    "save_density_path_h = image_path_h"
   ]
  },
  {
   "cell_type": "code",
   "execution_count": null,
   "id": "238c423f-f543-44de-abac-b78a1a9787d3",
   "metadata": {},
   "outputs": [],
   "source": [
    "file_names_h = [file.split(\".\")[0] for file in os.listdir(image_path_h) if file.split(\".\")[0][-3:] != 'map']\n",
    "file_names_h.sort()"
   ]
  },
  {
   "cell_type": "code",
   "execution_count": null,
   "id": "ee50f1a5-c76e-4792-9739-749f145bace8",
   "metadata": {},
   "outputs": [],
   "source": [
    "# file_names_h"
   ]
  },
  {
   "cell_type": "code",
   "execution_count": null,
   "id": "c8f74be9-b1f1-4cc6-a638-e029093ce23c",
   "metadata": {
    "scrolled": true
   },
   "outputs": [],
   "source": [
    "%%time\n",
    "names_all_h_v = []\n",
    "shapes_all_h_v = []\n",
    "tasselCounts_all_h_v = []\n",
    "tasselDensities_all_h_v = []\n",
    "dense_maps_all_h_v = []\n",
    "for file_h in file_names_h:\n",
    "    name_h, shape_h, tassels_h, tassel_dense_h, dense_map_h = get_density_maps_horizontal(file_h, image_path_h, xml_path_h, save_density_path_h)\n",
    "    names_all_h_v.append(name_h)\n",
    "    shapes_all_h_v.append(shape_h)\n",
    "    tasselCounts_all_h_v.append(tassels_h)\n",
    "    tasselDensities_all_h_v.append(tassel_dense_h)\n",
    "    dense_maps_all_h_v.append(dense_map_h)"
   ]
  },
  {
   "cell_type": "code",
   "execution_count": null,
   "id": "24f7c6e5-7524-415a-b9b1-0813c0ac28f2",
   "metadata": {},
   "outputs": [],
   "source": [
    "# a few sanity checks\n",
    "np.mean(tasselCounts_all_h_v == np.round(tasselDensities_all_h_v))"
   ]
  },
  {
   "cell_type": "code",
   "execution_count": null,
   "id": "1bc27a52-81a8-4125-96e0-c710b60076e6",
   "metadata": {},
   "outputs": [],
   "source": [
    "# create a dataframe of the true counts\n",
    "True_tasselcounts_df_horizontal_annot_test_36 = pd.DataFrame(zip(names_all_h_v, tasselCounts_all_h_v), columns = ['name', 'true_count'])"
   ]
  },
  {
   "cell_type": "code",
   "execution_count": null,
   "id": "a2a372e7-cb22-4572-9736-f6db05bd225a",
   "metadata": {},
   "outputs": [],
   "source": [
    "True_tasselcounts_df_horizontal_annot_test_36.shape"
   ]
  },
  {
   "cell_type": "code",
   "execution_count": null,
   "id": "a205d2c6-a893-40e1-9f80-9a0ee364bee0",
   "metadata": {},
   "outputs": [],
   "source": [
    "True_tasselcounts_df_horizontal_annot_test_36.head()"
   ]
  },
  {
   "cell_type": "code",
   "execution_count": null,
   "id": "bc1b567f-6012-48d9-b8d8-0b606b11f98b",
   "metadata": {},
   "outputs": [],
   "source": [
    "image_path_vn = 'Images_and_dense_maps_npy_test/vertical_not_annotated_images/Block_36'\n",
    "save_density_path_vn = image_path_vn"
   ]
  },
  {
   "cell_type": "code",
   "execution_count": null,
   "id": "50ab5ef1-a5e4-4fb5-a51e-f23a3777ae03",
   "metadata": {},
   "outputs": [],
   "source": [
    "file_names_vn = [file.split(\".\")[0] for file in os.listdir(image_path_vn) if file.split(\".\")[0][-3:] != 'map']\n",
    "file_names_vn.sort()"
   ]
  },
  {
   "cell_type": "code",
   "execution_count": null,
   "id": "043e06a1-b4dc-419f-b1e8-74957766e20b",
   "metadata": {},
   "outputs": [],
   "source": [
    "len(file_names_vn)"
   ]
  },
  {
   "cell_type": "code",
   "execution_count": null,
   "id": "655ceb60-73dd-46d8-bc72-8a43daead186",
   "metadata": {},
   "outputs": [],
   "source": [
    "file_names_vn"
   ]
  },
  {
   "cell_type": "code",
   "execution_count": null,
   "id": "90eb99e2-dc3f-4fb0-aedc-0fcbf758c4c2",
   "metadata": {
    "scrolled": true
   },
   "outputs": [],
   "source": [
    "%%time\n",
    "# get the density maps for all vertically annotated image files\n",
    "names_all_vn_v = []\n",
    "shapes_all_vn_v = []\n",
    "tasselDensities_all_vn_v = []\n",
    "dense_maps_all_vn_v = []\n",
    "for file_vn in file_names_vn:\n",
    "    name_vn, shape_vn, tassel_dense_vn, dense_map_vn = get_density_maps_not_annotated(file_vn, image_path_vn, save_density_path_vn)\n",
    "    names_all_vn_v.append(name_vn)\n",
    "    shapes_all_vn_v.append(shape_vn)\n",
    "    tasselDensities_all_vn_v.append(tassel_dense_vn)\n",
    "    dense_maps_all_vn_v.append(dense_map_vn)\n",
    "    "
   ]
  },
  {
   "cell_type": "code",
   "execution_count": null,
   "id": "1bd1fd31-1a62-498d-8545-e5146002f53a",
   "metadata": {},
   "outputs": [],
   "source": [
    "Vertical_not_annotated_df_test_36 = pd.DataFrame(zip(names_all_vn_v, tasselDensities_all_vn_v), columns = ['name', 'true_count'])"
   ]
  },
  {
   "cell_type": "code",
   "execution_count": null,
   "id": "6cc0cfae-0b4f-4b30-95c3-25f7b77bed0d",
   "metadata": {},
   "outputs": [],
   "source": [
    "Vertical_not_annotated_df_test_36.head()"
   ]
  },
  {
   "cell_type": "code",
   "execution_count": null,
   "id": "051a0fe5-9039-421d-84c5-d135afe9a989",
   "metadata": {},
   "outputs": [],
   "source": [
    "Vertical_not_annotated_df_test_36.shape"
   ]
  },
  {
   "cell_type": "code",
   "execution_count": null,
   "id": "ffc114e7-5533-4c5a-82e6-dadbe19dbd05",
   "metadata": {},
   "outputs": [],
   "source": [
    "# stack and save the dataframe of testset true counts\n",
    "test_data_36 = pd.concat((Vertical_not_annotated_df_test_36, True_tasselcounts_df_vertical_annot_test_36, True_tasselcounts_df_horizontal_annot_test_36), axis = 0)"
   ]
  },
  {
   "cell_type": "code",
   "execution_count": null,
   "id": "a513c2a5-895f-4462-91f4-1a4dbb72d0bf",
   "metadata": {},
   "outputs": [],
   "source": [
    "test_data_36.head()"
   ]
  },
  {
   "cell_type": "code",
   "execution_count": null,
   "id": "ece54717-6b3b-4d8e-a021-57592cc7c034",
   "metadata": {},
   "outputs": [],
   "source": [
    "test_data_36.shape"
   ]
  },
  {
   "cell_type": "code",
   "execution_count": null,
   "id": "d3073c5c-7e41-4496-8e90-da7449ac2e8d",
   "metadata": {},
   "outputs": [],
   "source": [
    "# saev this dataframe\n",
    "test_data_36.to_csv(\"True_tassel_counts/test_data/true_test_counts_blk_36.csv\", index = False)"
   ]
  },
  {
   "cell_type": "code",
   "execution_count": null,
   "id": "2fd31540-1659-4601-bc72-ad14524f68fb",
   "metadata": {},
   "outputs": [],
   "source": [
    "# move all the image and the xml files to a single location\n",
    "\n",
    "va_images_dense = 'Images_and_dense_maps_npy_test/vertical_annotated_images/Block_36'\n",
    "vn_images_dense = 'Images_and_dense_maps_npy_test/vertical_not_annotated_images/Block_36'\n",
    "h_images_dense = 'Images_and_dense_maps_npy_test/horizontal_annotated_images/Block_36'"
   ]
  },
  {
   "cell_type": "code",
   "execution_count": null,
   "id": "852c3a47-268c-44a9-8017-37b621e4ef43",
   "metadata": {},
   "outputs": [],
   "source": [
    "shutil.copytree(va_images_dense, 'Preprocessed_test_data/all_img_density_files/Block_36', dirs_exist_ok=True)\n",
    "shutil.copytree(vn_images_dense, 'Preprocessed_test_data/all_img_density_files/Block_36', dirs_exist_ok=True)\n",
    "shutil.copytree(h_images_dense, 'Preprocessed_test_data/all_img_density_files/Block_36', dirs_exist_ok=True)"
   ]
  },
  {
   "cell_type": "code",
   "execution_count": null,
   "id": "170ea442-de2a-4baa-8a31-c307b79e13a4",
   "metadata": {},
   "outputs": [],
   "source": [
    "test_files_path_36 = \"Preprocessed_test_data/all_img_density_files/Block_36\""
   ]
  },
  {
   "cell_type": "code",
   "execution_count": null,
   "id": "6b24edf7-ddb3-4b77-837f-c58696e413a8",
   "metadata": {},
   "outputs": [],
   "source": [
    "test_im_and_map_contents_36 = os.listdir(test_files_path_36)\n",
    "\n",
    "# sort these - ALWAYS sort these as the order is always messed up on HCC\n",
    "test_im_and_map_contents_36.sort()"
   ]
  },
  {
   "cell_type": "code",
   "execution_count": null,
   "id": "a7e5e2eb-e1d2-4293-84e7-a8a2d4139a5a",
   "metadata": {},
   "outputs": [],
   "source": [
    "len(test_im_and_map_contents_36)"
   ]
  },
  {
   "cell_type": "code",
   "execution_count": null,
   "id": "f5816194-b285-403b-8df7-ab07eb33e23b",
   "metadata": {},
   "outputs": [],
   "source": [
    "# get only the names of the image (npy files)\n",
    "test_im_names_36 = [item for item in test_im_and_map_contents_36 if item.split(\".\")[0][-3:] != 'map']"
   ]
  },
  {
   "cell_type": "code",
   "execution_count": null,
   "id": "ee634e0c-b2cc-4c1b-aae8-bd0da0e7f643",
   "metadata": {},
   "outputs": [],
   "source": [
    "# how many? should be 32\n",
    "len(test_im_names_36)"
   ]
  },
  {
   "cell_type": "code",
   "execution_count": null,
   "id": "4e27b251-46fa-4cde-9d62-af7070d1fd82",
   "metadata": {},
   "outputs": [],
   "source": [
    "# test_im_names_36"
   ]
  },
  {
   "cell_type": "code",
   "execution_count": null,
   "id": "ace82c44-1a5d-4d81-9bf3-cb014cc685cb",
   "metadata": {},
   "outputs": [],
   "source": [
    "%%time\n",
    "# get the subwindows and counts for test data\n",
    "\n",
    "im_names = []\n",
    "for image in test_im_names_36:\n",
    "    test_ims, test_maps, test_names = create_subwindows_and_counts(image, test_files_path_36, stride = 8, kernel_size = 32)\n",
    "    test_im_array = np.array(test_ims)\n",
    "    test_map_array = np.array(test_maps)\n",
    "    print(image, test_im_array.shape, test_map_array.shape)\n",
    "    # save the arrays\n",
    "    # image stack\n",
    "    save_path = 'final_test_sub_windows_and_counts/Block_36'\n",
    "    np.save(save_path + '/' + 'test_ims_' + image, test_im_array)\n",
    "    # count stack\n",
    "    np.save(save_path + '/' + 'test_counts_' + image, test_im_array)\n",
    "    im_names.append(test_names)"
   ]
  }
 ],
 "metadata": {
  "kernelspec": {
   "display_name": "Python (tf_with_py38_gpu_29)",
   "language": "python",
   "name": "tf_with_py38_gpu_29"
  },
  "language_info": {
   "codemirror_mode": {
    "name": "ipython",
    "version": 3
   },
   "file_extension": ".py",
   "mimetype": "text/x-python",
   "name": "python",
   "nbconvert_exporter": "python",
   "pygments_lexer": "ipython3",
   "version": "3.8.13"
  }
 },
 "nbformat": 4,
 "nbformat_minor": 5
}
