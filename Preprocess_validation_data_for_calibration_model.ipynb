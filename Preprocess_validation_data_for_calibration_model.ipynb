{
 "cells": [
  {
   "cell_type": "markdown",
   "id": "ce1b3fa2-f1f1-4c52-ba54-5fd9d95e1731",
   "metadata": {},
   "source": [
    "We need to arange the validation data similar to that of test data for the calibration model."
   ]
  },
  {
   "cell_type": "code",
   "execution_count": 1,
   "id": "5494960e-a4b9-401f-afb2-7784e733ef91",
   "metadata": {},
   "outputs": [],
   "source": [
    "import pandas as pd\n",
    "import numpy as np\n",
    "import matplotlib.pyplot as plt\n",
    "import tensorflow as tf\n",
    "import xml\n",
    "import xml.etree.ElementTree as ET\n",
    "import cv2\n",
    "import math\n",
    "import warnings\n",
    "from skimage.transform import resize\n",
    "import os\n",
    "from scipy import ndimage\n",
    "import shutil"
   ]
  },
  {
   "cell_type": "code",
   "execution_count": 2,
   "id": "4d885667-0f4c-4794-82cc-67b190ea7f22",
   "metadata": {},
   "outputs": [
    {
     "data": {
      "text/plain": [
       "[PhysicalDevice(name='/physical_device:GPU:0', device_type='GPU')]"
      ]
     },
     "execution_count": 2,
     "metadata": {},
     "output_type": "execute_result"
    }
   ],
   "source": [
    "tf.config.list_physical_devices(\"GPU\")"
   ]
  },
  {
   "cell_type": "code",
   "execution_count": 3,
   "id": "a933747f-cf4e-4003-af7f-f479b3edaeb6",
   "metadata": {},
   "outputs": [],
   "source": [
    "def create_subwindows_and_counts(image, numpy_folder, stride = 8, kernel_size = 32):\n",
    "    im_name = image.split(\".\")[0]\n",
    "    im_file = im_name + '.npy'\n",
    "    count_file = im_name + '_density_map.npy'\n",
    "    # load the image and the count numpy files\n",
    "    loaded_im_file = np.load(numpy_folder + '/' + im_file)\n",
    "    loaded_count_file = np.load(numpy_folder + '/' + count_file)\n",
    "        \n",
    "    # create the subwindows and counts as follows\n",
    "    img_height = loaded_im_file.shape[0]\n",
    "    img_width = loaded_im_file.shape[1]\n",
    "    \n",
    "    density_sums = []\n",
    "    catch_image = []\n",
    "    for i in  range(0, img_height, stride):\n",
    "        for j in range(0, img_width, stride):\n",
    "            sub_window = loaded_im_file[i: i + kernel_size, j : j + kernel_size,:]\n",
    "            density = loaded_count_file[i: i + kernel_size, j : j + kernel_size]\n",
    "            dense_sum = np.sum(density)\n",
    "            density_sums.append(dense_sum)\n",
    "            sub_window = resize(sub_window, (32, 32,3))\n",
    "            catch_image.append(sub_window)\n",
    "\n",
    "    # save the combined subwindows and counts\n",
    "    return(catch_image,density_sums, im_file)"
   ]
  },
  {
   "cell_type": "code",
   "execution_count": 4,
   "id": "2bfef4aa-21de-4160-8dbf-c2888815d1e3",
   "metadata": {},
   "outputs": [],
   "source": [
    "# we have the density files and the image files as npy files for validation data stored at Preprocessed_valid_data/all_img_density_files/\n",
    "# let's use those and create the stackers. "
   ]
  },
  {
   "cell_type": "code",
   "execution_count": 5,
   "id": "3b7e48c1-34ce-4bc9-9207-f04711fd9e15",
   "metadata": {},
   "outputs": [],
   "source": [
    "# image and desnity file location for validation data\n",
    "valid_file_location = 'Preprocessed_valid_data/all_img_density_files'"
   ]
  },
  {
   "cell_type": "code",
   "execution_count": 6,
   "id": "617e78d8-1ad3-40f7-934c-966dbdc91bb8",
   "metadata": {},
   "outputs": [],
   "source": [
    "# contents at this location, and there shapes?\n",
    "all_valid_files = os.listdir(valid_file_location)\n",
    "all_valid_files.sort()"
   ]
  },
  {
   "cell_type": "code",
   "execution_count": 7,
   "id": "e798aa3f-28f7-42bb-ba58-e18bb69546cf",
   "metadata": {},
   "outputs": [
    {
     "name": "stdout",
     "output_type": "stream",
     "text": [
      "(1024, 768, 3)\n",
      "(1024, 768)\n",
      "(1024, 768, 3)\n",
      "(1024, 768)\n",
      "(1024, 768, 3)\n",
      "(1024, 768)\n",
      "(1024, 768, 3)\n",
      "(1024, 768)\n",
      "(1024, 768, 3)\n",
      "(1024, 768)\n",
      "(1024, 768, 3)\n",
      "(1024, 768)\n",
      "(1024, 768, 3)\n",
      "(1024, 768)\n",
      "(1024, 768, 3)\n",
      "(1024, 768)\n",
      "(1024, 768, 3)\n",
      "(1024, 768)\n",
      "(1024, 768, 3)\n",
      "(1024, 768)\n",
      "(1024, 768, 3)\n",
      "(1024, 768)\n",
      "(1024, 768, 3)\n",
      "(1024, 768)\n",
      "(768, 1024, 3)\n",
      "(768, 1024)\n",
      "(768, 1024, 3)\n",
      "(768, 1024)\n",
      "(768, 1024, 3)\n",
      "(768, 1024)\n",
      "(768, 1024, 3)\n",
      "(768, 1024)\n",
      "(768, 1024, 3)\n",
      "(768, 1024)\n",
      "(768, 1024, 3)\n",
      "(768, 1024)\n",
      "(768, 1024, 3)\n",
      "(768, 1024)\n",
      "(768, 1024, 3)\n",
      "(768, 1024)\n",
      "(768, 1024, 3)\n",
      "(768, 1024)\n",
      "(768, 1024, 3)\n",
      "(768, 1024)\n",
      "(768, 1024, 3)\n",
      "(768, 1024)\n",
      "(768, 1024, 3)\n",
      "(768, 1024)\n",
      "(768, 1024, 3)\n",
      "(768, 1024)\n",
      "(768, 1024, 3)\n",
      "(768, 1024)\n",
      "(768, 1024, 3)\n",
      "(768, 1024)\n",
      "(768, 1024, 3)\n",
      "(768, 1024)\n",
      "(768, 1024, 3)\n",
      "(768, 1024)\n",
      "(768, 1024, 3)\n",
      "(768, 1024)\n",
      "(768, 1024, 3)\n",
      "(768, 1024)\n",
      "(768, 1024, 3)\n",
      "(768, 1024)\n"
     ]
    }
   ],
   "source": [
    "for file in all_valid_files:\n",
    "    loaded_file = np.load(os.path.join(valid_file_location, file))\n",
    "    print(loaded_file.shape)"
   ]
  },
  {
   "cell_type": "code",
   "execution_count": 8,
   "id": "eadbacdd-8127-4a0b-ab8d-2bf76eecd986",
   "metadata": {},
   "outputs": [],
   "source": [
    "# get only the images and not the maps\n",
    "valid_im_names = [item for item in all_valid_files if item.split(\".\")[0][-3:] != 'map']"
   ]
  },
  {
   "cell_type": "code",
   "execution_count": 9,
   "id": "89bd087f-0fb9-4333-822d-0315a8913ff2",
   "metadata": {},
   "outputs": [
    {
     "data": {
      "text/plain": [
       "32"
      ]
     },
     "execution_count": 9,
     "metadata": {},
     "output_type": "execute_result"
    }
   ],
   "source": [
    "# check the count\n",
    "len(valid_im_names)"
   ]
  },
  {
   "cell_type": "code",
   "execution_count": 10,
   "id": "137454d8-8e66-491a-a8a4-d31cd02572c9",
   "metadata": {},
   "outputs": [
    {
     "name": "stdout",
     "output_type": "stream",
     "text": [
      "Block0204_2020_06_29.npy (12288, 32, 32, 3) (12288,)\n",
      "Block0204_2020_07_01.npy (12288, 32, 32, 3) (12288,)\n",
      "Block0204_2020_07_02.npy (12288, 32, 32, 3) (12288,)\n",
      "Block0204_2020_07_06.npy (12288, 32, 32, 3) (12288,)\n",
      "Block0204_2020_07_07.npy (12288, 32, 32, 3) (12288,)\n",
      "Block0204_2020_07_08.npy (12288, 32, 32, 3) (12288,)\n",
      "Block0204_2020_07_14.npy (12288, 32, 32, 3) (12288,)\n",
      "Block0204_2020_07_16.npy (12288, 32, 32, 3) (12288,)\n",
      "Block0204_2020_07_17.npy (12288, 32, 32, 3) (12288,)\n",
      "Block0204_2020_07_20.npy (12288, 32, 32, 3) (12288,)\n",
      "Block0204_2020_07_22.npy (12288, 32, 32, 3) (12288,)\n",
      "Block0204_2020_07_23.npy (12288, 32, 32, 3) (12288,)\n",
      "Block0204_2020_08_03.npy (12288, 32, 32, 3) (12288,)\n",
      "Block0204_2020_08_04.npy (12288, 32, 32, 3) (12288,)\n",
      "Block0204_2020_08_06.npy (12288, 32, 32, 3) (12288,)\n",
      "Block0204_2020_08_07.npy (12288, 32, 32, 3) (12288,)\n",
      "Block0204_2020_08_11.npy (12288, 32, 32, 3) (12288,)\n",
      "Block0204_2020_08_12.npy (12288, 32, 32, 3) (12288,)\n",
      "Block0204_2020_08_14.npy (12288, 32, 32, 3) (12288,)\n",
      "Block0204_2020_08_15.npy (12288, 32, 32, 3) (12288,)\n",
      "Block0204_2020_08_17.npy (12288, 32, 32, 3) (12288,)\n",
      "Block0204_2020_08_18.npy (12288, 32, 32, 3) (12288,)\n",
      "Block0204_2020_08_19.npy (12288, 32, 32, 3) (12288,)\n",
      "Block0204_2020_08_21.npy (12288, 32, 32, 3) (12288,)\n",
      "Block0204_2020_08_25.npy (12288, 32, 32, 3) (12288,)\n",
      "Block0204_2020_08_26.npy (12288, 32, 32, 3) (12288,)\n",
      "Block0204_2020_08_27.npy (12288, 32, 32, 3) (12288,)\n",
      "Block0204_2020_08_28.npy (12288, 32, 32, 3) (12288,)\n",
      "Block0204_2020_08_31.npy (12288, 32, 32, 3) (12288,)\n",
      "Block0204_2020_09_02.npy (12288, 32, 32, 3) (12288,)\n",
      "Block0204_2020_09_07.npy (12288, 32, 32, 3) (12288,)\n",
      "Block0204_2020_09_16.npy (12288, 32, 32, 3) (12288,)\n",
      "CPU times: user 2min 5s, sys: 7.45 s, total: 2min 13s\n",
      "Wall time: 2min 29s\n"
     ]
    }
   ],
   "source": [
    "%%time\n",
    "# get the subwindows and counts for test data\n",
    "\n",
    "im_names = []\n",
    "for image in valid_im_names:\n",
    "    val_ims, val_maps, val_names = create_subwindows_and_counts(image, valid_file_location, stride = 8, kernel_size = 32)\n",
    "    val_im_array = np.array(val_ims)\n",
    "    val_map_array = np.array(val_maps)\n",
    "    print(image, val_im_array.shape, val_map_array.shape)\n",
    "    # save the arrays\n",
    "    # image stack\n",
    "    save_path = 'final_valid_sub_windows_and_counts/Block_24'\n",
    "    np.save(save_path + '/' + 'val_ims_' + image, val_im_array)\n",
    "    # count stack\n",
    "    np.save(save_path + '/' + 'val_counts_' + image, val_im_array)\n",
    "    im_names.append(val_names)"
   ]
  },
  {
   "cell_type": "markdown",
   "id": "aa771d6f-b279-4f69-8744-277ebdb83e27",
   "metadata": {
    "jp-MarkdownHeadingCollapsed": true
   },
   "source": [
    "We also need the true validation counts. Two ways to get this, lets make sure they both give the same results."
   ]
  },
  {
   "cell_type": "code",
   "execution_count": 11,
   "id": "e328a1d9-825a-415a-bf72-dc0ed1328fce",
   "metadata": {},
   "outputs": [],
   "source": [
    "# One is by concatenating the stored true values"
   ]
  },
  {
   "cell_type": "code",
   "execution_count": 12,
   "id": "dfe3ccef-b7e2-4ec2-8dae-d711314a1ff9",
   "metadata": {},
   "outputs": [],
   "source": [
    "h_counts_valid = pd.read_csv(\"True_tassel_counts/all_data/horizontal_annotated_true_counts_valid.csv\")\n",
    "va_counts_valid = pd.read_csv(\"True_tassel_counts/all_data/vertical_annotated_true_counts_valid.csv\")\n"
   ]
  },
  {
   "cell_type": "code",
   "execution_count": 13,
   "id": "750a8830-b257-4afd-a985-d001be9fd67a",
   "metadata": {},
   "outputs": [
    {
     "data": {
      "text/html": [
       "<div>\n",
       "<style scoped>\n",
       "    .dataframe tbody tr th:only-of-type {\n",
       "        vertical-align: middle;\n",
       "    }\n",
       "\n",
       "    .dataframe tbody tr th {\n",
       "        vertical-align: top;\n",
       "    }\n",
       "\n",
       "    .dataframe thead th {\n",
       "        text-align: right;\n",
       "    }\n",
       "</style>\n",
       "<table border=\"1\" class=\"dataframe\">\n",
       "  <thead>\n",
       "    <tr style=\"text-align: right;\">\n",
       "      <th></th>\n",
       "      <th>name</th>\n",
       "      <th>true_count</th>\n",
       "    </tr>\n",
       "  </thead>\n",
       "  <tbody>\n",
       "    <tr>\n",
       "      <th>0</th>\n",
       "      <td>Block0204_2020_08_03</td>\n",
       "      <td>38</td>\n",
       "    </tr>\n",
       "    <tr>\n",
       "      <th>1</th>\n",
       "      <td>Block0204_2020_08_04</td>\n",
       "      <td>42</td>\n",
       "    </tr>\n",
       "    <tr>\n",
       "      <th>2</th>\n",
       "      <td>Block0204_2020_08_06</td>\n",
       "      <td>39</td>\n",
       "    </tr>\n",
       "    <tr>\n",
       "      <th>3</th>\n",
       "      <td>Block0204_2020_08_07</td>\n",
       "      <td>37</td>\n",
       "    </tr>\n",
       "    <tr>\n",
       "      <th>4</th>\n",
       "      <td>Block0204_2020_08_11</td>\n",
       "      <td>34</td>\n",
       "    </tr>\n",
       "  </tbody>\n",
       "</table>\n",
       "</div>"
      ],
      "text/plain": [
       "                   name  true_count\n",
       "0  Block0204_2020_08_03          38\n",
       "1  Block0204_2020_08_04          42\n",
       "2  Block0204_2020_08_06          39\n",
       "3  Block0204_2020_08_07          37\n",
       "4  Block0204_2020_08_11          34"
      ]
     },
     "execution_count": 13,
     "metadata": {},
     "output_type": "execute_result"
    }
   ],
   "source": [
    "h_counts_valid.head()"
   ]
  },
  {
   "cell_type": "code",
   "execution_count": 14,
   "id": "f7a4bbe6-383c-49d9-8c9c-fc05b4ba8956",
   "metadata": {},
   "outputs": [
    {
     "data": {
      "text/html": [
       "<div>\n",
       "<style scoped>\n",
       "    .dataframe tbody tr th:only-of-type {\n",
       "        vertical-align: middle;\n",
       "    }\n",
       "\n",
       "    .dataframe tbody tr th {\n",
       "        vertical-align: top;\n",
       "    }\n",
       "\n",
       "    .dataframe thead th {\n",
       "        text-align: right;\n",
       "    }\n",
       "</style>\n",
       "<table border=\"1\" class=\"dataframe\">\n",
       "  <thead>\n",
       "    <tr style=\"text-align: right;\">\n",
       "      <th></th>\n",
       "      <th>name</th>\n",
       "      <th>true_count</th>\n",
       "    </tr>\n",
       "  </thead>\n",
       "  <tbody>\n",
       "    <tr>\n",
       "      <th>0</th>\n",
       "      <td>Block0204_2020_07_07</td>\n",
       "      <td>2</td>\n",
       "    </tr>\n",
       "    <tr>\n",
       "      <th>1</th>\n",
       "      <td>Block0204_2020_07_08</td>\n",
       "      <td>10</td>\n",
       "    </tr>\n",
       "    <tr>\n",
       "      <th>2</th>\n",
       "      <td>Block0204_2020_07_14</td>\n",
       "      <td>30</td>\n",
       "    </tr>\n",
       "    <tr>\n",
       "      <th>3</th>\n",
       "      <td>Block0204_2020_07_16</td>\n",
       "      <td>33</td>\n",
       "    </tr>\n",
       "    <tr>\n",
       "      <th>4</th>\n",
       "      <td>Block0204_2020_07_17</td>\n",
       "      <td>28</td>\n",
       "    </tr>\n",
       "  </tbody>\n",
       "</table>\n",
       "</div>"
      ],
      "text/plain": [
       "                   name  true_count\n",
       "0  Block0204_2020_07_07           2\n",
       "1  Block0204_2020_07_08          10\n",
       "2  Block0204_2020_07_14          30\n",
       "3  Block0204_2020_07_16          33\n",
       "4  Block0204_2020_07_17          28"
      ]
     },
     "execution_count": 14,
     "metadata": {},
     "output_type": "execute_result"
    }
   ],
   "source": [
    "va_counts_valid.head()"
   ]
  },
  {
   "cell_type": "code",
   "execution_count": 15,
   "id": "42d667d4-809b-499d-82d1-a07e3a5e9c60",
   "metadata": {},
   "outputs": [
    {
     "data": {
      "text/plain": [
       "((20, 2), (8, 2))"
      ]
     },
     "execution_count": 15,
     "metadata": {},
     "output_type": "execute_result"
    }
   ],
   "source": [
    "h_counts_valid.shape, va_counts_valid.shape"
   ]
  },
  {
   "cell_type": "code",
   "execution_count": 16,
   "id": "c6428c70-c567-4cd0-8b97-054ab8801456",
   "metadata": {},
   "outputs": [],
   "source": [
    "# note that four of the vn images are missing, we will create a dataframe for that\n",
    "vn_counts_valid = pd.DataFrame({'name':['Block0204_2020_06_29', 'Block0204_2020_07_01', 'Block0204_2020_07_02', 'Block0204_2020_07_06'], 'true_count': [0,0,0,0]})"
   ]
  },
  {
   "cell_type": "code",
   "execution_count": 17,
   "id": "72683c01-df7a-4bfa-8f1f-34004bd42ee4",
   "metadata": {},
   "outputs": [
    {
     "data": {
      "text/html": [
       "<div>\n",
       "<style scoped>\n",
       "    .dataframe tbody tr th:only-of-type {\n",
       "        vertical-align: middle;\n",
       "    }\n",
       "\n",
       "    .dataframe tbody tr th {\n",
       "        vertical-align: top;\n",
       "    }\n",
       "\n",
       "    .dataframe thead th {\n",
       "        text-align: right;\n",
       "    }\n",
       "</style>\n",
       "<table border=\"1\" class=\"dataframe\">\n",
       "  <thead>\n",
       "    <tr style=\"text-align: right;\">\n",
       "      <th></th>\n",
       "      <th>name</th>\n",
       "      <th>true_count</th>\n",
       "    </tr>\n",
       "  </thead>\n",
       "  <tbody>\n",
       "    <tr>\n",
       "      <th>0</th>\n",
       "      <td>Block0204_2020_06_29</td>\n",
       "      <td>0</td>\n",
       "    </tr>\n",
       "    <tr>\n",
       "      <th>1</th>\n",
       "      <td>Block0204_2020_07_01</td>\n",
       "      <td>0</td>\n",
       "    </tr>\n",
       "    <tr>\n",
       "      <th>2</th>\n",
       "      <td>Block0204_2020_07_02</td>\n",
       "      <td>0</td>\n",
       "    </tr>\n",
       "    <tr>\n",
       "      <th>3</th>\n",
       "      <td>Block0204_2020_07_06</td>\n",
       "      <td>0</td>\n",
       "    </tr>\n",
       "  </tbody>\n",
       "</table>\n",
       "</div>"
      ],
      "text/plain": [
       "                   name  true_count\n",
       "0  Block0204_2020_06_29           0\n",
       "1  Block0204_2020_07_01           0\n",
       "2  Block0204_2020_07_02           0\n",
       "3  Block0204_2020_07_06           0"
      ]
     },
     "execution_count": 17,
     "metadata": {},
     "output_type": "execute_result"
    }
   ],
   "source": [
    "vn_counts_valid"
   ]
  },
  {
   "cell_type": "code",
   "execution_count": 18,
   "id": "230bc54c-5af3-4535-8069-4d2fd2171f8a",
   "metadata": {},
   "outputs": [],
   "source": [
    "# okay, lets concatenate these three dataframes together\n",
    "final_valid_true_counts = pd.concat([vn_counts_valid, va_counts_valid, h_counts_valid], axis = 0)"
   ]
  },
  {
   "cell_type": "code",
   "execution_count": 19,
   "id": "4cbdcda5-7ae2-431d-98ce-3e151259e749",
   "metadata": {},
   "outputs": [
    {
     "data": {
      "text/html": [
       "<div>\n",
       "<style scoped>\n",
       "    .dataframe tbody tr th:only-of-type {\n",
       "        vertical-align: middle;\n",
       "    }\n",
       "\n",
       "    .dataframe tbody tr th {\n",
       "        vertical-align: top;\n",
       "    }\n",
       "\n",
       "    .dataframe thead th {\n",
       "        text-align: right;\n",
       "    }\n",
       "</style>\n",
       "<table border=\"1\" class=\"dataframe\">\n",
       "  <thead>\n",
       "    <tr style=\"text-align: right;\">\n",
       "      <th></th>\n",
       "      <th>name</th>\n",
       "      <th>true_count</th>\n",
       "    </tr>\n",
       "  </thead>\n",
       "  <tbody>\n",
       "    <tr>\n",
       "      <th>0</th>\n",
       "      <td>Block0204_2020_06_29</td>\n",
       "      <td>0</td>\n",
       "    </tr>\n",
       "    <tr>\n",
       "      <th>1</th>\n",
       "      <td>Block0204_2020_07_01</td>\n",
       "      <td>0</td>\n",
       "    </tr>\n",
       "    <tr>\n",
       "      <th>2</th>\n",
       "      <td>Block0204_2020_07_02</td>\n",
       "      <td>0</td>\n",
       "    </tr>\n",
       "    <tr>\n",
       "      <th>3</th>\n",
       "      <td>Block0204_2020_07_06</td>\n",
       "      <td>0</td>\n",
       "    </tr>\n",
       "    <tr>\n",
       "      <th>0</th>\n",
       "      <td>Block0204_2020_07_07</td>\n",
       "      <td>2</td>\n",
       "    </tr>\n",
       "  </tbody>\n",
       "</table>\n",
       "</div>"
      ],
      "text/plain": [
       "                   name  true_count\n",
       "0  Block0204_2020_06_29           0\n",
       "1  Block0204_2020_07_01           0\n",
       "2  Block0204_2020_07_02           0\n",
       "3  Block0204_2020_07_06           0\n",
       "0  Block0204_2020_07_07           2"
      ]
     },
     "execution_count": 19,
     "metadata": {},
     "output_type": "execute_result"
    }
   ],
   "source": [
    "final_valid_true_counts.head()"
   ]
  },
  {
   "cell_type": "code",
   "execution_count": 20,
   "id": "3acd7883-ee85-4df4-ba05-d01cdeba3c63",
   "metadata": {},
   "outputs": [
    {
     "data": {
      "text/plain": [
       "(32, 2)"
      ]
     },
     "execution_count": 20,
     "metadata": {},
     "output_type": "execute_result"
    }
   ],
   "source": [
    "final_valid_true_counts.shape"
   ]
  },
  {
   "cell_type": "code",
   "execution_count": 21,
   "id": "15043a30-cc09-4d3f-bdc9-d6030b91b190",
   "metadata": {},
   "outputs": [],
   "source": [
    "# verify these counts are correct from the stored density maps"
   ]
  },
  {
   "cell_type": "code",
   "execution_count": 22,
   "id": "0cb04e2c-07ef-4fd7-a375-bc86fabb4c68",
   "metadata": {},
   "outputs": [],
   "source": [
    "# location of validation density maps\n",
    "valid_maps_location = 'Preprocessed_valid_data/all_img_density_files/'"
   ]
  },
  {
   "cell_type": "code",
   "execution_count": 23,
   "id": "f115914c-168f-4309-9ce7-6c52d93d4b4c",
   "metadata": {},
   "outputs": [],
   "source": [
    "contents_here = os.listdir(valid_maps_location)\n",
    "contents_here.sort()"
   ]
  },
  {
   "cell_type": "code",
   "execution_count": 24,
   "id": "01536fff-987c-44da-ba3e-fceef8c409df",
   "metadata": {},
   "outputs": [
    {
     "data": {
      "text/plain": [
       "64"
      ]
     },
     "execution_count": 24,
     "metadata": {},
     "output_type": "execute_result"
    }
   ],
   "source": [
    "len(contents_here)"
   ]
  },
  {
   "cell_type": "code",
   "execution_count": 25,
   "id": "7cf97abc-6889-4a12-992e-234a74f3dc4a",
   "metadata": {},
   "outputs": [],
   "source": [
    "# get only the counts maps\n",
    "valid_count_maps = [file for file in contents_here if file.split('.')[0][-3:] == 'map']"
   ]
  },
  {
   "cell_type": "code",
   "execution_count": 26,
   "id": "41880537-4237-4136-a274-545ee2104bda",
   "metadata": {},
   "outputs": [
    {
     "name": "stdout",
     "output_type": "stream",
     "text": [
      "CPU times: user 41 ms, sys: 85.2 ms, total: 126 ms\n",
      "Wall time: 380 ms\n"
     ]
    }
   ],
   "source": [
    "%%time\n",
    "final_true_counts_npy = []\n",
    "for item in valid_count_maps:\n",
    "    loaded_file = np.load(os.path.join(valid_maps_location, item))\n",
    "    sum_file = np.sum(loaded_file)\n",
    "    final_true_counts_npy.append(int(np.round(sum_file)))"
   ]
  },
  {
   "cell_type": "code",
   "execution_count": 27,
   "id": "919e0992-b7fb-4d89-aee1-24c70562ee59",
   "metadata": {},
   "outputs": [],
   "source": [
    "# final_true_counts_npy"
   ]
  },
  {
   "cell_type": "code",
   "execution_count": 28,
   "id": "c29bacf0-7db0-4b58-9c07-041659dbaee2",
   "metadata": {},
   "outputs": [
    {
     "data": {
      "text/plain": [
       "1.0"
      ]
     },
     "execution_count": 28,
     "metadata": {},
     "output_type": "execute_result"
    }
   ],
   "source": [
    "np.mean(final_true_counts_npy == list(final_valid_true_counts['true_count']))"
   ]
  }
 ],
 "metadata": {
  "kernelspec": {
   "display_name": "Python (tf_with_py38_gpu_29)",
   "language": "python",
   "name": "tf_with_py38_gpu_29"
  },
  "language_info": {
   "codemirror_mode": {
    "name": "ipython",
    "version": 3
   },
   "file_extension": ".py",
   "mimetype": "text/x-python",
   "name": "python",
   "nbconvert_exporter": "python",
   "pygments_lexer": "ipython3",
   "version": "3.8.13"
  }
 },
 "nbformat": 4,
 "nbformat_minor": 5
}
