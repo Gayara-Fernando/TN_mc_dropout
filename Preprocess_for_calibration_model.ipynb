{
 "cells": [
  {
   "cell_type": "markdown",
   "id": "ce1b3fa2-f1f1-4c52-ba54-5fd9d95e1731",
   "metadata": {},
   "source": [
    "We need to arange the validation data similar to that of test data for the calibration model."
   ]
  },
  {
   "cell_type": "code",
   "execution_count": 1,
   "id": "5494960e-a4b9-401f-afb2-7784e733ef91",
   "metadata": {},
   "outputs": [],
   "source": [
    "import pandas as pd\n",
    "import numpy as np\n",
    "import matplotlib.pyplot as plt\n",
    "import tensorflow as tf\n",
    "import xml\n",
    "import xml.etree.ElementTree as ET\n",
    "import cv2\n",
    "import math\n",
    "import warnings\n",
    "from skimage.transform import resize\n",
    "import os\n",
    "from scipy import ndimage\n",
    "import shutil"
   ]
  },
  {
   "cell_type": "code",
   "execution_count": 2,
   "id": "4d885667-0f4c-4794-82cc-67b190ea7f22",
   "metadata": {},
   "outputs": [
    {
     "data": {
      "text/plain": [
       "[PhysicalDevice(name='/physical_device:GPU:0', device_type='GPU')]"
      ]
     },
     "execution_count": 2,
     "metadata": {},
     "output_type": "execute_result"
    }
   ],
   "source": [
    "tf.config.list_physical_devices(\"GPU\")"
   ]
  },
  {
   "cell_type": "code",
   "execution_count": 3,
   "id": "a933747f-cf4e-4003-af7f-f479b3edaeb6",
   "metadata": {},
   "outputs": [],
   "source": [
    "def create_subwindows_and_counts(image, numpy_folder, stride = 8, kernel_size = 32):\n",
    "    im_name = image.split(\".\")[0]\n",
    "    im_file = im_name + '.npy'\n",
    "    count_file = im_name + '_density_map.npy'\n",
    "    # load the image and the count numpy files\n",
    "    loaded_im_file = np.load(numpy_folder + '/' + im_file)\n",
    "    loaded_count_file = np.load(numpy_folder + '/' + count_file)\n",
    "        \n",
    "    # create the subwindows and counts as follows\n",
    "    img_height = loaded_im_file.shape[0]\n",
    "    img_width = loaded_im_file.shape[1]\n",
    "    \n",
    "    density_sums = []\n",
    "    catch_image = []\n",
    "    for i in  range(0, img_height, stride):\n",
    "        for j in range(0, img_width, stride):\n",
    "            sub_window = loaded_im_file[i: i + kernel_size, j : j + kernel_size,:]\n",
    "            density = loaded_count_file[i: i + kernel_size, j : j + kernel_size]\n",
    "            dense_sum = np.sum(density)\n",
    "            density_sums.append(dense_sum)\n",
    "            sub_window = resize(sub_window, (32, 32,3))\n",
    "            catch_image.append(sub_window)\n",
    "\n",
    "    # save the combined subwindows and counts\n",
    "    return(catch_image,density_sums, im_file)"
   ]
  },
  {
   "cell_type": "code",
   "execution_count": 4,
   "id": "2bfef4aa-21de-4160-8dbf-c2888815d1e3",
   "metadata": {},
   "outputs": [],
   "source": [
    "# we have the density files and the image files as npy files for validation data stored at Preprocessed_valid_data/all_img_density_files/\n",
    "# let's use those and create the stackers. "
   ]
  },
  {
   "cell_type": "code",
   "execution_count": 5,
   "id": "3b7e48c1-34ce-4bc9-9207-f04711fd9e15",
   "metadata": {},
   "outputs": [],
   "source": [
    "# image and desnity file location for validation data\n",
    "valid_file_location = 'Preprocessed_valid_data/all_img_density_files'"
   ]
  },
  {
   "cell_type": "code",
   "execution_count": 6,
   "id": "617e78d8-1ad3-40f7-934c-966dbdc91bb8",
   "metadata": {},
   "outputs": [],
   "source": [
    "# contents at this location, and there shapes?\n",
    "all_valid_files = os.listdir(valid_file_location)\n",
    "all_valid_files.sort()"
   ]
  },
  {
   "cell_type": "code",
   "execution_count": 7,
   "id": "e798aa3f-28f7-42bb-ba58-e18bb69546cf",
   "metadata": {},
   "outputs": [
    {
     "name": "stdout",
     "output_type": "stream",
     "text": [
      "(1024, 768, 3)\n",
      "(1024, 768)\n",
      "(1024, 768, 3)\n",
      "(1024, 768)\n",
      "(1024, 768, 3)\n",
      "(1024, 768)\n",
      "(1024, 768, 3)\n",
      "(1024, 768)\n",
      "(1024, 768, 3)\n",
      "(1024, 768)\n",
      "(1024, 768, 3)\n",
      "(1024, 768)\n",
      "(1024, 768, 3)\n",
      "(1024, 768)\n",
      "(1024, 768, 3)\n",
      "(1024, 768)\n",
      "(1024, 768, 3)\n",
      "(1024, 768)\n",
      "(1024, 768, 3)\n",
      "(1024, 768)\n",
      "(1024, 768, 3)\n",
      "(1024, 768)\n",
      "(1024, 768, 3)\n",
      "(1024, 768)\n",
      "(768, 1024, 3)\n",
      "(768, 1024)\n",
      "(768, 1024, 3)\n",
      "(768, 1024)\n",
      "(768, 1024, 3)\n",
      "(768, 1024)\n",
      "(768, 1024, 3)\n",
      "(768, 1024)\n",
      "(768, 1024, 3)\n",
      "(768, 1024)\n",
      "(768, 1024, 3)\n",
      "(768, 1024)\n",
      "(768, 1024, 3)\n",
      "(768, 1024)\n",
      "(768, 1024, 3)\n",
      "(768, 1024)\n",
      "(768, 1024, 3)\n",
      "(768, 1024)\n",
      "(768, 1024, 3)\n",
      "(768, 1024)\n",
      "(768, 1024, 3)\n",
      "(768, 1024)\n",
      "(768, 1024, 3)\n",
      "(768, 1024)\n",
      "(768, 1024, 3)\n",
      "(768, 1024)\n",
      "(768, 1024, 3)\n",
      "(768, 1024)\n",
      "(768, 1024, 3)\n",
      "(768, 1024)\n",
      "(768, 1024, 3)\n",
      "(768, 1024)\n",
      "(768, 1024, 3)\n",
      "(768, 1024)\n",
      "(768, 1024, 3)\n",
      "(768, 1024)\n",
      "(768, 1024, 3)\n",
      "(768, 1024)\n",
      "(768, 1024, 3)\n",
      "(768, 1024)\n"
     ]
    }
   ],
   "source": [
    "for file in all_valid_files:\n",
    "    loaded_file = np.load(os.path.join(valid_file_location, file))\n",
    "    print(loaded_file.shape)"
   ]
  },
  {
   "cell_type": "code",
   "execution_count": 8,
   "id": "eadbacdd-8127-4a0b-ab8d-2bf76eecd986",
   "metadata": {},
   "outputs": [],
   "source": [
    "# get only the images and not the maps\n",
    "valid_im_names = [item for item in all_valid_files if item.split(\".\")[0][-3:] != 'map']"
   ]
  },
  {
   "cell_type": "code",
   "execution_count": 9,
   "id": "89bd087f-0fb9-4333-822d-0315a8913ff2",
   "metadata": {},
   "outputs": [
    {
     "data": {
      "text/plain": [
       "32"
      ]
     },
     "execution_count": 9,
     "metadata": {},
     "output_type": "execute_result"
    }
   ],
   "source": [
    "# check the count\n",
    "len(valid_im_names)"
   ]
  },
  {
   "cell_type": "code",
   "execution_count": 10,
   "id": "137454d8-8e66-491a-a8a4-d31cd02572c9",
   "metadata": {},
   "outputs": [
    {
     "name": "stdout",
     "output_type": "stream",
     "text": [
      "Block0204_2020_06_29.npy (12288, 32, 32, 3) (12288,)\n",
      "Block0204_2020_07_01.npy (12288, 32, 32, 3) (12288,)\n",
      "Block0204_2020_07_02.npy (12288, 32, 32, 3) (12288,)\n",
      "Block0204_2020_07_06.npy (12288, 32, 32, 3) (12288,)\n",
      "Block0204_2020_07_07.npy (12288, 32, 32, 3) (12288,)\n",
      "Block0204_2020_07_08.npy (12288, 32, 32, 3) (12288,)\n",
      "Block0204_2020_07_14.npy (12288, 32, 32, 3) (12288,)\n",
      "Block0204_2020_07_16.npy (12288, 32, 32, 3) (12288,)\n",
      "Block0204_2020_07_17.npy (12288, 32, 32, 3) (12288,)\n",
      "Block0204_2020_07_20.npy (12288, 32, 32, 3) (12288,)\n",
      "Block0204_2020_07_22.npy (12288, 32, 32, 3) (12288,)\n",
      "Block0204_2020_07_23.npy (12288, 32, 32, 3) (12288,)\n",
      "Block0204_2020_08_03.npy (12288, 32, 32, 3) (12288,)\n",
      "Block0204_2020_08_04.npy (12288, 32, 32, 3) (12288,)\n",
      "Block0204_2020_08_06.npy (12288, 32, 32, 3) (12288,)\n",
      "Block0204_2020_08_07.npy (12288, 32, 32, 3) (12288,)\n",
      "Block0204_2020_08_11.npy (12288, 32, 32, 3) (12288,)\n",
      "Block0204_2020_08_12.npy (12288, 32, 32, 3) (12288,)\n",
      "Block0204_2020_08_14.npy (12288, 32, 32, 3) (12288,)\n",
      "Block0204_2020_08_15.npy (12288, 32, 32, 3) (12288,)\n",
      "Block0204_2020_08_17.npy (12288, 32, 32, 3) (12288,)\n",
      "Block0204_2020_08_18.npy (12288, 32, 32, 3) (12288,)\n",
      "Block0204_2020_08_19.npy (12288, 32, 32, 3) (12288,)\n",
      "Block0204_2020_08_21.npy (12288, 32, 32, 3) (12288,)\n",
      "Block0204_2020_08_25.npy (12288, 32, 32, 3) (12288,)\n",
      "Block0204_2020_08_26.npy (12288, 32, 32, 3) (12288,)\n",
      "Block0204_2020_08_27.npy (12288, 32, 32, 3) (12288,)\n",
      "Block0204_2020_08_28.npy (12288, 32, 32, 3) (12288,)\n",
      "Block0204_2020_08_31.npy (12288, 32, 32, 3) (12288,)\n",
      "Block0204_2020_09_02.npy (12288, 32, 32, 3) (12288,)\n",
      "Block0204_2020_09_07.npy (12288, 32, 32, 3) (12288,)\n",
      "Block0204_2020_09_16.npy (12288, 32, 32, 3) (12288,)\n",
      "CPU times: user 2min 5s, sys: 7.34 s, total: 2min 12s\n",
      "Wall time: 2min 31s\n"
     ]
    }
   ],
   "source": [
    "%%time\n",
    "# get the subwindows and counts for test data\n",
    "\n",
    "im_names = []\n",
    "for image in valid_im_names:\n",
    "    val_ims, val_maps, val_names = create_subwindows_and_counts(image, valid_file_location, stride = 8, kernel_size = 32)\n",
    "    val_im_array = np.array(val_ims)\n",
    "    val_map_array = np.array(val_maps)\n",
    "    print(image, val_im_array.shape, val_map_array.shape)\n",
    "    # save the arrays\n",
    "    # image stack\n",
    "    save_path = 'final_valid_sub_windows_and_counts/Block_24'\n",
    "    np.save(save_path + '/' + 'val_ims_' + image, val_im_array)\n",
    "    # count stack\n",
    "    np.save(save_path + '/' + 'val_counts_' + image, val_im_array)\n",
    "    im_names.append(val_names)"
   ]
  }
 ],
 "metadata": {
  "kernelspec": {
   "display_name": "Python (tf_with_py38_gpu_29)",
   "language": "python",
   "name": "tf_with_py38_gpu_29"
  },
  "language_info": {
   "codemirror_mode": {
    "name": "ipython",
    "version": 3
   },
   "file_extension": ".py",
   "mimetype": "text/x-python",
   "name": "python",
   "nbconvert_exporter": "python",
   "pygments_lexer": "ipython3",
   "version": "3.8.13"
  }
 },
 "nbformat": 4,
 "nbformat_minor": 5
}
