{
 "cells": [
  {
   "cell_type": "code",
   "execution_count": null,
   "id": "9d78280a-341c-44a1-930e-50549c44b716",
   "metadata": {},
   "outputs": [],
   "source": [
    "import pandas as pd\n",
    "import numpy as np\n",
    "import matplotlib.pyplot as plt\n",
    "import tensorflow as tf\n",
    "import xml\n",
    "import xml.etree.ElementTree as ET\n",
    "import cv2\n",
    "import math\n",
    "import warnings\n",
    "from skimage.transform import resize\n",
    "import os\n",
    "from scipy import ndimage\n",
    "import shutil"
   ]
  },
  {
   "cell_type": "code",
   "execution_count": null,
   "id": "8c4f2ebf-03b2-4f51-a0ea-37d352ac3e29",
   "metadata": {},
   "outputs": [],
   "source": [
    "# see if the noetbook accesses the GPU\n",
    "tf.config.list_physical_devices(\"GPU\")"
   ]
  },
  {
   "cell_type": "markdown",
   "id": "d0e7ebef-d747-45b1-ba06-efe4786cba26",
   "metadata": {},
   "source": [
    "##### Preprocessing for train data"
   ]
  },
  {
   "cell_type": "code",
   "execution_count": null,
   "id": "f30b5e28-30f3-4f26-9054-015e11237ba4",
   "metadata": {},
   "outputs": [],
   "source": [
    "# Train data locations\n",
    "block_0101 = '../Block_1_TN/Block_1_images_and_xml'\n",
    "block_0102 = '../Block_2_TN/Block_2_images_and_xml'\n",
    "block_0203 = '../Block_9_TN/Block_9_images_and_xml'\n",
    "block_0301 = '../Block_13_TN/Block_13_images_and_xml'\n",
    "\n",
    "train_blocks = [block_0101, block_0102, block_0203, block_0301]\n",
    "\n",
    "# valid data location\n",
    "block_0204 = '../Block_10_TN/Block_10_images_and_xml'\n",
    "\n",
    "valid_blocks = [block_0204]\n",
    "\n",
    "\n",
    "# test data location\n",
    "block_0103 = '../Block_3_TN/Block_3_images_and_xml'\n",
    "block_0104 = '../Block_4_TN/Block_4_images_and_xml'\n",
    "block_0105 = '../Block_5_TN/Block_5_images_and_xml'\n",
    "block_0106 = '../Block_6_TN/Block_6_images_and_xml'\n",
    "block_0201 = '../Block_7_TN/Block_7_images_and_xml'\n",
    "block_0202 = '../Block_8_TN/Block_8_images_and_xml'\n",
    "block_0205 = '../Block_11_TN/Block_11_images_and_xml'\n",
    "block_0206 = '../Block_12_TN/Block_12_images_and_xml'\n",
    "block_0302 = '../Block_14_TN/Block_14_images_and_xml'\n",
    "block_0303 = '../Block_15_TN/Block_15_images_and_xml'\n",
    "block_0304 = '../Block_16_TN/Block_16_images_and_xml'\n",
    "block_0305 = '../Block_17_TN/Block_17_images_and_xml'\n",
    "block_0306 = '../Block_18_TN/Block_18_images_and_xml'\n",
    "\n",
    "test_blocks = [block_0103, block_0104, block_0105, block_0106, block_0201, block_0202, block_0205, block_0206, block_0302, block_0303, block_0304, block_0305, block_0306]"
   ]
  },
  {
   "cell_type": "code",
   "execution_count": null,
   "id": "8a9ca57a-c369-4319-acc2-13304fa751f6",
   "metadata": {},
   "outputs": [],
   "source": [
    "# list all the image and the xml files for the train data\n",
    "all_train_contents = []\n",
    "for item in train_blocks:\n",
    "    block_contents = os.listdir(item)\n",
    "    block_contents.sort()\n",
    "    all_train_contents.append(block_contents)"
   ]
  },
  {
   "cell_type": "code",
   "execution_count": null,
   "id": "21ede6e8-4456-44b8-b11c-e70649415dd5",
   "metadata": {},
   "outputs": [],
   "source": [
    "# all_train_contents"
   ]
  },
  {
   "cell_type": "code",
   "execution_count": null,
   "id": "d1266286-a8ae-42ef-b8ce-7ac6b3383c98",
   "metadata": {},
   "outputs": [],
   "source": [
    "# need to separate the image and the xml files - define a function\n",
    "def separate_img_xml(content_list):\n",
    "    image_files = []\n",
    "    xml_files = []\n",
    "    for file in content_list:\n",
    "        if file.split(\".\")[-1] == 'jpeg':\n",
    "            image_files.append(file)\n",
    "            image_files.sort()\n",
    "        else:\n",
    "            xml_files.append(file)\n",
    "            xml_files.sort()\n",
    "    return(image_files, xml_files)"
   ]
  },
  {
   "cell_type": "code",
   "execution_count": null,
   "id": "d92f3a48-8073-4e1a-a764-83e143c6baf2",
   "metadata": {},
   "outputs": [],
   "source": [
    "img_files_11, xml_files_11 = separate_img_xml(all_train_contents[0])\n",
    "img_files_12, xml_files_12 = separate_img_xml(all_train_contents[1])\n",
    "img_files_23, xml_files_23 = separate_img_xml(all_train_contents[2])\n",
    "img_files_31, xml_files_31 = separate_img_xml(all_train_contents[3])"
   ]
  },
  {
   "cell_type": "code",
   "execution_count": null,
   "id": "195d6932-0f19-4102-84bc-81701cb8a207",
   "metadata": {},
   "outputs": [],
   "source": [
    "# xml_files_31"
   ]
  },
  {
   "cell_type": "code",
   "execution_count": null,
   "id": "5b418df6-a734-45cb-b397-9687e682d0c7",
   "metadata": {},
   "outputs": [],
   "source": [
    "# separate the annotated and not annotated images\n",
    "def separate_annot_and_not(img_list, xml_list):\n",
    "    image_names = [name.split(\".\")[0] for name in xml_list]\n",
    "    annotated_images = []\n",
    "    not_annotated_images = []\n",
    "    for file in img_list:\n",
    "        if file.split('.')[0] in image_names:\n",
    "            annotated_images.append(file)\n",
    "        else:\n",
    "            not_annotated_images.append(file)\n",
    "    return(annotated_images, not_annotated_images)"
   ]
  },
  {
   "cell_type": "code",
   "execution_count": null,
   "id": "96485cba-ea74-463c-80b0-6412a7f9cf6f",
   "metadata": {},
   "outputs": [],
   "source": [
    "annot_img_11, not_annot_img_11 = separate_annot_and_not(img_files_11, xml_files_11)\n",
    "annot_img_12, not_annot_img_12 = separate_annot_and_not(img_files_12, xml_files_12)\n",
    "annot_img_23, not_annot_img_23 = separate_annot_and_not(img_files_23, xml_files_23)\n",
    "annot_img_31, not_annot_img_31 = separate_annot_and_not(img_files_31, xml_files_31)"
   ]
  },
  {
   "cell_type": "code",
   "execution_count": null,
   "id": "7ba7ed9d-1233-494b-a6d6-0e74d7cda219",
   "metadata": {},
   "outputs": [],
   "source": [
    "# separete the vertically and horizontally annotated images\n",
    "def separate_annnot_vertical_horizontal(annotated_images, all_xml_files, n):\n",
    "    annot_vertical_images = annotated_images[:n]\n",
    "    annot_vertical_xmls = all_xml_files[:n]\n",
    "    annot_horizontal_images = annotated_images[n:]\n",
    "    annot_horizontal_xmls = all_xml_files[n:]\n",
    "    return(annot_vertical_images, annot_vertical_xmls, annot_horizontal_images, annot_horizontal_xmls)"
   ]
  },
  {
   "cell_type": "code",
   "execution_count": null,
   "id": "2b3a4b44-13ae-472d-a6ff-fdd87b2e32d1",
   "metadata": {},
   "outputs": [],
   "source": [
    "annot_vertical_images_11, annot_vertical_xmls_11, annot_horizontal_images_11, annot_horizontal_xmls_11 = separate_annnot_vertical_horizontal(annot_img_11, \n",
    "                                                                                                                                             xml_files_11, 6)\n",
    "annot_vertical_images_12, annot_vertical_xmls_12, annot_horizontal_images_12, annot_horizontal_xmls_12 = separate_annnot_vertical_horizontal(annot_img_12, \n",
    "                                                                                                                                             xml_files_12, 6)\n",
    "annot_vertical_images_23, annot_vertical_xmls_23, annot_horizontal_images_23, annot_horizontal_xmls_23 = separate_annnot_vertical_horizontal(annot_img_23,\n",
    "                                                                                                                                             xml_files_23, 6)\n",
    "annot_vertical_images_31, annot_vertical_xmls_31, annot_horizontal_images_31, annot_horizontal_xmls_31 = separate_annnot_vertical_horizontal(annot_img_31, \n",
    "                                                                                                                                             xml_files_31, 6)"
   ]
  },
  {
   "cell_type": "code",
   "execution_count": null,
   "id": "dcea1d02-ea96-441c-8dd8-2255b0091d4b",
   "metadata": {},
   "outputs": [],
   "source": [
    "# check if the annotated horizontal and vertical file names match\n",
    "def check_annot(annot_vertical_images, annot_vertical_xmls, annot_horizontal_images, annot_horizontal_xmls):\n",
    "    # are the vertical image and xml files matching\n",
    "    annot_vertical = []\n",
    "    for i in range(len(annot_vertical_images)):\n",
    "        if annot_vertical_images[i].split(\".\")[0] == annot_vertical_xmls[i].split(\".\")[0]:\n",
    "            annot_vertical.append(1)\n",
    "    print(len(annot_vertical), len(annot_vertical_images))\n",
    "\n",
    "    annot_horizontal = []\n",
    "    # are the horizontally annotated images and the xml files the same?\n",
    "    for j in range(len(annot_horizontal_images)):\n",
    "        if annot_horizontal_images[i].split(\".\")[0] == annot_horizontal_xmls[i].split(\".\")[0]:\n",
    "            annot_horizontal.append(1)\n",
    "    print(len(annot_horizontal), len(annot_horizontal_images))       "
   ]
  },
  {
   "cell_type": "code",
   "execution_count": null,
   "id": "3c843da2-9351-4af5-81f3-537fc3c30fee",
   "metadata": {},
   "outputs": [],
   "source": [
    "print(check_annot(annot_vertical_images_11, annot_vertical_xmls_11, annot_horizontal_images_11, annot_horizontal_xmls_11))\n",
    "print(check_annot(annot_vertical_images_12, annot_vertical_xmls_12, annot_horizontal_images_12, annot_horizontal_xmls_12))\n",
    "print(check_annot(annot_vertical_images_23, annot_vertical_xmls_23, annot_horizontal_images_23, annot_horizontal_xmls_23))\n",
    "print(check_annot(annot_vertical_images_31, annot_vertical_xmls_31, annot_horizontal_images_31, annot_horizontal_xmls_31))"
   ]
  },
  {
   "cell_type": "code",
   "execution_count": null,
   "id": "d5ca6f3e-a578-4aed-ae48-f18df183b8e9",
   "metadata": {},
   "outputs": [],
   "source": [
    "# now store the images as npy files?\n",
    "\n",
    "# define a function to store the images as npy files - need two functions for vertical and horizontal separately - beacuse all images are read as horizontal images else.\n",
    "def store_images_as_np_arrays_vertical(img_old_path, img_name, img_store_path):\n",
    "    # join the path\n",
    "    image_path = os.path.join(img_old_path, img_name)\n",
    "    # read the image\n",
    "    read_image = plt.imread(image_path)\n",
    "    read_image = ndimage.rotate(read_image, 270)\n",
    "    image_size = read_image.shape\n",
    "    # show the image\n",
    "    plt.imshow(read_image)\n",
    "    plt.show()\n",
    "    # save the image in new location\n",
    "    np.save(img_store_path + '/' + img_name.split(\".\")[0] + '.npy', read_image)\n",
    "    return(image_size)"
   ]
  },
  {
   "cell_type": "code",
   "execution_count": null,
   "id": "0090f067-1d09-4f63-8c45-ffbd3ad579d4",
   "metadata": {},
   "outputs": [],
   "source": [
    "annot_vertical_images_11"
   ]
  },
  {
   "cell_type": "code",
   "execution_count": null,
   "id": "88d8209f-e013-42d6-9175-6675a5c990af",
   "metadata": {
    "scrolled": true
   },
   "outputs": [],
   "source": [
    "# store the vertically annotated images\n",
    "store_path = \"Images_and_dense_maps_npy_train/vertical_annotated_images\"\n",
    "\n",
    "# train_blocks = [block_0101, block_0102, block_0203, block_0301]\n",
    "# blk 11\n",
    "im_shapes_annot_vertical_11 = []\n",
    "for item in annot_vertical_images_11:\n",
    "    img_shape = store_images_as_np_arrays_vertical(block_0101, item, store_path)\n",
    "    im_shapes_annot_vertical_11.append(img_shape)\n",
    "print(\"Block 11 done!\")\n",
    "\n",
    "# blk 12\n",
    "im_shapes_annot_vertical_12 = []\n",
    "for item in annot_vertical_images_12:\n",
    "    img_shape = store_images_as_np_arrays_vertical(block_0102, item, store_path)\n",
    "    im_shapes_annot_vertical_12.append(img_shape)\n",
    "print(\"Block 12 done!\")\n",
    "\n",
    "# blk 23\n",
    "im_shapes_annot_vertical_23 = []\n",
    "for item in annot_vertical_images_23:\n",
    "    img_shape = store_images_as_np_arrays_vertical(block_0203, item, store_path)\n",
    "    im_shapes_annot_vertical_23.append(img_shape)\n",
    "print(\"Block 23 done!\")\n",
    "\n",
    "# blk 31\n",
    "im_shapes_annot_vertical_31 = []\n",
    "for item in annot_vertical_images_31:\n",
    "    img_shape = store_images_as_np_arrays_vertical(block_0301, item, store_path)\n",
    "    im_shapes_annot_vertical_31.append(img_shape)\n",
    "print(\"Block 31 done!\")"
   ]
  },
  {
   "cell_type": "code",
   "execution_count": null,
   "id": "8552d894-5db4-4947-adb7-9d695fd9154d",
   "metadata": {},
   "outputs": [],
   "source": [
    "print(im_shapes_annot_vertical_11)\n",
    "print(im_shapes_annot_vertical_12)\n",
    "print(im_shapes_annot_vertical_23)\n",
    "print(im_shapes_annot_vertical_31)"
   ]
  },
  {
   "cell_type": "code",
   "execution_count": null,
   "id": "eb461e72-c746-4baa-8b50-0a6ebac8226b",
   "metadata": {
    "scrolled": true
   },
   "outputs": [],
   "source": [
    "# store the vertically not-annotated images\n",
    "store_path = \"Images_and_dense_maps_npy_train/vertical_not_annotated_images\"\n",
    "\n",
    "# blk 11\n",
    "im_shapes_notannot_vertical_11 = []\n",
    "for item in not_annot_img_11:\n",
    "    img_shape = store_images_as_np_arrays_vertical(block_0101, item, store_path)\n",
    "    im_shapes_notannot_vertical_11.append(img_shape)\n",
    "print(\"Block 11 done!\")\n",
    "\n",
    "# blk 12\n",
    "im_shapes_notannot_vertical_12 = []\n",
    "for item in not_annot_img_12:\n",
    "    img_shape = store_images_as_np_arrays_vertical(block_0102, item, store_path)\n",
    "    im_shapes_notannot_vertical_12.append(img_shape)\n",
    "print(\"Block 12 done!\")\n",
    "\n",
    "# blk 23\n",
    "im_shapes_notannot_vertical_23 = []\n",
    "for item in not_annot_img_23:\n",
    "    img_shape = store_images_as_np_arrays_vertical(block_0203, item, store_path)\n",
    "    im_shapes_notannot_vertical_23.append(img_shape)\n",
    "print(\"Block 23 done!\")\n",
    "\n",
    "# blk 31 - the first image needs to be rotated here\n",
    "im_shapes_notannot_vertical_31 = []\n",
    "for item in not_annot_img_31[1:]:\n",
    "    img_shape = store_images_as_np_arrays_vertical(block_0301, item, store_path)\n",
    "    im_shapes_notannot_vertical_31.append(img_shape)\n",
    "print(\"Block 31 done!\")"
   ]
  },
  {
   "cell_type": "code",
   "execution_count": null,
   "id": "06ab2594-137c-4fa3-86f4-bd6e04def0d9",
   "metadata": {},
   "outputs": [],
   "source": [
    "# save the outlier image in block 31 - the first vertical na image\n",
    "def store_images_as_np_arrays_vertical_outlier(img_old_path, img_name, img_store_path):\n",
    "    # join the path\n",
    "    image_path = os.path.join(img_old_path, img_name)\n",
    "    # read the image\n",
    "    read_image = plt.imread(image_path)\n",
    "    read_image = ndimage.rotate(read_image, 90)\n",
    "    image_size = read_image.shape\n",
    "    # show the image\n",
    "    plt.imshow(read_image)\n",
    "    plt.show()\n",
    "    # save the image in new location\n",
    "    np.save(img_store_path + '/' + img_name.split(\".\")[0] + '.npy', read_image)\n",
    "    return(image_size)"
   ]
  },
  {
   "cell_type": "code",
   "execution_count": null,
   "id": "6d7e69c8-c516-4d9f-8d61-855e2062744d",
   "metadata": {},
   "outputs": [],
   "source": [
    "img_shape_na_0_31 = store_images_as_np_arrays_vertical_outlier(block_0301, not_annot_img_31[0], store_path)"
   ]
  },
  {
   "cell_type": "code",
   "execution_count": null,
   "id": "c2a56226-b01d-4e13-8de5-26ca6f0069b0",
   "metadata": {},
   "outputs": [],
   "source": [
    "# define a function to store horizontal images\n",
    "def store_images_as_np_arrays_horizontal(img_old_path, img_name, img_store_path):\n",
    "    # join the path\n",
    "    image_path = os.path.join(img_old_path, img_name)\n",
    "    # read the image\n",
    "    read_image = plt.imread(image_path)\n",
    "    image_size = read_image.shape\n",
    "    # show the image\n",
    "    plt.imshow(read_image)\n",
    "    plt.show()\n",
    "    # save the image in new location\n",
    "    np.save(img_store_path + '/' + img_name.split(\".\")[0] + '.npy', read_image)\n",
    "    return(image_size)"
   ]
  },
  {
   "cell_type": "code",
   "execution_count": null,
   "id": "645c3c18-2922-4a1c-b03a-96c14c58b69d",
   "metadata": {
    "scrolled": true
   },
   "outputs": [],
   "source": [
    "# store the horizontally annotated images\n",
    "store_path = \"Images_and_dense_maps_npy_train/horizontal_annotated_images\"\n",
    "\n",
    "# blk 11 - the first horizontal image has a problem, needs to be rotated\n",
    "im_shapes_annot_horizontal_11 = []\n",
    "for item in annot_horizontal_images_11:\n",
    "    img_shape = store_images_as_np_arrays_horizontal(block_0101, item, store_path)\n",
    "    im_shapes_annot_horizontal_11.append(img_shape)\n",
    "print(\"Block 11 done!\")\n",
    "\n",
    "# blk 12\n",
    "im_shapes_annot_horizontal_12 = []\n",
    "for item in annot_horizontal_images_12:\n",
    "    img_shape = store_images_as_np_arrays_horizontal(block_0102, item, store_path)\n",
    "    im_shapes_annot_horizontal_12.append(img_shape)\n",
    "print(\"Block 12 done!\")\n",
    "\n",
    "# blk 23\n",
    "im_shapes_annot_horizontal_23 = []\n",
    "for item in annot_horizontal_images_23:\n",
    "    img_shape = store_images_as_np_arrays_horizontal(block_0203, item, store_path)\n",
    "    im_shapes_annot_horizontal_23.append(img_shape)\n",
    "print(\"Block 23 done!\")\n",
    "\n",
    "# blk 31\n",
    "im_shapes_annot_horizontal_31 = []\n",
    "for item in annot_horizontal_images_31:\n",
    "    img_shape = store_images_as_np_arrays_horizontal(block_0301, item, store_path)\n",
    "    im_shapes_annot_horizontal_31.append(img_shape)\n",
    "print(\"Block 31 done!\")"
   ]
  },
  {
   "cell_type": "markdown",
   "id": "8e7cd94a-418b-4999-871e-b07311ed697b",
   "metadata": {},
   "source": [
    "create density maps"
   ]
  },
  {
   "cell_type": "code",
   "execution_count": null,
   "id": "a425dc68-eca0-473d-a1d5-216c85dfe778",
   "metadata": {},
   "outputs": [],
   "source": [
    "# maybe copy all the xml files corresponding to the train data into a single location? That would be easier with data prep I believe\n",
    "# train_blocks\n",
    "# train_blocks = [block_0101, block_0102, block_0203, block_0301]\n",
    "new_store_path = 'train_xml_files'\n",
    "# blk 11\n",
    "for file in xml_files_11:\n",
    "    joined_path = os.path.join(block_0101, file)\n",
    "    # store the file in new path\n",
    "    shutil.copy(joined_path, new_store_path)\n",
    "\n",
    "# blk 12\n",
    "for file in xml_files_12:\n",
    "    joined_path = os.path.join(block_0102, file)\n",
    "    # store the file in new path\n",
    "    shutil.copy(joined_path, new_store_path)\n",
    "\n",
    "# blk 23\n",
    "for file in xml_files_23:\n",
    "    joined_path = os.path.join(block_0203, file)\n",
    "    # store the file in new path\n",
    "    shutil.copy(joined_path, new_store_path)\n",
    "\n",
    "# blk 31\n",
    "for file in xml_files_31:\n",
    "    joined_path = os.path.join(block_0301, file)\n",
    "    # store the file in new path\n",
    "    shutil.copy(joined_path, new_store_path)"
   ]
  },
  {
   "cell_type": "code",
   "execution_count": null,
   "id": "50f39c45-1108-47bb-9c80-abe05b44a142",
   "metadata": {},
   "outputs": [],
   "source": [
    "# for vertically annotated images\n",
    "def get_density_maps_vertical(file_name, image_path, xml_path, save_density_path):\n",
    "    xml_file = file_name + '.xml'\n",
    "    xml_file_path = os.path.join(xml_path, xml_file)\n",
    "\n",
    "    # Get coords from the xml file\n",
    "    # parse the xml file\n",
    "    parsed_file = ET.parse(xml_file_path)\n",
    "    # get the roots\n",
    "    root = parsed_file.getroot()\n",
    "    # get the roots here\n",
    "    coords = []\n",
    "    for child in root:\n",
    "        for i in child:\n",
    "            for j in i:\n",
    "                coords.append(int(j.text))\n",
    "    \n",
    "    # chunk the points into sets of 4 - these are the coordinates of the bounding boxes\n",
    "    points_tupples = []\n",
    "    for i in range(0, len(coords), 4):\n",
    "        points_tupples.append(coords[i:i + 4])\n",
    "\n",
    "    # make a dataframe with these points\n",
    "    coords_df = pd.DataFrame(points_tupples, columns = [\"bleft_x\", \"bleft_y\", \"tright_x\", \"tright_y\"])\n",
    "\n",
    "    # compute the number of tassels in each image\n",
    "    no_of_tassels = len(points_tupples)\n",
    "\n",
    "    # compute the mid coordinates\n",
    "    coords_df[\"mid_x\"] = (round(0.5*(coords_df[\"bleft_x\"] + coords_df[\"tright_x\"]))).astype(int)\n",
    "    coords_df[\"mid_y\"] = (round(0.5*(coords_df[\"bleft_y\"] + coords_df[\"tright_y\"]))).astype(int)\n",
    "\n",
    "    # extract the mid cordinates\n",
    "    mid_coords = coords_df[[\"mid_x\", \"mid_y\"]]\n",
    "    warnings.filterwarnings(\"ignore\")\n",
    "    # cap the coords at the max height and width values\n",
    "    mid_coords.loc[mid_coords['mid_x'] > 768, 'mid_x'] = 767\n",
    "    mid_coords.loc[mid_coords['mid_y'] > 1024, 'mid_y'] = 1023\n",
    "    \n",
    "\n",
    "    # plot the bounding boxes on images\n",
    "    # get image name and path\n",
    "    image_name = file_name + '.npy'\n",
    "    imge_file_path = os.path.join(image_path, image_name)\n",
    "    # read the image\n",
    "    read_image = np.load(imge_file_path)\n",
    "\n",
    "    # check the shape of the read image\n",
    "    read_image_shape = read_image.shape\n",
    "    #  plot the bounding boxes on the image\n",
    "    for points in points_tupples:\n",
    "        annotated_image = cv2.rectangle(read_image, (points[0],points[1]), (points[2],points[3]), color = (255,0,0), thickness = 2)\n",
    "    # plt.figure(figsize = (12,18))\n",
    "    plt.imshow(annotated_image)\n",
    "    plt.show()\n",
    "\n",
    "    # plot the mid points on the image\n",
    "    coords_list = mid_coords.values.tolist()\n",
    "    # read the image again\n",
    "    read_image_again = np.load(imge_file_path)\n",
    "    # read_image_again = ndimage.rotate(read_image_again, 270)\n",
    "    # draw the circles on image\n",
    "    for i in coords_list:\n",
    "        image_with_mids = cv2.circle(read_image_again, i, radius=5, color=(255, 0, 0), thickness=-1)\n",
    "    # look at the annotated image\n",
    "    # plt.figure(figsize = (12,18))\n",
    "    plt.imshow(image_with_mids)\n",
    "    plt.show()\n",
    "\n",
    "    # also try creating the density map here\n",
    "    # first create the empty maps\n",
    "    np_image = np.zeros((read_image_shape[0], read_image_shape[1]))\n",
    "    # get the dot maps\n",
    "    for point in coords_list:\n",
    "        np_image[point[1], point[0]] = 1\n",
    "    # plot the image\n",
    "    # plt.figure(figsize = (12,18))\n",
    "    plt.imshow(np_image, cmap = \"Greys\")\n",
    "    plt.show()\n",
    "\n",
    "    # now define the kernel and run the convolution\n",
    "    one_d_kerenel = cv2.getGaussianKernel(50,5)\n",
    "    two_d_kernel = np.multiply(one_d_kerenel.T, one_d_kerenel)\n",
    "\n",
    "    # Shape of the 2D kernel\n",
    "    twoD_shape = two_d_kernel.shape\n",
    "        \n",
    "    # do the convolution\n",
    "    convolution = ndimage.convolve(np_image, two_d_kernel)\n",
    "        \n",
    "    # plot the density map\n",
    "    # plt.figure(figsize = (12,18))\n",
    "    plt.imshow(convolution, cmap = \"Greys\")\n",
    "    plt.show()\n",
    "        \n",
    "    # get the sums of the images\n",
    "    img_sum = np.sum(convolution)\n",
    "\n",
    "    # save the density map\n",
    "    np.save(save_density_path + '/' + file_name + '_density_map.npy', convolution)\n",
    "\n",
    "    return(file_name, read_image_shape, no_of_tassels, img_sum, convolution)"
   ]
  },
  {
   "cell_type": "code",
   "execution_count": null,
   "id": "71d109a6-05d2-4b33-b7ed-ef903707eed4",
   "metadata": {},
   "outputs": [],
   "source": [
    "# get the outputs from this function\n",
    "image_path = \"Images_and_dense_maps_npy_train/vertical_annotated_images/\"\n",
    "xml_path = 'train_xml_files'\n",
    "save_density_path = image_path"
   ]
  },
  {
   "cell_type": "code",
   "execution_count": null,
   "id": "36266e95-8610-471a-86dd-3bbeff31efe2",
   "metadata": {},
   "outputs": [],
   "source": [
    "file_names_v = [file.split(\".\")[0] for file in os.listdir(image_path) if file.split(\".\")[0][-3:] != 'map']\n",
    "file_names_v.sort()"
   ]
  },
  {
   "cell_type": "code",
   "execution_count": null,
   "id": "393bfafc-82ee-4ae2-ae4e-27f9368bac4c",
   "metadata": {},
   "outputs": [],
   "source": [
    "# file_names_v"
   ]
  },
  {
   "cell_type": "code",
   "execution_count": null,
   "id": "634f04aa-2e44-437c-8baf-32d3c9a5824d",
   "metadata": {
    "scrolled": true
   },
   "outputs": [],
   "source": [
    "%%time\n",
    "names_all_va = []\n",
    "shapes_all_va = []\n",
    "tasselCounts_all_va = []\n",
    "tasselDensities_all_va = []\n",
    "dense_maps_all_va = []\n",
    "for file_name in file_names_v:\n",
    "    name_va, shape_va, tassels_va, tassel_dense_va, dense_map_va = get_density_maps_vertical(file_name, image_path, xml_path, save_density_path)\n",
    "    names_all_va.append(name_va)\n",
    "    shapes_all_va.append(shape_va)\n",
    "    tasselCounts_all_va.append(tassels_va)\n",
    "    tasselDensities_all_va.append(tassel_dense_va)\n",
    "    dense_maps_all_va.append(dense_map_va)"
   ]
  },
  {
   "cell_type": "code",
   "execution_count": null,
   "id": "f5783a63-9135-4962-8da5-ab7582175d20",
   "metadata": {},
   "outputs": [],
   "source": [
    "# a few sanity checks\n",
    "np.mean(tasselCounts_all_va == np.round(tasselDensities_all_va))"
   ]
  },
  {
   "cell_type": "code",
   "execution_count": null,
   "id": "571c7545-f843-4047-a7a9-db820443539a",
   "metadata": {},
   "outputs": [],
   "source": [
    "# create a dataframe of the true counts\n",
    "True_tasselcounts_df_vertical_annot = pd.DataFrame(zip(names_all_va, tasselCounts_all_va), columns = ['name', 'true_count'])"
   ]
  },
  {
   "cell_type": "code",
   "execution_count": null,
   "id": "57f687b3-bbd0-45c6-a617-543f8e5ae2c3",
   "metadata": {},
   "outputs": [],
   "source": [
    "True_tasselcounts_df_vertical_annot.shape"
   ]
  },
  {
   "cell_type": "code",
   "execution_count": null,
   "id": "68fb07e3-b2c1-4dd9-ad18-6b2852744f52",
   "metadata": {},
   "outputs": [],
   "source": [
    "True_tasselcounts_df_vertical_annot.head()"
   ]
  },
  {
   "cell_type": "code",
   "execution_count": null,
   "id": "e4990771-ae1a-4d76-9832-39321f5d044a",
   "metadata": {},
   "outputs": [],
   "source": [
    "# save the true counts\n",
    "True_tasselcounts_df_vertical_annot.to_csv(\"True_tassel_counts/all_data/vertical_annotated_true_counts.csv\", index = False)"
   ]
  },
  {
   "cell_type": "code",
   "execution_count": null,
   "id": "d4e4cc8d-2bd4-4bd4-80d8-3a793849c943",
   "metadata": {},
   "outputs": [],
   "source": [
    "# create density maps for the horizontally annotated images\n",
    "def get_density_maps_horizontal(file_name, image_path, xml_path, save_density_path):\n",
    "    xml_file = file_name + '.xml'\n",
    "    xml_file_path = os.path.join(xml_path, xml_file)\n",
    "\n",
    "    # Get coords from the xml file\n",
    "    # parse the xml file\n",
    "    parsed_file = ET.parse(xml_file_path)\n",
    "    # get the roots\n",
    "    root = parsed_file.getroot()\n",
    "    # get the roots here\n",
    "    coords = []\n",
    "    for child in root:\n",
    "        for i in child:\n",
    "            for j in i:\n",
    "                coords.append(int(j.text))\n",
    "    \n",
    "    # chunk the points into sets of 4 - these are the coordinates of the bounding boxes\n",
    "    points_tupples = []\n",
    "    for i in range(0, len(coords), 4):\n",
    "        points_tupples.append(coords[i:i + 4])\n",
    "\n",
    "    # make a dataframe with these points\n",
    "    coords_df = pd.DataFrame(points_tupples, columns = [\"bleft_x\", \"bleft_y\", \"tright_x\", \"tright_y\"])\n",
    "\n",
    "    # compute the number of tassels in each image\n",
    "    no_of_tassels = len(points_tupples)\n",
    "\n",
    "    # compute the mid coordinates\n",
    "    coords_df[\"mid_x\"] = (round(0.5*(coords_df[\"bleft_x\"] + coords_df[\"tright_x\"]))).astype(int)\n",
    "    coords_df[\"mid_y\"] = (round(0.5*(coords_df[\"bleft_y\"] + coords_df[\"tright_y\"]))).astype(int)\n",
    "\n",
    "    # extract the mid cordinates\n",
    "    mid_coords = coords_df[[\"mid_x\", \"mid_y\"]]\n",
    "    # cap the coords at the max height and width values\n",
    "    mid_coords.loc[mid_coords['mid_x'] > 1024, 'mid_x'] = 1023\n",
    "    mid_coords.loc[mid_coords['mid_y'] > 768, 'mid_y'] = 767\n",
    "    warnings.filterwarnings(\"ignore\")\n",
    "\n",
    "    # plot the bounding boxes on images\n",
    "    # get image name and path\n",
    "    image_name = file_name + '.npy'\n",
    "    imge_file_path = os.path.join(image_path, image_name)\n",
    "    # read the image\n",
    "    read_image = np.load(imge_file_path)\n",
    "    # check the shape of the read image\n",
    "    read_image_shape = read_image.shape\n",
    "    #  plot the bounding boxes on the image\n",
    "    for points in points_tupples:\n",
    "        annotated_image = cv2.rectangle(read_image, (points[0],points[1]), (points[2],points[3]), color = (255,0,0), thickness = 2)\n",
    "    # plt.figure(figsize = (12,18))\n",
    "    plt.imshow(annotated_image)\n",
    "    plt.show()\n",
    "\n",
    "    # plot the mid points on the image\n",
    "    coords_list = mid_coords.values.tolist()\n",
    "    # read the image again\n",
    "    read_image_again = np.load(imge_file_path)\n",
    "    # draw the circles on image\n",
    "    for i in coords_list:\n",
    "        image_with_mids = cv2.circle(read_image_again, i, radius=5, color=(255, 0, 0), thickness=-1)\n",
    "    # look at the annotated image\n",
    "    # plt.figure(figsize = (12,18))\n",
    "    plt.imshow(image_with_mids)\n",
    "    plt.show()\n",
    "\n",
    "    # also try creating the density map here\n",
    "    # first create the empty maps\n",
    "    np_image = np.zeros((read_image_shape[0], read_image_shape[1]))\n",
    "    # get the dot maps\n",
    "    for point in coords_list:\n",
    "        np_image[point[1], point[0]] = 1\n",
    "    # plot the image\n",
    "    # plt.figure(figsize = (12,18))\n",
    "    plt.imshow(np_image, cmap = \"Greys\")\n",
    "    plt.show()\n",
    "\n",
    "    # now define the kernel and run the convolution\n",
    "    one_d_kerenel = cv2.getGaussianKernel(50,5)\n",
    "    two_d_kernel = np.multiply(one_d_kerenel.T, one_d_kerenel)\n",
    "\n",
    "    # Shape of the 2D kernel\n",
    "    twoD_shape = two_d_kernel.shape\n",
    "        \n",
    "    # do the convolution\n",
    "    convolution = ndimage.convolve(np_image, two_d_kernel)\n",
    "        \n",
    "    # plot the density map\n",
    "    # plt.figure(figsize = (12,18))\n",
    "    plt.imshow(convolution, cmap = \"Greys\")\n",
    "    plt.show()\n",
    "        \n",
    "    # get the sums of the images\n",
    "    img_sum = np.sum(convolution)\n",
    "\n",
    "    # save the density map\n",
    "    np.save(save_density_path + '/' + file_name + '_density_map.npy', convolution)\n",
    "\n",
    "    return(file_name, read_image_shape, no_of_tassels, img_sum, convolution)"
   ]
  },
  {
   "cell_type": "code",
   "execution_count": null,
   "id": "2f1b8838-3e52-44ac-8503-7d9b06533e08",
   "metadata": {},
   "outputs": [],
   "source": [
    "# get the outputs from this function\n",
    "image_path_h = \"Images_and_dense_maps_npy_train/horizontal_annotated_images/\"\n",
    "xml_path_h = 'train_xml_files'\n",
    "save_density_path_h = image_path_h"
   ]
  },
  {
   "cell_type": "code",
   "execution_count": null,
   "id": "1c91ab0d-027c-4a36-98c4-cf1b3b3f1aa6",
   "metadata": {},
   "outputs": [],
   "source": [
    "file_names_h = [file.split(\".\")[0] for file in os.listdir(image_path_h) if file.split(\".\")[0][-3:] != 'map']\n",
    "file_names_h.sort()"
   ]
  },
  {
   "cell_type": "code",
   "execution_count": null,
   "id": "767f9b20-cca1-492f-be39-84c8898eada0",
   "metadata": {
    "scrolled": true
   },
   "outputs": [],
   "source": [
    "%%time\n",
    "names_all_h = []\n",
    "shapes_all_h = []\n",
    "tasselCounts_all_h = []\n",
    "tasselDensities_all_h = []\n",
    "dense_maps_all_h = []\n",
    "for file_h in file_names_h:\n",
    "    name_h, shape_h, tassels_h, tassel_dense_h, dense_map_h = get_density_maps_horizontal(file_h, image_path_h, xml_path_h, save_density_path_h)\n",
    "    names_all_h.append(name_h)\n",
    "    shapes_all_h.append(shape_h)\n",
    "    tasselCounts_all_h.append(tassels_h)\n",
    "    tasselDensities_all_h.append(tassel_dense_h)\n",
    "    dense_maps_all_h.append(dense_map_h)"
   ]
  },
  {
   "cell_type": "code",
   "execution_count": null,
   "id": "3aeb945c-630a-4b78-b5b9-f43a8e226468",
   "metadata": {},
   "outputs": [],
   "source": [
    "# a few sanity checks\n",
    "np.mean(tasselCounts_all_h == np.round(tasselDensities_all_h))"
   ]
  },
  {
   "cell_type": "code",
   "execution_count": null,
   "id": "cac30bf6-5138-493d-afbc-f0f225e785a2",
   "metadata": {},
   "outputs": [],
   "source": [
    "# create a dataframe of the true counts\n",
    "True_tasselcounts_df_horizontal_annot = pd.DataFrame(zip(names_all_h, tasselCounts_all_h), columns = ['name', 'true_count'])"
   ]
  },
  {
   "cell_type": "code",
   "execution_count": null,
   "id": "ac5c4657-ead0-492f-80f8-e7ad977b3602",
   "metadata": {},
   "outputs": [],
   "source": [
    "True_tasselcounts_df_horizontal_annot.shape"
   ]
  },
  {
   "cell_type": "code",
   "execution_count": null,
   "id": "bddc14d1-3e6f-4d61-93a6-1be4448ca635",
   "metadata": {},
   "outputs": [],
   "source": [
    "True_tasselcounts_df_horizontal_annot.head()"
   ]
  },
  {
   "cell_type": "code",
   "execution_count": null,
   "id": "2a06cece-7c8f-40fc-b10f-b0451cd944ae",
   "metadata": {},
   "outputs": [],
   "source": [
    "# save the true counts\n",
    "True_tasselcounts_df_horizontal_annot.to_csv(\"True_tassel_counts/all_data/horizontal_annotated_true_counts.csv\", index = False)"
   ]
  },
  {
   "cell_type": "code",
   "execution_count": null,
   "id": "a633035e-badc-4162-8577-ffabae3a57d5",
   "metadata": {},
   "outputs": [],
   "source": [
    "# for vertically annotated images\n",
    "def get_density_maps_not_annotated(file_name, image_path, save_density_path):\n",
    "    \n",
    "    # plot the bounding boxes on images\n",
    "    # get image name and path\n",
    "    image_name = file_name + '.npy'\n",
    "    imge_file_path = os.path.join(image_path, image_name)\n",
    "    # read the image\n",
    "    read_image = np.load(imge_file_path)\n",
    "\n",
    "    plt.imshow(read_image)\n",
    "    plt.show()\n",
    "\n",
    "    read_image_shape = read_image.shape\n",
    "    \n",
    "    # also try creating the density map here\n",
    "    np_image = np.zeros((read_image_shape[0], read_image_shape[1]))\n",
    "\n",
    "    # save the density map\n",
    "    np.save(save_density_path + '/' + file_name + '_density_map.npy', np_image)\n",
    "\n",
    "    img_sum = np.sum(np_image)\n",
    "\n",
    "    return(file_name, read_image_shape, img_sum, np_image)"
   ]
  },
  {
   "cell_type": "code",
   "execution_count": null,
   "id": "af425bfb-3293-40e8-94d9-0c7d461ff5d4",
   "metadata": {},
   "outputs": [],
   "source": [
    "image_path_vn = 'Images_and_dense_maps_npy_train/vertical_not_annotated_images/'\n",
    "save_density_path_vn = image_path_vn"
   ]
  },
  {
   "cell_type": "code",
   "execution_count": null,
   "id": "e689d2d8-163e-48b9-98c9-0cd42989ad02",
   "metadata": {},
   "outputs": [],
   "source": [
    "file_names_vn = [file.split(\".\")[0] for file in os.listdir(image_path_vn) if file.split(\".\")[0][-3:] != 'map']\n",
    "file_names_vn.sort()"
   ]
  },
  {
   "cell_type": "code",
   "execution_count": null,
   "id": "677433d3-57a9-4682-8449-bf8f53517a12",
   "metadata": {},
   "outputs": [],
   "source": [
    "len(file_names_vn)"
   ]
  },
  {
   "cell_type": "code",
   "execution_count": null,
   "id": "4d6f29aa-bf9c-46c9-a5ab-4f9910013d08",
   "metadata": {
    "scrolled": true
   },
   "outputs": [],
   "source": [
    "%%time\n",
    "# get the density maps for all vertically annotated image files\n",
    "names_all_vn = []\n",
    "shapes_all_vn = []\n",
    "tasselDensities_all_vn = []\n",
    "dense_maps_all_vn = []\n",
    "for file_vn in file_names_vn:\n",
    "    name_vn, shape_vn, tassel_dense_vn, dense_map_vn = get_density_maps_not_annotated(file_vn, image_path_vn, save_density_path_vn)\n",
    "    names_all_vn.append(name_vn)\n",
    "    shapes_all_vn.append(shape_vn)\n",
    "    tasselDensities_all_vn.append(tassel_dense_vn)\n",
    "    dense_maps_all_vn.append(dense_map_vn)\n",
    "    "
   ]
  },
  {
   "cell_type": "code",
   "execution_count": null,
   "id": "e2009e79-db50-4402-9bb7-22ceb5ebe155",
   "metadata": {},
   "outputs": [],
   "source": [
    "Vertical_not_annotated_df = pd.DataFrame(zip(names_all_vn, tasselDensities_all_vn), columns = ['name', 'true_count'])"
   ]
  },
  {
   "cell_type": "code",
   "execution_count": null,
   "id": "2582ce67-bcde-46ce-972f-3aaf917960c4",
   "metadata": {},
   "outputs": [],
   "source": [
    "Vertical_not_annotated_df.head()"
   ]
  },
  {
   "cell_type": "code",
   "execution_count": null,
   "id": "da156935-3d60-452d-b5d2-cbc9966453cd",
   "metadata": {},
   "outputs": [],
   "source": [
    "Vertical_not_annotated_df.shape"
   ]
  },
  {
   "cell_type": "code",
   "execution_count": null,
   "id": "0c34e852-fbbb-4e5d-9b25-24043e0f040d",
   "metadata": {},
   "outputs": [],
   "source": [
    "# save the true counts\n",
    "Vertical_not_annotated_df.to_csv(\"True_tassel_counts/all_data/vertical_not_annotated_true_counts.csv\", index = False)"
   ]
  },
  {
   "cell_type": "code",
   "execution_count": null,
   "id": "2cfed433-2988-43c9-adb9-9045bd288b69",
   "metadata": {},
   "outputs": [],
   "source": [
    "# move all the image and the xml files to a single location\n",
    "\n",
    "va_images_dense = 'Images_and_dense_maps_npy_train/vertical_annotated_images/'\n",
    "vn_images_dense = 'Images_and_dense_maps_npy_train/vertical_not_annotated_images/'\n",
    "h_images_dense = 'Images_and_dense_maps_npy_train/horizontal_annotated_images/'"
   ]
  },
  {
   "cell_type": "code",
   "execution_count": null,
   "id": "3c90595b-b55f-402a-92f0-98c1c6f0dc49",
   "metadata": {},
   "outputs": [],
   "source": [
    "shutil.copytree(va_images_dense, 'Preprocessed_train_data/all_img_density_files/', dirs_exist_ok=True)\n",
    "shutil.copytree(vn_images_dense, 'Preprocessed_train_data/all_img_density_files/', dirs_exist_ok=True)\n",
    "shutil.copytree(h_images_dense, 'Preprocessed_train_data/all_img_density_files/', dirs_exist_ok=True)"
   ]
  },
  {
   "cell_type": "markdown",
   "id": "622e0cf6-c430-4b65-8abc-c9680c2cb686",
   "metadata": {},
   "source": [
    "Create sub windows and counts"
   ]
  },
  {
   "cell_type": "code",
   "execution_count": null,
   "id": "034f1835-c425-4700-949d-e615192a8310",
   "metadata": {},
   "outputs": [],
   "source": [
    "def create_subwindows_and_counts(image, numpy_folder, stride = 8, kernel_size = 32):\n",
    "    im_name = image.split(\".\")[0]\n",
    "    im_file = im_name + '.npy'\n",
    "    count_file = im_name + '_density_map.npy'\n",
    "    # load the image and the count numpy files\n",
    "    loaded_im_file = np.load(numpy_folder + '/' + im_file)\n",
    "    loaded_count_file = np.load(numpy_folder + '/' + count_file)\n",
    "        \n",
    "    # create the subwindows and counts as follows\n",
    "    img_height = loaded_im_file.shape[0]\n",
    "    img_width = loaded_im_file.shape[1]\n",
    "    \n",
    "    density_sums = []\n",
    "    catch_image = []\n",
    "    for i in  range(0, img_height, stride):\n",
    "        for j in range(0, img_width, stride):\n",
    "            sub_window = loaded_im_file[i: i + kernel_size, j : j + kernel_size,:]\n",
    "            density = loaded_count_file[i: i + kernel_size, j : j + kernel_size]\n",
    "            dense_sum = np.sum(density)\n",
    "            density_sums.append(dense_sum)\n",
    "            sub_window = resize(sub_window, (32, 32,3))\n",
    "            catch_image.append(sub_window)\n",
    "\n",
    "    # save the combined subwindows and counts\n",
    "    return(catch_image,density_sums, im_file)"
   ]
  },
  {
   "cell_type": "code",
   "execution_count": null,
   "id": "6528995e-7d42-48c9-be12-de3e173496cc",
   "metadata": {},
   "outputs": [],
   "source": [
    "# For the train data, it is unnecessary to save the individual sub count and window files, let's save them with the stack"
   ]
  },
  {
   "cell_type": "code",
   "execution_count": null,
   "id": "a4eb02ed-d06f-45d4-86e5-bd37c5a12968",
   "metadata": {},
   "outputs": [],
   "source": [
    "# let's do this for a sample and then in the loop\n",
    "train_files_path = \"Preprocessed_train_data/all_img_density_files/\""
   ]
  },
  {
   "cell_type": "code",
   "execution_count": null,
   "id": "aef1cace-52e3-4f5f-ab8e-700b8195035f",
   "metadata": {},
   "outputs": [],
   "source": [
    "train_im_and_map_contents = os.listdir(train_files_path)\n",
    "\n",
    "# sort these - ALWAYS sort these as the order is always messed up on HCC\n",
    "train_im_and_map_contents.sort()"
   ]
  },
  {
   "cell_type": "code",
   "execution_count": null,
   "id": "f7e1d40c-657d-4bd7-8721-3a58a169bd0e",
   "metadata": {},
   "outputs": [],
   "source": [
    "len(train_im_and_map_contents)"
   ]
  },
  {
   "cell_type": "code",
   "execution_count": null,
   "id": "2038b990-cc46-4466-81ea-be5e6f84d0e9",
   "metadata": {},
   "outputs": [],
   "source": [
    "# get only the names of the image (npy files)\n",
    "train_im_names = [item for item in train_im_and_map_contents if item.split(\".\")[0][-3:] != 'map']"
   ]
  },
  {
   "cell_type": "code",
   "execution_count": null,
   "id": "a0cc4b37-64d6-45fa-9407-6da0804ff4f1",
   "metadata": {},
   "outputs": [],
   "source": [
    "# how many? should be 32\n",
    "len(train_im_names)"
   ]
  },
  {
   "cell_type": "code",
   "execution_count": null,
   "id": "9e0d3042-b150-4308-8117-7c44c3d8e5d9",
   "metadata": {},
   "outputs": [],
   "source": [
    "%%time\n",
    "# create the subwindows for all train data\n",
    "catch_all_image_subwindows_train = []\n",
    "catch_all_dense_subwindows_train = []\n",
    "catch_train_names = []\n",
    "for image in train_im_names:\n",
    "    train_ims, train_maps, train_names = create_subwindows_and_counts(image, train_files_path, stride = 8, kernel_size = 32)\n",
    "    catch_all_image_subwindows_train.append(train_ims)\n",
    "    catch_all_dense_subwindows_train.append(train_maps)\n",
    "    catch_train_names.append(train_names)"
   ]
  },
  {
   "cell_type": "code",
   "execution_count": null,
   "id": "55c81ff4-b8ff-4cdf-ad23-363606847d3f",
   "metadata": {},
   "outputs": [],
   "source": [
    "# sanity check names\n",
    "np.mean(train_im_names == catch_train_names)"
   ]
  },
  {
   "cell_type": "markdown",
   "id": "c2ce0669-9448-4be5-80ea-6b22e32c3c86",
   "metadata": {},
   "source": [
    "##### Preprocessing for validation data"
   ]
  },
  {
   "cell_type": "code",
   "execution_count": null,
   "id": "ccd088e9-8434-4ff9-968c-e69a2323c36a",
   "metadata": {},
   "outputs": [],
   "source": [
    "# list all the image and the xml files for the train data\n",
    "all_valid_contents = os.listdir(block_0204)"
   ]
  },
  {
   "cell_type": "code",
   "execution_count": null,
   "id": "dc6e1f4d-ac25-4020-95d1-2888b1a1e366",
   "metadata": {},
   "outputs": [],
   "source": [
    "# separate image and xml files\n",
    "img_files_24, xml_files_24 = separate_img_xml(all_valid_contents)"
   ]
  },
  {
   "cell_type": "code",
   "execution_count": null,
   "id": "2dc6dd17-a918-487d-b0e5-5ee466a031f9",
   "metadata": {},
   "outputs": [],
   "source": [
    "# separate annotated and not annotated images\n",
    "annot_img_24, not_annot_img_24 = separate_annot_and_not(img_files_24, xml_files_24)"
   ]
  },
  {
   "cell_type": "code",
   "execution_count": null,
   "id": "6f988ce2-f604-42a0-b980-904ac651ab84",
   "metadata": {},
   "outputs": [],
   "source": [
    "# separate vertical and horizontal annotated images\n",
    "annot_vertical_images_24, annot_vertical_xmls_24, annot_horizontal_images_24, annot_horizontal_xmls_24 = separate_annnot_vertical_horizontal(annot_img_24, \n",
    "                                                                                                                                             xml_files_24, 8)"
   ]
  },
  {
   "cell_type": "code",
   "execution_count": null,
   "id": "293a24f6-1546-4205-974e-5f39c994cb70",
   "metadata": {},
   "outputs": [],
   "source": [
    "# check shapes\n",
    "print(check_annot(annot_vertical_images_24, annot_vertical_xmls_24, annot_horizontal_images_24, annot_horizontal_xmls_24))"
   ]
  },
  {
   "cell_type": "code",
   "execution_count": null,
   "id": "b5651435-2bad-48b1-9d09-6603a2618ed3",
   "metadata": {
    "scrolled": true
   },
   "outputs": [],
   "source": [
    "# store the vertically annotated images - validation data\n",
    "store_path = \"Images_and_dense_maps_npy_valid/vertical_annotated_images\"\n",
    "\n",
    "# blk 24\n",
    "im_shapes_annot_vertical_24 = []\n",
    "for item in annot_vertical_images_24:\n",
    "    img_shape = store_images_as_np_arrays_vertical(block_0204, item, store_path)\n",
    "    im_shapes_annot_vertical_24.append(img_shape)\n",
    "print(\"Block 24 done!\")"
   ]
  },
  {
   "cell_type": "code",
   "execution_count": null,
   "id": "979bda39-a5f8-4be6-b84e-def9cc61a4f0",
   "metadata": {},
   "outputs": [],
   "source": [
    "print(im_shapes_annot_vertical_24)"
   ]
  },
  {
   "cell_type": "code",
   "execution_count": null,
   "id": "f1b063b6-0068-4c48-8ac1-85ae9a028db0",
   "metadata": {
    "scrolled": true
   },
   "outputs": [],
   "source": [
    "# store the vertically not-annotated images\n",
    "store_path = \"Images_and_dense_maps_npy_valid/vertical_not_annotated_images\"\n",
    "\n",
    "# blk 24\n",
    "im_shapes_notannot_vertical_24 = []\n",
    "for item in not_annot_img_24:\n",
    "    img_shape = store_images_as_np_arrays_vertical(block_0204, item, store_path)\n",
    "    im_shapes_notannot_vertical_24.append(img_shape)\n",
    "print(\"Block 24 done!\")"
   ]
  },
  {
   "cell_type": "code",
   "execution_count": null,
   "id": "d1d3e7ed-33d3-4e2f-b9ff-077caed5adad",
   "metadata": {},
   "outputs": [],
   "source": [
    "print(im_shapes_notannot_vertical_24)"
   ]
  },
  {
   "cell_type": "code",
   "execution_count": null,
   "id": "9060efaf-67f9-4069-a585-5ae75640a74d",
   "metadata": {
    "scrolled": true
   },
   "outputs": [],
   "source": [
    "# store the horizontally annotated images\n",
    "store_path = \"Images_and_dense_maps_npy_valid/horizontal_annotated_images\"\n",
    "\n",
    "# blk 11 - the first horizontal image has a problem, needs to be rotated\n",
    "im_shapes_annot_horizontal_24 = []\n",
    "for item in annot_horizontal_images_24:\n",
    "    img_shape = store_images_as_np_arrays_horizontal(block_0204, item, store_path)\n",
    "    im_shapes_annot_horizontal_24.append(img_shape)\n",
    "print(\"Block 24 done!\")"
   ]
  },
  {
   "cell_type": "code",
   "execution_count": null,
   "id": "41f7d89b-e6b9-44e7-9d80-17cb9e233b59",
   "metadata": {},
   "outputs": [],
   "source": [
    "# Get the xml file paths in a single location\n",
    "new_store_path = 'valid_xml_files'\n",
    "# blk 11\n",
    "for file in xml_files_24:\n",
    "    joined_path = os.path.join(block_0204, file)\n",
    "    # store the file in new path\n",
    "    shutil.copy(joined_path, new_store_path)"
   ]
  },
  {
   "cell_type": "code",
   "execution_count": null,
   "id": "7b9e57bb-e616-4007-b083-1226805a31ff",
   "metadata": {},
   "outputs": [],
   "source": [
    "# get the outputs from this function\n",
    "image_path = \"Images_and_dense_maps_npy_valid/vertical_annotated_images/\"\n",
    "xml_path = 'valid_xml_files'\n",
    "save_density_path = image_path"
   ]
  },
  {
   "cell_type": "code",
   "execution_count": null,
   "id": "e514285b-d9ad-4134-9c7a-04195f24aeed",
   "metadata": {},
   "outputs": [],
   "source": [
    "file_names_v = [file.split(\".\")[0] for file in os.listdir(image_path) if file.split(\".\")[0][-3:] != 'map']\n",
    "file_names_v.sort()"
   ]
  },
  {
   "cell_type": "code",
   "execution_count": null,
   "id": "d874c2f6-72be-4fa0-a587-0da39b46a2bb",
   "metadata": {},
   "outputs": [],
   "source": [
    "# file_names_v"
   ]
  },
  {
   "cell_type": "code",
   "execution_count": null,
   "id": "fd363300-ac87-4bd8-aa47-1b3ced509791",
   "metadata": {
    "scrolled": true
   },
   "outputs": [],
   "source": [
    "%%time\n",
    "names_all_va_v = []\n",
    "shapes_all_va_v = []\n",
    "tasselCounts_all_va_v = []\n",
    "tasselDensities_all_va_v = []\n",
    "dense_maps_all_va_v = []\n",
    "for file_name in file_names_v:\n",
    "    name_va, shape_va, tassels_va, tassel_dense_va, dense_map_va = get_density_maps_vertical(file_name, image_path, xml_path, save_density_path)\n",
    "    names_all_va_v.append(name_va)\n",
    "    shapes_all_va_v.append(shape_va)\n",
    "    tasselCounts_all_va_v.append(tassels_va)\n",
    "    tasselDensities_all_va_v.append(tassel_dense_va)\n",
    "    dense_maps_all_va_v.append(dense_map_va)"
   ]
  },
  {
   "cell_type": "code",
   "execution_count": null,
   "id": "d4bf2d2a-88c5-4aba-9af3-6bde9400a81c",
   "metadata": {},
   "outputs": [],
   "source": [
    "# a few sanity checks\n",
    "np.mean(tasselCounts_all_va == np.round(tasselDensities_all_va))"
   ]
  },
  {
   "cell_type": "code",
   "execution_count": null,
   "id": "15b52413-f449-4823-ba98-aa9269d3d813",
   "metadata": {},
   "outputs": [],
   "source": [
    "# create a dataframe of the true counts\n",
    "True_tasselcounts_df_vertical_annot_valid = pd.DataFrame(zip(names_all_va_v, tasselCounts_all_va_v), columns = ['name', 'true_count'])"
   ]
  },
  {
   "cell_type": "code",
   "execution_count": null,
   "id": "005594e0-47ab-4ab0-91a8-f2beba424d49",
   "metadata": {},
   "outputs": [],
   "source": [
    "True_tasselcounts_df_vertical_annot_valid.shape"
   ]
  },
  {
   "cell_type": "code",
   "execution_count": null,
   "id": "98f37aea-4c16-4065-a92a-8efadd4d345f",
   "metadata": {},
   "outputs": [],
   "source": [
    "True_tasselcounts_df_vertical_annot_valid.head()"
   ]
  },
  {
   "cell_type": "code",
   "execution_count": null,
   "id": "2255303d-c0e3-42d3-a6b0-eb5c6ba81183",
   "metadata": {},
   "outputs": [],
   "source": [
    "# save the true counts\n",
    "True_tasselcounts_df_vertical_annot_valid.to_csv(\"True_tassel_counts/all_data/vertical_annotated_true_counts_valid.csv\", index = False)"
   ]
  },
  {
   "cell_type": "code",
   "execution_count": null,
   "id": "fc0fa6ef-0e08-451b-9b4e-cb47729c07be",
   "metadata": {},
   "outputs": [],
   "source": [
    "# get the outputs from this function\n",
    "image_path_h = \"Images_and_dense_maps_npy_valid/horizontal_annotated_images/\"\n",
    "xml_path_h = 'valid_xml_files'\n",
    "save_density_path_h = image_path_h"
   ]
  },
  {
   "cell_type": "code",
   "execution_count": null,
   "id": "196923e2-c4be-478e-b7fa-e523da427f34",
   "metadata": {},
   "outputs": [],
   "source": [
    "file_names_h = [file.split(\".\")[0] for file in os.listdir(image_path_h) if file.split(\".\")[0][-3:] != 'map']\n",
    "file_names_h.sort()"
   ]
  },
  {
   "cell_type": "code",
   "execution_count": null,
   "id": "697ff3c2-ca92-482b-921f-7b6ec9811fdb",
   "metadata": {},
   "outputs": [],
   "source": [
    "# file_names_h"
   ]
  },
  {
   "cell_type": "code",
   "execution_count": null,
   "id": "5cd16490-c27c-4048-96da-ef382d42bcc4",
   "metadata": {
    "scrolled": true
   },
   "outputs": [],
   "source": [
    "%%time\n",
    "names_all_h_v = []\n",
    "shapes_all_h_v = []\n",
    "tasselCounts_all_h_v = []\n",
    "tasselDensities_all_h_v = []\n",
    "dense_maps_all_h_v = []\n",
    "for file_h in file_names_h:\n",
    "    name_h, shape_h, tassels_h, tassel_dense_h, dense_map_h = get_density_maps_horizontal(file_h, image_path_h, xml_path_h, save_density_path_h)\n",
    "    names_all_h_v.append(name_h)\n",
    "    shapes_all_h_v.append(shape_h)\n",
    "    tasselCounts_all_h_v.append(tassels_h)\n",
    "    tasselDensities_all_h_v.append(tassel_dense_h)\n",
    "    dense_maps_all_h_v.append(dense_map_h)"
   ]
  },
  {
   "cell_type": "code",
   "execution_count": null,
   "id": "fdce331d-fded-4933-b4cf-428b8bafc778",
   "metadata": {},
   "outputs": [],
   "source": [
    "# a few sanity checks\n",
    "np.mean(tasselCounts_all_h == np.round(tasselDensities_all_h))"
   ]
  },
  {
   "cell_type": "code",
   "execution_count": null,
   "id": "cbbc2dbc-ac3c-463a-b49b-7fa1d5e770b3",
   "metadata": {},
   "outputs": [],
   "source": [
    "# create a dataframe of the true counts\n",
    "True_tasselcounts_df_horizontal_annot_valid = pd.DataFrame(zip(names_all_h_v, tasselCounts_all_h_v), columns = ['name', 'true_count'])"
   ]
  },
  {
   "cell_type": "code",
   "execution_count": null,
   "id": "3d393900-6e6a-4d0f-8614-a4ab028ad1e9",
   "metadata": {},
   "outputs": [],
   "source": [
    "True_tasselcounts_df_horizontal_annot_valid.shape"
   ]
  },
  {
   "cell_type": "code",
   "execution_count": null,
   "id": "005c1c1c-2ebf-48ac-9ec7-31b5ce58e188",
   "metadata": {},
   "outputs": [],
   "source": [
    "True_tasselcounts_df_horizontal_annot_valid.head()"
   ]
  },
  {
   "cell_type": "code",
   "execution_count": null,
   "id": "f077ab37-7c8e-40f2-8eff-642ce9e68875",
   "metadata": {},
   "outputs": [],
   "source": [
    "# save the true counts\n",
    "True_tasselcounts_df_horizontal_annot_valid.to_csv(\"True_tassel_counts/all_data/horizontal_annotated_true_counts_valid.csv\", index = False)"
   ]
  },
  {
   "cell_type": "code",
   "execution_count": null,
   "id": "f29b8b0a-10ab-40d8-b67c-47e2bba478e4",
   "metadata": {},
   "outputs": [],
   "source": [
    "image_path_vn = 'Images_and_dense_maps_npy_valid/vertical_not_annotated_images/'\n",
    "save_density_path_vn = image_path_vn"
   ]
  },
  {
   "cell_type": "code",
   "execution_count": null,
   "id": "85e39352-de6f-48b9-b2e9-6dba043e6b6d",
   "metadata": {},
   "outputs": [],
   "source": [
    "file_names_vn = [file.split(\".\")[0] for file in os.listdir(image_path_vn) if file.split(\".\")[0][-3:] != 'map']\n",
    "file_names_vn.sort()"
   ]
  },
  {
   "cell_type": "code",
   "execution_count": null,
   "id": "0f2815db-6995-4a2c-a56f-c77ebd06494b",
   "metadata": {},
   "outputs": [],
   "source": [
    "len(file_names_vn)"
   ]
  },
  {
   "cell_type": "code",
   "execution_count": null,
   "id": "e06d5635-0296-4c40-a4f1-8a883ca2b092",
   "metadata": {
    "scrolled": true
   },
   "outputs": [],
   "source": [
    "%%time\n",
    "# get the density maps for all vertically annotated image files\n",
    "names_all_vn_v = []\n",
    "shapes_all_vn_v = []\n",
    "tasselDensities_all_vn_v = []\n",
    "dense_maps_all_vn_v = []\n",
    "for file_vn in file_names_vn:\n",
    "    name_vn, shape_vn, tassel_dense_vn, dense_map_vn = get_density_maps_not_annotated(file_vn, image_path_vn, save_density_path_vn)\n",
    "    names_all_vn_v.append(name_vn)\n",
    "    shapes_all_vn_v.append(shape_vn)\n",
    "    tasselDensities_all_vn_v.append(tassel_dense_vn)\n",
    "    dense_maps_all_vn_v.append(dense_map_vn)\n",
    "    "
   ]
  },
  {
   "cell_type": "code",
   "execution_count": null,
   "id": "18d2322e-3199-484e-9e2d-dc97b33c2c98",
   "metadata": {},
   "outputs": [],
   "source": [
    "Vertical_not_annotated_df_valid = pd.DataFrame(zip(names_all_vn_v, tasselDensities_all_vn_v), columns = ['name', 'true_count'])"
   ]
  },
  {
   "cell_type": "code",
   "execution_count": null,
   "id": "540b1481-a054-4c02-a620-6c0b960511fe",
   "metadata": {},
   "outputs": [],
   "source": [
    "Vertical_not_annotated_df_valid.head()"
   ]
  },
  {
   "cell_type": "code",
   "execution_count": null,
   "id": "559d8b0a-6137-48d3-8ff4-0640c2b57501",
   "metadata": {},
   "outputs": [],
   "source": [
    "Vertical_not_annotated_df.shape"
   ]
  },
  {
   "cell_type": "code",
   "execution_count": null,
   "id": "55c0f7ba-56c3-4382-b8b3-9731fc437018",
   "metadata": {},
   "outputs": [],
   "source": [
    "# save the true counts\n",
    "Vertical_not_annotated_df.to_csv(\"True_tassel_counts/all_data/vertical_not_annotated_true_countsvalid.csv\", index = False)"
   ]
  },
  {
   "cell_type": "code",
   "execution_count": null,
   "id": "6e6e1836-becd-403f-85d1-b58126dbaabd",
   "metadata": {},
   "outputs": [],
   "source": [
    "# move all the image and the xml files to a single location\n",
    "\n",
    "va_images_dense = 'Images_and_dense_maps_npy_valid/vertical_annotated_images/'\n",
    "vn_images_dense = 'Images_and_dense_maps_npy_valid/vertical_not_annotated_images/'\n",
    "h_images_dense = 'Images_and_dense_maps_npy_valid/horizontal_annotated_images/'"
   ]
  },
  {
   "cell_type": "code",
   "execution_count": null,
   "id": "81c60e0d-7f33-4fb6-a2a8-1db8d8c1ddf4",
   "metadata": {},
   "outputs": [],
   "source": [
    "shutil.copytree(va_images_dense, 'Preprocessed_valid_data/all_img_density_files/', dirs_exist_ok=True)\n",
    "shutil.copytree(vn_images_dense, 'Preprocessed_valid_data/all_img_density_files/', dirs_exist_ok=True)\n",
    "shutil.copytree(h_images_dense, 'Preprocessed_valid_data/all_img_density_files/', dirs_exist_ok=True)"
   ]
  },
  {
   "cell_type": "code",
   "execution_count": null,
   "id": "5d67aad7-5c54-4657-a228-ac811adce991",
   "metadata": {},
   "outputs": [],
   "source": [
    "# let's do this for a sample and then in the loop\n",
    "valid_files_path = \"Preprocessed_valid_data/all_img_density_files/\""
   ]
  },
  {
   "cell_type": "code",
   "execution_count": null,
   "id": "2efc1c88-1aaa-4f5c-9be2-e73cee17d45e",
   "metadata": {},
   "outputs": [],
   "source": [
    "valid_im_and_map_contents = os.listdir(valid_files_path)\n",
    "\n",
    "# sort these - ALWAYS sort these as the order is always messed up on HCC\n",
    "valid_im_and_map_contents.sort()"
   ]
  },
  {
   "cell_type": "code",
   "execution_count": null,
   "id": "ca57f1ad-9f41-4209-bd74-1009db380248",
   "metadata": {},
   "outputs": [],
   "source": [
    "len(valid_im_and_map_contents)"
   ]
  },
  {
   "cell_type": "code",
   "execution_count": null,
   "id": "545817a1-b128-4353-83e4-cd46534fad0a",
   "metadata": {},
   "outputs": [],
   "source": [
    "# get only the names of the image (npy files)\n",
    "valid_im_names = [item for item in valid_im_and_map_contents if item.split(\".\")[0][-3:] != 'map']"
   ]
  },
  {
   "cell_type": "code",
   "execution_count": null,
   "id": "26ad835e-9944-4b64-9238-0594623fc39a",
   "metadata": {},
   "outputs": [],
   "source": [
    "# how many? should be 32\n",
    "len(valid_im_names)"
   ]
  },
  {
   "cell_type": "code",
   "execution_count": null,
   "id": "e73d0f59-ede6-46e7-9ef5-b5cfe0cb94e8",
   "metadata": {},
   "outputs": [],
   "source": [
    "%%time\n",
    "# create the subwindows for all train data\n",
    "catch_all_image_subwindows_valid = []\n",
    "catch_all_dense_subwindows_valid = []\n",
    "catch_valid_names = []\n",
    "for image in valid_im_names:\n",
    "    valid_ims, valid_maps, valid_names = create_subwindows_and_counts(image, valid_files_path, stride = 8, kernel_size = 32)\n",
    "    catch_all_image_subwindows_valid.append(valid_ims)\n",
    "    catch_all_dense_subwindows_valid.append(valid_maps)\n",
    "    catch_valid_names.append(valid_names)"
   ]
  },
  {
   "cell_type": "code",
   "execution_count": null,
   "id": "840797b2-58bb-4855-9cf3-f97e32a36527",
   "metadata": {},
   "outputs": [],
   "source": [
    "# sanity check names\n",
    "np.mean(valid_im_names == catch_valid_names)"
   ]
  },
  {
   "cell_type": "code",
   "execution_count": null,
   "id": "c023125d-9ba2-4b4b-8720-eac158cdc44c",
   "metadata": {},
   "outputs": [],
   "source": [
    "# stack the images\n",
    "valid_im_stack = np.vstack(catch_all_image_subwindows_valid)\n",
    "print(valid_im_stack.shape)\n",
    "\n",
    "# stack the subcounts\n",
    "valid_count_stack = np.hstack(catch_all_dense_subwindows_valid)\n",
    "print(valid_count_stack.shape)\n"
   ]
  },
  {
   "cell_type": "code",
   "execution_count": null,
   "id": "13d33dbd-207b-4de2-9a21-45470234551f",
   "metadata": {},
   "outputs": [],
   "source": [
    "index = 31\n",
    "for i in range(index):\n",
    "    print(np.mean(valid_im_stack[12288*index:12288+12288*index,:,:,:] == catch_all_image_subwindows_valid[index]), np.mean(valid_count_stack[12288*index:12288+12288*index,] == catch_all_dense_subwindows_valid[index]))\n"
   ]
  },
  {
   "cell_type": "code",
   "execution_count": null,
   "id": "85062854-aee2-4a7a-ae54-1d73ceef883d",
   "metadata": {},
   "outputs": [],
   "source": [
    "# do a little more sanity checks to make sure the stacking is correctly done\n",
    "# for images\n",
    "\n",
    "# need to save these files\n",
    "valid_save_path = 'final_valid_sub_windows_and_counts'\n",
    "\n",
    "# save the sub images\n",
    "np.save(valid_save_path + \"/\" + \"valid_sub_windows.npy\", valid_im_stack)\n",
    "# save the sub counts\n",
    "np.save(valid_save_path + \"/\" + \"valid_sub_counts.npy\", valid_count_stack)"
   ]
  },
  {
   "cell_type": "markdown",
   "id": "8c06d2e0-abc6-43fb-88be-bd9ca20e4604",
   "metadata": {},
   "source": [
    "##### Preprocessing for test data"
   ]
  },
  {
   "cell_type": "markdown",
   "id": "4a1a83ca-6d23-4a27-8734-71909480b950",
   "metadata": {},
   "source": [
    "Block 0103"
   ]
  },
  {
   "cell_type": "code",
   "execution_count": null,
   "id": "eb33ef76-e3f2-4049-a237-ad977823b4eb",
   "metadata": {},
   "outputs": [],
   "source": [
    "# need the images saved as npy arrays and let's also get the density counts, JIC."
   ]
  },
  {
   "cell_type": "code",
   "execution_count": null,
   "id": "df8ec567-bd88-49cb-accb-d2b1dddaa370",
   "metadata": {},
   "outputs": [],
   "source": [
    "# list all the image and the xml files for the train data\n",
    "test_contents_13 = os.listdir(block_0103)\n",
    "# separate image and xml files\n",
    "img_files_13, xml_files_13 = separate_img_xml(test_contents_13)\n",
    "# separate annotated and not annotated images\n",
    "annot_img_13, not_annot_img_13 = separate_annot_and_not(img_files_13, xml_files_13)\n",
    "# separate vertical and horizontal annotated images\n",
    "annot_vertical_images_13, annot_vertical_xmls_13, annot_horizontal_images_13, annot_horizontal_xmls_13 = separate_annnot_vertical_horizontal(annot_img_13, \n",
    "                                                                                                                                             xml_files_13, 6)\n",
    "# check shapes\n",
    "print(check_annot(annot_vertical_images_13, annot_vertical_xmls_13, annot_horizontal_images_13, annot_horizontal_xmls_13))"
   ]
  },
  {
   "cell_type": "code",
   "execution_count": null,
   "id": "cf25d9c5-fbd5-4627-9be3-9a6b75c6745d",
   "metadata": {
    "scrolled": true
   },
   "outputs": [],
   "source": [
    "# store the vertically annotated images - validation data\n",
    "store_path = \"Images_and_dense_maps_npy_test/vertical_annotated_images/Block_13\"\n",
    "\n",
    "# blk 24\n",
    "im_shapes_annot_vertical_13 = []\n",
    "for item in annot_vertical_images_13:\n",
    "    img_shape = store_images_as_np_arrays_vertical(block_0103, item, store_path)\n",
    "    im_shapes_annot_vertical_13.append(img_shape)\n",
    "print(\"Block 13 done!\")"
   ]
  },
  {
   "cell_type": "code",
   "execution_count": null,
   "id": "302c5142-ed34-43aa-8ff5-67b3573ee3b9",
   "metadata": {},
   "outputs": [],
   "source": [
    "print(im_shapes_annot_vertical_13)"
   ]
  },
  {
   "cell_type": "code",
   "execution_count": null,
   "id": "02836fbe-f71f-4cc9-8101-76ec59b1da23",
   "metadata": {
    "scrolled": true
   },
   "outputs": [],
   "source": [
    "# store the vertically not-annotated images\n",
    "store_path = \"Images_and_dense_maps_npy_test/vertical_not_annotated_images/Block_13\"\n",
    "\n",
    "# blk 13\n",
    "im_shapes_notannot_vertical_13 = []\n",
    "for item in not_annot_img_13:\n",
    "    img_shape = store_images_as_np_arrays_vertical(block_0103, item, store_path)\n",
    "    im_shapes_notannot_vertical_13.append(img_shape)\n",
    "print(\"Block 13 done!\")"
   ]
  },
  {
   "cell_type": "code",
   "execution_count": null,
   "id": "17758b6b-bff4-48b5-9cb8-5a31bdec9e5b",
   "metadata": {},
   "outputs": [],
   "source": [
    "print(im_shapes_notannot_vertical_13)"
   ]
  },
  {
   "cell_type": "code",
   "execution_count": null,
   "id": "f7979d9f-a252-47c2-a837-1e457d707eab",
   "metadata": {
    "scrolled": true
   },
   "outputs": [],
   "source": [
    "# store the horizontally annotated images\n",
    "store_path = \"Images_and_dense_maps_npy_test/horizontal_annotated_images/Block_13\"\n",
    "\n",
    "# blk 11 - the first horizontal image has a problem, needs to be rotated\n",
    "im_shapes_annot_horizontal_13 = []\n",
    "for item in annot_horizontal_images_13:\n",
    "    img_shape = store_images_as_np_arrays_horizontal(block_0103, item, store_path)\n",
    "    im_shapes_annot_horizontal_13.append(img_shape)\n",
    "print(\"Block 13 done!\")"
   ]
  },
  {
   "cell_type": "code",
   "execution_count": null,
   "id": "962e63f8-00de-40b2-9017-36ad394638cd",
   "metadata": {},
   "outputs": [],
   "source": [
    "print(im_shapes_annot_horizontal_13)"
   ]
  },
  {
   "cell_type": "code",
   "execution_count": null,
   "id": "248382cb-e3b0-4092-a256-a691504b076e",
   "metadata": {},
   "outputs": [],
   "source": [
    "# xml_files_13"
   ]
  },
  {
   "cell_type": "code",
   "execution_count": null,
   "id": "46e63928-d73a-4bdb-a1f5-af6f5d761361",
   "metadata": {},
   "outputs": [],
   "source": [
    "# Get the xml file paths in a single location\n",
    "new_store_path = 'test_xml_files'\n",
    "# blk 13\n",
    "for file in xml_files_13:\n",
    "    joined_path = os.path.join(block_0103, file)\n",
    "    # store the file in new path\n",
    "    shutil.copy(joined_path, new_store_path)"
   ]
  },
  {
   "cell_type": "code",
   "execution_count": null,
   "id": "beb8754d-08f6-43b1-b8e0-9e9b68f1c87e",
   "metadata": {},
   "outputs": [],
   "source": [
    "# get the outputs from this function\n",
    "image_path = \"Images_and_dense_maps_npy_test/vertical_annotated_images/Block_13/\"\n",
    "xml_path = 'test_xml_files'\n",
    "save_density_path = image_path"
   ]
  },
  {
   "cell_type": "code",
   "execution_count": null,
   "id": "7e444f49-c7a3-4be8-a13a-fdc278d3e171",
   "metadata": {},
   "outputs": [],
   "source": [
    "file_names_v = [file.split(\".\")[0] for file in os.listdir(image_path) if file.split(\".\")[0][-3:] != 'map']\n",
    "file_names_v.sort()"
   ]
  },
  {
   "cell_type": "code",
   "execution_count": null,
   "id": "d8d0ef8d-2d6a-41ea-babc-0d0b3ff3c7a2",
   "metadata": {},
   "outputs": [],
   "source": [
    "# file_names_v"
   ]
  },
  {
   "cell_type": "code",
   "execution_count": null,
   "id": "ea50db79-b166-45cb-ad7c-27646ed41d8a",
   "metadata": {
    "scrolled": true
   },
   "outputs": [],
   "source": [
    "%%time\n",
    "names_all_va_v = []\n",
    "shapes_all_va_v = []\n",
    "tasselCounts_all_va_v = []\n",
    "tasselDensities_all_va_v = []\n",
    "dense_maps_all_va_v = []\n",
    "for file_name in file_names_v:\n",
    "    name_va, shape_va, tassels_va, tassel_dense_va, dense_map_va = get_density_maps_vertical(file_name, image_path, xml_path, save_density_path)\n",
    "    names_all_va_v.append(name_va)\n",
    "    shapes_all_va_v.append(shape_va)\n",
    "    tasselCounts_all_va_v.append(tassels_va)\n",
    "    tasselDensities_all_va_v.append(tassel_dense_va)\n",
    "    dense_maps_all_va_v.append(dense_map_va)"
   ]
  },
  {
   "cell_type": "code",
   "execution_count": null,
   "id": "f6ff8908-e31f-4c87-a000-c59e96054a59",
   "metadata": {},
   "outputs": [],
   "source": [
    "# a few sanity checks\n",
    "np.mean(tasselCounts_all_va_v == np.round(tasselDensities_all_va_v))"
   ]
  },
  {
   "cell_type": "code",
   "execution_count": null,
   "id": "e72433cf-65fa-4096-83b4-5dd25e984cf2",
   "metadata": {},
   "outputs": [],
   "source": [
    "# create a dataframe of the true counts\n",
    "True_tasselcounts_df_vertical_annot_test_13 = pd.DataFrame(zip(names_all_va_v, tasselCounts_all_va_v), columns = ['name', 'true_count'])"
   ]
  },
  {
   "cell_type": "code",
   "execution_count": null,
   "id": "235f963e-56c3-4ba4-adce-a90accbb99bb",
   "metadata": {},
   "outputs": [],
   "source": [
    "True_tasselcounts_df_vertical_annot_test_13.shape"
   ]
  },
  {
   "cell_type": "code",
   "execution_count": null,
   "id": "bcea3cec-790e-4296-9343-43898d14b759",
   "metadata": {},
   "outputs": [],
   "source": [
    "True_tasselcounts_df_vertical_annot_test_13.head()"
   ]
  },
  {
   "cell_type": "code",
   "execution_count": null,
   "id": "e2c82f0a-ee52-4086-aec8-fc8266a25687",
   "metadata": {},
   "outputs": [],
   "source": [
    "# get the outputs from this function\n",
    "image_path_h = \"Images_and_dense_maps_npy_test/horizontal_annotated_images/Block_13\"\n",
    "xml_path_h = 'test_xml_files'\n",
    "save_density_path_h = image_path_h"
   ]
  },
  {
   "cell_type": "code",
   "execution_count": null,
   "id": "f1c81636-129d-4b6a-a246-8cbb86d53e0b",
   "metadata": {},
   "outputs": [],
   "source": [
    "file_names_h = [file.split(\".\")[0] for file in os.listdir(image_path_h) if file.split(\".\")[0][-3:] != 'map']\n",
    "file_names_h.sort()"
   ]
  },
  {
   "cell_type": "code",
   "execution_count": null,
   "id": "2d26ddc1-21b6-4cb3-811a-5ae32b5a6535",
   "metadata": {},
   "outputs": [],
   "source": [
    "# file_names_h"
   ]
  },
  {
   "cell_type": "code",
   "execution_count": null,
   "id": "d40f6339-f78b-4651-b8c5-ca999f695291",
   "metadata": {
    "scrolled": true
   },
   "outputs": [],
   "source": [
    "%%time\n",
    "names_all_h_v = []\n",
    "shapes_all_h_v = []\n",
    "tasselCounts_all_h_v = []\n",
    "tasselDensities_all_h_v = []\n",
    "dense_maps_all_h_v = []\n",
    "for file_h in file_names_h:\n",
    "    name_h, shape_h, tassels_h, tassel_dense_h, dense_map_h = get_density_maps_horizontal(file_h, image_path_h, xml_path_h, save_density_path_h)\n",
    "    names_all_h_v.append(name_h)\n",
    "    shapes_all_h_v.append(shape_h)\n",
    "    tasselCounts_all_h_v.append(tassels_h)\n",
    "    tasselDensities_all_h_v.append(tassel_dense_h)\n",
    "    dense_maps_all_h_v.append(dense_map_h)"
   ]
  },
  {
   "cell_type": "code",
   "execution_count": null,
   "id": "352dca6e-b2c2-4fa7-aead-a8ed7ab448b9",
   "metadata": {},
   "outputs": [],
   "source": [
    "# a few sanity checks\n",
    "np.mean(tasselCounts_all_h_v == np.round(tasselDensities_all_h_v))"
   ]
  },
  {
   "cell_type": "code",
   "execution_count": null,
   "id": "040516e4-2f11-4015-9dd7-a6ffa38b7e89",
   "metadata": {},
   "outputs": [],
   "source": [
    "# create a dataframe of the true counts\n",
    "True_tasselcounts_df_horizontal_annot_test_13 = pd.DataFrame(zip(names_all_h_v, tasselCounts_all_h_v), columns = ['name', 'true_count'])"
   ]
  },
  {
   "cell_type": "code",
   "execution_count": null,
   "id": "b4a28498-2cc2-4d89-8c6b-473145b3c4c9",
   "metadata": {},
   "outputs": [],
   "source": [
    "True_tasselcounts_df_horizontal_annot_test_13.shape"
   ]
  },
  {
   "cell_type": "code",
   "execution_count": null,
   "id": "72d8395c-159f-4484-997e-d5090497e520",
   "metadata": {},
   "outputs": [],
   "source": [
    "True_tasselcounts_df_horizontal_annot_test_13.head()"
   ]
  },
  {
   "cell_type": "code",
   "execution_count": null,
   "id": "083e2ea2-e60f-4c79-9ae6-2db7014df5ca",
   "metadata": {},
   "outputs": [],
   "source": [
    "image_path_vn = 'Images_and_dense_maps_npy_test/vertical_not_annotated_images/Block_13'\n",
    "save_density_path_vn = image_path_vn"
   ]
  },
  {
   "cell_type": "code",
   "execution_count": null,
   "id": "d6faf7c2-6d18-45bb-bede-0430909feca6",
   "metadata": {},
   "outputs": [],
   "source": [
    "file_names_vn = [file.split(\".\")[0] for file in os.listdir(image_path_vn) if file.split(\".\")[0][-3:] != 'map']\n",
    "file_names_vn.sort()"
   ]
  },
  {
   "cell_type": "code",
   "execution_count": null,
   "id": "fa0d858d-2950-4ee3-8f2d-4487b96df689",
   "metadata": {},
   "outputs": [],
   "source": [
    "len(file_names_vn)"
   ]
  },
  {
   "cell_type": "code",
   "execution_count": null,
   "id": "db2fec83-0409-4f98-8adb-98e7f6e38040",
   "metadata": {},
   "outputs": [],
   "source": [
    "file_names_vn"
   ]
  },
  {
   "cell_type": "code",
   "execution_count": null,
   "id": "fdaa79db-9588-4de1-9b08-7c90696e8b6d",
   "metadata": {
    "scrolled": true
   },
   "outputs": [],
   "source": [
    "%%time\n",
    "# get the density maps for all vertically annotated image files\n",
    "names_all_vn_v = []\n",
    "shapes_all_vn_v = []\n",
    "tasselDensities_all_vn_v = []\n",
    "dense_maps_all_vn_v = []\n",
    "for file_vn in file_names_vn:\n",
    "    name_vn, shape_vn, tassel_dense_vn, dense_map_vn = get_density_maps_not_annotated(file_vn, image_path_vn, save_density_path_vn)\n",
    "    names_all_vn_v.append(name_vn)\n",
    "    shapes_all_vn_v.append(shape_vn)\n",
    "    tasselDensities_all_vn_v.append(tassel_dense_vn)\n",
    "    dense_maps_all_vn_v.append(dense_map_vn)\n",
    "    "
   ]
  },
  {
   "cell_type": "code",
   "execution_count": null,
   "id": "ef390c0f-e4e6-4728-a88f-8960ef7471cd",
   "metadata": {},
   "outputs": [],
   "source": [
    "Vertical_not_annotated_df_test_13 = pd.DataFrame(zip(names_all_vn_v, tasselDensities_all_vn_v), columns = ['name', 'true_count'])"
   ]
  },
  {
   "cell_type": "code",
   "execution_count": null,
   "id": "e8a33e1e-b66a-44a4-bd3c-9982dd120641",
   "metadata": {},
   "outputs": [],
   "source": [
    "Vertical_not_annotated_df_test_13.head()"
   ]
  },
  {
   "cell_type": "code",
   "execution_count": null,
   "id": "13304eb2-8f2e-4cb7-97b5-3b8a25f63bd9",
   "metadata": {},
   "outputs": [],
   "source": [
    "Vertical_not_annotated_df_test_13.shape"
   ]
  },
  {
   "cell_type": "code",
   "execution_count": null,
   "id": "7801d6f7-35e4-4fd1-b02f-a621a78e5386",
   "metadata": {},
   "outputs": [],
   "source": [
    "# stack and save the dataframe of testset true counts\n",
    "test_data_13 = pd.concat((Vertical_not_annotated_df_test_13, True_tasselcounts_df_vertical_annot_test_13, True_tasselcounts_df_horizontal_annot_test_13), axis = 0)"
   ]
  },
  {
   "cell_type": "code",
   "execution_count": null,
   "id": "24a786a0-e303-43cd-a0b8-d56dd85c5fcc",
   "metadata": {},
   "outputs": [],
   "source": [
    "test_data_13.head()"
   ]
  },
  {
   "cell_type": "code",
   "execution_count": null,
   "id": "f8f57c45-1d18-4837-b513-a2c608565bac",
   "metadata": {},
   "outputs": [],
   "source": [
    "test_data_13.shape"
   ]
  },
  {
   "cell_type": "code",
   "execution_count": null,
   "id": "3f0e3bc6-97ed-4ee3-8889-f1ec9806108e",
   "metadata": {},
   "outputs": [],
   "source": [
    "# saev this dataframe\n",
    "test_data_13.to_csv(\"True_tassel_counts/test_data/true_test_counts_blk_13.csv\", index = False)"
   ]
  },
  {
   "cell_type": "code",
   "execution_count": null,
   "id": "10a64822-0648-4d05-829d-72550d02bbbc",
   "metadata": {},
   "outputs": [],
   "source": [
    "# move all the image and the xml files to a single location\n",
    "\n",
    "va_images_dense = 'Images_and_dense_maps_npy_test/vertical_annotated_images/Block_13'\n",
    "vn_images_dense = 'Images_and_dense_maps_npy_test/vertical_not_annotated_images/Block_13'\n",
    "h_images_dense = 'Images_and_dense_maps_npy_test/horizontal_annotated_images/Block_13'"
   ]
  },
  {
   "cell_type": "code",
   "execution_count": null,
   "id": "2dd4b448-0e8a-40e6-a767-a38eba3bd8af",
   "metadata": {},
   "outputs": [],
   "source": [
    "shutil.copytree(va_images_dense, 'Preprocessed_test_data/all_img_density_files/Block_13', dirs_exist_ok=True)\n",
    "shutil.copytree(vn_images_dense, 'Preprocessed_test_data/all_img_density_files/Block_13', dirs_exist_ok=True)\n",
    "shutil.copytree(h_images_dense, 'Preprocessed_test_data/all_img_density_files/Block_13', dirs_exist_ok=True)"
   ]
  },
  {
   "cell_type": "code",
   "execution_count": null,
   "id": "7f56d34d-ca54-45d3-8c61-f03851e7de2b",
   "metadata": {},
   "outputs": [],
   "source": [
    "test_files_path_13 = \"Preprocessed_test_data/all_img_density_files/Block_13\""
   ]
  },
  {
   "cell_type": "code",
   "execution_count": null,
   "id": "8e705460-b424-490c-9608-12b093b4c0e8",
   "metadata": {},
   "outputs": [],
   "source": [
    "test_im_and_map_contents_13 = os.listdir(test_files_path_13)\n",
    "\n",
    "# sort these - ALWAYS sort these as the order is always messed up on HCC\n",
    "test_im_and_map_contents_13.sort()"
   ]
  },
  {
   "cell_type": "code",
   "execution_count": null,
   "id": "a3bc167e-8011-4fe2-b409-2bba510d7502",
   "metadata": {},
   "outputs": [],
   "source": [
    "len(test_im_and_map_contents_13)"
   ]
  },
  {
   "cell_type": "code",
   "execution_count": null,
   "id": "1e523eff-a82c-4a0a-a2b9-20a4af38dfd2",
   "metadata": {},
   "outputs": [],
   "source": [
    "# get only the names of the image (npy files)\n",
    "test_im_names_13 = [item for item in test_im_and_map_contents_13 if item.split(\".\")[0][-3:] != 'map']"
   ]
  },
  {
   "cell_type": "code",
   "execution_count": null,
   "id": "40a06b5b-2564-447e-a034-2ac128512a40",
   "metadata": {},
   "outputs": [],
   "source": [
    "# how many? should be 32\n",
    "len(test_im_names_13)"
   ]
  },
  {
   "cell_type": "code",
   "execution_count": null,
   "id": "1e7062ce-4cdd-4ca5-9c21-ed82c5fb30b1",
   "metadata": {},
   "outputs": [],
   "source": [
    "# test_im_names_13"
   ]
  },
  {
   "cell_type": "code",
   "execution_count": null,
   "id": "fe191baf-b541-47a0-8c19-cf008ae981ef",
   "metadata": {},
   "outputs": [],
   "source": [
    "%%time\n",
    "# get the subwindows and counts for test data\n",
    "\n",
    "im_names = []\n",
    "for image in test_im_names_13:\n",
    "    test_ims, test_maps, test_names = create_subwindows_and_counts(image, test_files_path_13, stride = 8, kernel_size = 32)\n",
    "    test_im_array = np.array(test_ims)\n",
    "    test_map_array = np.array(test_maps)\n",
    "    print(image, test_im_array.shape, test_map_array.shape)\n",
    "    # save the arrays\n",
    "    # image stack\n",
    "    save_path = 'final_test_sub_windows_and_counts/Block_13'\n",
    "    np.save(save_path + '/' + 'test_ims_' + image, test_im_array)\n",
    "    # count stack\n",
    "    np.save(save_path + '/' + 'test_counts_' + image, test_im_array)\n",
    "    im_names.append(test_names)"
   ]
  },
  {
   "cell_type": "markdown",
   "id": "1961d121-cad5-4730-85e5-dff7770dd86c",
   "metadata": {},
   "source": [
    "Block 0104"
   ]
  },
  {
   "cell_type": "code",
   "execution_count": null,
   "id": "16a01232-71f3-4415-b33e-159d293dbf98",
   "metadata": {},
   "outputs": [],
   "source": [
    "# need the images saved as npy arrays and let's also get the density counts, JIC."
   ]
  },
  {
   "cell_type": "code",
   "execution_count": null,
   "id": "1a704a72-ce7d-476e-9e1b-6d9298336c36",
   "metadata": {},
   "outputs": [],
   "source": [
    "# list all the image and the xml files for the train data\n",
    "test_contents_14 = os.listdir(block_0104)\n",
    "# separate image and xml files\n",
    "img_files_14, xml_files_14 = separate_img_xml(test_contents_14)\n",
    "# separate annotated and not annotated images\n",
    "annot_img_14, not_annot_img_14 = separate_annot_and_not(img_files_14, xml_files_14)\n",
    "# separate vertical and horizontal annotated images\n",
    "annot_vertical_images_14, annot_vertical_xmls_14, annot_horizontal_images_14, annot_horizontal_xmls_14 = separate_annnot_vertical_horizontal(annot_img_14, \n",
    "                                                                                                                                             xml_files_14, 6)\n",
    "# check shapes\n",
    "print(check_annot(annot_vertical_images_14, annot_vertical_xmls_14, annot_horizontal_images_14, annot_horizontal_xmls_14))"
   ]
  },
  {
   "cell_type": "code",
   "execution_count": null,
   "id": "4571e92c-3404-4aef-a1d1-e1e7e8ee6d4f",
   "metadata": {
    "scrolled": true
   },
   "outputs": [],
   "source": [
    "# store the vertically annotated images - validation data\n",
    "store_path = \"Images_and_dense_maps_npy_test/vertical_annotated_images/Block_14\"\n",
    "\n",
    "# blk 24\n",
    "im_shapes_annot_vertical_14 = []\n",
    "for item in annot_vertical_images_14:\n",
    "    img_shape = store_images_as_np_arrays_vertical(block_0104, item, store_path)\n",
    "    im_shapes_annot_vertical_14.append(img_shape)\n",
    "print(\"Block 14 done!\")"
   ]
  },
  {
   "cell_type": "code",
   "execution_count": null,
   "id": "e28a7085-3553-4120-8517-a7b699e3a121",
   "metadata": {},
   "outputs": [],
   "source": [
    "print(im_shapes_annot_vertical_14)"
   ]
  },
  {
   "cell_type": "code",
   "execution_count": null,
   "id": "a055e990-82bc-487b-9211-e874d63e4e18",
   "metadata": {
    "scrolled": true
   },
   "outputs": [],
   "source": [
    "# store the vertically not-annotated images\n",
    "store_path = \"Images_and_dense_maps_npy_test/vertical_not_annotated_images/Block_14\"\n",
    "\n",
    "# blk 13\n",
    "im_shapes_notannot_vertical_14 = []\n",
    "for item in not_annot_img_14:\n",
    "    img_shape = store_images_as_np_arrays_vertical(block_0104, item, store_path)\n",
    "    im_shapes_notannot_vertical_14.append(img_shape)\n",
    "print(\"Block 14 done!\")"
   ]
  },
  {
   "cell_type": "code",
   "execution_count": null,
   "id": "90e47a9f-0833-42f5-8414-990fb047e045",
   "metadata": {},
   "outputs": [],
   "source": [
    "print(im_shapes_notannot_vertical_14)"
   ]
  },
  {
   "cell_type": "code",
   "execution_count": null,
   "id": "5c616e86-8986-4480-88a4-b18dd38e59a1",
   "metadata": {
    "scrolled": true
   },
   "outputs": [],
   "source": [
    "# store the horizontally annotated images\n",
    "store_path = \"Images_and_dense_maps_npy_test/horizontal_annotated_images/Block_14\"\n",
    "\n",
    "# blk 11 - the first horizontal image has a problem, needs to be rotated\n",
    "im_shapes_annot_horizontal_14 = []\n",
    "for item in annot_horizontal_images_14:\n",
    "    img_shape = store_images_as_np_arrays_horizontal(block_0104, item, store_path)\n",
    "    im_shapes_annot_horizontal_14.append(img_shape)\n",
    "print(\"Block 13 done!\")"
   ]
  },
  {
   "cell_type": "code",
   "execution_count": null,
   "id": "c6dfbbc9-ab3f-4074-88de-c3972c7ea8a0",
   "metadata": {},
   "outputs": [],
   "source": [
    "print(im_shapes_annot_horizontal_14)"
   ]
  },
  {
   "cell_type": "code",
   "execution_count": null,
   "id": "d33fd0f3-fdb7-40a6-a60b-041e02ec4410",
   "metadata": {},
   "outputs": [],
   "source": [
    "# xml_files_14"
   ]
  },
  {
   "cell_type": "code",
   "execution_count": null,
   "id": "20b495b9-6a9c-4e5d-9223-a1cf6adb6f1b",
   "metadata": {},
   "outputs": [],
   "source": [
    "# Get the xml file paths in a single location\n",
    "new_store_path = 'test_xml_files'\n",
    "# blk 13\n",
    "for file in xml_files_14:\n",
    "    joined_path = os.path.join(block_0104, file)\n",
    "    # store the file in new path\n",
    "    shutil.copy(joined_path, new_store_path)"
   ]
  },
  {
   "cell_type": "code",
   "execution_count": null,
   "id": "bfe61178-e20f-48ef-8135-ebb11f88ea58",
   "metadata": {},
   "outputs": [],
   "source": [
    "# get the outputs from this function\n",
    "image_path = \"Images_and_dense_maps_npy_test/vertical_annotated_images/Block_14/\"\n",
    "xml_path = 'test_xml_files'\n",
    "save_density_path = image_path"
   ]
  },
  {
   "cell_type": "code",
   "execution_count": null,
   "id": "2a47cafb-3a8d-4ede-832c-b452845594b0",
   "metadata": {},
   "outputs": [],
   "source": [
    "file_names_v = [file.split(\".\")[0] for file in os.listdir(image_path) if file.split(\".\")[0][-3:] != 'map']\n",
    "file_names_v.sort()"
   ]
  },
  {
   "cell_type": "code",
   "execution_count": null,
   "id": "9c7b6d16-43b9-46c2-a61d-efe93e4ea796",
   "metadata": {},
   "outputs": [],
   "source": [
    "# file_names_v"
   ]
  },
  {
   "cell_type": "code",
   "execution_count": null,
   "id": "cf19e083-3de6-4c4d-849a-e948e6241da2",
   "metadata": {
    "scrolled": true
   },
   "outputs": [],
   "source": [
    "%%time\n",
    "names_all_va_v = []\n",
    "shapes_all_va_v = []\n",
    "tasselCounts_all_va_v = []\n",
    "tasselDensities_all_va_v = []\n",
    "dense_maps_all_va_v = []\n",
    "for file_name in file_names_v:\n",
    "    name_va, shape_va, tassels_va, tassel_dense_va, dense_map_va = get_density_maps_vertical(file_name, image_path, xml_path, save_density_path)\n",
    "    names_all_va_v.append(name_va)\n",
    "    shapes_all_va_v.append(shape_va)\n",
    "    tasselCounts_all_va_v.append(tassels_va)\n",
    "    tasselDensities_all_va_v.append(tassel_dense_va)\n",
    "    dense_maps_all_va_v.append(dense_map_va)"
   ]
  },
  {
   "cell_type": "code",
   "execution_count": null,
   "id": "932fe587-f09a-4425-bce6-625a7070bdc6",
   "metadata": {},
   "outputs": [],
   "source": [
    "# a few sanity checks\n",
    "np.mean(tasselCounts_all_va_v == np.round(tasselDensities_all_va_v))"
   ]
  },
  {
   "cell_type": "code",
   "execution_count": null,
   "id": "2136df5c-2925-4ad9-8266-f9d1e3637534",
   "metadata": {},
   "outputs": [],
   "source": [
    "# create a dataframe of the true counts\n",
    "True_tasselcounts_df_vertical_annot_test_13 = pd.DataFrame(zip(names_all_va_v, tasselCounts_all_va_v), columns = ['name', 'true_count'])"
   ]
  },
  {
   "cell_type": "code",
   "execution_count": null,
   "id": "be19f4af-996a-4b4f-b4ca-3293842b24fb",
   "metadata": {},
   "outputs": [],
   "source": [
    "True_tasselcounts_df_vertical_annot_test_13.shape"
   ]
  },
  {
   "cell_type": "code",
   "execution_count": null,
   "id": "da7ab892-d6f0-4eba-a4b9-0e94e9a03741",
   "metadata": {},
   "outputs": [],
   "source": [
    "True_tasselcounts_df_vertical_annot_test_13.head()"
   ]
  },
  {
   "cell_type": "code",
   "execution_count": null,
   "id": "a8545e92-b717-49b3-8172-8a01b737eb6c",
   "metadata": {},
   "outputs": [],
   "source": [
    "# get the outputs from this function\n",
    "image_path_h = \"Images_and_dense_maps_npy_test/horizontal_annotated_images/Block_14\"\n",
    "xml_path_h = 'test_xml_files'\n",
    "save_density_path_h = image_path_h"
   ]
  },
  {
   "cell_type": "code",
   "execution_count": null,
   "id": "696c62a1-e4e0-4678-9c9e-f4ff2df4019b",
   "metadata": {},
   "outputs": [],
   "source": [
    "file_names_h = [file.split(\".\")[0] for file in os.listdir(image_path_h) if file.split(\".\")[0][-3:] != 'map']\n",
    "file_names_h.sort()"
   ]
  },
  {
   "cell_type": "code",
   "execution_count": null,
   "id": "6cd7cad1-969a-460c-9c82-c20a1d01cbcb",
   "metadata": {},
   "outputs": [],
   "source": [
    "# file_names_h"
   ]
  },
  {
   "cell_type": "code",
   "execution_count": null,
   "id": "9a677b4b-e106-40ec-bb2c-cecadce2a987",
   "metadata": {
    "scrolled": true
   },
   "outputs": [],
   "source": [
    "%%time\n",
    "names_all_h_v = []\n",
    "shapes_all_h_v = []\n",
    "tasselCounts_all_h_v = []\n",
    "tasselDensities_all_h_v = []\n",
    "dense_maps_all_h_v = []\n",
    "for file_h in file_names_h:\n",
    "    name_h, shape_h, tassels_h, tassel_dense_h, dense_map_h = get_density_maps_horizontal(file_h, image_path_h, xml_path_h, save_density_path_h)\n",
    "    names_all_h_v.append(name_h)\n",
    "    shapes_all_h_v.append(shape_h)\n",
    "    tasselCounts_all_h_v.append(tassels_h)\n",
    "    tasselDensities_all_h_v.append(tassel_dense_h)\n",
    "    dense_maps_all_h_v.append(dense_map_h)"
   ]
  },
  {
   "cell_type": "code",
   "execution_count": null,
   "id": "c31e13f3-e5b7-40f6-bfbe-210d8a11c444",
   "metadata": {},
   "outputs": [],
   "source": [
    "# a few sanity checks\n",
    "np.mean(tasselCounts_all_h_v == np.round(tasselDensities_all_h_v))"
   ]
  },
  {
   "cell_type": "code",
   "execution_count": null,
   "id": "3159888b-98f0-4d31-820f-f78c25cb720c",
   "metadata": {},
   "outputs": [],
   "source": [
    "# create a dataframe of the true counts\n",
    "True_tasselcounts_df_horizontal_annot_test_13 = pd.DataFrame(zip(names_all_h_v, tasselCounts_all_h_v), columns = ['name', 'true_count'])"
   ]
  },
  {
   "cell_type": "code",
   "execution_count": null,
   "id": "6232d564-7151-44bc-bac8-a5757b813cc3",
   "metadata": {},
   "outputs": [],
   "source": [
    "True_tasselcounts_df_horizontal_annot_test_13.shape"
   ]
  },
  {
   "cell_type": "code",
   "execution_count": null,
   "id": "b51d1703-38fb-4c88-b966-0be352fe52ea",
   "metadata": {},
   "outputs": [],
   "source": [
    "True_tasselcounts_df_horizontal_annot_test_13.head()"
   ]
  },
  {
   "cell_type": "code",
   "execution_count": null,
   "id": "bf6fdc54-d9ed-4eac-8346-945409a9b8b4",
   "metadata": {},
   "outputs": [],
   "source": [
    "image_path_vn = 'Images_and_dense_maps_npy_test/vertical_not_annotated_images/Block_14'\n",
    "save_density_path_vn = image_path_vn"
   ]
  },
  {
   "cell_type": "code",
   "execution_count": null,
   "id": "844fda9d-ba30-4bc8-924e-70054a755d79",
   "metadata": {},
   "outputs": [],
   "source": [
    "file_names_vn = [file.split(\".\")[0] for file in os.listdir(image_path_vn) if file.split(\".\")[0][-3:] != 'map']\n",
    "file_names_vn.sort()"
   ]
  },
  {
   "cell_type": "code",
   "execution_count": null,
   "id": "0b2a7c9b-0fdb-4448-ad4e-b13e22dfccb7",
   "metadata": {},
   "outputs": [],
   "source": [
    "len(file_names_vn)"
   ]
  },
  {
   "cell_type": "code",
   "execution_count": null,
   "id": "d5caafd3-ca64-4330-b3ab-8bd439f3545d",
   "metadata": {},
   "outputs": [],
   "source": [
    "file_names_vn"
   ]
  },
  {
   "cell_type": "code",
   "execution_count": null,
   "id": "3368aa05-f7a1-468a-af86-d1eb8778277e",
   "metadata": {
    "scrolled": true
   },
   "outputs": [],
   "source": [
    "%%time\n",
    "# get the density maps for all vertically annotated image files\n",
    "names_all_vn_v = []\n",
    "shapes_all_vn_v = []\n",
    "tasselDensities_all_vn_v = []\n",
    "dense_maps_all_vn_v = []\n",
    "for file_vn in file_names_vn:\n",
    "    name_vn, shape_vn, tassel_dense_vn, dense_map_vn = get_density_maps_not_annotated(file_vn, image_path_vn, save_density_path_vn)\n",
    "    names_all_vn_v.append(name_vn)\n",
    "    shapes_all_vn_v.append(shape_vn)\n",
    "    tasselDensities_all_vn_v.append(tassel_dense_vn)\n",
    "    dense_maps_all_vn_v.append(dense_map_vn)\n",
    "    "
   ]
  },
  {
   "cell_type": "code",
   "execution_count": null,
   "id": "f4b57426-91b4-469b-8e61-876e1276ebd3",
   "metadata": {},
   "outputs": [],
   "source": [
    "Vertical_not_annotated_df_test_13 = pd.DataFrame(zip(names_all_vn_v, tasselDensities_all_vn_v), columns = ['name', 'true_count'])"
   ]
  },
  {
   "cell_type": "code",
   "execution_count": null,
   "id": "b4af2031-03dd-49d9-a178-ec82e34a9783",
   "metadata": {},
   "outputs": [],
   "source": [
    "Vertical_not_annotated_df_test_13.head()"
   ]
  },
  {
   "cell_type": "code",
   "execution_count": null,
   "id": "8a74a511-1ba5-43fb-81fe-2b0b9f6f1b96",
   "metadata": {},
   "outputs": [],
   "source": [
    "Vertical_not_annotated_df_test_13.shape"
   ]
  },
  {
   "cell_type": "code",
   "execution_count": null,
   "id": "864c2a1c-22e8-41d8-a162-2424b289b2e3",
   "metadata": {},
   "outputs": [],
   "source": [
    "# stack and save the dataframe of testset true counts\n",
    "test_data_13 = pd.concat((Vertical_not_annotated_df_test_13, True_tasselcounts_df_vertical_annot_test_13, True_tasselcounts_df_horizontal_annot_test_13), axis = 0)"
   ]
  },
  {
   "cell_type": "code",
   "execution_count": null,
   "id": "de1ef3b1-6643-4c8b-b22e-f0d315b1edd5",
   "metadata": {},
   "outputs": [],
   "source": [
    "test_data_13.head()"
   ]
  },
  {
   "cell_type": "code",
   "execution_count": null,
   "id": "c3f9d794-f8ec-42af-b76e-6cee900d8565",
   "metadata": {},
   "outputs": [],
   "source": [
    "test_data_13.shape"
   ]
  },
  {
   "cell_type": "code",
   "execution_count": null,
   "id": "1a0d0fc2-001a-43d8-8868-a2fe5b70bd8d",
   "metadata": {},
   "outputs": [],
   "source": [
    "# saev this dataframe\n",
    "test_data_13.to_csv(\"True_tassel_counts/test_data/true_test_counts_blk_14.csv\", index = False)"
   ]
  },
  {
   "cell_type": "code",
   "execution_count": null,
   "id": "6a4dd49c-a510-48bd-b947-406a9b942093",
   "metadata": {},
   "outputs": [],
   "source": [
    "# move all the image and the xml files to a single location\n",
    "\n",
    "va_images_dense = 'Images_and_dense_maps_npy_test/vertical_annotated_images/Block_14'\n",
    "vn_images_dense = 'Images_and_dense_maps_npy_test/vertical_not_annotated_images/Block_14'\n",
    "h_images_dense = 'Images_and_dense_maps_npy_test/horizontal_annotated_images/Block_14'"
   ]
  },
  {
   "cell_type": "code",
   "execution_count": null,
   "id": "8e32504b-bcca-4786-a5ee-d55977f75948",
   "metadata": {},
   "outputs": [],
   "source": [
    "shutil.copytree(va_images_dense, 'Preprocessed_test_data/all_img_density_files/Block_14', dirs_exist_ok=True)\n",
    "shutil.copytree(vn_images_dense, 'Preprocessed_test_data/all_img_density_files/Block_14', dirs_exist_ok=True)\n",
    "shutil.copytree(h_images_dense, 'Preprocessed_test_data/all_img_density_files/Block_14', dirs_exist_ok=True)"
   ]
  },
  {
   "cell_type": "code",
   "execution_count": null,
   "id": "af95590d-ceba-40f8-8740-8dff5c481926",
   "metadata": {},
   "outputs": [],
   "source": [
    "test_files_path_14 = \"Preprocessed_test_data/all_img_density_files/Block_14\""
   ]
  },
  {
   "cell_type": "code",
   "execution_count": null,
   "id": "cb3f253b-22ee-4f45-95c8-7bc92bc0269c",
   "metadata": {},
   "outputs": [],
   "source": [
    "test_im_and_map_contents_14 = os.listdir(test_files_path_14)\n",
    "\n",
    "# sort these - ALWAYS sort these as the order is always messed up on HCC\n",
    "test_im_and_map_contents_14.sort()"
   ]
  },
  {
   "cell_type": "code",
   "execution_count": null,
   "id": "f0447a31-da5f-4916-91a2-e5cb45daec95",
   "metadata": {},
   "outputs": [],
   "source": [
    "len(test_im_and_map_contents_14)"
   ]
  },
  {
   "cell_type": "code",
   "execution_count": null,
   "id": "eeed0b08-2d62-44f8-8245-92306f496479",
   "metadata": {},
   "outputs": [],
   "source": [
    "# get only the names of the image (npy files)\n",
    "test_im_names_14 = [item for item in test_im_and_map_contents_14 if item.split(\".\")[0][-3:] != 'map']"
   ]
  },
  {
   "cell_type": "code",
   "execution_count": null,
   "id": "b31c84b6-3dcf-416f-8a6c-20cf77dd9851",
   "metadata": {},
   "outputs": [],
   "source": [
    "# how many? should be 32\n",
    "len(test_im_names_14)"
   ]
  },
  {
   "cell_type": "code",
   "execution_count": null,
   "id": "569258d7-4ec5-46ec-be0d-207de386e909",
   "metadata": {},
   "outputs": [],
   "source": [
    "# test_im_names_14"
   ]
  },
  {
   "cell_type": "code",
   "execution_count": null,
   "id": "25fbb539-739c-429a-b7fc-3b20c52d4d2b",
   "metadata": {},
   "outputs": [],
   "source": [
    "%%time\n",
    "# get the subwindows and counts for test data\n",
    "\n",
    "im_names = []\n",
    "for image in test_im_names_14:\n",
    "    test_ims, test_maps, test_names = create_subwindows_and_counts(image, test_files_path_14, stride = 8, kernel_size = 32)\n",
    "    test_im_array = np.array(test_ims)\n",
    "    test_map_array = np.array(test_maps)\n",
    "    print(image, test_im_array.shape, test_map_array.shape)\n",
    "    # save the arrays\n",
    "    # image stack\n",
    "    save_path = 'final_test_sub_windows_and_counts/Block_14'\n",
    "    np.save(save_path + '/' + 'test_ims_' + image, test_im_array)\n",
    "    # count stack\n",
    "    np.save(save_path + '/' + 'test_counts_' + image, test_im_array)\n",
    "    im_names.append(test_names)"
   ]
  },
  {
   "cell_type": "markdown",
   "id": "4349e96e-4f82-45c5-b5da-fbd1c8fe3549",
   "metadata": {},
   "source": [
    "Block 0105"
   ]
  },
  {
   "cell_type": "code",
   "execution_count": null,
   "id": "b2b56de2-bf6c-4dbc-95fb-7338e5a151bf",
   "metadata": {},
   "outputs": [],
   "source": [
    "# list all the image and the xml files for the train data\n",
    "test_contents_15 = os.listdir(block_0105)\n",
    "# separate image and xml files\n",
    "img_files_15, xml_files_15 = separate_img_xml(test_contents_15)\n",
    "# separate annotated and not annotated images\n",
    "annot_img_15, not_annot_img_15 = separate_annot_and_not(img_files_15, xml_files_15)\n",
    "# separate vertical and horizontal annotated images\n",
    "annot_vertical_images_15, annot_vertical_xmls_15, annot_horizontal_images_15, annot_horizontal_xmls_15 = separate_annnot_vertical_horizontal(annot_img_15, \n",
    "                                                                                                                                             xml_files_15, 6)\n",
    "# check shapes\n",
    "print(check_annot(annot_vertical_images_15, annot_vertical_xmls_15, annot_horizontal_images_15, annot_horizontal_xmls_15))"
   ]
  },
  {
   "cell_type": "code",
   "execution_count": null,
   "id": "8e216d3b-1acb-4dac-8b74-e587dab75057",
   "metadata": {
    "scrolled": true
   },
   "outputs": [],
   "source": [
    "# store the vertically annotated images - validation data\n",
    "store_path = \"Images_and_dense_maps_npy_test/vertical_annotated_images/Block_15\"\n",
    "\n",
    "# blk 24\n",
    "im_shapes_annot_vertical_15 = []\n",
    "for item in annot_vertical_images_15:\n",
    "    img_shape = store_images_as_np_arrays_vertical(block_0105, item, store_path)\n",
    "    im_shapes_annot_vertical_15.append(img_shape)\n",
    "print(\"Block 15 done!\")"
   ]
  },
  {
   "cell_type": "code",
   "execution_count": null,
   "id": "8c669f70-28cd-49e7-82a4-fab77ee7d2b0",
   "metadata": {},
   "outputs": [],
   "source": [
    "print(im_shapes_annot_vertical_15)"
   ]
  },
  {
   "cell_type": "code",
   "execution_count": null,
   "id": "805e8592-8102-42ae-bc75-5510a5d4d5d0",
   "metadata": {
    "scrolled": true
   },
   "outputs": [],
   "source": [
    "# store the vertically not-annotated images\n",
    "store_path = \"Images_and_dense_maps_npy_test/vertical_not_annotated_images/Block_15\"\n",
    "\n",
    "# blk 15\n",
    "im_shapes_notannot_vertical_15 = []\n",
    "for item in not_annot_img_15:\n",
    "    img_shape = store_images_as_np_arrays_vertical(block_0105, item, store_path)\n",
    "    im_shapes_notannot_vertical_15.append(img_shape)\n",
    "print(\"Block 15 done!\")"
   ]
  },
  {
   "cell_type": "code",
   "execution_count": null,
   "id": "b4224697-94c2-4c16-895c-e639f82fe1a1",
   "metadata": {},
   "outputs": [],
   "source": [
    "print(im_shapes_notannot_vertical_15)"
   ]
  },
  {
   "cell_type": "code",
   "execution_count": null,
   "id": "e83b3e83-93cd-41d1-8810-33be640545ce",
   "metadata": {
    "scrolled": true
   },
   "outputs": [],
   "source": [
    "# store the horizontally annotated images\n",
    "store_path = \"Images_and_dense_maps_npy_test/horizontal_annotated_images/Block_15\"\n",
    "\n",
    "# blk 15 \n",
    "im_shapes_annot_horizontal_15 = []\n",
    "for item in annot_horizontal_images_15:\n",
    "    img_shape = store_images_as_np_arrays_horizontal(block_0105, item, store_path)\n",
    "    im_shapes_annot_horizontal_15.append(img_shape)\n",
    "print(\"Block 15 done!\")"
   ]
  },
  {
   "cell_type": "code",
   "execution_count": null,
   "id": "26c90c3a-eac3-41b2-9438-3caaafe579cc",
   "metadata": {},
   "outputs": [],
   "source": [
    "print(im_shapes_annot_horizontal_15)"
   ]
  },
  {
   "cell_type": "code",
   "execution_count": null,
   "id": "296c4685-036e-4063-bae6-aa58e51ff826",
   "metadata": {},
   "outputs": [],
   "source": [
    "# xml_files_15"
   ]
  },
  {
   "cell_type": "code",
   "execution_count": null,
   "id": "3adb282b-9ef1-4290-8201-67fffd6e3d78",
   "metadata": {},
   "outputs": [],
   "source": [
    "# Get the xml file paths in a single location\n",
    "new_store_path = 'test_xml_files'\n",
    "# blk 15\n",
    "for file in xml_files_15:\n",
    "    joined_path = os.path.join(block_0105, file)\n",
    "    # store the file in new path\n",
    "    shutil.copy(joined_path, new_store_path)"
   ]
  },
  {
   "cell_type": "code",
   "execution_count": null,
   "id": "fcfb3957-7f49-4983-97a2-2eae6aa66ec0",
   "metadata": {},
   "outputs": [],
   "source": [
    "# get the outputs from this function\n",
    "image_path = \"Images_and_dense_maps_npy_test/vertical_annotated_images/Block_15/\"\n",
    "xml_path = 'test_xml_files'\n",
    "save_density_path = image_path"
   ]
  },
  {
   "cell_type": "code",
   "execution_count": null,
   "id": "e147c66b-b2bc-445c-b567-0ba3079e9798",
   "metadata": {},
   "outputs": [],
   "source": [
    "file_names_v = [file.split(\".\")[0] for file in os.listdir(image_path) if file.split(\".\")[0][-3:] != 'map']\n",
    "file_names_v.sort()"
   ]
  },
  {
   "cell_type": "code",
   "execution_count": null,
   "id": "4d0328e2-1142-47f1-a73d-8fd23ff779f0",
   "metadata": {},
   "outputs": [],
   "source": [
    "# file_names_v"
   ]
  },
  {
   "cell_type": "code",
   "execution_count": null,
   "id": "4b3cab8b-b662-43f0-ae8d-abc7e126f435",
   "metadata": {
    "scrolled": true
   },
   "outputs": [],
   "source": [
    "%%time\n",
    "names_all_va_v = []\n",
    "shapes_all_va_v = []\n",
    "tasselCounts_all_va_v = []\n",
    "tasselDensities_all_va_v = []\n",
    "dense_maps_all_va_v = []\n",
    "for file_name in file_names_v:\n",
    "    name_va, shape_va, tassels_va, tassel_dense_va, dense_map_va = get_density_maps_vertical(file_name, image_path, xml_path, save_density_path)\n",
    "    names_all_va_v.append(name_va)\n",
    "    shapes_all_va_v.append(shape_va)\n",
    "    tasselCounts_all_va_v.append(tassels_va)\n",
    "    tasselDensities_all_va_v.append(tassel_dense_va)\n",
    "    dense_maps_all_va_v.append(dense_map_va)"
   ]
  },
  {
   "cell_type": "code",
   "execution_count": null,
   "id": "d009110d-6d6c-47b4-86ff-e3c6549756a5",
   "metadata": {},
   "outputs": [],
   "source": [
    "# a few sanity checks\n",
    "np.mean(tasselCounts_all_va_v == np.round(tasselDensities_all_va_v))"
   ]
  },
  {
   "cell_type": "code",
   "execution_count": null,
   "id": "ab7a199e-ff34-48e3-9105-dac305d158f0",
   "metadata": {},
   "outputs": [],
   "source": [
    "# create a dataframe of the true counts\n",
    "True_tasselcounts_df_vertical_annot_test_15 = pd.DataFrame(zip(names_all_va_v, tasselCounts_all_va_v), columns = ['name', 'true_count'])"
   ]
  },
  {
   "cell_type": "code",
   "execution_count": null,
   "id": "e1a0f356-29b2-48ca-84d4-27e3e71be120",
   "metadata": {},
   "outputs": [],
   "source": [
    "True_tasselcounts_df_vertical_annot_test_15.shape"
   ]
  },
  {
   "cell_type": "code",
   "execution_count": null,
   "id": "85982c4e-6b76-48d0-bb6e-2e32460b5a2c",
   "metadata": {},
   "outputs": [],
   "source": [
    "True_tasselcounts_df_vertical_annot_test_15.head()"
   ]
  },
  {
   "cell_type": "code",
   "execution_count": null,
   "id": "66e06579-08e8-4364-be61-26456d6f725b",
   "metadata": {},
   "outputs": [],
   "source": [
    "# get the outputs from this function\n",
    "image_path_h = \"Images_and_dense_maps_npy_test/horizontal_annotated_images/Block_15\"\n",
    "xml_path_h = 'test_xml_files'\n",
    "save_density_path_h = image_path_h"
   ]
  },
  {
   "cell_type": "code",
   "execution_count": null,
   "id": "ddd16d63-d410-4dea-bda5-abe91561f89f",
   "metadata": {},
   "outputs": [],
   "source": [
    "file_names_h = [file.split(\".\")[0] for file in os.listdir(image_path_h) if file.split(\".\")[0][-3:] != 'map']\n",
    "file_names_h.sort()"
   ]
  },
  {
   "cell_type": "code",
   "execution_count": null,
   "id": "b7a117cc-c1a0-4288-a8d1-a812cebbde7e",
   "metadata": {},
   "outputs": [],
   "source": [
    "# file_names_h"
   ]
  },
  {
   "cell_type": "code",
   "execution_count": null,
   "id": "025d4879-1e3f-4c8e-a55d-cc5824cbb510",
   "metadata": {
    "scrolled": true
   },
   "outputs": [],
   "source": [
    "%%time\n",
    "names_all_h_v = []\n",
    "shapes_all_h_v = []\n",
    "tasselCounts_all_h_v = []\n",
    "tasselDensities_all_h_v = []\n",
    "dense_maps_all_h_v = []\n",
    "for file_h in file_names_h:\n",
    "    name_h, shape_h, tassels_h, tassel_dense_h, dense_map_h = get_density_maps_horizontal(file_h, image_path_h, xml_path_h, save_density_path_h)\n",
    "    names_all_h_v.append(name_h)\n",
    "    shapes_all_h_v.append(shape_h)\n",
    "    tasselCounts_all_h_v.append(tassels_h)\n",
    "    tasselDensities_all_h_v.append(tassel_dense_h)\n",
    "    dense_maps_all_h_v.append(dense_map_h)"
   ]
  },
  {
   "cell_type": "code",
   "execution_count": null,
   "id": "08c4eaaa-0434-4956-8dd3-625e993eb79c",
   "metadata": {},
   "outputs": [],
   "source": [
    "# a few sanity checks\n",
    "np.mean(tasselCounts_all_h_v == np.round(tasselDensities_all_h_v))"
   ]
  },
  {
   "cell_type": "code",
   "execution_count": null,
   "id": "baf7ffd0-e4ff-450c-af79-d5458e5d7483",
   "metadata": {},
   "outputs": [],
   "source": [
    "# create a dataframe of the true counts\n",
    "True_tasselcounts_df_horizontal_annot_test_15 = pd.DataFrame(zip(names_all_h_v, tasselCounts_all_h_v), columns = ['name', 'true_count'])"
   ]
  },
  {
   "cell_type": "code",
   "execution_count": null,
   "id": "94174d4f-298e-438b-8861-63955dd7c0da",
   "metadata": {},
   "outputs": [],
   "source": [
    "True_tasselcounts_df_horizontal_annot_test_15.shape"
   ]
  },
  {
   "cell_type": "code",
   "execution_count": null,
   "id": "0d09d534-19d2-4d9e-9251-ed69e41b094c",
   "metadata": {},
   "outputs": [],
   "source": [
    "True_tasselcounts_df_horizontal_annot_test_15.head()"
   ]
  },
  {
   "cell_type": "code",
   "execution_count": null,
   "id": "5167ffcd-5da6-444f-b76d-9cf392168321",
   "metadata": {},
   "outputs": [],
   "source": [
    "image_path_vn = 'Images_and_dense_maps_npy_test/vertical_not_annotated_images/Block_15'\n",
    "save_density_path_vn = image_path_vn"
   ]
  },
  {
   "cell_type": "code",
   "execution_count": null,
   "id": "ccb9f586-a052-46ac-a71a-d3f5be0af787",
   "metadata": {},
   "outputs": [],
   "source": [
    "file_names_vn = [file.split(\".\")[0] for file in os.listdir(image_path_vn) if file.split(\".\")[0][-3:] != 'map']\n",
    "file_names_vn.sort()"
   ]
  },
  {
   "cell_type": "code",
   "execution_count": null,
   "id": "48287a0a-eb35-4efb-b480-d0d7ff5194ce",
   "metadata": {},
   "outputs": [],
   "source": [
    "len(file_names_vn)"
   ]
  },
  {
   "cell_type": "code",
   "execution_count": null,
   "id": "f13b54bb-a2d0-4ad2-bf3c-7fb9aec85107",
   "metadata": {},
   "outputs": [],
   "source": [
    "file_names_vn"
   ]
  },
  {
   "cell_type": "code",
   "execution_count": null,
   "id": "1132ba42-f89a-4f23-8f8b-551b3190143b",
   "metadata": {
    "scrolled": true
   },
   "outputs": [],
   "source": [
    "%%time\n",
    "# get the density maps for all vertically annotated image files\n",
    "names_all_vn_v = []\n",
    "shapes_all_vn_v = []\n",
    "tasselDensities_all_vn_v = []\n",
    "dense_maps_all_vn_v = []\n",
    "for file_vn in file_names_vn:\n",
    "    name_vn, shape_vn, tassel_dense_vn, dense_map_vn = get_density_maps_not_annotated(file_vn, image_path_vn, save_density_path_vn)\n",
    "    names_all_vn_v.append(name_vn)\n",
    "    shapes_all_vn_v.append(shape_vn)\n",
    "    tasselDensities_all_vn_v.append(tassel_dense_vn)\n",
    "    dense_maps_all_vn_v.append(dense_map_vn)\n",
    "    "
   ]
  },
  {
   "cell_type": "code",
   "execution_count": null,
   "id": "077c4a36-e754-47cc-8d5d-26e7014ae1b1",
   "metadata": {},
   "outputs": [],
   "source": [
    "Vertical_not_annotated_df_test_15 = pd.DataFrame(zip(names_all_vn_v, tasselDensities_all_vn_v), columns = ['name', 'true_count'])"
   ]
  },
  {
   "cell_type": "code",
   "execution_count": null,
   "id": "62e83a65-2ec0-434f-bb1d-c0175552527c",
   "metadata": {},
   "outputs": [],
   "source": [
    "Vertical_not_annotated_df_test_15.head()"
   ]
  },
  {
   "cell_type": "code",
   "execution_count": null,
   "id": "ee0455bc-6725-4894-a49c-39d74217d592",
   "metadata": {},
   "outputs": [],
   "source": [
    "Vertical_not_annotated_df_test_15.shape"
   ]
  },
  {
   "cell_type": "code",
   "execution_count": null,
   "id": "da377523-84e6-4d8e-af3c-f7f89a99d4db",
   "metadata": {},
   "outputs": [],
   "source": [
    "# stack and save the dataframe of testset true counts\n",
    "test_data_15 = pd.concat((Vertical_not_annotated_df_test_15, True_tasselcounts_df_vertical_annot_test_15, True_tasselcounts_df_horizontal_annot_test_15), axis = 0)"
   ]
  },
  {
   "cell_type": "code",
   "execution_count": null,
   "id": "f1aaf0e6-5c02-4994-9cd7-2c48b8f527ba",
   "metadata": {},
   "outputs": [],
   "source": [
    "test_data_15.head()"
   ]
  },
  {
   "cell_type": "code",
   "execution_count": null,
   "id": "5dcf388a-1d04-49b6-a836-2abd80e42eba",
   "metadata": {},
   "outputs": [],
   "source": [
    "test_data_15.shape"
   ]
  },
  {
   "cell_type": "code",
   "execution_count": null,
   "id": "f0d0523c-d443-4209-a2ec-1dcd1637fd97",
   "metadata": {},
   "outputs": [],
   "source": [
    "# saev this dataframe\n",
    "test_data_15.to_csv(\"True_tassel_counts/test_data/true_test_counts_blk_15.csv\", index = False)"
   ]
  },
  {
   "cell_type": "code",
   "execution_count": null,
   "id": "98811354-8d13-43eb-8a32-776ab5fd1440",
   "metadata": {},
   "outputs": [],
   "source": [
    "# move all the image and the xml files to a single location\n",
    "\n",
    "va_images_dense = 'Images_and_dense_maps_npy_test/vertical_annotated_images/Block_15'\n",
    "vn_images_dense = 'Images_and_dense_maps_npy_test/vertical_not_annotated_images/Block_15'\n",
    "h_images_dense = 'Images_and_dense_maps_npy_test/horizontal_annotated_images/Block_15'"
   ]
  },
  {
   "cell_type": "code",
   "execution_count": null,
   "id": "11e9fc61-39ef-42e3-b6ea-a7ef785b6dec",
   "metadata": {},
   "outputs": [],
   "source": [
    "shutil.copytree(va_images_dense, 'Preprocessed_test_data/all_img_density_files/Block_15', dirs_exist_ok=True)\n",
    "shutil.copytree(vn_images_dense, 'Preprocessed_test_data/all_img_density_files/Block_15', dirs_exist_ok=True)\n",
    "shutil.copytree(h_images_dense, 'Preprocessed_test_data/all_img_density_files/Block_15', dirs_exist_ok=True)"
   ]
  },
  {
   "cell_type": "code",
   "execution_count": null,
   "id": "88eb9fb0-3576-4bb8-aea1-decf7ab5d713",
   "metadata": {},
   "outputs": [],
   "source": [
    "test_files_path_15 = \"Preprocessed_test_data/all_img_density_files/Block_15\""
   ]
  },
  {
   "cell_type": "code",
   "execution_count": null,
   "id": "2e4f2843-1271-46ef-b8c4-54208136f9b2",
   "metadata": {},
   "outputs": [],
   "source": [
    "test_im_and_map_contents_15 = os.listdir(test_files_path_15)\n",
    "\n",
    "# sort these - ALWAYS sort these as the order is always messed up on HCC\n",
    "test_im_and_map_contents_15.sort()"
   ]
  },
  {
   "cell_type": "code",
   "execution_count": null,
   "id": "6f8a058b-7c56-4e4c-b032-3dd8de0dfa23",
   "metadata": {},
   "outputs": [],
   "source": [
    "# test_im_and_map_contents_15"
   ]
  },
  {
   "cell_type": "code",
   "execution_count": null,
   "id": "c3f37976-7be4-430f-835b-23d8c506b3ab",
   "metadata": {},
   "outputs": [],
   "source": [
    "len(test_im_and_map_contents_15)"
   ]
  },
  {
   "cell_type": "code",
   "execution_count": null,
   "id": "400227bf-5f3b-479d-8773-bb5bfefb14b3",
   "metadata": {},
   "outputs": [],
   "source": [
    "# get only the names of the image (npy files)\n",
    "test_im_names_15 = [item for item in test_im_and_map_contents_15 if item.split(\".\")[0][-3:] != 'map']"
   ]
  },
  {
   "cell_type": "code",
   "execution_count": null,
   "id": "a08688cb-cc79-45ba-a436-341e475c25ad",
   "metadata": {},
   "outputs": [],
   "source": [
    "# how many? should be 32\n",
    "len(test_im_names_15)"
   ]
  },
  {
   "cell_type": "code",
   "execution_count": null,
   "id": "19a3998f-a33f-44b9-8028-828bd0855cfc",
   "metadata": {},
   "outputs": [],
   "source": [
    "# test_im_names_15"
   ]
  },
  {
   "cell_type": "code",
   "execution_count": null,
   "id": "7b252b09-398b-47a1-8cbe-fa9a6bef760b",
   "metadata": {},
   "outputs": [],
   "source": [
    "%%time\n",
    "# get the subwindows and counts for test data\n",
    "\n",
    "im_names = []\n",
    "for image in test_im_names_15:\n",
    "    test_ims, test_maps, test_names = create_subwindows_and_counts(image, test_files_path_15, stride = 8, kernel_size = 32)\n",
    "    test_im_array = np.array(test_ims)\n",
    "    test_map_array = np.array(test_maps)\n",
    "    print(image, test_im_array.shape, test_map_array.shape)\n",
    "    # save the arrays\n",
    "    # image stack\n",
    "    save_path = 'final_test_sub_windows_and_counts/Block_15'\n",
    "    np.save(save_path + '/' + 'test_ims_' + image, test_im_array)\n",
    "    # count stack\n",
    "    np.save(save_path + '/' + 'test_counts_' + image, test_im_array)\n",
    "    im_names.append(test_names)"
   ]
  },
  {
   "cell_type": "markdown",
   "id": "47c5477a-d6e4-43d4-99b9-b69ce732f348",
   "metadata": {},
   "source": [
    "Block 0106"
   ]
  },
  {
   "cell_type": "code",
   "execution_count": null,
   "id": "80b02888-232d-4bfa-a20a-6ca996fa38cb",
   "metadata": {},
   "outputs": [],
   "source": [
    "# list all the image and the xml files for the train data\n",
    "test_contents_16 = os.listdir(block_0106)\n",
    "# separate image and xml files\n",
    "img_files_16, xml_files_16 = separate_img_xml(test_contents_16)\n",
    "# separate annotated and not annotated images\n",
    "annot_img_16, not_annot_img_16 = separate_annot_and_not(img_files_16, xml_files_16)\n",
    "# separate vertical and horizontal annotated images\n",
    "annot_vertical_images_16, annot_vertical_xmls_16, annot_horizontal_images_16, annot_horizontal_xmls_16 = separate_annnot_vertical_horizontal(annot_img_16, \n",
    "                                                                                                                                             xml_files_16, 6)\n",
    "# check shapes\n",
    "print(check_annot(annot_vertical_images_16, annot_vertical_xmls_16, annot_horizontal_images_16, annot_horizontal_xmls_16))"
   ]
  },
  {
   "cell_type": "code",
   "execution_count": null,
   "id": "de9fee0f-371d-422b-929b-c63727c29ce0",
   "metadata": {
    "scrolled": true
   },
   "outputs": [],
   "source": [
    "# store the vertically annotated images - validation data\n",
    "store_path = \"Images_and_dense_maps_npy_test/vertical_annotated_images/Block_16\"\n",
    "\n",
    "# blk 24\n",
    "im_shapes_annot_vertical_16 = []\n",
    "for item in annot_vertical_images_16:\n",
    "    img_shape = store_images_as_np_arrays_vertical(block_0106, item, store_path)\n",
    "    im_shapes_annot_vertical_16.append(img_shape)\n",
    "print(\"Block 16 done!\")"
   ]
  },
  {
   "cell_type": "code",
   "execution_count": null,
   "id": "ae520486-c3b5-4b65-b1c5-2c34aacb7d99",
   "metadata": {},
   "outputs": [],
   "source": [
    "print(im_shapes_annot_vertical_16)"
   ]
  },
  {
   "cell_type": "code",
   "execution_count": null,
   "id": "aed45040-8bf6-421a-8990-f4409b41842b",
   "metadata": {
    "scrolled": true
   },
   "outputs": [],
   "source": [
    "# store the vertically not-annotated images\n",
    "store_path = \"Images_and_dense_maps_npy_test/vertical_not_annotated_images/Block_16\"\n",
    "\n",
    "# blk 15\n",
    "im_shapes_notannot_vertical_16 = []\n",
    "for item in not_annot_img_16:\n",
    "    img_shape = store_images_as_np_arrays_vertical(block_0106, item, store_path)\n",
    "    im_shapes_notannot_vertical_16.append(img_shape)\n",
    "print(\"Block 16 done!\")"
   ]
  },
  {
   "cell_type": "code",
   "execution_count": null,
   "id": "44f3d56c-b7c4-49b3-b321-3ce06d6a3e41",
   "metadata": {},
   "outputs": [],
   "source": [
    "print(im_shapes_notannot_vertical_16)"
   ]
  },
  {
   "cell_type": "code",
   "execution_count": null,
   "id": "eda35d75-442d-48da-92cc-676190d7c507",
   "metadata": {
    "scrolled": true
   },
   "outputs": [],
   "source": [
    "# store the horizontally annotated images\n",
    "store_path = \"Images_and_dense_maps_npy_test/horizontal_annotated_images/Block_16\"\n",
    "\n",
    "# blk 15 \n",
    "im_shapes_annot_horizontal_16 = []\n",
    "for item in annot_horizontal_images_16:\n",
    "    img_shape = store_images_as_np_arrays_horizontal(block_0106, item, store_path)\n",
    "    im_shapes_annot_horizontal_16.append(img_shape)\n",
    "print(\"Block 16 done!\")"
   ]
  },
  {
   "cell_type": "code",
   "execution_count": null,
   "id": "510a78f7-58d8-4310-9ac9-a5e0cf80beed",
   "metadata": {},
   "outputs": [],
   "source": [
    "print(im_shapes_annot_horizontal_16)"
   ]
  },
  {
   "cell_type": "code",
   "execution_count": null,
   "id": "e85e907f-9b9b-4496-80a1-bb087fe82876",
   "metadata": {},
   "outputs": [],
   "source": [
    "# xml_files_15"
   ]
  },
  {
   "cell_type": "code",
   "execution_count": null,
   "id": "b6550a3a-827c-4477-b0a3-9bfbaa634773",
   "metadata": {},
   "outputs": [],
   "source": [
    "# Get the xml file paths in a single location\n",
    "new_store_path = 'test_xml_files'\n",
    "# blk 15\n",
    "for file in xml_files_16:\n",
    "    joined_path = os.path.join(block_0106, file)\n",
    "    # store the file in new path\n",
    "    shutil.copy(joined_path, new_store_path)"
   ]
  },
  {
   "cell_type": "code",
   "execution_count": null,
   "id": "f003997b-9137-423c-b9db-e54044133ebe",
   "metadata": {},
   "outputs": [],
   "source": [
    "# get the outputs from this function\n",
    "image_path = \"Images_and_dense_maps_npy_test/vertical_annotated_images/Block_16/\"\n",
    "xml_path = 'test_xml_files'\n",
    "save_density_path = image_path"
   ]
  },
  {
   "cell_type": "code",
   "execution_count": null,
   "id": "330c6a97-a562-4bdd-bc58-0e6cdd3b52d7",
   "metadata": {},
   "outputs": [],
   "source": [
    "file_names_v = [file.split(\".\")[0] for file in os.listdir(image_path) if file.split(\".\")[0][-3:] != 'map']\n",
    "file_names_v.sort()"
   ]
  },
  {
   "cell_type": "code",
   "execution_count": null,
   "id": "422c0cae-413a-4a4c-a494-5fd2859d9e5b",
   "metadata": {},
   "outputs": [],
   "source": [
    "# file_names_v"
   ]
  },
  {
   "cell_type": "code",
   "execution_count": null,
   "id": "4c413bbd-6b47-4c22-bc5b-f09ecc66ffd1",
   "metadata": {
    "scrolled": true
   },
   "outputs": [],
   "source": [
    "%%time\n",
    "names_all_va_v = []\n",
    "shapes_all_va_v = []\n",
    "tasselCounts_all_va_v = []\n",
    "tasselDensities_all_va_v = []\n",
    "dense_maps_all_va_v = []\n",
    "for file_name in file_names_v:\n",
    "    name_va, shape_va, tassels_va, tassel_dense_va, dense_map_va = get_density_maps_vertical(file_name, image_path, xml_path, save_density_path)\n",
    "    names_all_va_v.append(name_va)\n",
    "    shapes_all_va_v.append(shape_va)\n",
    "    tasselCounts_all_va_v.append(tassels_va)\n",
    "    tasselDensities_all_va_v.append(tassel_dense_va)\n",
    "    dense_maps_all_va_v.append(dense_map_va)"
   ]
  },
  {
   "cell_type": "code",
   "execution_count": null,
   "id": "997e18ca-163c-4fe8-880b-7543e5bb043f",
   "metadata": {},
   "outputs": [],
   "source": [
    "# a few sanity checks\n",
    "np.mean(tasselCounts_all_va_v == np.round(tasselDensities_all_va_v))"
   ]
  },
  {
   "cell_type": "code",
   "execution_count": null,
   "id": "ba96b6aa-2fa8-4333-99e6-9c2ca707b194",
   "metadata": {},
   "outputs": [],
   "source": [
    "# create a dataframe of the true counts\n",
    "True_tasselcounts_df_vertical_annot_test_16 = pd.DataFrame(zip(names_all_va_v, tasselCounts_all_va_v), columns = ['name', 'true_count'])"
   ]
  },
  {
   "cell_type": "code",
   "execution_count": null,
   "id": "15a53170-50e6-4f7c-b801-be45a931fddf",
   "metadata": {},
   "outputs": [],
   "source": [
    "True_tasselcounts_df_vertical_annot_test_16.shape"
   ]
  },
  {
   "cell_type": "code",
   "execution_count": null,
   "id": "f3759e7a-b419-48d8-b78e-5596a19792a2",
   "metadata": {},
   "outputs": [],
   "source": [
    "True_tasselcounts_df_vertical_annot_test_16.head()"
   ]
  },
  {
   "cell_type": "code",
   "execution_count": null,
   "id": "02901650-fa0e-43f6-9901-f7ea02f97cd1",
   "metadata": {},
   "outputs": [],
   "source": [
    "# get the outputs from this function\n",
    "image_path_h = \"Images_and_dense_maps_npy_test/horizontal_annotated_images/Block_16\"\n",
    "xml_path_h = 'test_xml_files'\n",
    "save_density_path_h = image_path_h"
   ]
  },
  {
   "cell_type": "code",
   "execution_count": null,
   "id": "384d7041-035e-4055-bf5e-4a65574689db",
   "metadata": {},
   "outputs": [],
   "source": [
    "file_names_h = [file.split(\".\")[0] for file in os.listdir(image_path_h) if file.split(\".\")[0][-3:] != 'map']\n",
    "file_names_h.sort()"
   ]
  },
  {
   "cell_type": "code",
   "execution_count": null,
   "id": "ada1552f-5e1d-4edc-93b8-91cd9a617745",
   "metadata": {},
   "outputs": [],
   "source": [
    "# file_names_h"
   ]
  },
  {
   "cell_type": "code",
   "execution_count": null,
   "id": "2f25a537-6503-4140-86ca-99334f4b8920",
   "metadata": {
    "scrolled": true
   },
   "outputs": [],
   "source": [
    "%%time\n",
    "names_all_h_v = []\n",
    "shapes_all_h_v = []\n",
    "tasselCounts_all_h_v = []\n",
    "tasselDensities_all_h_v = []\n",
    "dense_maps_all_h_v = []\n",
    "for file_h in file_names_h:\n",
    "    name_h, shape_h, tassels_h, tassel_dense_h, dense_map_h = get_density_maps_horizontal(file_h, image_path_h, xml_path_h, save_density_path_h)\n",
    "    names_all_h_v.append(name_h)\n",
    "    shapes_all_h_v.append(shape_h)\n",
    "    tasselCounts_all_h_v.append(tassels_h)\n",
    "    tasselDensities_all_h_v.append(tassel_dense_h)\n",
    "    dense_maps_all_h_v.append(dense_map_h)"
   ]
  },
  {
   "cell_type": "code",
   "execution_count": null,
   "id": "a4ce6e43-f26f-4363-89a2-51ab21739b76",
   "metadata": {},
   "outputs": [],
   "source": [
    "# a few sanity checks\n",
    "np.mean(tasselCounts_all_h_v == np.round(tasselDensities_all_h_v))"
   ]
  },
  {
   "cell_type": "code",
   "execution_count": null,
   "id": "6ca3b551-616c-4ae2-9e95-e2dd7f812bd0",
   "metadata": {},
   "outputs": [],
   "source": [
    "# create a dataframe of the true counts\n",
    "True_tasselcounts_df_horizontal_annot_test_16 = pd.DataFrame(zip(names_all_h_v, tasselCounts_all_h_v), columns = ['name', 'true_count'])"
   ]
  },
  {
   "cell_type": "code",
   "execution_count": null,
   "id": "421a0fd2-4ef6-465e-887d-90d6dd21e77a",
   "metadata": {},
   "outputs": [],
   "source": [
    "True_tasselcounts_df_horizontal_annot_test_16.shape"
   ]
  },
  {
   "cell_type": "code",
   "execution_count": null,
   "id": "38de83fa-5453-4248-a96f-ff1279f5f86c",
   "metadata": {},
   "outputs": [],
   "source": [
    "True_tasselcounts_df_horizontal_annot_test_16.head()"
   ]
  },
  {
   "cell_type": "code",
   "execution_count": null,
   "id": "c37a060a-b2f8-4643-8e6c-31675f6901b4",
   "metadata": {},
   "outputs": [],
   "source": [
    "image_path_vn = 'Images_and_dense_maps_npy_test/vertical_not_annotated_images/Block_16'\n",
    "save_density_path_vn = image_path_vn"
   ]
  },
  {
   "cell_type": "code",
   "execution_count": null,
   "id": "eac944cd-9a3b-4be2-b952-c5f9e02a92ab",
   "metadata": {},
   "outputs": [],
   "source": [
    "file_names_vn = [file.split(\".\")[0] for file in os.listdir(image_path_vn) if file.split(\".\")[0][-3:] != 'map']\n",
    "file_names_vn.sort()"
   ]
  },
  {
   "cell_type": "code",
   "execution_count": null,
   "id": "3d3d35ab-90ba-453c-a3cd-4cde060fde83",
   "metadata": {},
   "outputs": [],
   "source": [
    "len(file_names_vn)"
   ]
  },
  {
   "cell_type": "code",
   "execution_count": null,
   "id": "785bfe4f-d049-4af4-aa0d-b3c15e5cbef5",
   "metadata": {},
   "outputs": [],
   "source": [
    "file_names_vn"
   ]
  },
  {
   "cell_type": "code",
   "execution_count": null,
   "id": "1995efb8-cac4-453c-9984-404a9dac474b",
   "metadata": {
    "scrolled": true
   },
   "outputs": [],
   "source": [
    "%%time\n",
    "# get the density maps for all vertically annotated image files\n",
    "names_all_vn_v = []\n",
    "shapes_all_vn_v = []\n",
    "tasselDensities_all_vn_v = []\n",
    "dense_maps_all_vn_v = []\n",
    "for file_vn in file_names_vn:\n",
    "    name_vn, shape_vn, tassel_dense_vn, dense_map_vn = get_density_maps_not_annotated(file_vn, image_path_vn, save_density_path_vn)\n",
    "    names_all_vn_v.append(name_vn)\n",
    "    shapes_all_vn_v.append(shape_vn)\n",
    "    tasselDensities_all_vn_v.append(tassel_dense_vn)\n",
    "    dense_maps_all_vn_v.append(dense_map_vn)\n",
    "    "
   ]
  },
  {
   "cell_type": "code",
   "execution_count": null,
   "id": "eb6f4205-b5cd-4ab2-975c-362ee2383a12",
   "metadata": {},
   "outputs": [],
   "source": [
    "Vertical_not_annotated_df_test_16 = pd.DataFrame(zip(names_all_vn_v, tasselDensities_all_vn_v), columns = ['name', 'true_count'])"
   ]
  },
  {
   "cell_type": "code",
   "execution_count": null,
   "id": "e62c4a17-c475-4f6b-bb5c-dad7836cc7c2",
   "metadata": {},
   "outputs": [],
   "source": [
    "Vertical_not_annotated_df_test_16.head()"
   ]
  },
  {
   "cell_type": "code",
   "execution_count": null,
   "id": "31b57e7b-b318-4a30-b3c9-6ebcc01208fb",
   "metadata": {},
   "outputs": [],
   "source": [
    "Vertical_not_annotated_df_test_16.shape"
   ]
  },
  {
   "cell_type": "code",
   "execution_count": null,
   "id": "a7450aa4-97ca-41d2-9b12-26d735d64246",
   "metadata": {},
   "outputs": [],
   "source": [
    "# stack and save the dataframe of testset true counts\n",
    "test_data_16 = pd.concat((Vertical_not_annotated_df_test_16, True_tasselcounts_df_vertical_annot_test_16, True_tasselcounts_df_horizontal_annot_test_16), axis = 0)"
   ]
  },
  {
   "cell_type": "code",
   "execution_count": null,
   "id": "28bfd3d6-c541-45e9-9a6f-9e572386026d",
   "metadata": {},
   "outputs": [],
   "source": [
    "test_data_16.head()"
   ]
  },
  {
   "cell_type": "code",
   "execution_count": null,
   "id": "a327dcc8-3ebc-4217-b065-92bdf22d5fc9",
   "metadata": {},
   "outputs": [],
   "source": [
    "test_data_16.shape"
   ]
  },
  {
   "cell_type": "code",
   "execution_count": null,
   "id": "f88cb392-372f-4a66-af1c-b84913f5834d",
   "metadata": {},
   "outputs": [],
   "source": [
    "# saev this dataframe\n",
    "test_data_16.to_csv(\"True_tassel_counts/test_data/true_test_counts_blk_16.csv\", index = False)"
   ]
  },
  {
   "cell_type": "code",
   "execution_count": null,
   "id": "f6afa79e-8af7-486b-857a-08cfb0eaa6d4",
   "metadata": {},
   "outputs": [],
   "source": [
    "# move all the image and the xml files to a single location\n",
    "\n",
    "va_images_dense = 'Images_and_dense_maps_npy_test/vertical_annotated_images/Block_16'\n",
    "vn_images_dense = 'Images_and_dense_maps_npy_test/vertical_not_annotated_images/Block_16'\n",
    "h_images_dense = 'Images_and_dense_maps_npy_test/horizontal_annotated_images/Block_16'"
   ]
  },
  {
   "cell_type": "code",
   "execution_count": null,
   "id": "cdb4e29d-072f-4cb2-b7a3-7ab24cfc632b",
   "metadata": {},
   "outputs": [],
   "source": [
    "shutil.copytree(va_images_dense, 'Preprocessed_test_data/all_img_density_files/Block_16', dirs_exist_ok=True)\n",
    "shutil.copytree(vn_images_dense, 'Preprocessed_test_data/all_img_density_files/Block_16', dirs_exist_ok=True)\n",
    "shutil.copytree(h_images_dense, 'Preprocessed_test_data/all_img_density_files/Block_16', dirs_exist_ok=True)"
   ]
  },
  {
   "cell_type": "code",
   "execution_count": null,
   "id": "0e29716b-a9ce-4704-8e14-ea03cd11b4c7",
   "metadata": {},
   "outputs": [],
   "source": [
    "test_files_path_16 = \"Preprocessed_test_data/all_img_density_files/Block_16\""
   ]
  },
  {
   "cell_type": "code",
   "execution_count": null,
   "id": "b7806055-140c-446c-bbde-397448acdefb",
   "metadata": {},
   "outputs": [],
   "source": [
    "test_im_and_map_contents_16 = os.listdir(test_files_path_16)\n",
    "\n",
    "# sort these - ALWAYS sort these as the order is always messed up on HCC\n",
    "test_im_and_map_contents_16.sort()"
   ]
  },
  {
   "cell_type": "code",
   "execution_count": null,
   "id": "63ee19ac-6472-448a-8d99-4b1d572306c7",
   "metadata": {},
   "outputs": [],
   "source": [
    "# test_im_and_map_contents_16"
   ]
  },
  {
   "cell_type": "code",
   "execution_count": null,
   "id": "74a7c491-5690-4814-9184-e10b9d408335",
   "metadata": {},
   "outputs": [],
   "source": [
    "len(test_im_and_map_contents_16)"
   ]
  },
  {
   "cell_type": "code",
   "execution_count": null,
   "id": "7b6e21f9-cdef-45fa-943a-b91453bea9a7",
   "metadata": {},
   "outputs": [],
   "source": [
    "# get only the names of the image (npy files)\n",
    "test_im_names_16 = [item for item in test_im_and_map_contents_16 if item.split(\".\")[0][-3:] != 'map']"
   ]
  },
  {
   "cell_type": "code",
   "execution_count": null,
   "id": "92909403-37b5-4aa2-8284-78b44ee713da",
   "metadata": {},
   "outputs": [],
   "source": [
    "# how many? should be 32\n",
    "len(test_im_names_16)"
   ]
  },
  {
   "cell_type": "code",
   "execution_count": null,
   "id": "927a1c41-108d-4a4a-ae50-23b9ac31303c",
   "metadata": {},
   "outputs": [],
   "source": [
    "# test_im_names_16"
   ]
  },
  {
   "cell_type": "code",
   "execution_count": null,
   "id": "ec22f48b-5728-4ebe-b0a3-ca38a4dac3a9",
   "metadata": {},
   "outputs": [],
   "source": [
    "%%time\n",
    "# get the subwindows and counts for test data\n",
    "\n",
    "im_names = []\n",
    "for image in test_im_names_16:\n",
    "    test_ims, test_maps, test_names = create_subwindows_and_counts(image, test_files_path_16, stride = 8, kernel_size = 32)\n",
    "    test_im_array = np.array(test_ims)\n",
    "    test_map_array = np.array(test_maps)\n",
    "    print(image, test_im_array.shape, test_map_array.shape)\n",
    "    # save the arrays\n",
    "    # image stack\n",
    "    save_path = 'final_test_sub_windows_and_counts/Block_16'\n",
    "    np.save(save_path + '/' + 'test_ims_' + image, test_im_array)\n",
    "    # count stack\n",
    "    np.save(save_path + '/' + 'test_counts_' + image, test_im_array)\n",
    "    im_names.append(test_names)"
   ]
  },
  {
   "cell_type": "markdown",
   "id": "2c2e77eb-29a5-41c5-bb0a-77552c45adb5",
   "metadata": {},
   "source": [
    "Block 0201"
   ]
  },
  {
   "cell_type": "code",
   "execution_count": null,
   "id": "77e11689-6389-4ef0-95c5-72a4a4e9b622",
   "metadata": {},
   "outputs": [],
   "source": [
    "# list all the image and the xml files for the train data\n",
    "test_contents_21 = os.listdir(block_0201)\n",
    "# separate image and xml files\n",
    "img_files_21, xml_files_21 = separate_img_xml(test_contents_21)\n",
    "# separate annotated and not annotated images\n",
    "annot_img_21, not_annot_img_21 = separate_annot_and_not(img_files_21, xml_files_21)\n",
    "# separate vertical and horizontal annotated images\n",
    "annot_vertical_images_21, annot_vertical_xmls_21, annot_horizontal_images_21, annot_horizontal_xmls_21 = separate_annnot_vertical_horizontal(annot_img_21, \n",
    "                                                                                                                                             xml_files_21, 5)\n",
    "# check shapes\n",
    "print(check_annot(annot_vertical_images_21, annot_vertical_xmls_21, annot_horizontal_images_21, annot_horizontal_xmls_21))"
   ]
  },
  {
   "cell_type": "code",
   "execution_count": null,
   "id": "b0e4b90b-452e-4db3-8c45-734a89312df2",
   "metadata": {
    "scrolled": true
   },
   "outputs": [],
   "source": [
    "# store the vertically annotated images - validation data\n",
    "store_path = \"Images_and_dense_maps_npy_test/vertical_annotated_images/Block_21\"\n",
    "\n",
    "# blk 24\n",
    "im_shapes_annot_vertical_21 = []\n",
    "for item in annot_vertical_images_21:\n",
    "    img_shape = store_images_as_np_arrays_vertical(block_0201, item, store_path)\n",
    "    im_shapes_annot_vertical_21.append(img_shape)\n",
    "print(\"Block 21 done!\")"
   ]
  },
  {
   "cell_type": "code",
   "execution_count": null,
   "id": "7de69ffd-cda7-4cc3-9e07-75e29ba7a1d9",
   "metadata": {},
   "outputs": [],
   "source": [
    "print(im_shapes_annot_vertical_21)"
   ]
  },
  {
   "cell_type": "code",
   "execution_count": null,
   "id": "425d3037-89b6-44e4-925d-ed668868af33",
   "metadata": {
    "scrolled": true
   },
   "outputs": [],
   "source": [
    "# store the vertically not-annotated images\n",
    "store_path = \"Images_and_dense_maps_npy_test/vertical_not_annotated_images/Block_21\"\n",
    "\n",
    "# blk 21\n",
    "im_shapes_notannot_vertical_21 = []\n",
    "for item in not_annot_img_21:\n",
    "    img_shape = store_images_as_np_arrays_vertical(block_0201, item, store_path)\n",
    "    im_shapes_notannot_vertical_21.append(img_shape)\n",
    "print(\"Block 21 done!\")"
   ]
  },
  {
   "cell_type": "code",
   "execution_count": null,
   "id": "cdb26366-676f-42a3-b93c-e10fa8c492a7",
   "metadata": {},
   "outputs": [],
   "source": [
    "print(im_shapes_notannot_vertical_21)"
   ]
  },
  {
   "cell_type": "code",
   "execution_count": null,
   "id": "5ae4652f-9400-4c55-8887-2b714cec3789",
   "metadata": {
    "scrolled": true
   },
   "outputs": [],
   "source": [
    "# store the horizontally annotated images\n",
    "store_path = \"Images_and_dense_maps_npy_test/horizontal_annotated_images/Block_21\"\n",
    "\n",
    "# blk 15 \n",
    "im_shapes_annot_horizontal_21 = []\n",
    "for item in annot_horizontal_images_21:\n",
    "    img_shape = store_images_as_np_arrays_horizontal(block_0201, item, store_path)\n",
    "    im_shapes_annot_horizontal_21.append(img_shape)\n",
    "print(\"Block 21 done!\")"
   ]
  },
  {
   "cell_type": "code",
   "execution_count": null,
   "id": "1fe1f62c-3761-4592-a4c0-d8149b2481de",
   "metadata": {},
   "outputs": [],
   "source": [
    "print(im_shapes_annot_horizontal_21)"
   ]
  },
  {
   "cell_type": "code",
   "execution_count": null,
   "id": "6c7c1b54-1417-4334-a275-0e54c373a527",
   "metadata": {},
   "outputs": [],
   "source": [
    "# xml_files_15"
   ]
  },
  {
   "cell_type": "code",
   "execution_count": null,
   "id": "d2cace5d-b932-4567-8b18-96d54efc40ef",
   "metadata": {},
   "outputs": [],
   "source": [
    "# Get the xml file paths in a single location\n",
    "new_store_path = 'test_xml_files'\n",
    "# blk 15\n",
    "for file in xml_files_21:\n",
    "    joined_path = os.path.join(block_0201, file)\n",
    "    # store the file in new path\n",
    "    shutil.copy(joined_path, new_store_path)"
   ]
  },
  {
   "cell_type": "code",
   "execution_count": null,
   "id": "df8e747f-163c-4488-8a0f-950204c18155",
   "metadata": {},
   "outputs": [],
   "source": [
    "# get the outputs from this function\n",
    "image_path = \"Images_and_dense_maps_npy_test/vertical_annotated_images/Block_21/\"\n",
    "xml_path = 'test_xml_files'\n",
    "save_density_path = image_path"
   ]
  },
  {
   "cell_type": "code",
   "execution_count": null,
   "id": "c86ca0a8-e45c-4f5d-aee4-67bd5b4c0dec",
   "metadata": {},
   "outputs": [],
   "source": [
    "file_names_v = [file.split(\".\")[0] for file in os.listdir(image_path) if file.split(\".\")[0][-3:] != 'map']\n",
    "file_names_v.sort()"
   ]
  },
  {
   "cell_type": "code",
   "execution_count": null,
   "id": "39f19fe3-d0d8-473a-918f-def5b8f74d58",
   "metadata": {},
   "outputs": [],
   "source": [
    "# file_names_v"
   ]
  },
  {
   "cell_type": "code",
   "execution_count": null,
   "id": "69ac2ff7-27c7-4ead-9d3e-3f8c3fb9b3be",
   "metadata": {
    "scrolled": true
   },
   "outputs": [],
   "source": [
    "%%time\n",
    "names_all_va_v = []\n",
    "shapes_all_va_v = []\n",
    "tasselCounts_all_va_v = []\n",
    "tasselDensities_all_va_v = []\n",
    "dense_maps_all_va_v = []\n",
    "for file_name in file_names_v:\n",
    "    name_va, shape_va, tassels_va, tassel_dense_va, dense_map_va = get_density_maps_vertical(file_name, image_path, xml_path, save_density_path)\n",
    "    names_all_va_v.append(name_va)\n",
    "    shapes_all_va_v.append(shape_va)\n",
    "    tasselCounts_all_va_v.append(tassels_va)\n",
    "    tasselDensities_all_va_v.append(tassel_dense_va)\n",
    "    dense_maps_all_va_v.append(dense_map_va)"
   ]
  },
  {
   "cell_type": "code",
   "execution_count": null,
   "id": "d9f3ee87-d5b5-42e5-b448-50586a318158",
   "metadata": {},
   "outputs": [],
   "source": [
    "# a few sanity checks\n",
    "np.mean(tasselCounts_all_va_v == np.round(tasselDensities_all_va_v))"
   ]
  },
  {
   "cell_type": "code",
   "execution_count": null,
   "id": "e99a6183-6d7d-44ff-8545-5b96e916bc3c",
   "metadata": {},
   "outputs": [],
   "source": [
    "# create a dataframe of the true counts\n",
    "True_tasselcounts_df_vertical_annot_test_21 = pd.DataFrame(zip(names_all_va_v, tasselCounts_all_va_v), columns = ['name', 'true_count'])"
   ]
  },
  {
   "cell_type": "code",
   "execution_count": null,
   "id": "8c870290-7448-4be7-ab82-f9638cd73672",
   "metadata": {},
   "outputs": [],
   "source": [
    "True_tasselcounts_df_vertical_annot_test_21.shape"
   ]
  },
  {
   "cell_type": "code",
   "execution_count": null,
   "id": "2350040c-c47b-468e-b333-84b94673af27",
   "metadata": {},
   "outputs": [],
   "source": [
    "True_tasselcounts_df_vertical_annot_test_21.head()"
   ]
  },
  {
   "cell_type": "code",
   "execution_count": null,
   "id": "1b8d44ad-d102-4aa2-9b13-0918deec939b",
   "metadata": {},
   "outputs": [],
   "source": [
    "# get the outputs from this function\n",
    "image_path_h = \"Images_and_dense_maps_npy_test/horizontal_annotated_images/Block_21\"\n",
    "xml_path_h = 'test_xml_files'\n",
    "save_density_path_h = image_path_h"
   ]
  },
  {
   "cell_type": "code",
   "execution_count": null,
   "id": "f7978fdd-68a6-4c2d-8f3b-eddcb7dd51bc",
   "metadata": {},
   "outputs": [],
   "source": [
    "file_names_h = [file.split(\".\")[0] for file in os.listdir(image_path_h) if file.split(\".\")[0][-3:] != 'map']\n",
    "file_names_h.sort()"
   ]
  },
  {
   "cell_type": "code",
   "execution_count": null,
   "id": "6e8eba6a-1c7e-4c0c-ba3e-4971f1df4295",
   "metadata": {},
   "outputs": [],
   "source": [
    "# file_names_h"
   ]
  },
  {
   "cell_type": "code",
   "execution_count": null,
   "id": "db4c7212-42e6-4f6d-8ef7-c8ea3ce8df67",
   "metadata": {
    "scrolled": true
   },
   "outputs": [],
   "source": [
    "%%time\n",
    "names_all_h_v = []\n",
    "shapes_all_h_v = []\n",
    "tasselCounts_all_h_v = []\n",
    "tasselDensities_all_h_v = []\n",
    "dense_maps_all_h_v = []\n",
    "for file_h in file_names_h:\n",
    "    name_h, shape_h, tassels_h, tassel_dense_h, dense_map_h = get_density_maps_horizontal(file_h, image_path_h, xml_path_h, save_density_path_h)\n",
    "    names_all_h_v.append(name_h)\n",
    "    shapes_all_h_v.append(shape_h)\n",
    "    tasselCounts_all_h_v.append(tassels_h)\n",
    "    tasselDensities_all_h_v.append(tassel_dense_h)\n",
    "    dense_maps_all_h_v.append(dense_map_h)"
   ]
  },
  {
   "cell_type": "code",
   "execution_count": null,
   "id": "e17d9f62-d240-405d-9c74-f5c4d80311cf",
   "metadata": {},
   "outputs": [],
   "source": [
    "# a few sanity checks\n",
    "np.mean(tasselCounts_all_h_v == np.round(tasselDensities_all_h_v))"
   ]
  },
  {
   "cell_type": "code",
   "execution_count": null,
   "id": "4f40fe4b-8e87-45dd-9cb8-12f6aa2c19ba",
   "metadata": {},
   "outputs": [],
   "source": [
    "# create a dataframe of the true counts\n",
    "True_tasselcounts_df_horizontal_annot_test_21 = pd.DataFrame(zip(names_all_h_v, tasselCounts_all_h_v), columns = ['name', 'true_count'])"
   ]
  },
  {
   "cell_type": "code",
   "execution_count": null,
   "id": "50557bdf-4f02-40ff-9827-93ac1fc580d3",
   "metadata": {},
   "outputs": [],
   "source": [
    "True_tasselcounts_df_horizontal_annot_test_21.shape"
   ]
  },
  {
   "cell_type": "code",
   "execution_count": null,
   "id": "abb17cac-57d0-4be8-9675-0f302514bfc6",
   "metadata": {},
   "outputs": [],
   "source": [
    "True_tasselcounts_df_horizontal_annot_test_21.head()"
   ]
  },
  {
   "cell_type": "code",
   "execution_count": null,
   "id": "58dbd772-9869-45c4-8b77-edc4dfdefc8f",
   "metadata": {},
   "outputs": [],
   "source": [
    "image_path_vn = 'Images_and_dense_maps_npy_test/vertical_not_annotated_images/Block_21'\n",
    "save_density_path_vn = image_path_vn"
   ]
  },
  {
   "cell_type": "code",
   "execution_count": null,
   "id": "bb8a6abd-2ad9-4c38-b43b-47b6d45458ba",
   "metadata": {},
   "outputs": [],
   "source": [
    "file_names_vn = [file.split(\".\")[0] for file in os.listdir(image_path_vn) if file.split(\".\")[0][-3:] != 'map']\n",
    "file_names_vn.sort()"
   ]
  },
  {
   "cell_type": "code",
   "execution_count": null,
   "id": "edc4ac2d-443c-432d-82e6-f53ba4979d49",
   "metadata": {},
   "outputs": [],
   "source": [
    "len(file_names_vn)"
   ]
  },
  {
   "cell_type": "code",
   "execution_count": null,
   "id": "7f5f9204-fecc-4e38-a0c6-f0577e6b5a6e",
   "metadata": {},
   "outputs": [],
   "source": [
    "file_names_vn"
   ]
  },
  {
   "cell_type": "code",
   "execution_count": null,
   "id": "091dda54-14fb-46cf-8bff-e8d71ef1e7c8",
   "metadata": {
    "scrolled": true
   },
   "outputs": [],
   "source": [
    "%%time\n",
    "# get the density maps for all vertically annotated image files\n",
    "names_all_vn_v = []\n",
    "shapes_all_vn_v = []\n",
    "tasselDensities_all_vn_v = []\n",
    "dense_maps_all_vn_v = []\n",
    "for file_vn in file_names_vn:\n",
    "    name_vn, shape_vn, tassel_dense_vn, dense_map_vn = get_density_maps_not_annotated(file_vn, image_path_vn, save_density_path_vn)\n",
    "    names_all_vn_v.append(name_vn)\n",
    "    shapes_all_vn_v.append(shape_vn)\n",
    "    tasselDensities_all_vn_v.append(tassel_dense_vn)\n",
    "    dense_maps_all_vn_v.append(dense_map_vn)\n",
    "    "
   ]
  },
  {
   "cell_type": "code",
   "execution_count": null,
   "id": "4e54325b-cff3-4520-b815-74f48444be53",
   "metadata": {},
   "outputs": [],
   "source": [
    "Vertical_not_annotated_df_test_21 = pd.DataFrame(zip(names_all_vn_v, tasselDensities_all_vn_v), columns = ['name', 'true_count'])"
   ]
  },
  {
   "cell_type": "code",
   "execution_count": null,
   "id": "15eebe72-8ccf-4fbc-bf3e-f90692da389c",
   "metadata": {},
   "outputs": [],
   "source": [
    "Vertical_not_annotated_df_test_21.head()"
   ]
  },
  {
   "cell_type": "code",
   "execution_count": null,
   "id": "d30a4742-2c47-4e7b-8288-1a94333ba2a3",
   "metadata": {},
   "outputs": [],
   "source": [
    "Vertical_not_annotated_df_test_21.shape"
   ]
  },
  {
   "cell_type": "code",
   "execution_count": null,
   "id": "8597def7-5042-4fa0-8be7-a6c189d4d42c",
   "metadata": {},
   "outputs": [],
   "source": [
    "# stack and save the dataframe of testset true counts\n",
    "test_data_21 = pd.concat((Vertical_not_annotated_df_test_21, True_tasselcounts_df_vertical_annot_test_21, True_tasselcounts_df_horizontal_annot_test_21), axis = 0)"
   ]
  },
  {
   "cell_type": "code",
   "execution_count": null,
   "id": "a9bad416-2574-4330-9d8a-72376905b47f",
   "metadata": {},
   "outputs": [],
   "source": [
    "test_data_21.head()"
   ]
  },
  {
   "cell_type": "code",
   "execution_count": null,
   "id": "16596e3c-ffcd-4ba4-aaad-95e92804c129",
   "metadata": {},
   "outputs": [],
   "source": [
    "test_data_21.shape"
   ]
  },
  {
   "cell_type": "code",
   "execution_count": null,
   "id": "f3a7e355-f0ac-4fd6-8746-7231cc62d14e",
   "metadata": {},
   "outputs": [],
   "source": [
    "# saev this dataframe\n",
    "test_data_21.to_csv(\"True_tassel_counts/test_data/true_test_counts_blk_21.csv\", index = False)"
   ]
  },
  {
   "cell_type": "code",
   "execution_count": null,
   "id": "947df521-9ba4-4224-9a00-b0843ecd07fe",
   "metadata": {},
   "outputs": [],
   "source": [
    "# move all the image and the xml files to a single location\n",
    "\n",
    "va_images_dense = 'Images_and_dense_maps_npy_test/vertical_annotated_images/Block_21'\n",
    "vn_images_dense = 'Images_and_dense_maps_npy_test/vertical_not_annotated_images/Block_21'\n",
    "h_images_dense = 'Images_and_dense_maps_npy_test/horizontal_annotated_images/Block_21'"
   ]
  },
  {
   "cell_type": "code",
   "execution_count": null,
   "id": "14479c66-c759-40fd-b60d-585ede64e2d0",
   "metadata": {},
   "outputs": [],
   "source": [
    "shutil.copytree(va_images_dense, 'Preprocessed_test_data/all_img_density_files/Block_21', dirs_exist_ok=True)\n",
    "shutil.copytree(vn_images_dense, 'Preprocessed_test_data/all_img_density_files/Block_21', dirs_exist_ok=True)\n",
    "shutil.copytree(h_images_dense, 'Preprocessed_test_data/all_img_density_files/Block_21', dirs_exist_ok=True)"
   ]
  },
  {
   "cell_type": "code",
   "execution_count": null,
   "id": "26590e86-8968-471c-bee3-c96a3826e488",
   "metadata": {},
   "outputs": [],
   "source": [
    "test_files_path_21 = \"Preprocessed_test_data/all_img_density_files/Block_21\""
   ]
  },
  {
   "cell_type": "code",
   "execution_count": null,
   "id": "e27dedc4-7a5c-41f7-b234-5e79de399124",
   "metadata": {},
   "outputs": [],
   "source": [
    "test_im_and_map_contents_21 = os.listdir(test_files_path_21)\n",
    "\n",
    "# sort these - ALWAYS sort these as the order is always messed up on HCC\n",
    "test_im_and_map_contents_21.sort()"
   ]
  },
  {
   "cell_type": "code",
   "execution_count": null,
   "id": "f6d28c1f-e9da-4cde-8f6b-c5eed07a515b",
   "metadata": {},
   "outputs": [],
   "source": [
    "# test_im_and_map_contents_15"
   ]
  },
  {
   "cell_type": "code",
   "execution_count": null,
   "id": "b8e73395-5ecf-49ec-b4f4-19543b2afcd4",
   "metadata": {},
   "outputs": [],
   "source": [
    "len(test_im_and_map_contents_21)"
   ]
  },
  {
   "cell_type": "code",
   "execution_count": null,
   "id": "3d5950f3-3a02-4667-a3eb-551a4c1c735b",
   "metadata": {},
   "outputs": [],
   "source": [
    "# get only the names of the image (npy files)\n",
    "test_im_names_21 = [item for item in test_im_and_map_contents_21 if item.split(\".\")[0][-3:] != 'map']"
   ]
  },
  {
   "cell_type": "code",
   "execution_count": null,
   "id": "38f2a9b7-7722-4ac8-a9fa-d0b522841e9d",
   "metadata": {},
   "outputs": [],
   "source": [
    "# how many? should be 32\n",
    "len(test_im_names_21)"
   ]
  },
  {
   "cell_type": "code",
   "execution_count": null,
   "id": "c2cecb5f-7d42-4bed-955d-7a8e7321fa66",
   "metadata": {},
   "outputs": [],
   "source": [
    "# test_im_names_21"
   ]
  },
  {
   "cell_type": "code",
   "execution_count": null,
   "id": "220f20da-8891-4cc8-b49f-a6e36c733e12",
   "metadata": {},
   "outputs": [],
   "source": [
    "%%time\n",
    "# get the subwindows and counts for test data\n",
    "\n",
    "im_names = []\n",
    "for image in test_im_names_21:\n",
    "    test_ims, test_maps, test_names = create_subwindows_and_counts(image, test_files_path_21, stride = 8, kernel_size = 32)\n",
    "    test_im_array = np.array(test_ims)\n",
    "    test_map_array = np.array(test_maps)\n",
    "    print(image, test_im_array.shape, test_map_array.shape)\n",
    "    # save the arrays\n",
    "    # image stack\n",
    "    save_path = 'final_test_sub_windows_and_counts/Block_21'\n",
    "    np.save(save_path + '/' + 'test_ims_' + image, test_im_array)\n",
    "    # count stack\n",
    "    np.save(save_path + '/' + 'test_counts_' + image, test_im_array)\n",
    "    im_names.append(test_names)"
   ]
  },
  {
   "cell_type": "markdown",
   "id": "bf0beae9-e023-46e3-bd45-3f56e443f764",
   "metadata": {},
   "source": [
    "Rest of the test data preprcessing is in the next notebook"
   ]
  }
 ],
 "metadata": {
  "kernelspec": {
   "display_name": "Python (tf_with_py38_gpu_29)",
   "language": "python",
   "name": "tf_with_py38_gpu_29"
  },
  "language_info": {
   "codemirror_mode": {
    "name": "ipython",
    "version": 3
   },
   "file_extension": ".py",
   "mimetype": "text/x-python",
   "name": "python",
   "nbconvert_exporter": "python",
   "pygments_lexer": "ipython3",
   "version": "3.8.13"
  }
 },
 "nbformat": 4,
 "nbformat_minor": 5
}
