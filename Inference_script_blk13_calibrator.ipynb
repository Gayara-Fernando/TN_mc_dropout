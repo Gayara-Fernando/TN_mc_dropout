{
 "cells": [
  {
   "cell_type": "markdown",
   "id": "911b4aff-2679-4b4a-8ab0-20387a85a2da",
   "metadata": {},
   "source": [
    "We need to activate the dropouts during testing for this purpose. Let's do that."
   ]
  },
  {
   "cell_type": "code",
   "execution_count": 1,
   "id": "d5c056ef-f2bd-4a74-9ef2-98b4583603cd",
   "metadata": {},
   "outputs": [],
   "source": [
    "# import the necessary packages\n",
    "import numpy as np\n",
    "import pandas as pd\n",
    "import matplotlib.pyplot as plt\n",
    "import tensorflow as tf\n",
    "import os\n",
    "import random\n",
    "import shutil\n",
    "from scipy import ndimage\n",
    "# from joblib import Parallel, delayed\n",
    "from sklearn.model_selection import KFold\n",
    "from sklearn.model_selection import train_test_split\n",
    "from sklearn.metrics import mean_absolute_error, mean_squared_error, r2_score\n",
    "from scipy.stats import pearsonr\n",
    "import pickle"
   ]
  },
  {
   "cell_type": "code",
   "execution_count": 2,
   "id": "bc934d71-3f43-4f1e-8e89-ae4cad0618c9",
   "metadata": {},
   "outputs": [
    {
     "data": {
      "text/plain": [
       "<KerasTensor: shape=(None, 32, 32, 3) dtype=float32 (created by layer 'conv2d_input')>"
      ]
     },
     "execution_count": 2,
     "metadata": {},
     "output_type": "execute_result"
    }
   ],
   "source": [
    "# load trained model here\n",
    "TN_model = tf.keras.models.load_model('models/TN_model_with_new_data.h5')\n",
    "# look at the input shape\n",
    "TN_model.input"
   ]
  },
  {
   "cell_type": "code",
   "execution_count": 3,
   "id": "2546fbc4-39ea-4e65-bd8a-b8cddcecf0ee",
   "metadata": {},
   "outputs": [
    {
     "name": "stdout",
     "output_type": "stream",
     "text": [
      "Model: \"model_1\"\n",
      "_________________________________________________________________\n",
      " Layer (type)                Output Shape              Param #   \n",
      "=================================================================\n",
      " conv2d_input (InputLayer)   [(None, 32, 32, 3)]       0         \n",
      "                                                                 \n",
      " conv2d (Conv2D)             (None, 32, 32, 32)        896       \n",
      "                                                                 \n",
      " activation (Activation)     (None, 32, 32, 32)        0         \n",
      "                                                                 \n",
      " conv2d_1 (Conv2D)           (None, 30, 30, 32)        9248      \n",
      "                                                                 \n",
      " activation_1 (Activation)   (None, 30, 30, 32)        0         \n",
      "                                                                 \n",
      " max_pooling2d (MaxPooling2D  (None, 15, 15, 32)       0         \n",
      " )                                                               \n",
      "                                                                 \n",
      " dropout (Dropout)           (None, 15, 15, 32)        0         \n",
      "                                                                 \n",
      " conv2d_2 (Conv2D)           (None, 15, 15, 64)        18496     \n",
      "                                                                 \n",
      " activation_2 (Activation)   (None, 15, 15, 64)        0         \n",
      "                                                                 \n",
      " conv2d_3 (Conv2D)           (None, 13, 13, 64)        36928     \n",
      "                                                                 \n",
      " activation_3 (Activation)   (None, 13, 13, 64)        0         \n",
      "                                                                 \n",
      " max_pooling2d_1 (MaxPooling  (None, 6, 6, 64)         0         \n",
      " 2D)                                                             \n",
      "                                                                 \n",
      " New_dropout (Dropout)       (None, 6, 6, 64)          0         \n",
      "                                                                 \n",
      " Flatten2 (Flatten)          (None, 2304)              0         \n",
      "                                                                 \n",
      " New_Dense (Dense)           (None, 512)               1180160   \n",
      "                                                                 \n",
      " New_Activation (Activation)  (None, 512)              0         \n",
      "                                                                 \n",
      " New_dropout2 (Dropout)      (None, 512)               0         \n",
      "                                                                 \n",
      " New_Dense2 (Dense)          (None, 1)                 513       \n",
      "                                                                 \n",
      " New_Activation2 (Activation  (None, 1)                0         \n",
      " )                                                               \n",
      "                                                                 \n",
      "=================================================================\n",
      "Total params: 1,246,241\n",
      "Trainable params: 1,217,601\n",
      "Non-trainable params: 28,640\n",
      "_________________________________________________________________\n"
     ]
    }
   ],
   "source": [
    "TN_model.summary()"
   ]
  },
  {
   "cell_type": "code",
   "execution_count": 4,
   "id": "8b6a3f1e-d1a0-45d1-93a9-ce8be433a571",
   "metadata": {},
   "outputs": [],
   "source": [
    "# Let's redefine the model\n",
    "new_input = tf.keras.layers.Input(shape = (32,32,3))\n",
    "\n",
    "# add a conv2d layer\n",
    "new_conv2d_1 = tf.keras.layers.Conv2D(32, kernel_size = (3,3), padding = 'same')\n",
    "new_conv2d_1_out = new_conv2d_1(new_input)\n",
    "# add activation\n",
    "new_act_1 = tf.keras.layers.Activation(\"relu\")\n",
    "new_act_1_out = new_act_1(new_conv2d_1_out)\n",
    "\n",
    "# add a conv2d layer\n",
    "new_conv2d_2 = tf.keras.layers.Conv2D(32, kernel_size = (3,3), padding = 'valid')\n",
    "new_conv2d_2_out = new_conv2d_2(new_act_1_out)\n",
    "# add activation\n",
    "new_act_2 = tf.keras.layers.Activation(\"relu\")\n",
    "new_act_2_out = new_act_2(new_conv2d_2_out)\n",
    "\n",
    "# add a maxpooling layer\n",
    "max_pooling_1 = tf.keras.layers.MaxPool2D()\n",
    "max_pooling_1_out = max_pooling_1(new_act_2_out)\n",
    "\n",
    "# add a dropout layer\n",
    "dropout_1 = tf.keras.layers.Dropout(0.25)\n",
    "dropout_1_out = dropout_1(max_pooling_1_out, training = True)\n",
    "\n",
    "# add a conv2d layer\n",
    "new_conv2d_3 = tf.keras.layers.Conv2D(64, kernel_size = (3,3), padding = 'same')\n",
    "new_conv2d_3_out = new_conv2d_3(dropout_1_out)\n",
    "# add activation\n",
    "new_act_3 = tf.keras.layers.Activation(\"relu\")\n",
    "new_act_3_out = new_act_3(new_conv2d_3_out)\n",
    "\n",
    "# add a conv2d layer\n",
    "new_conv2d_4 = tf.keras.layers.Conv2D(64, kernel_size = (3,3), padding = 'valid')\n",
    "new_conv2d_4_out = new_conv2d_4(new_act_3_out)\n",
    "# add activation\n",
    "new_act_4 = tf.keras.layers.Activation(\"relu\")\n",
    "new_act_4_out = new_act_4(new_conv2d_4_out)\n",
    "\n",
    "# add a maxpooling layer\n",
    "max_pooling_2 = tf.keras.layers.MaxPool2D()\n",
    "max_pooling_2_out = max_pooling_2(new_act_4_out)\n",
    "\n",
    "# add a dropout layer\n",
    "dropout_2 = tf.keras.layers.Dropout(0.25)\n",
    "dropout_2_out = dropout_2(max_pooling_2_out, training = True)\n",
    "\n",
    "# add a flatten layer\n",
    "flat_layer = tf.keras.layers.Flatten()\n",
    "flat_layer_out = flat_layer(dropout_2_out)\n",
    "\n",
    "# add a dense layer\n",
    "dense_1 = tf.keras.layers.Dense(512)\n",
    "dense_1_out = dense_1(flat_layer_out)\n",
    "# add activation\n",
    "new_act_5 = tf.keras.layers.Activation(\"relu\")\n",
    "new_act_5_out = new_act_5(dense_1_out)\n",
    "# add a dropout layer\n",
    "dropout_3 = tf.keras.layers.Dropout(0.5)\n",
    "dropout_3_out = dropout_3(new_act_5_out, training = True)\n",
    "\n",
    "# add a dense layer - prediction head\n",
    "dense_final = tf.keras.layers.Dense(1)\n",
    "dense_final_out = dense_final(dropout_3_out)\n",
    "# add activation\n",
    "new_act_6 = tf.keras.layers.Activation(\"relu\")\n",
    "new_act_6_out = new_act_6(dense_final_out)"
   ]
  },
  {
   "cell_type": "code",
   "execution_count": 5,
   "id": "41515627-92e8-4c18-995e-9854cb128fc9",
   "metadata": {},
   "outputs": [
    {
     "name": "stdout",
     "output_type": "stream",
     "text": [
      "Model: \"model\"\n",
      "_________________________________________________________________\n",
      " Layer (type)                Output Shape              Param #   \n",
      "=================================================================\n",
      " input_1 (InputLayer)        [(None, 32, 32, 3)]       0         \n",
      "                                                                 \n",
      " conv2d (Conv2D)             (None, 32, 32, 32)        896       \n",
      "                                                                 \n",
      " activation (Activation)     (None, 32, 32, 32)        0         \n",
      "                                                                 \n",
      " conv2d_1 (Conv2D)           (None, 30, 30, 32)        9248      \n",
      "                                                                 \n",
      " activation_1 (Activation)   (None, 30, 30, 32)        0         \n",
      "                                                                 \n",
      " max_pooling2d (MaxPooling2D  (None, 15, 15, 32)       0         \n",
      " )                                                               \n",
      "                                                                 \n",
      " dropout (Dropout)           (None, 15, 15, 32)        0         \n",
      "                                                                 \n",
      " conv2d_2 (Conv2D)           (None, 15, 15, 64)        18496     \n",
      "                                                                 \n",
      " activation_2 (Activation)   (None, 15, 15, 64)        0         \n",
      "                                                                 \n",
      " conv2d_3 (Conv2D)           (None, 13, 13, 64)        36928     \n",
      "                                                                 \n",
      " activation_3 (Activation)   (None, 13, 13, 64)        0         \n",
      "                                                                 \n",
      " max_pooling2d_1 (MaxPooling  (None, 6, 6, 64)         0         \n",
      " 2D)                                                             \n",
      "                                                                 \n",
      " dropout_1 (Dropout)         (None, 6, 6, 64)          0         \n",
      "                                                                 \n",
      " flatten (Flatten)           (None, 2304)              0         \n",
      "                                                                 \n",
      " dense (Dense)               (None, 512)               1180160   \n",
      "                                                                 \n",
      " activation_4 (Activation)   (None, 512)               0         \n",
      "                                                                 \n",
      " dropout_2 (Dropout)         (None, 512)               0         \n",
      "                                                                 \n",
      " dense_1 (Dense)             (None, 1)                 513       \n",
      "                                                                 \n",
      " activation_5 (Activation)   (None, 1)                 0         \n",
      "                                                                 \n",
      "=================================================================\n",
      "Total params: 1,246,241\n",
      "Trainable params: 1,246,241\n",
      "Non-trainable params: 0\n",
      "_________________________________________________________________\n"
     ]
    }
   ],
   "source": [
    "new_model = tf.keras.models.Model(inputs = new_input, outputs = new_act_6_out)\n",
    "new_model.summary()"
   ]
  },
  {
   "cell_type": "code",
   "execution_count": 6,
   "id": "a887f9e3-4660-4bcb-a91a-f226f09491c6",
   "metadata": {},
   "outputs": [],
   "source": [
    "weights = TN_model.get_weights()"
   ]
  },
  {
   "cell_type": "code",
   "execution_count": 7,
   "id": "e180016e-b116-4abd-a790-3f6da36e5395",
   "metadata": {},
   "outputs": [],
   "source": [
    "new_model.set_weights(weights)"
   ]
  },
  {
   "cell_type": "code",
   "execution_count": 8,
   "id": "294a36b7-a33e-47f4-b457-114401a3651c",
   "metadata": {},
   "outputs": [],
   "source": [
    "weights_new = new_model.get_weights()"
   ]
  },
  {
   "cell_type": "code",
   "execution_count": 9,
   "id": "5918855e-8e9a-4c5f-8ccd-62a2ad474ffe",
   "metadata": {},
   "outputs": [
    {
     "name": "stdout",
     "output_type": "stream",
     "text": [
      "12 12\n"
     ]
    }
   ],
   "source": [
    "print(len(weights), len(weights_new))"
   ]
  },
  {
   "cell_type": "code",
   "execution_count": 10,
   "id": "e552b46c-4e5e-41a9-ade3-cb9973f77296",
   "metadata": {},
   "outputs": [
    {
     "name": "stdout",
     "output_type": "stream",
     "text": [
      "1.0\n",
      "1.0\n",
      "1.0\n",
      "1.0\n",
      "1.0\n",
      "1.0\n",
      "1.0\n",
      "1.0\n",
      "1.0\n",
      "1.0\n",
      "1.0\n",
      "1.0\n"
     ]
    }
   ],
   "source": [
    "for i in range(len(weights)):\n",
    "    print(np.mean(weights[i] == weights_new[i]))"
   ]
  },
  {
   "cell_type": "code",
   "execution_count": 11,
   "id": "b7f97626-b749-4f8e-9def-fdf1c734cc97",
   "metadata": {},
   "outputs": [],
   "source": [
    "block_number = 'Block_13'\n",
    "file_path  = 'Preprocessed_test_data/all_img_density_files/'\n",
    "split_test_file_path = os.path.join(file_path, block_number)"
   ]
  },
  {
   "cell_type": "code",
   "execution_count": 12,
   "id": "e58defad-d90c-4851-a70d-bab8a15c4d5d",
   "metadata": {},
   "outputs": [],
   "source": [
    "split_test_images = [file for file in os.listdir(split_test_file_path) if file.split(\".\")[0][-3:] != 'map']\n",
    "split_test_images.sort()"
   ]
  },
  {
   "cell_type": "code",
   "execution_count": 13,
   "id": "bfed74ee-fc16-43d2-809e-12fd298678be",
   "metadata": {},
   "outputs": [],
   "source": [
    "# split_test_images"
   ]
  },
  {
   "cell_type": "code",
   "execution_count": 14,
   "id": "371ae383-8e3d-4ea8-bbea-288034ffbab3",
   "metadata": {},
   "outputs": [
    {
     "data": {
      "text/plain": [
       "32"
      ]
     },
     "execution_count": 14,
     "metadata": {},
     "output_type": "execute_result"
    }
   ],
   "source": [
    "len(split_test_images)"
   ]
  },
  {
   "cell_type": "code",
   "execution_count": 15,
   "id": "c99f8f68-e328-4c54-b4e1-13e0ab69be8b",
   "metadata": {},
   "outputs": [
    {
     "name": "stdout",
     "output_type": "stream",
     "text": [
      "1 Block0103_2020_06_29.npy (1024, 768, 3)\n",
      "2 Block0103_2020_07_01.npy (1024, 768, 3)\n",
      "3 Block0103_2020_07_02.npy (1024, 768, 3)\n",
      "4 Block0103_2020_07_06.npy (1024, 768, 3)\n",
      "5 Block0103_2020_07_07.npy (1024, 768, 3)\n",
      "6 Block0103_2020_07_08.npy (1024, 768, 3)\n",
      "7 Block0103_2020_07_14.npy (1024, 768, 3)\n",
      "8 Block0103_2020_07_16.npy (1024, 768, 3)\n",
      "9 Block0103_2020_07_17.npy (1024, 768, 3)\n",
      "10 Block0103_2020_07_20.npy (1024, 768, 3)\n",
      "11 Block0103_2020_07_22.npy (1024, 768, 3)\n",
      "12 Block0103_2020_07_23.npy (1024, 768, 3)\n",
      "13 Block0103_2020_08_03.npy (768, 1024, 3)\n",
      "14 Block0103_2020_08_04.npy (768, 1024, 3)\n",
      "15 Block0103_2020_08_06.npy (768, 1024, 3)\n",
      "16 Block0103_2020_08_07.npy (768, 1024, 3)\n",
      "17 Block0103_2020_08_11.npy (768, 1024, 3)\n",
      "18 Block0103_2020_08_12.npy (768, 1024, 3)\n",
      "19 Block0103_2020_08_14.npy (768, 1024, 3)\n",
      "20 Block0103_2020_08_15.npy (768, 1024, 3)\n",
      "21 Block0103_2020_08_17.npy (768, 1024, 3)\n",
      "22 Block0103_2020_08_18.npy (768, 1024, 3)\n",
      "23 Block0103_2020_08_19.npy (768, 1024, 3)\n",
      "24 Block0103_2020_08_21.npy (768, 1024, 3)\n",
      "25 Block0103_2020_08_25.npy (768, 1024, 3)\n",
      "26 Block0103_2020_08_26.npy (768, 1024, 3)\n",
      "27 Block0103_2020_08_27.npy (768, 1024, 3)\n",
      "28 Block0103_2020_08_28.npy (768, 1024, 3)\n",
      "29 Block0103_2020_08_31.npy (768, 1024, 3)\n",
      "30 Block0103_2020_09_02.npy (768, 1024, 3)\n",
      "31 Block0103_2020_09_07.npy (768, 1024, 3)\n",
      "32 Block0103_2020_09_16.npy (768, 1024, 3)\n"
     ]
    }
   ],
   "source": [
    "# check the shapes of the image files\n",
    "counter = 0\n",
    "for file in split_test_images:\n",
    "    load_file = np.load(split_test_file_path + '/' + file)\n",
    "    counter = counter + 1\n",
    "    print(counter, file, load_file.shape)"
   ]
  },
  {
   "cell_type": "code",
   "execution_count": 16,
   "id": "d0cafa34-0a45-42a1-93ac-c7d62d4660cc",
   "metadata": {},
   "outputs": [
    {
     "data": {
      "text/plain": [
       "'final_test_sub_windows_and_counts/Block_13'"
      ]
     },
     "execution_count": 16,
     "metadata": {},
     "output_type": "execute_result"
    }
   ],
   "source": [
    "# get the stacked test sub windows path\n",
    "block_number = 'Block_13'\n",
    "stacked_test_file_path = os.path.join('final_test_sub_windows_and_counts/', block_number)\n",
    "stacked_test_file_path"
   ]
  },
  {
   "cell_type": "code",
   "execution_count": 17,
   "id": "0f567853-11dc-4e2d-8329-70f2cde15916",
   "metadata": {},
   "outputs": [],
   "source": [
    "# get the contents\n",
    "contents_stacked_test_path = os.listdir(stacked_test_file_path)\n",
    "contents_stacked_test_path.sort()"
   ]
  },
  {
   "cell_type": "code",
   "execution_count": 18,
   "id": "522526ef-1bc9-4a33-8071-7a606537ccda",
   "metadata": {},
   "outputs": [],
   "source": [
    "# contents_stacked_test_path"
   ]
  },
  {
   "cell_type": "code",
   "execution_count": 19,
   "id": "2c5f4b59-b10f-4644-880d-f03e022dbd7c",
   "metadata": {},
   "outputs": [],
   "source": [
    "# get only the image files\n",
    "images_stacked_test = [file for file in contents_stacked_test_path if file[:8] == 'test_ims']\n",
    "images_stacked_test.sort()"
   ]
  },
  {
   "cell_type": "code",
   "execution_count": 20,
   "id": "8b2c363e-d785-4d3f-8f3e-f6d3ba16d03f",
   "metadata": {},
   "outputs": [
    {
     "data": {
      "text/plain": [
       "32"
      ]
     },
     "execution_count": 20,
     "metadata": {},
     "output_type": "execute_result"
    }
   ],
   "source": [
    "len(images_stacked_test)"
   ]
  },
  {
   "cell_type": "code",
   "execution_count": 21,
   "id": "10984991-93f5-4304-bd14-425490593865",
   "metadata": {},
   "outputs": [
    {
     "data": {
      "text/plain": [
       "'test_ims_Block0103_2020_06_29.npy'"
      ]
     },
     "execution_count": 21,
     "metadata": {},
     "output_type": "execute_result"
    }
   ],
   "source": [
    "images_stacked_test[0]"
   ]
  },
  {
   "cell_type": "code",
   "execution_count": 22,
   "id": "973fb84c-0249-4fa3-8d9f-176c9966f6a8",
   "metadata": {},
   "outputs": [
    {
     "data": {
      "text/plain": [
       "'Block0103_2020_06_29.npy'"
      ]
     },
     "execution_count": 22,
     "metadata": {},
     "output_type": "execute_result"
    }
   ],
   "source": [
    "images_stacked_test[0].split('test_ims_')[-1]"
   ]
  },
  {
   "cell_type": "code",
   "execution_count": 23,
   "id": "ff4b8fd6-5ce4-4f13-a9cc-92292725ba5a",
   "metadata": {},
   "outputs": [],
   "source": [
    "# define a function to get the post-hoc prediction\n",
    "def prediction_on_test_data(model, numpy_folder, v_stack_folder, selected_file, stride = 8, kernel_size = 32):\n",
    "#     load the cnn model\n",
    "    \n",
    "# load the image data file\n",
    "    load_image = np.load(numpy_folder + \"/\"+ selected_file)\n",
    "    \n",
    "    # get the image height\n",
    "    img_height = load_image.shape[0]\n",
    "    # get the image weight\n",
    "    img_width = load_image.shape[1]\n",
    "\n",
    "    selected_stacked_file = 'test_ims_' + selected_file\n",
    "    all_test_sub_windows = np.load(v_stack_folder + \"/\"+ selected_stacked_file)\n",
    "\n",
    "    # now, to get the predictions, pass the sub windows\n",
    "    test_image_prediction = model.predict(all_test_sub_windows)\n",
    "    \n",
    "    # density map\n",
    "    Density_map = np.zeros((img_height, img_width))\n",
    "\n",
    "    # counts map\n",
    "    counts_map = np.zeros((img_height, img_width))\n",
    "    \n",
    "    # now, for every window, we will keep adding the values together and also add the counts\n",
    "    counter = 0\n",
    "#     need a counter to move into each predicted value in the pred values list\n",
    "    for ii in range(0, img_height, stride):\n",
    "        for jj in range(0, img_width, stride):\n",
    "#         operations for density map\n",
    "#             get the window of interest\n",
    "            new_window = Density_map[ii:ii + kernel_size,jj:jj+kernel_size]\n",
    "#     fill each with the value c_k\n",
    "            counts_window = np.full((new_window.shape[0], new_window.shape[1]), test_image_prediction[counter])\n",
    "#     get the shapes of this new window\n",
    "            cw_height = counts_window.shape[0]\n",
    "            cw_width = counts_window.shape[1]\n",
    "#         Do c_k/r_2\n",
    "            counts_window_new = counts_window/(cw_height*cw_width)\n",
    "#     This is the value in the window now\n",
    "            value_window = counts_window_new\n",
    "#     place the values in the corrsponding area of the density map\n",
    "            Density_map[ii:ii + kernel_size,jj:jj+kernel_size] = new_window + value_window\n",
    "\n",
    "#         Let's now focus on capturing the counts of the windows\n",
    "            new_window_c = counts_map[ii:ii + kernel_size,jj:jj+kernel_size]\n",
    "#     get the counts area\n",
    "            count = np.ones((new_window_c.shape[0], new_window_c.shape[1]))\n",
    "#     keep adding the counts to reflect the addition of densities\n",
    "            counts_map[ii:ii + kernel_size,jj:jj+kernel_size] = new_window_c + count\n",
    "#     increase the counter\n",
    "            counter = counter + 1\n",
    "            \n",
    "#         get the normalized count\n",
    "    normalized_counts = np.divide(Density_map, counts_map)\n",
    "    \n",
    "#     entire count on the test set\n",
    "    pred_on_test = np.sum(normalized_counts)\n",
    "    \n",
    "#     return the predicted value\n",
    "    return(pred_on_test, normalized_counts, selected_file)"
   ]
  },
  {
   "cell_type": "code",
   "execution_count": 24,
   "id": "0848051e-b5c9-4237-96d5-bbc02f683a7f",
   "metadata": {},
   "outputs": [],
   "source": [
    "# get the preds for a single image"
   ]
  },
  {
   "cell_type": "code",
   "execution_count": 25,
   "id": "48a65e87-3166-4ed8-a007-006d698ed740",
   "metadata": {},
   "outputs": [],
   "source": [
    "# model = new_model\n",
    "# numpy_folder = split_test_file_path\n",
    "# v_stack_folder = stacked_test_file_path\n",
    "# selected_file = split_test_images[0]\n",
    "# stride = 8\n",
    "# kernel_size = 32"
   ]
  },
  {
   "cell_type": "code",
   "execution_count": 26,
   "id": "a44b7c98-8034-43de-b141-975982034f98",
   "metadata": {},
   "outputs": [],
   "source": [
    "# load the calibrator model\n",
    "# load\n",
    "with open('Calibration_model/NN_model.pkl', 'rb') as f:\n",
    "    NN_model = pickle.load(f)"
   ]
  },
  {
   "cell_type": "code",
   "execution_count": 31,
   "id": "56a4bb4e-57c7-4ddf-bf25-f4581a70398c",
   "metadata": {},
   "outputs": [
    {
     "name": "stdout",
     "output_type": "stream",
     "text": [
      "CPU times: user 18min 13s, sys: 3min 27s, total: 21min 41s\n",
      "Wall time: 19min 4s\n"
     ]
    }
   ],
   "source": [
    "%%time\n",
    "# get the predictions for test data\n",
    "\n",
    "# save density map path\n",
    "dense_path = \"predicted_count_maps_for_test_files/Block_13\"\n",
    "\n",
    "final_values_preds_names = []\n",
    "final_values_calibrated_preds_names = []\n",
    "for file in split_test_images:\n",
    "    name = file\n",
    "    all_preicted_values = []\n",
    "    all_calibrated_predicted_values = []\n",
    "    # normalized_pred_maps = []\n",
    "    for i in range(25):\n",
    "        preds_value, norm_counts, _ = prediction_on_test_data(new_model, split_test_file_path, stacked_test_file_path, file, stride = 8, kernel_size = 32)\n",
    "        # np.array(6.5).reshape(1,-1)\n",
    "        calibrated_preds = NN_model.predict(np.array(preds_value).reshape(1,-1))\n",
    "        # save the normalized density maps\n",
    "        np.save(dense_path + '/' + file.split('.')[0] + '_' + str(i) + '_norm_map_TN.npy', norm_counts)\n",
    "        all_preicted_values.append(preds_value)\n",
    "        all_calibrated_predicted_values.append(np.float32(calibrated_preds))\n",
    "        # normalized_pred_maps.append(norm_counts)\n",
    "    final_values_preds_names.append((name, all_preicted_values))\n",
    "    final_values_calibrated_preds_names.append((name, all_calibrated_predicted_values))"
   ]
  },
  {
   "cell_type": "code",
   "execution_count": 32,
   "id": "ad4bc99a-4038-4e36-8b3a-fe51dbbcc0a8",
   "metadata": {},
   "outputs": [],
   "source": [
    "# all_calibrated_predicted_values"
   ]
  },
  {
   "cell_type": "code",
   "execution_count": 33,
   "id": "084b5dce-8638-4b88-8ea5-c85a76f483c5",
   "metadata": {},
   "outputs": [],
   "source": [
    "preds_df = pd.DataFrame(final_values_preds_names, columns = ['image_name', 'predictions'])"
   ]
  },
  {
   "cell_type": "code",
   "execution_count": 34,
   "id": "6a2f28b3-870b-45b7-b61b-bb709d6c982c",
   "metadata": {},
   "outputs": [],
   "source": [
    "preds_df = preds_df.join(preds_df['predictions'].apply(pd.Series))"
   ]
  },
  {
   "cell_type": "code",
   "execution_count": 35,
   "id": "5b52c3a9-d0ff-438a-b973-71587a30c6ba",
   "metadata": {},
   "outputs": [],
   "source": [
    "preds_df = preds_df.drop(['predictions'], axis = 1)"
   ]
  },
  {
   "cell_type": "code",
   "execution_count": 36,
   "id": "79ebc236-d9c3-4600-8077-d4c6802bf060",
   "metadata": {},
   "outputs": [],
   "source": [
    "preds_df.columns = ['name'] + ['predicted_count_' + str(i) for i in range(25)]"
   ]
  },
  {
   "cell_type": "code",
   "execution_count": 37,
   "id": "afc22980-59d5-4145-a228-2292b8e902a5",
   "metadata": {},
   "outputs": [],
   "source": [
    "preds_df['name'] = [i.split(\".\")[0] for i in preds_df['name']]"
   ]
  },
  {
   "cell_type": "code",
   "execution_count": 38,
   "id": "368e2c00-60e5-4ad0-af54-6fa103e9fbeb",
   "metadata": {},
   "outputs": [
    {
     "data": {
      "text/html": [
       "<div>\n",
       "<style scoped>\n",
       "    .dataframe tbody tr th:only-of-type {\n",
       "        vertical-align: middle;\n",
       "    }\n",
       "\n",
       "    .dataframe tbody tr th {\n",
       "        vertical-align: top;\n",
       "    }\n",
       "\n",
       "    .dataframe thead th {\n",
       "        text-align: right;\n",
       "    }\n",
       "</style>\n",
       "<table border=\"1\" class=\"dataframe\">\n",
       "  <thead>\n",
       "    <tr style=\"text-align: right;\">\n",
       "      <th></th>\n",
       "      <th>name</th>\n",
       "      <th>predicted_count_0</th>\n",
       "      <th>predicted_count_1</th>\n",
       "      <th>predicted_count_2</th>\n",
       "      <th>predicted_count_3</th>\n",
       "      <th>predicted_count_4</th>\n",
       "      <th>predicted_count_5</th>\n",
       "      <th>predicted_count_6</th>\n",
       "      <th>predicted_count_7</th>\n",
       "      <th>predicted_count_8</th>\n",
       "      <th>...</th>\n",
       "      <th>predicted_count_15</th>\n",
       "      <th>predicted_count_16</th>\n",
       "      <th>predicted_count_17</th>\n",
       "      <th>predicted_count_18</th>\n",
       "      <th>predicted_count_19</th>\n",
       "      <th>predicted_count_20</th>\n",
       "      <th>predicted_count_21</th>\n",
       "      <th>predicted_count_22</th>\n",
       "      <th>predicted_count_23</th>\n",
       "      <th>predicted_count_24</th>\n",
       "    </tr>\n",
       "  </thead>\n",
       "  <tbody>\n",
       "    <tr>\n",
       "      <th>0</th>\n",
       "      <td>Block0103_2020_06_29</td>\n",
       "      <td>2.768791</td>\n",
       "      <td>2.737235</td>\n",
       "      <td>2.761854</td>\n",
       "      <td>2.806226</td>\n",
       "      <td>2.683637</td>\n",
       "      <td>2.762537</td>\n",
       "      <td>2.722819</td>\n",
       "      <td>2.932294</td>\n",
       "      <td>2.771949</td>\n",
       "      <td>...</td>\n",
       "      <td>2.750739</td>\n",
       "      <td>2.726071</td>\n",
       "      <td>2.713472</td>\n",
       "      <td>2.727392</td>\n",
       "      <td>2.798882</td>\n",
       "      <td>2.885635</td>\n",
       "      <td>2.774441</td>\n",
       "      <td>2.945802</td>\n",
       "      <td>2.662718</td>\n",
       "      <td>2.719367</td>\n",
       "    </tr>\n",
       "    <tr>\n",
       "      <th>1</th>\n",
       "      <td>Block0103_2020_07_01</td>\n",
       "      <td>2.372666</td>\n",
       "      <td>2.511263</td>\n",
       "      <td>2.281197</td>\n",
       "      <td>2.456156</td>\n",
       "      <td>2.413591</td>\n",
       "      <td>2.191626</td>\n",
       "      <td>2.380566</td>\n",
       "      <td>2.470350</td>\n",
       "      <td>2.258358</td>\n",
       "      <td>...</td>\n",
       "      <td>2.356904</td>\n",
       "      <td>2.264596</td>\n",
       "      <td>2.373401</td>\n",
       "      <td>2.315454</td>\n",
       "      <td>2.441981</td>\n",
       "      <td>2.334383</td>\n",
       "      <td>2.204549</td>\n",
       "      <td>2.417055</td>\n",
       "      <td>2.399893</td>\n",
       "      <td>2.384902</td>\n",
       "    </tr>\n",
       "    <tr>\n",
       "      <th>2</th>\n",
       "      <td>Block0103_2020_07_02</td>\n",
       "      <td>4.073996</td>\n",
       "      <td>4.056471</td>\n",
       "      <td>4.103680</td>\n",
       "      <td>4.011901</td>\n",
       "      <td>4.069488</td>\n",
       "      <td>4.136672</td>\n",
       "      <td>4.012331</td>\n",
       "      <td>4.217433</td>\n",
       "      <td>4.148391</td>\n",
       "      <td>...</td>\n",
       "      <td>3.981834</td>\n",
       "      <td>4.127773</td>\n",
       "      <td>4.041874</td>\n",
       "      <td>4.293217</td>\n",
       "      <td>4.007518</td>\n",
       "      <td>4.179398</td>\n",
       "      <td>3.969915</td>\n",
       "      <td>3.927223</td>\n",
       "      <td>3.997776</td>\n",
       "      <td>4.173708</td>\n",
       "    </tr>\n",
       "    <tr>\n",
       "      <th>3</th>\n",
       "      <td>Block0103_2020_07_06</td>\n",
       "      <td>8.251891</td>\n",
       "      <td>8.328079</td>\n",
       "      <td>8.286956</td>\n",
       "      <td>8.322116</td>\n",
       "      <td>8.268375</td>\n",
       "      <td>8.167058</td>\n",
       "      <td>8.068404</td>\n",
       "      <td>8.254920</td>\n",
       "      <td>8.079759</td>\n",
       "      <td>...</td>\n",
       "      <td>8.242201</td>\n",
       "      <td>8.192670</td>\n",
       "      <td>8.278949</td>\n",
       "      <td>8.297511</td>\n",
       "      <td>8.347765</td>\n",
       "      <td>8.383483</td>\n",
       "      <td>8.365918</td>\n",
       "      <td>8.262857</td>\n",
       "      <td>8.409867</td>\n",
       "      <td>8.302053</td>\n",
       "    </tr>\n",
       "    <tr>\n",
       "      <th>4</th>\n",
       "      <td>Block0103_2020_07_07</td>\n",
       "      <td>10.122926</td>\n",
       "      <td>10.032279</td>\n",
       "      <td>10.463030</td>\n",
       "      <td>10.275570</td>\n",
       "      <td>10.079625</td>\n",
       "      <td>9.762933</td>\n",
       "      <td>10.025747</td>\n",
       "      <td>9.950942</td>\n",
       "      <td>9.913895</td>\n",
       "      <td>...</td>\n",
       "      <td>9.996246</td>\n",
       "      <td>10.111032</td>\n",
       "      <td>10.274550</td>\n",
       "      <td>10.132869</td>\n",
       "      <td>9.944904</td>\n",
       "      <td>9.935438</td>\n",
       "      <td>10.252738</td>\n",
       "      <td>10.258262</td>\n",
       "      <td>10.130847</td>\n",
       "      <td>10.045406</td>\n",
       "    </tr>\n",
       "  </tbody>\n",
       "</table>\n",
       "<p>5 rows × 26 columns</p>\n",
       "</div>"
      ],
      "text/plain": [
       "                   name  predicted_count_0  predicted_count_1  \\\n",
       "0  Block0103_2020_06_29           2.768791           2.737235   \n",
       "1  Block0103_2020_07_01           2.372666           2.511263   \n",
       "2  Block0103_2020_07_02           4.073996           4.056471   \n",
       "3  Block0103_2020_07_06           8.251891           8.328079   \n",
       "4  Block0103_2020_07_07          10.122926          10.032279   \n",
       "\n",
       "   predicted_count_2  predicted_count_3  predicted_count_4  predicted_count_5  \\\n",
       "0           2.761854           2.806226           2.683637           2.762537   \n",
       "1           2.281197           2.456156           2.413591           2.191626   \n",
       "2           4.103680           4.011901           4.069488           4.136672   \n",
       "3           8.286956           8.322116           8.268375           8.167058   \n",
       "4          10.463030          10.275570          10.079625           9.762933   \n",
       "\n",
       "   predicted_count_6  predicted_count_7  predicted_count_8  ...  \\\n",
       "0           2.722819           2.932294           2.771949  ...   \n",
       "1           2.380566           2.470350           2.258358  ...   \n",
       "2           4.012331           4.217433           4.148391  ...   \n",
       "3           8.068404           8.254920           8.079759  ...   \n",
       "4          10.025747           9.950942           9.913895  ...   \n",
       "\n",
       "   predicted_count_15  predicted_count_16  predicted_count_17  \\\n",
       "0            2.750739            2.726071            2.713472   \n",
       "1            2.356904            2.264596            2.373401   \n",
       "2            3.981834            4.127773            4.041874   \n",
       "3            8.242201            8.192670            8.278949   \n",
       "4            9.996246           10.111032           10.274550   \n",
       "\n",
       "   predicted_count_18  predicted_count_19  predicted_count_20  \\\n",
       "0            2.727392            2.798882            2.885635   \n",
       "1            2.315454            2.441981            2.334383   \n",
       "2            4.293217            4.007518            4.179398   \n",
       "3            8.297511            8.347765            8.383483   \n",
       "4           10.132869            9.944904            9.935438   \n",
       "\n",
       "   predicted_count_21  predicted_count_22  predicted_count_23  \\\n",
       "0            2.774441            2.945802            2.662718   \n",
       "1            2.204549            2.417055            2.399893   \n",
       "2            3.969915            3.927223            3.997776   \n",
       "3            8.365918            8.262857            8.409867   \n",
       "4           10.252738           10.258262           10.130847   \n",
       "\n",
       "   predicted_count_24  \n",
       "0            2.719367  \n",
       "1            2.384902  \n",
       "2            4.173708  \n",
       "3            8.302053  \n",
       "4           10.045406  \n",
       "\n",
       "[5 rows x 26 columns]"
      ]
     },
     "execution_count": 38,
     "metadata": {},
     "output_type": "execute_result"
    }
   ],
   "source": [
    "preds_df.head()"
   ]
  },
  {
   "cell_type": "code",
   "execution_count": 39,
   "id": "988574c4-8c14-4599-9d5a-75cbd2c188d9",
   "metadata": {},
   "outputs": [
    {
     "data": {
      "text/plain": [
       "(32, 26)"
      ]
     },
     "execution_count": 39,
     "metadata": {},
     "output_type": "execute_result"
    }
   ],
   "source": [
    "preds_df.shape"
   ]
  },
  {
   "cell_type": "code",
   "execution_count": 40,
   "id": "f9755ab4-38d3-4d5c-99dd-8e421642dac3",
   "metadata": {},
   "outputs": [],
   "source": [
    "calibrated_preds_df = pd.DataFrame(final_values_calibrated_preds_names, columns = ['image_name', 'predictions'])"
   ]
  },
  {
   "cell_type": "code",
   "execution_count": 41,
   "id": "c0aeff59-c52e-4b89-bbe5-ec79011ac4d8",
   "metadata": {},
   "outputs": [],
   "source": [
    "calibrated_preds_df = calibrated_preds_df.join(calibrated_preds_df['predictions'].apply(pd.Series))"
   ]
  },
  {
   "cell_type": "code",
   "execution_count": 42,
   "id": "debefade-d829-4110-9782-d2fcf14dc33e",
   "metadata": {},
   "outputs": [],
   "source": [
    "calibrated_preds_df = calibrated_preds_df.drop(['predictions'], axis = 1)"
   ]
  },
  {
   "cell_type": "code",
   "execution_count": 43,
   "id": "b5c7cb1e-495c-45da-a1b2-19b83afba4a4",
   "metadata": {},
   "outputs": [],
   "source": [
    "calibrated_preds_df.columns = ['name'] + ['calib_predicted_count_' + str(i) for i in range(25)]"
   ]
  },
  {
   "cell_type": "code",
   "execution_count": 45,
   "id": "acbd88c1-586b-4c4e-b591-295a5e1f8964",
   "metadata": {},
   "outputs": [],
   "source": [
    "calibrated_preds_df['name'] = [i.split(\".\")[0] for i in calibrated_preds_df['name']]"
   ]
  },
  {
   "cell_type": "code",
   "execution_count": 46,
   "id": "ca4b8843-9a05-4eb9-9c65-fdde57985921",
   "metadata": {},
   "outputs": [
    {
     "data": {
      "text/html": [
       "<div>\n",
       "<style scoped>\n",
       "    .dataframe tbody tr th:only-of-type {\n",
       "        vertical-align: middle;\n",
       "    }\n",
       "\n",
       "    .dataframe tbody tr th {\n",
       "        vertical-align: top;\n",
       "    }\n",
       "\n",
       "    .dataframe thead th {\n",
       "        text-align: right;\n",
       "    }\n",
       "</style>\n",
       "<table border=\"1\" class=\"dataframe\">\n",
       "  <thead>\n",
       "    <tr style=\"text-align: right;\">\n",
       "      <th></th>\n",
       "      <th>name</th>\n",
       "      <th>calib_predicted_count_0</th>\n",
       "      <th>calib_predicted_count_1</th>\n",
       "      <th>calib_predicted_count_2</th>\n",
       "      <th>calib_predicted_count_3</th>\n",
       "      <th>calib_predicted_count_4</th>\n",
       "      <th>calib_predicted_count_5</th>\n",
       "      <th>calib_predicted_count_6</th>\n",
       "      <th>calib_predicted_count_7</th>\n",
       "      <th>calib_predicted_count_8</th>\n",
       "      <th>...</th>\n",
       "      <th>calib_predicted_count_15</th>\n",
       "      <th>calib_predicted_count_16</th>\n",
       "      <th>calib_predicted_count_17</th>\n",
       "      <th>calib_predicted_count_18</th>\n",
       "      <th>calib_predicted_count_19</th>\n",
       "      <th>calib_predicted_count_20</th>\n",
       "      <th>calib_predicted_count_21</th>\n",
       "      <th>calib_predicted_count_22</th>\n",
       "      <th>calib_predicted_count_23</th>\n",
       "      <th>calib_predicted_count_24</th>\n",
       "    </tr>\n",
       "  </thead>\n",
       "  <tbody>\n",
       "    <tr>\n",
       "      <th>0</th>\n",
       "      <td>Block0103_2020_06_29</td>\n",
       "      <td>[2.3371837]</td>\n",
       "      <td>[2.3849325]</td>\n",
       "      <td>[2.3478224]</td>\n",
       "      <td>[2.2783344]</td>\n",
       "      <td>[2.4623868]</td>\n",
       "      <td>[2.346778]</td>\n",
       "      <td>[2.406206]</td>\n",
       "      <td>[2.0605254]</td>\n",
       "      <td>[2.3323126]</td>\n",
       "      <td>...</td>\n",
       "      <td>[2.3646998]</td>\n",
       "      <td>[2.4014356]</td>\n",
       "      <td>[2.419822]</td>\n",
       "      <td>[2.3994923]</td>\n",
       "      <td>[2.2900746]</td>\n",
       "      <td>[2.1449034]</td>\n",
       "      <td>[2.3284569]</td>\n",
       "      <td>[2.0352015]</td>\n",
       "      <td>[2.4914389]</td>\n",
       "      <td>[2.4112504]</td>\n",
       "    </tr>\n",
       "    <tr>\n",
       "      <th>1</th>\n",
       "      <td>Block0103_2020_07_01</td>\n",
       "      <td>[2.837204]</td>\n",
       "      <td>[2.684172]</td>\n",
       "      <td>[2.9279888]</td>\n",
       "      <td>[2.7474332]</td>\n",
       "      <td>[2.7940729]</td>\n",
       "      <td>[3.0100665]</td>\n",
       "      <td>[2.8290048]</td>\n",
       "      <td>[2.731457]</td>\n",
       "      <td>[2.9495273]</td>\n",
       "      <td>...</td>\n",
       "      <td>[2.8533874]</td>\n",
       "      <td>[2.943687]</td>\n",
       "      <td>[2.8364432]</td>\n",
       "      <td>[2.8948574]</td>\n",
       "      <td>[2.7631729]</td>\n",
       "      <td>[2.8761117]</td>\n",
       "      <td>[2.9986124]</td>\n",
       "      <td>[2.7903466]</td>\n",
       "      <td>[2.8086917]</td>\n",
       "      <td>[2.8244784]</td>\n",
       "    </tr>\n",
       "    <tr>\n",
       "      <th>2</th>\n",
       "      <td>Block0103_2020_07_02</td>\n",
       "      <td>[2.1423137]</td>\n",
       "      <td>[2.0721848]</td>\n",
       "      <td>[2.2598007]</td>\n",
       "      <td>[1.8911883]</td>\n",
       "      <td>[2.1243303]</td>\n",
       "      <td>[2.3885155]</td>\n",
       "      <td>[1.8929541]</td>\n",
       "      <td>[2.6957264]</td>\n",
       "      <td>[2.4337773]</td>\n",
       "      <td>...</td>\n",
       "      <td>[1.7668806]</td>\n",
       "      <td>[2.353989]</td>\n",
       "      <td>[2.013331]</td>\n",
       "      <td>[2.9744952]</td>\n",
       "      <td>[1.873183]</td>\n",
       "      <td>[2.5524008]</td>\n",
       "      <td>[1.7170924]</td>\n",
       "      <td>[1.5363307]</td>\n",
       "      <td>[1.8330176]</td>\n",
       "      <td>[2.5307548]</td>\n",
       "    </tr>\n",
       "    <tr>\n",
       "      <th>3</th>\n",
       "      <td>Block0103_2020_07_06</td>\n",
       "      <td>[10.771861]</td>\n",
       "      <td>[11.028873]</td>\n",
       "      <td>[10.896635]</td>\n",
       "      <td>[11.010672]</td>\n",
       "      <td>[10.8318615]</td>\n",
       "      <td>[10.426931]</td>\n",
       "      <td>[3.9735878]</td>\n",
       "      <td>[10.783064]</td>\n",
       "      <td>[3.954489]</td>\n",
       "      <td>...</td>\n",
       "      <td>[10.735495]</td>\n",
       "      <td>[10.537291]</td>\n",
       "      <td>[10.869101]</td>\n",
       "      <td>[10.932057]</td>\n",
       "      <td>[11.086561]</td>\n",
       "      <td>[11.181489]</td>\n",
       "      <td>[11.136405]</td>\n",
       "      <td>[10.812039]</td>\n",
       "      <td>[11.243189]</td>\n",
       "      <td>[10.94699]</td>\n",
       "    </tr>\n",
       "    <tr>\n",
       "      <th>4</th>\n",
       "      <td>Block0103_2020_07_07</td>\n",
       "      <td>[20.580364]</td>\n",
       "      <td>[22.539986]</td>\n",
       "      <td>[14.161044]</td>\n",
       "      <td>[17.670778]</td>\n",
       "      <td>[21.482166]</td>\n",
       "      <td>[32.48838]</td>\n",
       "      <td>[22.693321]</td>\n",
       "      <td>[24.622837]</td>\n",
       "      <td>[25.735645]</td>\n",
       "      <td>...</td>\n",
       "      <td>[23.412909]</td>\n",
       "      <td>[20.822966]</td>\n",
       "      <td>[17.689562]</td>\n",
       "      <td>[20.380148]</td>\n",
       "      <td>[24.795675]</td>\n",
       "      <td>[25.07297]</td>\n",
       "      <td>[18.091797]</td>\n",
       "      <td>[17.989733]</td>\n",
       "      <td>[20.420687]</td>\n",
       "      <td>[22.237709]</td>\n",
       "    </tr>\n",
       "  </tbody>\n",
       "</table>\n",
       "<p>5 rows × 26 columns</p>\n",
       "</div>"
      ],
      "text/plain": [
       "                   name calib_predicted_count_0 calib_predicted_count_1  \\\n",
       "0  Block0103_2020_06_29             [2.3371837]             [2.3849325]   \n",
       "1  Block0103_2020_07_01              [2.837204]              [2.684172]   \n",
       "2  Block0103_2020_07_02             [2.1423137]             [2.0721848]   \n",
       "3  Block0103_2020_07_06             [10.771861]             [11.028873]   \n",
       "4  Block0103_2020_07_07             [20.580364]             [22.539986]   \n",
       "\n",
       "  calib_predicted_count_2 calib_predicted_count_3 calib_predicted_count_4  \\\n",
       "0             [2.3478224]             [2.2783344]             [2.4623868]   \n",
       "1             [2.9279888]             [2.7474332]             [2.7940729]   \n",
       "2             [2.2598007]             [1.8911883]             [2.1243303]   \n",
       "3             [10.896635]             [11.010672]            [10.8318615]   \n",
       "4             [14.161044]             [17.670778]             [21.482166]   \n",
       "\n",
       "  calib_predicted_count_5 calib_predicted_count_6 calib_predicted_count_7  \\\n",
       "0              [2.346778]              [2.406206]             [2.0605254]   \n",
       "1             [3.0100665]             [2.8290048]              [2.731457]   \n",
       "2             [2.3885155]             [1.8929541]             [2.6957264]   \n",
       "3             [10.426931]             [3.9735878]             [10.783064]   \n",
       "4              [32.48838]             [22.693321]             [24.622837]   \n",
       "\n",
       "  calib_predicted_count_8  ... calib_predicted_count_15  \\\n",
       "0             [2.3323126]  ...              [2.3646998]   \n",
       "1             [2.9495273]  ...              [2.8533874]   \n",
       "2             [2.4337773]  ...              [1.7668806]   \n",
       "3              [3.954489]  ...              [10.735495]   \n",
       "4             [25.735645]  ...              [23.412909]   \n",
       "\n",
       "  calib_predicted_count_16 calib_predicted_count_17 calib_predicted_count_18  \\\n",
       "0              [2.4014356]               [2.419822]              [2.3994923]   \n",
       "1               [2.943687]              [2.8364432]              [2.8948574]   \n",
       "2               [2.353989]               [2.013331]              [2.9744952]   \n",
       "3              [10.537291]              [10.869101]              [10.932057]   \n",
       "4              [20.822966]              [17.689562]              [20.380148]   \n",
       "\n",
       "  calib_predicted_count_19 calib_predicted_count_20 calib_predicted_count_21  \\\n",
       "0              [2.2900746]              [2.1449034]              [2.3284569]   \n",
       "1              [2.7631729]              [2.8761117]              [2.9986124]   \n",
       "2               [1.873183]              [2.5524008]              [1.7170924]   \n",
       "3              [11.086561]              [11.181489]              [11.136405]   \n",
       "4              [24.795675]               [25.07297]              [18.091797]   \n",
       "\n",
       "  calib_predicted_count_22 calib_predicted_count_23 calib_predicted_count_24  \n",
       "0              [2.0352015]              [2.4914389]              [2.4112504]  \n",
       "1              [2.7903466]              [2.8086917]              [2.8244784]  \n",
       "2              [1.5363307]              [1.8330176]              [2.5307548]  \n",
       "3              [10.812039]              [11.243189]               [10.94699]  \n",
       "4              [17.989733]              [20.420687]              [22.237709]  \n",
       "\n",
       "[5 rows x 26 columns]"
      ]
     },
     "execution_count": 46,
     "metadata": {},
     "output_type": "execute_result"
    }
   ],
   "source": [
    "calibrated_preds_df.head()"
   ]
  },
  {
   "cell_type": "code",
   "execution_count": 47,
   "id": "c54fb744-9692-4b65-bbf4-8b3919684822",
   "metadata": {},
   "outputs": [],
   "source": [
    "# import the true test counts\n",
    "true_counts_df = pd.read_csv(\"True_tassel_counts/test_data/true_test_counts_blk_13.csv\")"
   ]
  },
  {
   "cell_type": "code",
   "execution_count": 48,
   "id": "525602ff-1674-427f-a4fb-1c491a9858bd",
   "metadata": {},
   "outputs": [
    {
     "data": {
      "text/html": [
       "<div>\n",
       "<style scoped>\n",
       "    .dataframe tbody tr th:only-of-type {\n",
       "        vertical-align: middle;\n",
       "    }\n",
       "\n",
       "    .dataframe tbody tr th {\n",
       "        vertical-align: top;\n",
       "    }\n",
       "\n",
       "    .dataframe thead th {\n",
       "        text-align: right;\n",
       "    }\n",
       "</style>\n",
       "<table border=\"1\" class=\"dataframe\">\n",
       "  <thead>\n",
       "    <tr style=\"text-align: right;\">\n",
       "      <th></th>\n",
       "      <th>name</th>\n",
       "      <th>true_count</th>\n",
       "    </tr>\n",
       "  </thead>\n",
       "  <tbody>\n",
       "    <tr>\n",
       "      <th>0</th>\n",
       "      <td>Block0103_2020_06_29</td>\n",
       "      <td>0.0</td>\n",
       "    </tr>\n",
       "    <tr>\n",
       "      <th>1</th>\n",
       "      <td>Block0103_2020_07_01</td>\n",
       "      <td>0.0</td>\n",
       "    </tr>\n",
       "    <tr>\n",
       "      <th>2</th>\n",
       "      <td>Block0103_2020_07_02</td>\n",
       "      <td>0.0</td>\n",
       "    </tr>\n",
       "    <tr>\n",
       "      <th>3</th>\n",
       "      <td>Block0103_2020_07_06</td>\n",
       "      <td>0.0</td>\n",
       "    </tr>\n",
       "    <tr>\n",
       "      <th>4</th>\n",
       "      <td>Block0103_2020_07_07</td>\n",
       "      <td>0.0</td>\n",
       "    </tr>\n",
       "  </tbody>\n",
       "</table>\n",
       "</div>"
      ],
      "text/plain": [
       "                   name  true_count\n",
       "0  Block0103_2020_06_29         0.0\n",
       "1  Block0103_2020_07_01         0.0\n",
       "2  Block0103_2020_07_02         0.0\n",
       "3  Block0103_2020_07_06         0.0\n",
       "4  Block0103_2020_07_07         0.0"
      ]
     },
     "execution_count": 48,
     "metadata": {},
     "output_type": "execute_result"
    }
   ],
   "source": [
    "true_counts_df.head()"
   ]
  },
  {
   "cell_type": "code",
   "execution_count": 49,
   "id": "fb860a32-70bf-49c7-9a6e-369464922342",
   "metadata": {},
   "outputs": [
    {
     "data": {
      "text/plain": [
       "(32, 2)"
      ]
     },
     "execution_count": 49,
     "metadata": {},
     "output_type": "execute_result"
    }
   ],
   "source": [
    "true_counts_df.shape"
   ]
  },
  {
   "cell_type": "code",
   "execution_count": 50,
   "id": "f935645e-2890-4a92-a21d-36aaa9d1a835",
   "metadata": {},
   "outputs": [],
   "source": [
    "# merge the two dataframes\n",
    "joined_df = pd.merge(true_counts_df, preds_df, on = 'name')"
   ]
  },
  {
   "cell_type": "code",
   "execution_count": 51,
   "id": "eb3c4df5-7a64-4dd9-8acd-15226abbf988",
   "metadata": {},
   "outputs": [
    {
     "data": {
      "text/html": [
       "<div>\n",
       "<style scoped>\n",
       "    .dataframe tbody tr th:only-of-type {\n",
       "        vertical-align: middle;\n",
       "    }\n",
       "\n",
       "    .dataframe tbody tr th {\n",
       "        vertical-align: top;\n",
       "    }\n",
       "\n",
       "    .dataframe thead th {\n",
       "        text-align: right;\n",
       "    }\n",
       "</style>\n",
       "<table border=\"1\" class=\"dataframe\">\n",
       "  <thead>\n",
       "    <tr style=\"text-align: right;\">\n",
       "      <th></th>\n",
       "      <th>name</th>\n",
       "      <th>true_count</th>\n",
       "      <th>predicted_count_0</th>\n",
       "      <th>predicted_count_1</th>\n",
       "      <th>predicted_count_2</th>\n",
       "      <th>predicted_count_3</th>\n",
       "      <th>predicted_count_4</th>\n",
       "      <th>predicted_count_5</th>\n",
       "      <th>predicted_count_6</th>\n",
       "      <th>predicted_count_7</th>\n",
       "      <th>...</th>\n",
       "      <th>predicted_count_15</th>\n",
       "      <th>predicted_count_16</th>\n",
       "      <th>predicted_count_17</th>\n",
       "      <th>predicted_count_18</th>\n",
       "      <th>predicted_count_19</th>\n",
       "      <th>predicted_count_20</th>\n",
       "      <th>predicted_count_21</th>\n",
       "      <th>predicted_count_22</th>\n",
       "      <th>predicted_count_23</th>\n",
       "      <th>predicted_count_24</th>\n",
       "    </tr>\n",
       "  </thead>\n",
       "  <tbody>\n",
       "    <tr>\n",
       "      <th>0</th>\n",
       "      <td>Block0103_2020_06_29</td>\n",
       "      <td>0.0</td>\n",
       "      <td>2.768791</td>\n",
       "      <td>2.737235</td>\n",
       "      <td>2.761854</td>\n",
       "      <td>2.806226</td>\n",
       "      <td>2.683637</td>\n",
       "      <td>2.762537</td>\n",
       "      <td>2.722819</td>\n",
       "      <td>2.932294</td>\n",
       "      <td>...</td>\n",
       "      <td>2.750739</td>\n",
       "      <td>2.726071</td>\n",
       "      <td>2.713472</td>\n",
       "      <td>2.727392</td>\n",
       "      <td>2.798882</td>\n",
       "      <td>2.885635</td>\n",
       "      <td>2.774441</td>\n",
       "      <td>2.945802</td>\n",
       "      <td>2.662718</td>\n",
       "      <td>2.719367</td>\n",
       "    </tr>\n",
       "    <tr>\n",
       "      <th>1</th>\n",
       "      <td>Block0103_2020_07_01</td>\n",
       "      <td>0.0</td>\n",
       "      <td>2.372666</td>\n",
       "      <td>2.511263</td>\n",
       "      <td>2.281197</td>\n",
       "      <td>2.456156</td>\n",
       "      <td>2.413591</td>\n",
       "      <td>2.191626</td>\n",
       "      <td>2.380566</td>\n",
       "      <td>2.470350</td>\n",
       "      <td>...</td>\n",
       "      <td>2.356904</td>\n",
       "      <td>2.264596</td>\n",
       "      <td>2.373401</td>\n",
       "      <td>2.315454</td>\n",
       "      <td>2.441981</td>\n",
       "      <td>2.334383</td>\n",
       "      <td>2.204549</td>\n",
       "      <td>2.417055</td>\n",
       "      <td>2.399893</td>\n",
       "      <td>2.384902</td>\n",
       "    </tr>\n",
       "    <tr>\n",
       "      <th>2</th>\n",
       "      <td>Block0103_2020_07_02</td>\n",
       "      <td>0.0</td>\n",
       "      <td>4.073996</td>\n",
       "      <td>4.056471</td>\n",
       "      <td>4.103680</td>\n",
       "      <td>4.011901</td>\n",
       "      <td>4.069488</td>\n",
       "      <td>4.136672</td>\n",
       "      <td>4.012331</td>\n",
       "      <td>4.217433</td>\n",
       "      <td>...</td>\n",
       "      <td>3.981834</td>\n",
       "      <td>4.127773</td>\n",
       "      <td>4.041874</td>\n",
       "      <td>4.293217</td>\n",
       "      <td>4.007518</td>\n",
       "      <td>4.179398</td>\n",
       "      <td>3.969915</td>\n",
       "      <td>3.927223</td>\n",
       "      <td>3.997776</td>\n",
       "      <td>4.173708</td>\n",
       "    </tr>\n",
       "    <tr>\n",
       "      <th>3</th>\n",
       "      <td>Block0103_2020_07_06</td>\n",
       "      <td>0.0</td>\n",
       "      <td>8.251891</td>\n",
       "      <td>8.328079</td>\n",
       "      <td>8.286956</td>\n",
       "      <td>8.322116</td>\n",
       "      <td>8.268375</td>\n",
       "      <td>8.167058</td>\n",
       "      <td>8.068404</td>\n",
       "      <td>8.254920</td>\n",
       "      <td>...</td>\n",
       "      <td>8.242201</td>\n",
       "      <td>8.192670</td>\n",
       "      <td>8.278949</td>\n",
       "      <td>8.297511</td>\n",
       "      <td>8.347765</td>\n",
       "      <td>8.383483</td>\n",
       "      <td>8.365918</td>\n",
       "      <td>8.262857</td>\n",
       "      <td>8.409867</td>\n",
       "      <td>8.302053</td>\n",
       "    </tr>\n",
       "    <tr>\n",
       "      <th>4</th>\n",
       "      <td>Block0103_2020_07_07</td>\n",
       "      <td>0.0</td>\n",
       "      <td>10.122926</td>\n",
       "      <td>10.032279</td>\n",
       "      <td>10.463030</td>\n",
       "      <td>10.275570</td>\n",
       "      <td>10.079625</td>\n",
       "      <td>9.762933</td>\n",
       "      <td>10.025747</td>\n",
       "      <td>9.950942</td>\n",
       "      <td>...</td>\n",
       "      <td>9.996246</td>\n",
       "      <td>10.111032</td>\n",
       "      <td>10.274550</td>\n",
       "      <td>10.132869</td>\n",
       "      <td>9.944904</td>\n",
       "      <td>9.935438</td>\n",
       "      <td>10.252738</td>\n",
       "      <td>10.258262</td>\n",
       "      <td>10.130847</td>\n",
       "      <td>10.045406</td>\n",
       "    </tr>\n",
       "  </tbody>\n",
       "</table>\n",
       "<p>5 rows × 27 columns</p>\n",
       "</div>"
      ],
      "text/plain": [
       "                   name  true_count  predicted_count_0  predicted_count_1  \\\n",
       "0  Block0103_2020_06_29         0.0           2.768791           2.737235   \n",
       "1  Block0103_2020_07_01         0.0           2.372666           2.511263   \n",
       "2  Block0103_2020_07_02         0.0           4.073996           4.056471   \n",
       "3  Block0103_2020_07_06         0.0           8.251891           8.328079   \n",
       "4  Block0103_2020_07_07         0.0          10.122926          10.032279   \n",
       "\n",
       "   predicted_count_2  predicted_count_3  predicted_count_4  predicted_count_5  \\\n",
       "0           2.761854           2.806226           2.683637           2.762537   \n",
       "1           2.281197           2.456156           2.413591           2.191626   \n",
       "2           4.103680           4.011901           4.069488           4.136672   \n",
       "3           8.286956           8.322116           8.268375           8.167058   \n",
       "4          10.463030          10.275570          10.079625           9.762933   \n",
       "\n",
       "   predicted_count_6  predicted_count_7  ...  predicted_count_15  \\\n",
       "0           2.722819           2.932294  ...            2.750739   \n",
       "1           2.380566           2.470350  ...            2.356904   \n",
       "2           4.012331           4.217433  ...            3.981834   \n",
       "3           8.068404           8.254920  ...            8.242201   \n",
       "4          10.025747           9.950942  ...            9.996246   \n",
       "\n",
       "   predicted_count_16  predicted_count_17  predicted_count_18  \\\n",
       "0            2.726071            2.713472            2.727392   \n",
       "1            2.264596            2.373401            2.315454   \n",
       "2            4.127773            4.041874            4.293217   \n",
       "3            8.192670            8.278949            8.297511   \n",
       "4           10.111032           10.274550           10.132869   \n",
       "\n",
       "   predicted_count_19  predicted_count_20  predicted_count_21  \\\n",
       "0            2.798882            2.885635            2.774441   \n",
       "1            2.441981            2.334383            2.204549   \n",
       "2            4.007518            4.179398            3.969915   \n",
       "3            8.347765            8.383483            8.365918   \n",
       "4            9.944904            9.935438           10.252738   \n",
       "\n",
       "   predicted_count_22  predicted_count_23  predicted_count_24  \n",
       "0            2.945802            2.662718            2.719367  \n",
       "1            2.417055            2.399893            2.384902  \n",
       "2            3.927223            3.997776            4.173708  \n",
       "3            8.262857            8.409867            8.302053  \n",
       "4           10.258262           10.130847           10.045406  \n",
       "\n",
       "[5 rows x 27 columns]"
      ]
     },
     "execution_count": 51,
     "metadata": {},
     "output_type": "execute_result"
    }
   ],
   "source": [
    "joined_df.head()"
   ]
  },
  {
   "cell_type": "code",
   "execution_count": 52,
   "id": "114c2201-dd74-4c2a-be76-927e6f93e88b",
   "metadata": {},
   "outputs": [
    {
     "data": {
      "text/plain": [
       "(32, 27)"
      ]
     },
     "execution_count": 52,
     "metadata": {},
     "output_type": "execute_result"
    }
   ],
   "source": [
    "joined_df.shape"
   ]
  },
  {
   "cell_type": "code",
   "execution_count": 53,
   "id": "80e2590a-3379-4913-80d3-f96e2079b1cc",
   "metadata": {},
   "outputs": [],
   "source": [
    "# joined_df"
   ]
  },
  {
   "cell_type": "code",
   "execution_count": 54,
   "id": "414fe676-e53d-434c-b3ef-3183710da71e",
   "metadata": {},
   "outputs": [],
   "source": [
    "# save this dataframe for future use\n",
    "joined_df.to_csv(\"True_tassel_counts/test_data/test_true_and_predicted_TN_model_blk_13.csv\", index = False)"
   ]
  },
  {
   "cell_type": "code",
   "execution_count": 55,
   "id": "287cab2b-4898-4a70-be90-a7d168786475",
   "metadata": {},
   "outputs": [],
   "source": [
    "# join with calibrated df\n",
    "# merge the two dataframes\n",
    "joined_df_calibrated = pd.merge(true_counts_df, calibrated_preds_df, on = 'name')"
   ]
  },
  {
   "cell_type": "code",
   "execution_count": 56,
   "id": "386c6ca6-9825-4b84-a3ea-6af0f40e17db",
   "metadata": {},
   "outputs": [
    {
     "data": {
      "text/html": [
       "<div>\n",
       "<style scoped>\n",
       "    .dataframe tbody tr th:only-of-type {\n",
       "        vertical-align: middle;\n",
       "    }\n",
       "\n",
       "    .dataframe tbody tr th {\n",
       "        vertical-align: top;\n",
       "    }\n",
       "\n",
       "    .dataframe thead th {\n",
       "        text-align: right;\n",
       "    }\n",
       "</style>\n",
       "<table border=\"1\" class=\"dataframe\">\n",
       "  <thead>\n",
       "    <tr style=\"text-align: right;\">\n",
       "      <th></th>\n",
       "      <th>name</th>\n",
       "      <th>true_count</th>\n",
       "      <th>calib_predicted_count_0</th>\n",
       "      <th>calib_predicted_count_1</th>\n",
       "      <th>calib_predicted_count_2</th>\n",
       "      <th>calib_predicted_count_3</th>\n",
       "      <th>calib_predicted_count_4</th>\n",
       "      <th>calib_predicted_count_5</th>\n",
       "      <th>calib_predicted_count_6</th>\n",
       "      <th>calib_predicted_count_7</th>\n",
       "      <th>...</th>\n",
       "      <th>calib_predicted_count_15</th>\n",
       "      <th>calib_predicted_count_16</th>\n",
       "      <th>calib_predicted_count_17</th>\n",
       "      <th>calib_predicted_count_18</th>\n",
       "      <th>calib_predicted_count_19</th>\n",
       "      <th>calib_predicted_count_20</th>\n",
       "      <th>calib_predicted_count_21</th>\n",
       "      <th>calib_predicted_count_22</th>\n",
       "      <th>calib_predicted_count_23</th>\n",
       "      <th>calib_predicted_count_24</th>\n",
       "    </tr>\n",
       "  </thead>\n",
       "  <tbody>\n",
       "    <tr>\n",
       "      <th>0</th>\n",
       "      <td>Block0103_2020_06_29</td>\n",
       "      <td>0.0</td>\n",
       "      <td>[2.3371837]</td>\n",
       "      <td>[2.3849325]</td>\n",
       "      <td>[2.3478224]</td>\n",
       "      <td>[2.2783344]</td>\n",
       "      <td>[2.4623868]</td>\n",
       "      <td>[2.346778]</td>\n",
       "      <td>[2.406206]</td>\n",
       "      <td>[2.0605254]</td>\n",
       "      <td>...</td>\n",
       "      <td>[2.3646998]</td>\n",
       "      <td>[2.4014356]</td>\n",
       "      <td>[2.419822]</td>\n",
       "      <td>[2.3994923]</td>\n",
       "      <td>[2.2900746]</td>\n",
       "      <td>[2.1449034]</td>\n",
       "      <td>[2.3284569]</td>\n",
       "      <td>[2.0352015]</td>\n",
       "      <td>[2.4914389]</td>\n",
       "      <td>[2.4112504]</td>\n",
       "    </tr>\n",
       "    <tr>\n",
       "      <th>1</th>\n",
       "      <td>Block0103_2020_07_01</td>\n",
       "      <td>0.0</td>\n",
       "      <td>[2.837204]</td>\n",
       "      <td>[2.684172]</td>\n",
       "      <td>[2.9279888]</td>\n",
       "      <td>[2.7474332]</td>\n",
       "      <td>[2.7940729]</td>\n",
       "      <td>[3.0100665]</td>\n",
       "      <td>[2.8290048]</td>\n",
       "      <td>[2.731457]</td>\n",
       "      <td>...</td>\n",
       "      <td>[2.8533874]</td>\n",
       "      <td>[2.943687]</td>\n",
       "      <td>[2.8364432]</td>\n",
       "      <td>[2.8948574]</td>\n",
       "      <td>[2.7631729]</td>\n",
       "      <td>[2.8761117]</td>\n",
       "      <td>[2.9986124]</td>\n",
       "      <td>[2.7903466]</td>\n",
       "      <td>[2.8086917]</td>\n",
       "      <td>[2.8244784]</td>\n",
       "    </tr>\n",
       "    <tr>\n",
       "      <th>2</th>\n",
       "      <td>Block0103_2020_07_02</td>\n",
       "      <td>0.0</td>\n",
       "      <td>[2.1423137]</td>\n",
       "      <td>[2.0721848]</td>\n",
       "      <td>[2.2598007]</td>\n",
       "      <td>[1.8911883]</td>\n",
       "      <td>[2.1243303]</td>\n",
       "      <td>[2.3885155]</td>\n",
       "      <td>[1.8929541]</td>\n",
       "      <td>[2.6957264]</td>\n",
       "      <td>...</td>\n",
       "      <td>[1.7668806]</td>\n",
       "      <td>[2.353989]</td>\n",
       "      <td>[2.013331]</td>\n",
       "      <td>[2.9744952]</td>\n",
       "      <td>[1.873183]</td>\n",
       "      <td>[2.5524008]</td>\n",
       "      <td>[1.7170924]</td>\n",
       "      <td>[1.5363307]</td>\n",
       "      <td>[1.8330176]</td>\n",
       "      <td>[2.5307548]</td>\n",
       "    </tr>\n",
       "    <tr>\n",
       "      <th>3</th>\n",
       "      <td>Block0103_2020_07_06</td>\n",
       "      <td>0.0</td>\n",
       "      <td>[10.771861]</td>\n",
       "      <td>[11.028873]</td>\n",
       "      <td>[10.896635]</td>\n",
       "      <td>[11.010672]</td>\n",
       "      <td>[10.8318615]</td>\n",
       "      <td>[10.426931]</td>\n",
       "      <td>[3.9735878]</td>\n",
       "      <td>[10.783064]</td>\n",
       "      <td>...</td>\n",
       "      <td>[10.735495]</td>\n",
       "      <td>[10.537291]</td>\n",
       "      <td>[10.869101]</td>\n",
       "      <td>[10.932057]</td>\n",
       "      <td>[11.086561]</td>\n",
       "      <td>[11.181489]</td>\n",
       "      <td>[11.136405]</td>\n",
       "      <td>[10.812039]</td>\n",
       "      <td>[11.243189]</td>\n",
       "      <td>[10.94699]</td>\n",
       "    </tr>\n",
       "    <tr>\n",
       "      <th>4</th>\n",
       "      <td>Block0103_2020_07_07</td>\n",
       "      <td>0.0</td>\n",
       "      <td>[20.580364]</td>\n",
       "      <td>[22.539986]</td>\n",
       "      <td>[14.161044]</td>\n",
       "      <td>[17.670778]</td>\n",
       "      <td>[21.482166]</td>\n",
       "      <td>[32.48838]</td>\n",
       "      <td>[22.693321]</td>\n",
       "      <td>[24.622837]</td>\n",
       "      <td>...</td>\n",
       "      <td>[23.412909]</td>\n",
       "      <td>[20.822966]</td>\n",
       "      <td>[17.689562]</td>\n",
       "      <td>[20.380148]</td>\n",
       "      <td>[24.795675]</td>\n",
       "      <td>[25.07297]</td>\n",
       "      <td>[18.091797]</td>\n",
       "      <td>[17.989733]</td>\n",
       "      <td>[20.420687]</td>\n",
       "      <td>[22.237709]</td>\n",
       "    </tr>\n",
       "  </tbody>\n",
       "</table>\n",
       "<p>5 rows × 27 columns</p>\n",
       "</div>"
      ],
      "text/plain": [
       "                   name  true_count calib_predicted_count_0  \\\n",
       "0  Block0103_2020_06_29         0.0             [2.3371837]   \n",
       "1  Block0103_2020_07_01         0.0              [2.837204]   \n",
       "2  Block0103_2020_07_02         0.0             [2.1423137]   \n",
       "3  Block0103_2020_07_06         0.0             [10.771861]   \n",
       "4  Block0103_2020_07_07         0.0             [20.580364]   \n",
       "\n",
       "  calib_predicted_count_1 calib_predicted_count_2 calib_predicted_count_3  \\\n",
       "0             [2.3849325]             [2.3478224]             [2.2783344]   \n",
       "1              [2.684172]             [2.9279888]             [2.7474332]   \n",
       "2             [2.0721848]             [2.2598007]             [1.8911883]   \n",
       "3             [11.028873]             [10.896635]             [11.010672]   \n",
       "4             [22.539986]             [14.161044]             [17.670778]   \n",
       "\n",
       "  calib_predicted_count_4 calib_predicted_count_5 calib_predicted_count_6  \\\n",
       "0             [2.4623868]              [2.346778]              [2.406206]   \n",
       "1             [2.7940729]             [3.0100665]             [2.8290048]   \n",
       "2             [2.1243303]             [2.3885155]             [1.8929541]   \n",
       "3            [10.8318615]             [10.426931]             [3.9735878]   \n",
       "4             [21.482166]              [32.48838]             [22.693321]   \n",
       "\n",
       "  calib_predicted_count_7  ... calib_predicted_count_15  \\\n",
       "0             [2.0605254]  ...              [2.3646998]   \n",
       "1              [2.731457]  ...              [2.8533874]   \n",
       "2             [2.6957264]  ...              [1.7668806]   \n",
       "3             [10.783064]  ...              [10.735495]   \n",
       "4             [24.622837]  ...              [23.412909]   \n",
       "\n",
       "  calib_predicted_count_16 calib_predicted_count_17 calib_predicted_count_18  \\\n",
       "0              [2.4014356]               [2.419822]              [2.3994923]   \n",
       "1               [2.943687]              [2.8364432]              [2.8948574]   \n",
       "2               [2.353989]               [2.013331]              [2.9744952]   \n",
       "3              [10.537291]              [10.869101]              [10.932057]   \n",
       "4              [20.822966]              [17.689562]              [20.380148]   \n",
       "\n",
       "  calib_predicted_count_19 calib_predicted_count_20 calib_predicted_count_21  \\\n",
       "0              [2.2900746]              [2.1449034]              [2.3284569]   \n",
       "1              [2.7631729]              [2.8761117]              [2.9986124]   \n",
       "2               [1.873183]              [2.5524008]              [1.7170924]   \n",
       "3              [11.086561]              [11.181489]              [11.136405]   \n",
       "4              [24.795675]               [25.07297]              [18.091797]   \n",
       "\n",
       "  calib_predicted_count_22 calib_predicted_count_23 calib_predicted_count_24  \n",
       "0              [2.0352015]              [2.4914389]              [2.4112504]  \n",
       "1              [2.7903466]              [2.8086917]              [2.8244784]  \n",
       "2              [1.5363307]              [1.8330176]              [2.5307548]  \n",
       "3              [10.812039]              [11.243189]               [10.94699]  \n",
       "4              [17.989733]              [20.420687]              [22.237709]  \n",
       "\n",
       "[5 rows x 27 columns]"
      ]
     },
     "execution_count": 56,
     "metadata": {},
     "output_type": "execute_result"
    }
   ],
   "source": [
    "joined_df_calibrated.head()"
   ]
  },
  {
   "cell_type": "markdown",
   "id": "af049b5e-2f56-4f4a-b72a-6b30d661c64e",
   "metadata": {},
   "source": [
    "##### computing the average metrics, coverages and widths"
   ]
  },
  {
   "cell_type": "markdown",
   "id": "26106fc0-cc8c-46a3-9d9f-84f7c60fc454",
   "metadata": {},
   "source": [
    "Interval widths"
   ]
  },
  {
   "cell_type": "code",
   "execution_count": 57,
   "id": "d0a1fdf6-d5bb-4d27-ab22-cbebda0fb470",
   "metadata": {},
   "outputs": [],
   "source": [
    "only_preds = preds_df.iloc[:,1:]"
   ]
  },
  {
   "cell_type": "code",
   "execution_count": 58,
   "id": "8e707623-d6af-4781-8746-d66529044764",
   "metadata": {},
   "outputs": [
    {
     "data": {
      "text/plain": [
       "(32, 25)"
      ]
     },
     "execution_count": 58,
     "metadata": {},
     "output_type": "execute_result"
    }
   ],
   "source": [
    "only_preds.shape"
   ]
  },
  {
   "cell_type": "code",
   "execution_count": 59,
   "id": "99a213d7-8d93-4e77-bbfc-c69d67f78c78",
   "metadata": {},
   "outputs": [],
   "source": [
    "li_test = np.percentile(only_preds, axis = 1, q = (2.5, 97.5))[0,:].reshape(-1,1)     \n",
    "ui_test = np.percentile(only_preds, axis = 1, q = (2.5, 97.5))[1,:].reshape(-1,1)   "
   ]
  },
  {
   "cell_type": "code",
   "execution_count": 60,
   "id": "b3196efc-6548-480d-b6d8-ba730382051b",
   "metadata": {},
   "outputs": [],
   "source": [
    "width_test = ui_test - li_test"
   ]
  },
  {
   "cell_type": "code",
   "execution_count": 61,
   "id": "06100700-91e0-448a-8466-58b1ac1ec63f",
   "metadata": {},
   "outputs": [
    {
     "data": {
      "text/plain": [
       "0.7304569964022312"
      ]
     },
     "execution_count": 61,
     "metadata": {},
     "output_type": "execute_result"
    }
   ],
   "source": [
    "avg_width_test = width_test.mean(0)[0]\n",
    "avg_width_test"
   ]
  },
  {
   "cell_type": "code",
   "execution_count": 62,
   "id": "6f34c8be-1baf-4e05-9f22-b93b97f397bd",
   "metadata": {},
   "outputs": [],
   "source": [
    "li_and_ui = np.hstack((li_test, ui_test))"
   ]
  },
  {
   "cell_type": "code",
   "execution_count": 63,
   "id": "aef738af-1c40-4040-80f4-fbb1020a1fe9",
   "metadata": {},
   "outputs": [],
   "source": [
    "# save the li and ui\n",
    "li_and_ui_df = pd.DataFrame(li_and_ui, columns = ['lower_limit', 'upper_limit'])"
   ]
  },
  {
   "cell_type": "code",
   "execution_count": 64,
   "id": "983ef44f-0f1c-4535-9dd2-82b6872c1047",
   "metadata": {},
   "outputs": [],
   "source": [
    "# add the names of the images\n",
    "li_and_ui_df_final = pd.concat((preds_df[\"name\"], li_and_ui_df), axis = 1)"
   ]
  },
  {
   "cell_type": "code",
   "execution_count": 65,
   "id": "902f76a6-606e-455a-8125-0c2fac3f4434",
   "metadata": {},
   "outputs": [
    {
     "data": {
      "text/html": [
       "<div>\n",
       "<style scoped>\n",
       "    .dataframe tbody tr th:only-of-type {\n",
       "        vertical-align: middle;\n",
       "    }\n",
       "\n",
       "    .dataframe tbody tr th {\n",
       "        vertical-align: top;\n",
       "    }\n",
       "\n",
       "    .dataframe thead th {\n",
       "        text-align: right;\n",
       "    }\n",
       "</style>\n",
       "<table border=\"1\" class=\"dataframe\">\n",
       "  <thead>\n",
       "    <tr style=\"text-align: right;\">\n",
       "      <th></th>\n",
       "      <th>name</th>\n",
       "      <th>lower_limit</th>\n",
       "      <th>upper_limit</th>\n",
       "    </tr>\n",
       "  </thead>\n",
       "  <tbody>\n",
       "    <tr>\n",
       "      <th>0</th>\n",
       "      <td>Block0103_2020_06_29</td>\n",
       "      <td>2.675269</td>\n",
       "      <td>2.937697</td>\n",
       "    </tr>\n",
       "    <tr>\n",
       "      <th>1</th>\n",
       "      <td>Block0103_2020_07_01</td>\n",
       "      <td>2.199380</td>\n",
       "      <td>2.486715</td>\n",
       "    </tr>\n",
       "    <tr>\n",
       "      <th>2</th>\n",
       "      <td>Block0103_2020_07_02</td>\n",
       "      <td>3.808015</td>\n",
       "      <td>4.247746</td>\n",
       "    </tr>\n",
       "    <tr>\n",
       "      <th>3</th>\n",
       "      <td>Block0103_2020_07_06</td>\n",
       "      <td>8.075217</td>\n",
       "      <td>8.481755</td>\n",
       "    </tr>\n",
       "    <tr>\n",
       "      <th>4</th>\n",
       "      <td>Block0103_2020_07_07</td>\n",
       "      <td>9.815341</td>\n",
       "      <td>10.350554</td>\n",
       "    </tr>\n",
       "  </tbody>\n",
       "</table>\n",
       "</div>"
      ],
      "text/plain": [
       "                   name  lower_limit  upper_limit\n",
       "0  Block0103_2020_06_29     2.675269     2.937697\n",
       "1  Block0103_2020_07_01     2.199380     2.486715\n",
       "2  Block0103_2020_07_02     3.808015     4.247746\n",
       "3  Block0103_2020_07_06     8.075217     8.481755\n",
       "4  Block0103_2020_07_07     9.815341    10.350554"
      ]
     },
     "execution_count": 65,
     "metadata": {},
     "output_type": "execute_result"
    }
   ],
   "source": [
    "li_and_ui_df_final.head()"
   ]
  },
  {
   "cell_type": "code",
   "execution_count": 66,
   "id": "bc1a05f4-208e-4879-b7a8-eb6100978113",
   "metadata": {},
   "outputs": [],
   "source": [
    "# save this dataframe for future use\n",
    "li_and_ui_df_final.to_csv(\"True_tassel_counts/test_data/test_predicted_intervals_TN_model_blk_13.csv\", index = False)"
   ]
  },
  {
   "cell_type": "markdown",
   "id": "fcf99c37-657a-4077-aabc-23dcf3f602e7",
   "metadata": {},
   "source": [
    "Coverage_test "
   ]
  },
  {
   "cell_type": "code",
   "execution_count": 67,
   "id": "fe4319e9-7638-4b46-b8df-d5e8f8d24d65",
   "metadata": {},
   "outputs": [],
   "source": [
    "y_true = true_counts_df['true_count'].values.reshape(-1,1)"
   ]
  },
  {
   "cell_type": "code",
   "execution_count": 68,
   "id": "87461455-0842-45a2-b1f4-8dacde221279",
   "metadata": {},
   "outputs": [
    {
     "data": {
      "text/plain": [
       "(32, 1)"
      ]
     },
     "execution_count": 68,
     "metadata": {},
     "output_type": "execute_result"
    }
   ],
   "source": [
    "y_true.shape"
   ]
  },
  {
   "cell_type": "code",
   "execution_count": 69,
   "id": "fca157d2-203d-4a85-b79f-c6bc7bf40ccc",
   "metadata": {},
   "outputs": [
    {
     "data": {
      "text/plain": [
       "0.0"
      ]
     },
     "execution_count": 69,
     "metadata": {},
     "output_type": "execute_result"
    }
   ],
   "source": [
    "ind_test = (y_true >= li_test) & (y_true <= ui_test)\n",
    "coverage_test= ind_test.mean(0)[0]\n",
    "coverage_test"
   ]
  },
  {
   "cell_type": "code",
   "execution_count": 70,
   "id": "0a179606-02f2-43d1-861f-7cb7a590a0c7",
   "metadata": {},
   "outputs": [
    {
     "data": {
      "text/plain": [
       "(32, 1)"
      ]
     },
     "execution_count": 70,
     "metadata": {},
     "output_type": "execute_result"
    }
   ],
   "source": [
    "ui_test.shape"
   ]
  },
  {
   "cell_type": "code",
   "execution_count": 71,
   "id": "63188a2c-d5d8-4d4c-b851-2f3410031463",
   "metadata": {},
   "outputs": [],
   "source": [
    "averaged_preds = only_preds.mean(axis = 1)"
   ]
  },
  {
   "cell_type": "markdown",
   "id": "33604207-f682-42fe-a343-5bad8235ae75",
   "metadata": {},
   "source": [
    "mae"
   ]
  },
  {
   "cell_type": "code",
   "execution_count": 72,
   "id": "d61edf31-6460-466a-bf96-239ca1d8eb8f",
   "metadata": {},
   "outputs": [
    {
     "data": {
      "text/plain": [
       "12.24257253307748"
      ]
     },
     "execution_count": 72,
     "metadata": {},
     "output_type": "execute_result"
    }
   ],
   "source": [
    "mae = mean_absolute_error(true_counts_df['true_count'], averaged_preds)\n",
    "mae"
   ]
  },
  {
   "cell_type": "markdown",
   "id": "a55a77dc-368f-4145-a614-933cfd5e3cf4",
   "metadata": {},
   "source": [
    "rmse"
   ]
  },
  {
   "cell_type": "code",
   "execution_count": 73,
   "id": "1a5986eb-f379-42a6-9ae7-af5ca2c1d6ae",
   "metadata": {},
   "outputs": [
    {
     "data": {
      "text/plain": [
       "14.238711200840827"
      ]
     },
     "execution_count": 73,
     "metadata": {},
     "output_type": "execute_result"
    }
   ],
   "source": [
    "rmse = np.sqrt(mean_squared_error(true_counts_df['true_count'], averaged_preds))\n",
    "rmse"
   ]
  },
  {
   "cell_type": "markdown",
   "id": "4a608708-4df9-471c-95fe-83042f82081c",
   "metadata": {},
   "source": [
    "perason r"
   ]
  },
  {
   "cell_type": "code",
   "execution_count": 74,
   "id": "1c0c47eb-f4d3-4ed7-94ed-503009c3f33f",
   "metadata": {},
   "outputs": [
    {
     "data": {
      "text/plain": [
       "0.8388161406874972"
      ]
     },
     "execution_count": 74,
     "metadata": {},
     "output_type": "execute_result"
    }
   ],
   "source": [
    "pearson_corr = pearsonr(true_counts_df['true_count'], averaged_preds)\n",
    "pearson_corr.statistic"
   ]
  },
  {
   "cell_type": "markdown",
   "id": "0196cb58-1e1d-48b7-9ba3-455ca954de99",
   "metadata": {},
   "source": [
    "r_2 value"
   ]
  },
  {
   "cell_type": "code",
   "execution_count": 75,
   "id": "dd252bf1-25b8-4b66-b5cd-a83814f32957",
   "metadata": {},
   "outputs": [
    {
     "data": {
      "text/plain": [
       "0.44867570060332274"
      ]
     },
     "execution_count": 75,
     "metadata": {},
     "output_type": "execute_result"
    }
   ],
   "source": [
    "r2_score_val = r2_score(true_counts_df['true_count'], averaged_preds)\n",
    "r2_score_val"
   ]
  },
  {
   "cell_type": "code",
   "execution_count": 76,
   "id": "edf47143-5dc5-45fd-8b5b-07416cf8a154",
   "metadata": {},
   "outputs": [],
   "source": [
    "only_preds_calibrated = calibrated_preds_df.iloc[:,1:]"
   ]
  },
  {
   "cell_type": "code",
   "execution_count": 77,
   "id": "a3c36011-0f0e-457d-86f1-d257a121aa74",
   "metadata": {},
   "outputs": [
    {
     "data": {
      "text/plain": [
       "(32, 25)"
      ]
     },
     "execution_count": 77,
     "metadata": {},
     "output_type": "execute_result"
    }
   ],
   "source": [
    "only_preds_calibrated.shape"
   ]
  },
  {
   "cell_type": "code",
   "execution_count": 78,
   "id": "f7a73d40-8d1a-4231-82f2-1ea5a583e389",
   "metadata": {},
   "outputs": [],
   "source": [
    "li_test_calibrated = np.percentile(only_preds_calibrated, axis = 1, q = (2.5, 97.5))[0,:].reshape(-1,1)     \n",
    "ui_test_calibrated = np.percentile(only_preds_calibrated, axis = 1, q = (2.5, 97.5))[1,:].reshape(-1,1)   "
   ]
  },
  {
   "cell_type": "code",
   "execution_count": 79,
   "id": "a9d46d1e-8779-49b8-984a-11e2062d68ef",
   "metadata": {},
   "outputs": [],
   "source": [
    "width_test_calibrated = ui_test_calibrated - li_test_calibrated"
   ]
  },
  {
   "cell_type": "code",
   "execution_count": 80,
   "id": "7427697e-d166-472a-9eba-71955f89fb9a",
   "metadata": {},
   "outputs": [
    {
     "data": {
      "text/plain": [
       "array([3.1090126], dtype=float32)"
      ]
     },
     "execution_count": 80,
     "metadata": {},
     "output_type": "execute_result"
    }
   ],
   "source": [
    "avg_width_test_calibrated = width_test_calibrated.mean(0)[0]\n",
    "avg_width_test_calibrated"
   ]
  },
  {
   "cell_type": "code",
   "execution_count": 81,
   "id": "0441e54a-d7b1-47da-a95d-6d6e217b1477",
   "metadata": {},
   "outputs": [],
   "source": [
    "li_and_ui_calibrated = np.hstack((li_test_calibrated, ui_test_calibrated))"
   ]
  },
  {
   "cell_type": "code",
   "execution_count": 82,
   "id": "03d6f0be-05aa-4d5b-a5b6-495653fd065d",
   "metadata": {},
   "outputs": [],
   "source": [
    "# save the li and ui\n",
    "li_and_ui_df_calibrated = pd.DataFrame(li_and_ui_calibrated, columns = ['lower_limit', 'upper_limit'])"
   ]
  },
  {
   "cell_type": "code",
   "execution_count": 83,
   "id": "fdbe26ef-d12d-4591-93e6-02cc58b61540",
   "metadata": {},
   "outputs": [],
   "source": [
    "# add the names of the images\n",
    "li_and_ui_df_calibrated = pd.concat((calibrated_preds_df[\"name\"], li_and_ui_df_calibrated), axis = 1)"
   ]
  },
  {
   "cell_type": "code",
   "execution_count": 84,
   "id": "123adf30-f273-44d2-bacc-7371223356ce",
   "metadata": {},
   "outputs": [
    {
     "data": {
      "text/html": [
       "<div>\n",
       "<style scoped>\n",
       "    .dataframe tbody tr th:only-of-type {\n",
       "        vertical-align: middle;\n",
       "    }\n",
       "\n",
       "    .dataframe tbody tr th {\n",
       "        vertical-align: top;\n",
       "    }\n",
       "\n",
       "    .dataframe thead th {\n",
       "        text-align: right;\n",
       "    }\n",
       "</style>\n",
       "<table border=\"1\" class=\"dataframe\">\n",
       "  <thead>\n",
       "    <tr style=\"text-align: right;\">\n",
       "      <th></th>\n",
       "      <th>name</th>\n",
       "      <th>lower_limit</th>\n",
       "      <th>upper_limit</th>\n",
       "    </tr>\n",
       "  </thead>\n",
       "  <tbody>\n",
       "    <tr>\n",
       "      <th>0</th>\n",
       "      <td>Block0103_2020_06_29</td>\n",
       "      <td>[2.050396]</td>\n",
       "      <td>[2.4740076]</td>\n",
       "    </tr>\n",
       "    <tr>\n",
       "      <th>1</th>\n",
       "      <td>Block0103_2020_07_01</td>\n",
       "      <td>[2.712543]</td>\n",
       "      <td>[3.003194]</td>\n",
       "    </tr>\n",
       "    <tr>\n",
       "      <th>2</th>\n",
       "      <td>Block0103_2020_07_02</td>\n",
       "      <td>[1.0098176]</td>\n",
       "      <td>[2.8072338]</td>\n",
       "    </tr>\n",
       "    <tr>\n",
       "      <th>3</th>\n",
       "      <td>Block0103_2020_07_06</td>\n",
       "      <td>[3.9659483]</td>\n",
       "      <td>[11.321972]</td>\n",
       "    </tr>\n",
       "    <tr>\n",
       "      <th>4</th>\n",
       "      <td>Block0103_2020_07_07</td>\n",
       "      <td>[16.266884]</td>\n",
       "      <td>[29.808128]</td>\n",
       "    </tr>\n",
       "  </tbody>\n",
       "</table>\n",
       "</div>"
      ],
      "text/plain": [
       "                   name  lower_limit  upper_limit\n",
       "0  Block0103_2020_06_29   [2.050396]  [2.4740076]\n",
       "1  Block0103_2020_07_01   [2.712543]   [3.003194]\n",
       "2  Block0103_2020_07_02  [1.0098176]  [2.8072338]\n",
       "3  Block0103_2020_07_06  [3.9659483]  [11.321972]\n",
       "4  Block0103_2020_07_07  [16.266884]  [29.808128]"
      ]
     },
     "execution_count": 84,
     "metadata": {},
     "output_type": "execute_result"
    }
   ],
   "source": [
    "li_and_ui_df_calibrated.head()"
   ]
  },
  {
   "cell_type": "code",
   "execution_count": 85,
   "id": "0f37b13e-f044-4573-a0b2-91fa528bb1aa",
   "metadata": {},
   "outputs": [],
   "source": [
    "# # save this dataframe for future use\n",
    "# li_and_ui_df_final.to_csv(\"True_tassel_counts/test_data/test_predicted_intervals_TN_model_blk_13.csv\", index = False)"
   ]
  },
  {
   "cell_type": "markdown",
   "id": "84780fc5-091f-49ba-9302-cad90b659f61",
   "metadata": {},
   "source": [
    "Coverage_test "
   ]
  },
  {
   "cell_type": "code",
   "execution_count": 86,
   "id": "aec9e948-cdde-453e-ad3a-0fc2a2e4c74a",
   "metadata": {},
   "outputs": [],
   "source": [
    "y_true = true_counts_df['true_count'].values.reshape(-1,1)"
   ]
  },
  {
   "cell_type": "code",
   "execution_count": 87,
   "id": "260f6e2b-7bdb-4e31-b8ad-6fffe0417255",
   "metadata": {},
   "outputs": [
    {
     "data": {
      "text/plain": [
       "(32, 1)"
      ]
     },
     "execution_count": 87,
     "metadata": {},
     "output_type": "execute_result"
    }
   ],
   "source": [
    "y_true.shape"
   ]
  },
  {
   "cell_type": "code",
   "execution_count": 88,
   "id": "bc4dba8e-84a8-4392-8202-61fa8c0db744",
   "metadata": {},
   "outputs": [
    {
     "data": {
      "text/plain": [
       "0.0"
      ]
     },
     "execution_count": 88,
     "metadata": {},
     "output_type": "execute_result"
    }
   ],
   "source": [
    "ind_test_calibrated = (y_true >= li_test_calibrated) & (y_true <= ui_test_calibrated)\n",
    "coverage_test_calibrated= ind_test_calibrated.mean(0)[0]\n",
    "coverage_test_calibrated"
   ]
  },
  {
   "cell_type": "code",
   "execution_count": 89,
   "id": "36fccfb6-04bc-4c69-ac26-c18e07a4a069",
   "metadata": {},
   "outputs": [],
   "source": [
    "# ind_test_calibrated"
   ]
  },
  {
   "cell_type": "code",
   "execution_count": 90,
   "id": "c3784546-e86a-4c29-931c-5761b3bb7e8d",
   "metadata": {},
   "outputs": [
    {
     "data": {
      "text/plain": [
       "(32, 1)"
      ]
     },
     "execution_count": 90,
     "metadata": {},
     "output_type": "execute_result"
    }
   ],
   "source": [
    "ui_test_calibrated.shape"
   ]
  },
  {
   "cell_type": "code",
   "execution_count": 91,
   "id": "0e1ccf9c-b32c-4ec1-a4ae-b1643d0358dd",
   "metadata": {},
   "outputs": [],
   "source": [
    "averaged_preds_calibrated = only_preds_calibrated.mean(axis = 1)"
   ]
  },
  {
   "cell_type": "markdown",
   "id": "30bc2d50-33dc-4bcd-b0ed-8f57f39c0ecc",
   "metadata": {},
   "source": [
    "mae"
   ]
  },
  {
   "cell_type": "code",
   "execution_count": 92,
   "id": "d28cd8f5-d3b4-4909-88ed-8fc2e5a6514f",
   "metadata": {},
   "outputs": [
    {
     "data": {
      "text/plain": [
       "8.761294527053833"
      ]
     },
     "execution_count": 92,
     "metadata": {},
     "output_type": "execute_result"
    }
   ],
   "source": [
    "mae = mean_absolute_error(true_counts_df['true_count'], averaged_preds_calibrated)\n",
    "mae"
   ]
  },
  {
   "cell_type": "markdown",
   "id": "5859d5c2-ebec-492a-ba63-a43965e1b041",
   "metadata": {},
   "source": [
    "rmse"
   ]
  },
  {
   "cell_type": "code",
   "execution_count": 93,
   "id": "031f34f0-b5ef-4565-87e9-f261af7f7bcf",
   "metadata": {},
   "outputs": [
    {
     "data": {
      "text/plain": [
       "10.511633038857674"
      ]
     },
     "execution_count": 93,
     "metadata": {},
     "output_type": "execute_result"
    }
   ],
   "source": [
    "rmse = np.sqrt(mean_squared_error(true_counts_df['true_count'], averaged_preds_calibrated))\n",
    "rmse"
   ]
  },
  {
   "cell_type": "markdown",
   "id": "3d5695d6-f358-4cfd-9302-4b94f30a564d",
   "metadata": {},
   "source": [
    "perason r"
   ]
  },
  {
   "cell_type": "code",
   "execution_count": 94,
   "id": "bdde5ef7-fd9e-493f-938f-e700e47f117f",
   "metadata": {},
   "outputs": [
    {
     "data": {
      "text/plain": [
       "0.8736976363104498"
      ]
     },
     "execution_count": 94,
     "metadata": {},
     "output_type": "execute_result"
    }
   ],
   "source": [
    "pearson_corr = pearsonr(true_counts_df['true_count'], averaged_preds_calibrated)\n",
    "pearson_corr.statistic"
   ]
  },
  {
   "cell_type": "markdown",
   "id": "bff96965-719b-4a46-b047-2343e2e64838",
   "metadata": {},
   "source": [
    "r_2 value"
   ]
  },
  {
   "cell_type": "code",
   "execution_count": 95,
   "id": "dbb76fa3-8b8e-49ac-9db0-7638b85ece04",
   "metadata": {},
   "outputs": [
    {
     "data": {
      "text/plain": [
       "0.6995265151820409"
      ]
     },
     "execution_count": 95,
     "metadata": {},
     "output_type": "execute_result"
    }
   ],
   "source": [
    "r2_score_val = r2_score(true_counts_df['true_count'], averaged_preds_calibrated)\n",
    "r2_score_val"
   ]
  },
  {
   "cell_type": "code",
   "execution_count": 96,
   "id": "9b748e90-afb8-4334-8a6c-c4e6a7937ebe",
   "metadata": {},
   "outputs": [
    {
     "data": {
      "image/png": "[encoded data removed]",
      "text/plain": [
       "<Figure size 1000x1000 with 1 Axes>"
      ]
     },
     "metadata": {},
     "output_type": "display_data"
    }
   ],
   "source": [
    "plt.figure(figsize = (10,10))\n",
    "plt.scatter( averaged_preds_calibrated, true_counts_df['true_count'])\n",
    "plt.title(\"Scatter plot for true vs predicted values\")\n",
    "plt.xlabel(\"Averaged predicted counts\")\n",
    "plt.ylabel(\"True counts\")\n",
    "plt.show()"
   ]
  }
 ],
 "metadata": {
  "kernelspec": {
   "display_name": "Python (tf_with_py38_gpu_29)",
   "language": "python",
   "name": "tf_with_py38_gpu_29"
  },
  "language_info": {
   "codemirror_mode": {
    "name": "ipython",
    "version": 3
   },
   "file_extension": ".py",
   "mimetype": "text/x-python",
   "name": "python",
   "nbconvert_exporter": "python",
   "pygments_lexer": "ipython3",
   "version": "3.8.13"
  }
 },
 "nbformat": 4,
 "nbformat_minor": 5
}
