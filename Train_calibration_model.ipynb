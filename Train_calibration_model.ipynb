{
 "cells": [
  {
   "cell_type": "code",
   "execution_count": 1,
   "id": "35382a91-11e6-475f-8f63-1e40c10af242",
   "metadata": {},
   "outputs": [],
   "source": [
    "# Decide on what kind of models to use as calibration model - maye be not a linear model?"
   ]
  },
  {
   "cell_type": "code",
   "execution_count": 2,
   "id": "635cf38d-90af-46e6-9259-faae8afd4508",
   "metadata": {},
   "outputs": [],
   "source": [
    "import pandas as pd\n",
    "import numpy as np\n",
    "import matplotlib.pyplot as plt\n",
    "from sklearn.model_selection import train_test_split, GridSearchCV, PredefinedSplit\n",
    "from sklearn.linear_model import ElasticNet, LinearRegression, SGDRegressor\n",
    "from sklearn.metrics import mean_squared_error, mean_absolute_error, r2_score\n",
    "from scipy.stats import pearsonr\n",
    "from sklearn.svm import SVR\n",
    "from sklearn.neighbors import KNeighborsRegressor\n",
    "from sklearn.gaussian_process import GaussianProcessRegressor\n",
    "from sklearn.gaussian_process.kernels import RBF, Matern, RationalQuadratic, ExpSineSquared"
   ]
  },
  {
   "cell_type": "code",
   "execution_count": 3,
   "id": "b8cecfbc-624f-4557-97b5-84868d47674e",
   "metadata": {},
   "outputs": [],
   "source": [
    "# import the datafile\n",
    "validation_preds_and_true_counts = pd.read_csv(\"True_tassel_counts/validation_true_and_predicted_counts.csv\")"
   ]
  },
  {
   "cell_type": "code",
   "execution_count": 4,
   "id": "fd1bea38-1fb3-4382-bc9d-fba9d4eab3e0",
   "metadata": {},
   "outputs": [
    {
     "data": {
      "text/html": [
       "<div>\n",
       "<style scoped>\n",
       "    .dataframe tbody tr th:only-of-type {\n",
       "        vertical-align: middle;\n",
       "    }\n",
       "\n",
       "    .dataframe tbody tr th {\n",
       "        vertical-align: top;\n",
       "    }\n",
       "\n",
       "    .dataframe thead th {\n",
       "        text-align: right;\n",
       "    }\n",
       "</style>\n",
       "<table border=\"1\" class=\"dataframe\">\n",
       "  <thead>\n",
       "    <tr style=\"text-align: right;\">\n",
       "      <th></th>\n",
       "      <th>name</th>\n",
       "      <th>true_count</th>\n",
       "      <th>Predicted_count</th>\n",
       "    </tr>\n",
       "  </thead>\n",
       "  <tbody>\n",
       "    <tr>\n",
       "      <th>0</th>\n",
       "      <td>Block0204_2020_06_29</td>\n",
       "      <td>0</td>\n",
       "      <td>2.103025</td>\n",
       "    </tr>\n",
       "    <tr>\n",
       "      <th>1</th>\n",
       "      <td>Block0204_2020_07_01</td>\n",
       "      <td>0</td>\n",
       "      <td>3.598690</td>\n",
       "    </tr>\n",
       "    <tr>\n",
       "      <th>2</th>\n",
       "      <td>Block0204_2020_07_02</td>\n",
       "      <td>0</td>\n",
       "      <td>7.005647</td>\n",
       "    </tr>\n",
       "    <tr>\n",
       "      <th>3</th>\n",
       "      <td>Block0204_2020_07_06</td>\n",
       "      <td>0</td>\n",
       "      <td>9.229449</td>\n",
       "    </tr>\n",
       "    <tr>\n",
       "      <th>4</th>\n",
       "      <td>Block0204_2020_07_07</td>\n",
       "      <td>2</td>\n",
       "      <td>12.557514</td>\n",
       "    </tr>\n",
       "  </tbody>\n",
       "</table>\n",
       "</div>"
      ],
      "text/plain": [
       "                   name  true_count  Predicted_count\n",
       "0  Block0204_2020_06_29           0         2.103025\n",
       "1  Block0204_2020_07_01           0         3.598690\n",
       "2  Block0204_2020_07_02           0         7.005647\n",
       "3  Block0204_2020_07_06           0         9.229449\n",
       "4  Block0204_2020_07_07           2        12.557514"
      ]
     },
     "execution_count": 4,
     "metadata": {},
     "output_type": "execute_result"
    }
   ],
   "source": [
    "validation_preds_and_true_counts.head()"
   ]
  },
  {
   "cell_type": "code",
   "execution_count": 5,
   "id": "459995a7-fcb4-4494-a0bb-c781ba815123",
   "metadata": {},
   "outputs": [
    {
     "data": {
      "text/plain": [
       "(32, 3)"
      ]
     },
     "execution_count": 5,
     "metadata": {},
     "output_type": "execute_result"
    }
   ],
   "source": [
    "validation_preds_and_true_counts.shape"
   ]
  },
  {
   "cell_type": "code",
   "execution_count": 6,
   "id": "a99e4d55-a053-42db-8cb7-28f0030021cd",
   "metadata": {},
   "outputs": [],
   "source": [
    "# Drop the name?\n",
    "final_data_df = validation_preds_and_true_counts.drop([\"name\"], axis = 1)"
   ]
  },
  {
   "cell_type": "code",
   "execution_count": 7,
   "id": "914267bb-160e-4975-9f5b-ff7b0b56374c",
   "metadata": {},
   "outputs": [
    {
     "data": {
      "text/html": [
       "<div>\n",
       "<style scoped>\n",
       "    .dataframe tbody tr th:only-of-type {\n",
       "        vertical-align: middle;\n",
       "    }\n",
       "\n",
       "    .dataframe tbody tr th {\n",
       "        vertical-align: top;\n",
       "    }\n",
       "\n",
       "    .dataframe thead th {\n",
       "        text-align: right;\n",
       "    }\n",
       "</style>\n",
       "<table border=\"1\" class=\"dataframe\">\n",
       "  <thead>\n",
       "    <tr style=\"text-align: right;\">\n",
       "      <th></th>\n",
       "      <th>true_count</th>\n",
       "      <th>Predicted_count</th>\n",
       "    </tr>\n",
       "  </thead>\n",
       "  <tbody>\n",
       "    <tr>\n",
       "      <th>0</th>\n",
       "      <td>0</td>\n",
       "      <td>2.103025</td>\n",
       "    </tr>\n",
       "    <tr>\n",
       "      <th>1</th>\n",
       "      <td>0</td>\n",
       "      <td>3.598690</td>\n",
       "    </tr>\n",
       "    <tr>\n",
       "      <th>2</th>\n",
       "      <td>0</td>\n",
       "      <td>7.005647</td>\n",
       "    </tr>\n",
       "    <tr>\n",
       "      <th>3</th>\n",
       "      <td>0</td>\n",
       "      <td>9.229449</td>\n",
       "    </tr>\n",
       "    <tr>\n",
       "      <th>4</th>\n",
       "      <td>2</td>\n",
       "      <td>12.557514</td>\n",
       "    </tr>\n",
       "  </tbody>\n",
       "</table>\n",
       "</div>"
      ],
      "text/plain": [
       "   true_count  Predicted_count\n",
       "0           0         2.103025\n",
       "1           0         3.598690\n",
       "2           0         7.005647\n",
       "3           0         9.229449\n",
       "4           2        12.557514"
      ]
     },
     "execution_count": 7,
     "metadata": {},
     "output_type": "execute_result"
    }
   ],
   "source": [
    "final_data_df.head()"
   ]
  },
  {
   "cell_type": "code",
   "execution_count": 8,
   "id": "eff9b910-8a39-4f40-8492-0c19e3f04f29",
   "metadata": {},
   "outputs": [
    {
     "data": {
      "text/plain": [
       "(32, 2)"
      ]
     },
     "execution_count": 8,
     "metadata": {},
     "output_type": "execute_result"
    }
   ],
   "source": [
    "final_data_df.shape"
   ]
  },
  {
   "cell_type": "code",
   "execution_count": 9,
   "id": "2a8528c8-e879-4d1a-8bdd-03e7dae79338",
   "metadata": {},
   "outputs": [],
   "source": [
    "# rename the columns\n",
    "final_data_df.columns = ['y_values', 'x_values']"
   ]
  },
  {
   "cell_type": "code",
   "execution_count": 10,
   "id": "e00879ec-b44e-41fd-971d-3dd88d95ea49",
   "metadata": {},
   "outputs": [
    {
     "data": {
      "text/html": [
       "<div>\n",
       "<style scoped>\n",
       "    .dataframe tbody tr th:only-of-type {\n",
       "        vertical-align: middle;\n",
       "    }\n",
       "\n",
       "    .dataframe tbody tr th {\n",
       "        vertical-align: top;\n",
       "    }\n",
       "\n",
       "    .dataframe thead th {\n",
       "        text-align: right;\n",
       "    }\n",
       "</style>\n",
       "<table border=\"1\" class=\"dataframe\">\n",
       "  <thead>\n",
       "    <tr style=\"text-align: right;\">\n",
       "      <th></th>\n",
       "      <th>y_values</th>\n",
       "      <th>x_values</th>\n",
       "    </tr>\n",
       "  </thead>\n",
       "  <tbody>\n",
       "    <tr>\n",
       "      <th>0</th>\n",
       "      <td>0</td>\n",
       "      <td>2.103025</td>\n",
       "    </tr>\n",
       "    <tr>\n",
       "      <th>1</th>\n",
       "      <td>0</td>\n",
       "      <td>3.598690</td>\n",
       "    </tr>\n",
       "    <tr>\n",
       "      <th>2</th>\n",
       "      <td>0</td>\n",
       "      <td>7.005647</td>\n",
       "    </tr>\n",
       "    <tr>\n",
       "      <th>3</th>\n",
       "      <td>0</td>\n",
       "      <td>9.229449</td>\n",
       "    </tr>\n",
       "    <tr>\n",
       "      <th>4</th>\n",
       "      <td>2</td>\n",
       "      <td>12.557514</td>\n",
       "    </tr>\n",
       "  </tbody>\n",
       "</table>\n",
       "</div>"
      ],
      "text/plain": [
       "   y_values   x_values\n",
       "0         0   2.103025\n",
       "1         0   3.598690\n",
       "2         0   7.005647\n",
       "3         0   9.229449\n",
       "4         2  12.557514"
      ]
     },
     "execution_count": 10,
     "metadata": {},
     "output_type": "execute_result"
    }
   ],
   "source": [
    "final_data_df.head()"
   ]
  },
  {
   "cell_type": "code",
   "execution_count": 11,
   "id": "c8a114ca-9348-49c2-8b61-83dafa8d2d68",
   "metadata": {},
   "outputs": [],
   "source": [
    "# split the dataframe into train and test sets\n",
    "X_train, X_test, y_train, y_test = train_test_split(final_data_df['x_values'], final_data_df['y_values'], test_size=0.25, random_state=31)"
   ]
  },
  {
   "cell_type": "code",
   "execution_count": 12,
   "id": "76eed57a-4afa-4e89-af93-39edf5dd1717",
   "metadata": {},
   "outputs": [
    {
     "data": {
      "text/plain": [
       "((24,), (24,), (8,), (8,))"
      ]
     },
     "execution_count": 12,
     "metadata": {},
     "output_type": "execute_result"
    }
   ],
   "source": [
    "X_train.shape, y_train.shape, X_test.shape, y_test.shape"
   ]
  },
  {
   "cell_type": "code",
   "execution_count": 13,
   "id": "e81f2665-a550-403d-974c-c8806a602462",
   "metadata": {},
   "outputs": [],
   "source": [
    "X_train = X_train.values.reshape(-1,1)\n",
    "X_test = X_test.values.reshape(-1,1)\n",
    "# y_train = y_train.values.reshape(-1,1)\n",
    "# y_test = y_test.values.reshape(-1,1)"
   ]
  },
  {
   "cell_type": "code",
   "execution_count": 14,
   "id": "03a74fdd-27c2-4fe6-86db-15d6e115c809",
   "metadata": {},
   "outputs": [],
   "source": [
    "test_fold = [-1] * len(X_train) + [0] * len(X_test)\n",
    "ps = PredefinedSplit(test_fold=test_fold)\n",
    "\n",
    "# Combine train and test data into one dataset\n",
    "X_full = np.concatenate([X_train, X_test])\n",
    "y_full = np.concatenate([y_train, y_test])"
   ]
  },
  {
   "cell_type": "code",
   "execution_count": 15,
   "id": "07842440-1512-4823-8eb2-166d537ffbd7",
   "metadata": {},
   "outputs": [
    {
     "data": {
      "text/plain": [
       "(32,)"
      ]
     },
     "execution_count": 15,
     "metadata": {},
     "output_type": "execute_result"
    }
   ],
   "source": [
    "y_full.shape"
   ]
  },
  {
   "cell_type": "code",
   "execution_count": 16,
   "id": "cf96d087-cd3d-46aa-bed1-27ad1d2cb76d",
   "metadata": {},
   "outputs": [],
   "source": [
    "# Okay, now I think we ought to fit multiple models that do the predictions really well. Should we maybe go ahead and plo the true vs predicted values for the train data - may be this will give an idea of what models will be the best"
   ]
  },
  {
   "cell_type": "code",
   "execution_count": 17,
   "id": "33f78875-395b-488a-8e09-c39d27d4dce9",
   "metadata": {},
   "outputs": [
    {
     "data": {
      "image/png": "[encoded data removed]",
      "text/plain": [
       "<Figure size 1000x1000 with 1 Axes>"
      ]
     },
     "metadata": {},
     "output_type": "display_data"
    }
   ],
   "source": [
    "plt.figure(figsize = (10,10))\n",
    "plt.scatter( X_train, y_train)\n",
    "plt.title(\"Scatter plot for true vs predicted values\")\n",
    "plt.xlabel(\"Averaged predicted counts\")\n",
    "plt.ylabel(\"True counts\")\n",
    "plt.show()"
   ]
  },
  {
   "cell_type": "code",
   "execution_count": 18,
   "id": "7b83e2d2-ff24-4608-8af6-22196d163217",
   "metadata": {},
   "outputs": [],
   "source": [
    "# well a linear model seems okay - let's start with simple models and also maybe move to a peciptron"
   ]
  },
  {
   "cell_type": "code",
   "execution_count": 19,
   "id": "9e88731d-bf9f-4e08-bcd3-0a95086f781c",
   "metadata": {},
   "outputs": [],
   "source": [
    "# let's try some models with gridsearch"
   ]
  },
  {
   "cell_type": "markdown",
   "id": "57096889-b47e-4f20-9de8-c1966028e334",
   "metadata": {},
   "source": [
    "ElasticNet model"
   ]
  },
  {
   "cell_type": "code",
   "execution_count": 20,
   "id": "4a7d4d61-a6d4-4e14-8ca4-912a37884ca3",
   "metadata": {},
   "outputs": [],
   "source": [
    "# Initialize the ElasticNet model\n",
    "EN_model = ElasticNet()"
   ]
  },
  {
   "cell_type": "code",
   "execution_count": 21,
   "id": "6344a76e-6d46-4a74-ad92-1a8ec3c9c561",
   "metadata": {},
   "outputs": [],
   "source": [
    "# Define the parameter grid\n",
    "EN_param_grid = {\n",
    "    'alpha': [0.1, 1.0, 10.0],\n",
    "    'l1_ratio': [0.1, 0.5, 0.7, 1.0],\n",
    "    'max_iter': [1000, 2000, 5000]\n",
    "}"
   ]
  },
  {
   "cell_type": "code",
   "execution_count": 22,
   "id": "f279a506-9fad-4bef-8a60-fc13bbbbd18b",
   "metadata": {},
   "outputs": [],
   "source": [
    "# Set up the GridSearchCV\n",
    "grid_search_EN = GridSearchCV(estimator=EN_model, param_grid=EN_param_grid, cv=ps, scoring='neg_mean_squared_error', n_jobs=-1, verbose=1)"
   ]
  },
  {
   "cell_type": "code",
   "execution_count": 23,
   "id": "fe95ca09-f1f4-471e-9043-ca8aefc25046",
   "metadata": {},
   "outputs": [
    {
     "name": "stdout",
     "output_type": "stream",
     "text": [
      "Fitting 1 folds for each of 36 candidates, totalling 36 fits\n"
     ]
    },
    {
     "data": {
      "text/html": [
       "<style>#sk-container-id-1 {color: black;background-color: white;}#sk-container-id-1 pre{padding: 0;}#sk-container-id-1 div.sk-toggleable {background-color: white;}#sk-container-id-1 label.sk-toggleable__label {cursor: pointer;display: block;width: 100%;margin-bottom: 0;padding: 0.3em;box-sizing: border-box;text-align: center;}#sk-container-id-1 label.sk-toggleable__label-arrow:before {content: \"▸\";float: left;margin-right: 0.25em;color: #696969;}#sk-container-id-1 label.sk-toggleable__label-arrow:hover:before {color: black;}#sk-container-id-1 div.sk-estimator:hover label.sk-toggleable__label-arrow:before {color: black;}#sk-container-id-1 div.sk-toggleable__content {max-height: 0;max-width: 0;overflow: hidden;text-align: left;background-color: #f0f8ff;}#sk-container-id-1 div.sk-toggleable__content pre {margin: 0.2em;color: black;border-radius: 0.25em;background-color: #f0f8ff;}#sk-container-id-1 input.sk-toggleable__control:checked~div.sk-toggleable__content {max-height: 200px;max-width: 100%;overflow: auto;}#sk-container-id-1 input.sk-toggleable__control:checked~label.sk-toggleable__label-arrow:before {content: \"▾\";}#sk-container-id-1 div.sk-estimator input.sk-toggleable__control:checked~label.sk-toggleable__label {background-color: #d4ebff;}#sk-container-id-1 div.sk-label input.sk-toggleable__control:checked~label.sk-toggleable__label {background-color: #d4ebff;}#sk-container-id-1 input.sk-hidden--visually {border: 0;clip: rect(1px 1px 1px 1px);clip: rect(1px, 1px, 1px, 1px);height: 1px;margin: -1px;overflow: hidden;padding: 0;position: absolute;width: 1px;}#sk-container-id-1 div.sk-estimator {font-family: monospace;background-color: #f0f8ff;border: 1px dotted black;border-radius: 0.25em;box-sizing: border-box;margin-bottom: 0.5em;}#sk-container-id-1 div.sk-estimator:hover {background-color: #d4ebff;}#sk-container-id-1 div.sk-parallel-item::after {content: \"\";width: 100%;border-bottom: 1px solid gray;flex-grow: 1;}#sk-container-id-1 div.sk-label:hover label.sk-toggleable__label {background-color: #d4ebff;}#sk-container-id-1 div.sk-serial::before {content: \"\";position: absolute;border-left: 1px solid gray;box-sizing: border-box;top: 0;bottom: 0;left: 50%;z-index: 0;}#sk-container-id-1 div.sk-serial {display: flex;flex-direction: column;align-items: center;background-color: white;padding-right: 0.2em;padding-left: 0.2em;position: relative;}#sk-container-id-1 div.sk-item {position: relative;z-index: 1;}#sk-container-id-1 div.sk-parallel {display: flex;align-items: stretch;justify-content: center;background-color: white;position: relative;}#sk-container-id-1 div.sk-item::before, #sk-container-id-1 div.sk-parallel-item::before {content: \"\";position: absolute;border-left: 1px solid gray;box-sizing: border-box;top: 0;bottom: 0;left: 50%;z-index: -1;}#sk-container-id-1 div.sk-parallel-item {display: flex;flex-direction: column;z-index: 1;position: relative;background-color: white;}#sk-container-id-1 div.sk-parallel-item:first-child::after {align-self: flex-end;width: 50%;}#sk-container-id-1 div.sk-parallel-item:last-child::after {align-self: flex-start;width: 50%;}#sk-container-id-1 div.sk-parallel-item:only-child::after {width: 0;}#sk-container-id-1 div.sk-dashed-wrapped {border: 1px dashed gray;margin: 0 0.4em 0.5em 0.4em;box-sizing: border-box;padding-bottom: 0.4em;background-color: white;}#sk-container-id-1 div.sk-label label {font-family: monospace;font-weight: bold;display: inline-block;line-height: 1.2em;}#sk-container-id-1 div.sk-label-container {text-align: center;}#sk-container-id-1 div.sk-container {/* jupyter's `normalize.less` sets `[hidden] { display: none; }` but bootstrap.min.css set `[hidden] { display: none !important; }` so we also need the `!important` here to be able to override the default hidden behavior on the sphinx rendered scikit-learn.org. See: https://github.com/scikit-learn/scikit-learn/issues/21755 */display: inline-block !important;position: relative;}#sk-container-id-1 div.sk-text-repr-fallback {display: none;}</style><div id=\"sk-container-id-1\" class=\"sk-top-container\"><div class=\"sk-text-repr-fallback\"><pre>GridSearchCV(cv=PredefinedSplit(test_fold=array([-1, -1, -1, -1, -1, -1, -1, -1, -1, -1, -1, -1, -1, -1, -1, -1, -1,\n",
       "       -1, -1, -1, -1, -1, -1, -1,  0,  0,  0,  0,  0,  0,  0,  0])),\n",
       "             estimator=ElasticNet(), n_jobs=-1,\n",
       "             param_grid={&#x27;alpha&#x27;: [0.1, 1.0, 10.0],\n",
       "                         &#x27;l1_ratio&#x27;: [0.1, 0.5, 0.7, 1.0],\n",
       "                         &#x27;max_iter&#x27;: [1000, 2000, 5000]},\n",
       "             scoring=&#x27;neg_mean_squared_error&#x27;, verbose=1)</pre><b>In a Jupyter environment, please rerun this cell to show the HTML representation or trust the notebook. <br />On GitHub, the HTML representation is unable to render, please try loading this page with nbviewer.org.</b></div><div class=\"sk-container\" hidden><div class=\"sk-item sk-dashed-wrapped\"><div class=\"sk-label-container\"><div class=\"sk-label sk-toggleable\"><input class=\"sk-toggleable__control sk-hidden--visually\" id=\"sk-estimator-id-1\" type=\"checkbox\" ><label for=\"sk-estimator-id-1\" class=\"sk-toggleable__label sk-toggleable__label-arrow\">GridSearchCV</label><div class=\"sk-toggleable__content\"><pre>GridSearchCV(cv=PredefinedSplit(test_fold=array([-1, -1, -1, -1, -1, -1, -1, -1, -1, -1, -1, -1, -1, -1, -1, -1, -1,\n",
       "       -1, -1, -1, -1, -1, -1, -1,  0,  0,  0,  0,  0,  0,  0,  0])),\n",
       "             estimator=ElasticNet(), n_jobs=-1,\n",
       "             param_grid={&#x27;alpha&#x27;: [0.1, 1.0, 10.0],\n",
       "                         &#x27;l1_ratio&#x27;: [0.1, 0.5, 0.7, 1.0],\n",
       "                         &#x27;max_iter&#x27;: [1000, 2000, 5000]},\n",
       "             scoring=&#x27;neg_mean_squared_error&#x27;, verbose=1)</pre></div></div></div><div class=\"sk-parallel\"><div class=\"sk-parallel-item\"><div class=\"sk-item\"><div class=\"sk-label-container\"><div class=\"sk-label sk-toggleable\"><input class=\"sk-toggleable__control sk-hidden--visually\" id=\"sk-estimator-id-2\" type=\"checkbox\" ><label for=\"sk-estimator-id-2\" class=\"sk-toggleable__label sk-toggleable__label-arrow\">estimator: ElasticNet</label><div class=\"sk-toggleable__content\"><pre>ElasticNet()</pre></div></div></div><div class=\"sk-serial\"><div class=\"sk-item\"><div class=\"sk-estimator sk-toggleable\"><input class=\"sk-toggleable__control sk-hidden--visually\" id=\"sk-estimator-id-3\" type=\"checkbox\" ><label for=\"sk-estimator-id-3\" class=\"sk-toggleable__label sk-toggleable__label-arrow\">ElasticNet</label><div class=\"sk-toggleable__content\"><pre>ElasticNet()</pre></div></div></div></div></div></div></div></div></div></div>"
      ],
      "text/plain": [
       "GridSearchCV(cv=PredefinedSplit(test_fold=array([-1, -1, -1, -1, -1, -1, -1, -1, -1, -1, -1, -1, -1, -1, -1, -1, -1,\n",
       "       -1, -1, -1, -1, -1, -1, -1,  0,  0,  0,  0,  0,  0,  0,  0])),\n",
       "             estimator=ElasticNet(), n_jobs=-1,\n",
       "             param_grid={'alpha': [0.1, 1.0, 10.0],\n",
       "                         'l1_ratio': [0.1, 0.5, 0.7, 1.0],\n",
       "                         'max_iter': [1000, 2000, 5000]},\n",
       "             scoring='neg_mean_squared_error', verbose=1)"
      ]
     },
     "execution_count": 23,
     "metadata": {},
     "output_type": "execute_result"
    }
   ],
   "source": [
    "# Fit the grid search to the data\n",
    "grid_search_EN.fit(X_full, y_full)"
   ]
  },
  {
   "cell_type": "code",
   "execution_count": 24,
   "id": "869ed871-aba1-4db2-8d2f-58cb7873f66b",
   "metadata": {},
   "outputs": [
    {
     "name": "stdout",
     "output_type": "stream",
     "text": [
      "Best parameters found: {'alpha': 10.0, 'l1_ratio': 0.1, 'max_iter': 1000}\n",
      "Best score (MSE): 99.99101116117635\n"
     ]
    }
   ],
   "source": [
    "# Print the best parameters and best score\n",
    "print(f\"Best parameters found: {grid_search_EN.best_params_}\")\n",
    "print(f\"Best score (MSE): {-grid_search_EN.best_score_}\")"
   ]
  },
  {
   "cell_type": "code",
   "execution_count": 25,
   "id": "5ce0db97-8228-456b-8867-c13172519954",
   "metadata": {},
   "outputs": [],
   "source": [
    "# Evaluate the best model on the test set\n",
    "best_model = grid_search_EN.best_estimator_\n",
    "y_pred = best_model.predict(X_test)\n",
    "test_rmse = np.sqrt(mean_squared_error(y_test, y_pred))\n",
    "test_mae = mean_absolute_error(y_test,y_pred)\n",
    "test_corr = pearsonr(y_test, y_pred)[0]\n",
    "test_r2 = r2_score(y_test, y_pred)"
   ]
  },
  {
   "cell_type": "code",
   "execution_count": 26,
   "id": "5492b3ed-09de-492d-bbf8-01b370079022",
   "metadata": {},
   "outputs": [
    {
     "data": {
      "text/plain": [
       "(9.6354811348306, 8.816986447188398, 0.7074266458546106, 0.4716884690335832)"
      ]
     },
     "execution_count": 26,
     "metadata": {},
     "output_type": "execute_result"
    }
   ],
   "source": [
    "test_rmse, test_mae, test_corr, test_r2"
   ]
  },
  {
   "cell_type": "code",
   "execution_count": 27,
   "id": "36354f4b-7c55-4250-9866-47388d44660a",
   "metadata": {},
   "outputs": [
    {
     "data": {
      "image/png": "[encoded data removed]",
      "text/plain": [
       "<Figure size 500x500 with 1 Axes>"
      ]
     },
     "metadata": {},
     "output_type": "display_data"
    }
   ],
   "source": [
    "# plot the data test predicted and true values\n",
    "\n",
    "plt.figure(figsize = (5,5))\n",
    "plt.scatter( y_pred, y_test)\n",
    "plt.title(\"Scatter plot for true vs predicted values for the test set from EN model\")\n",
    "plt.xlabel(\"predicted counts\")\n",
    "plt.ylabel(\"True counts\")\n",
    "plt.show()"
   ]
  },
  {
   "cell_type": "markdown",
   "id": "fd868c01-1478-4c7b-8411-0ecc9f1b2116",
   "metadata": {},
   "source": [
    "Linear Regression model"
   ]
  },
  {
   "cell_type": "code",
   "execution_count": 28,
   "id": "6f251bf8-3cf5-4361-9feb-a1ca795d54f2",
   "metadata": {},
   "outputs": [],
   "source": [
    "# Initialize the LinearRegression model\n",
    "LR_model = LinearRegression()\n",
    "\n",
    "# Define the parameter grid\n",
    "LR_param_grid = {\n",
    "    'fit_intercept': [True, False],\n",
    "    'normalize': [True, False] # normalize was deprecated, removed in sklearn 1.0\n",
    "}"
   ]
  },
  {
   "cell_type": "code",
   "execution_count": 29,
   "id": "aad506e3-b59d-4876-a98c-563957e33e34",
   "metadata": {},
   "outputs": [],
   "source": [
    "# Set up the GridSearchCV\n",
    "LR_grid_search = GridSearchCV(estimator=LR_model, param_grid=LR_param_grid, cv=ps, scoring='neg_mean_squared_error', verbose=2)\n"
   ]
  },
  {
   "cell_type": "code",
   "execution_count": 30,
   "id": "d57a121f-2f7f-4011-af8d-e892e9adb68c",
   "metadata": {},
   "outputs": [
    {
     "name": "stdout",
     "output_type": "stream",
     "text": [
      "Fitting 1 folds for each of 4 candidates, totalling 4 fits\n",
      "[CV] END .................fit_intercept=True, normalize=True; total time=   0.0s\n",
      "[CV] END ................fit_intercept=True, normalize=False; total time=   0.0s\n",
      "[CV] END ................fit_intercept=False, normalize=True; total time=   0.0s\n",
      "[CV] END ...............fit_intercept=False, normalize=False; total time=   0.0s\n"
     ]
    },
    {
     "name": "stderr",
     "output_type": "stream",
     "text": [
      "/common/statsgeneral/gayara/tf_with_py38_gpu_29/lib/python3.8/site-packages/sklearn/linear_model/_base.py:141: FutureWarning: 'normalize' was deprecated in version 1.0 and will be removed in 1.2.\n",
      "If you wish to scale the data, use Pipeline with a StandardScaler in a preprocessing stage. To reproduce the previous behavior:\n",
      "\n",
      "from sklearn.pipeline import make_pipeline\n",
      "\n",
      "model = make_pipeline(StandardScaler(with_mean=False), LinearRegression())\n",
      "\n",
      "If you wish to pass a sample_weight parameter, you need to pass it as a fit parameter to each step of the pipeline as follows:\n",
      "\n",
      "kwargs = {s[0] + '__sample_weight': sample_weight for s in model.steps}\n",
      "model.fit(X, y, **kwargs)\n",
      "\n",
      "\n",
      "  warnings.warn(\n",
      "/common/statsgeneral/gayara/tf_with_py38_gpu_29/lib/python3.8/site-packages/sklearn/linear_model/_base.py:148: FutureWarning: 'normalize' was deprecated in version 1.0 and will be removed in 1.2. Please leave the normalize parameter to its default value to silence this warning. The default behavior of this estimator is to not do any normalization. If normalization is needed please use sklearn.preprocessing.StandardScaler instead.\n",
      "  warnings.warn(\n",
      "/common/statsgeneral/gayara/tf_with_py38_gpu_29/lib/python3.8/site-packages/sklearn/linear_model/_base.py:141: FutureWarning: 'normalize' was deprecated in version 1.0 and will be removed in 1.2.\n",
      "If you wish to scale the data, use Pipeline with a StandardScaler in a preprocessing stage. To reproduce the previous behavior:\n",
      "\n",
      "from sklearn.pipeline import make_pipeline\n",
      "\n",
      "model = make_pipeline(StandardScaler(with_mean=False), LinearRegression())\n",
      "\n",
      "If you wish to pass a sample_weight parameter, you need to pass it as a fit parameter to each step of the pipeline as follows:\n",
      "\n",
      "kwargs = {s[0] + '__sample_weight': sample_weight for s in model.steps}\n",
      "model.fit(X, y, **kwargs)\n",
      "\n",
      "\n",
      "  warnings.warn(\n",
      "/common/statsgeneral/gayara/tf_with_py38_gpu_29/lib/python3.8/site-packages/sklearn/linear_model/_base.py:148: FutureWarning: 'normalize' was deprecated in version 1.0 and will be removed in 1.2. Please leave the normalize parameter to its default value to silence this warning. The default behavior of this estimator is to not do any normalization. If normalization is needed please use sklearn.preprocessing.StandardScaler instead.\n",
      "  warnings.warn(\n",
      "/common/statsgeneral/gayara/tf_with_py38_gpu_29/lib/python3.8/site-packages/sklearn/linear_model/_base.py:148: FutureWarning: 'normalize' was deprecated in version 1.0 and will be removed in 1.2. Please leave the normalize parameter to its default value to silence this warning. The default behavior of this estimator is to not do any normalization. If normalization is needed please use sklearn.preprocessing.StandardScaler instead.\n",
      "  warnings.warn(\n"
     ]
    },
    {
     "data": {
      "text/html": [
       "<style>#sk-container-id-2 {color: black;background-color: white;}#sk-container-id-2 pre{padding: 0;}#sk-container-id-2 div.sk-toggleable {background-color: white;}#sk-container-id-2 label.sk-toggleable__label {cursor: pointer;display: block;width: 100%;margin-bottom: 0;padding: 0.3em;box-sizing: border-box;text-align: center;}#sk-container-id-2 label.sk-toggleable__label-arrow:before {content: \"▸\";float: left;margin-right: 0.25em;color: #696969;}#sk-container-id-2 label.sk-toggleable__label-arrow:hover:before {color: black;}#sk-container-id-2 div.sk-estimator:hover label.sk-toggleable__label-arrow:before {color: black;}#sk-container-id-2 div.sk-toggleable__content {max-height: 0;max-width: 0;overflow: hidden;text-align: left;background-color: #f0f8ff;}#sk-container-id-2 div.sk-toggleable__content pre {margin: 0.2em;color: black;border-radius: 0.25em;background-color: #f0f8ff;}#sk-container-id-2 input.sk-toggleable__control:checked~div.sk-toggleable__content {max-height: 200px;max-width: 100%;overflow: auto;}#sk-container-id-2 input.sk-toggleable__control:checked~label.sk-toggleable__label-arrow:before {content: \"▾\";}#sk-container-id-2 div.sk-estimator input.sk-toggleable__control:checked~label.sk-toggleable__label {background-color: #d4ebff;}#sk-container-id-2 div.sk-label input.sk-toggleable__control:checked~label.sk-toggleable__label {background-color: #d4ebff;}#sk-container-id-2 input.sk-hidden--visually {border: 0;clip: rect(1px 1px 1px 1px);clip: rect(1px, 1px, 1px, 1px);height: 1px;margin: -1px;overflow: hidden;padding: 0;position: absolute;width: 1px;}#sk-container-id-2 div.sk-estimator {font-family: monospace;background-color: #f0f8ff;border: 1px dotted black;border-radius: 0.25em;box-sizing: border-box;margin-bottom: 0.5em;}#sk-container-id-2 div.sk-estimator:hover {background-color: #d4ebff;}#sk-container-id-2 div.sk-parallel-item::after {content: \"\";width: 100%;border-bottom: 1px solid gray;flex-grow: 1;}#sk-container-id-2 div.sk-label:hover label.sk-toggleable__label {background-color: #d4ebff;}#sk-container-id-2 div.sk-serial::before {content: \"\";position: absolute;border-left: 1px solid gray;box-sizing: border-box;top: 0;bottom: 0;left: 50%;z-index: 0;}#sk-container-id-2 div.sk-serial {display: flex;flex-direction: column;align-items: center;background-color: white;padding-right: 0.2em;padding-left: 0.2em;position: relative;}#sk-container-id-2 div.sk-item {position: relative;z-index: 1;}#sk-container-id-2 div.sk-parallel {display: flex;align-items: stretch;justify-content: center;background-color: white;position: relative;}#sk-container-id-2 div.sk-item::before, #sk-container-id-2 div.sk-parallel-item::before {content: \"\";position: absolute;border-left: 1px solid gray;box-sizing: border-box;top: 0;bottom: 0;left: 50%;z-index: -1;}#sk-container-id-2 div.sk-parallel-item {display: flex;flex-direction: column;z-index: 1;position: relative;background-color: white;}#sk-container-id-2 div.sk-parallel-item:first-child::after {align-self: flex-end;width: 50%;}#sk-container-id-2 div.sk-parallel-item:last-child::after {align-self: flex-start;width: 50%;}#sk-container-id-2 div.sk-parallel-item:only-child::after {width: 0;}#sk-container-id-2 div.sk-dashed-wrapped {border: 1px dashed gray;margin: 0 0.4em 0.5em 0.4em;box-sizing: border-box;padding-bottom: 0.4em;background-color: white;}#sk-container-id-2 div.sk-label label {font-family: monospace;font-weight: bold;display: inline-block;line-height: 1.2em;}#sk-container-id-2 div.sk-label-container {text-align: center;}#sk-container-id-2 div.sk-container {/* jupyter's `normalize.less` sets `[hidden] { display: none; }` but bootstrap.min.css set `[hidden] { display: none !important; }` so we also need the `!important` here to be able to override the default hidden behavior on the sphinx rendered scikit-learn.org. See: https://github.com/scikit-learn/scikit-learn/issues/21755 */display: inline-block !important;position: relative;}#sk-container-id-2 div.sk-text-repr-fallback {display: none;}</style><div id=\"sk-container-id-2\" class=\"sk-top-container\"><div class=\"sk-text-repr-fallback\"><pre>GridSearchCV(cv=PredefinedSplit(test_fold=array([-1, -1, -1, -1, -1, -1, -1, -1, -1, -1, -1, -1, -1, -1, -1, -1, -1,\n",
       "       -1, -1, -1, -1, -1, -1, -1,  0,  0,  0,  0,  0,  0,  0,  0])),\n",
       "             estimator=LinearRegression(),\n",
       "             param_grid={&#x27;fit_intercept&#x27;: [True, False],\n",
       "                         &#x27;normalize&#x27;: [True, False]},\n",
       "             scoring=&#x27;neg_mean_squared_error&#x27;, verbose=2)</pre><b>In a Jupyter environment, please rerun this cell to show the HTML representation or trust the notebook. <br />On GitHub, the HTML representation is unable to render, please try loading this page with nbviewer.org.</b></div><div class=\"sk-container\" hidden><div class=\"sk-item sk-dashed-wrapped\"><div class=\"sk-label-container\"><div class=\"sk-label sk-toggleable\"><input class=\"sk-toggleable__control sk-hidden--visually\" id=\"sk-estimator-id-4\" type=\"checkbox\" ><label for=\"sk-estimator-id-4\" class=\"sk-toggleable__label sk-toggleable__label-arrow\">GridSearchCV</label><div class=\"sk-toggleable__content\"><pre>GridSearchCV(cv=PredefinedSplit(test_fold=array([-1, -1, -1, -1, -1, -1, -1, -1, -1, -1, -1, -1, -1, -1, -1, -1, -1,\n",
       "       -1, -1, -1, -1, -1, -1, -1,  0,  0,  0,  0,  0,  0,  0,  0])),\n",
       "             estimator=LinearRegression(),\n",
       "             param_grid={&#x27;fit_intercept&#x27;: [True, False],\n",
       "                         &#x27;normalize&#x27;: [True, False]},\n",
       "             scoring=&#x27;neg_mean_squared_error&#x27;, verbose=2)</pre></div></div></div><div class=\"sk-parallel\"><div class=\"sk-parallel-item\"><div class=\"sk-item\"><div class=\"sk-label-container\"><div class=\"sk-label sk-toggleable\"><input class=\"sk-toggleable__control sk-hidden--visually\" id=\"sk-estimator-id-5\" type=\"checkbox\" ><label for=\"sk-estimator-id-5\" class=\"sk-toggleable__label sk-toggleable__label-arrow\">estimator: LinearRegression</label><div class=\"sk-toggleable__content\"><pre>LinearRegression()</pre></div></div></div><div class=\"sk-serial\"><div class=\"sk-item\"><div class=\"sk-estimator sk-toggleable\"><input class=\"sk-toggleable__control sk-hidden--visually\" id=\"sk-estimator-id-6\" type=\"checkbox\" ><label for=\"sk-estimator-id-6\" class=\"sk-toggleable__label sk-toggleable__label-arrow\">LinearRegression</label><div class=\"sk-toggleable__content\"><pre>LinearRegression()</pre></div></div></div></div></div></div></div></div></div></div>"
      ],
      "text/plain": [
       "GridSearchCV(cv=PredefinedSplit(test_fold=array([-1, -1, -1, -1, -1, -1, -1, -1, -1, -1, -1, -1, -1, -1, -1, -1, -1,\n",
       "       -1, -1, -1, -1, -1, -1, -1,  0,  0,  0,  0,  0,  0,  0,  0])),\n",
       "             estimator=LinearRegression(),\n",
       "             param_grid={'fit_intercept': [True, False],\n",
       "                         'normalize': [True, False]},\n",
       "             scoring='neg_mean_squared_error', verbose=2)"
      ]
     },
     "execution_count": 30,
     "metadata": {},
     "output_type": "execute_result"
    }
   ],
   "source": [
    "LR_grid_search.fit(X_full, y_full)"
   ]
  },
  {
   "cell_type": "code",
   "execution_count": 31,
   "id": "ad9b817a-c093-425f-9c9f-785e8766d1a1",
   "metadata": {},
   "outputs": [
    {
     "name": "stdout",
     "output_type": "stream",
     "text": [
      "Best parameters found: {'fit_intercept': True, 'normalize': False}\n",
      "Best cross-validation score (MSE): 110.2669201779102\n"
     ]
    }
   ],
   "source": [
    "# Print the best parameters and best score\n",
    "print(f\"Best parameters found: {LR_grid_search.best_params_}\")\n",
    "print(f\"Best cross-validation score (MSE): {-LR_grid_search.best_score_}\")"
   ]
  },
  {
   "cell_type": "code",
   "execution_count": 32,
   "id": "ded28caa-9706-4842-8a5e-811555540320",
   "metadata": {},
   "outputs": [],
   "source": [
    "# Evaluate the best model on the test set\n",
    "best_model_LR = LR_grid_search.best_estimator_\n",
    "y_pred_LR = best_model_LR.predict(X_test)\n",
    "test_rmse_LR = np.sqrt(mean_squared_error(y_test, y_pred_LR))\n",
    "test_mae_LR = mean_absolute_error(y_test,y_pred_LR)\n",
    "test_corr_LR = pearsonr(y_test, y_pred_LR)[0]\n",
    "test_r2_LR = r2_score(y_test, y_pred_LR)"
   ]
  },
  {
   "cell_type": "code",
   "execution_count": 33,
   "id": "05bc14dc-186d-4446-8f6e-2dc0ff277e4f",
   "metadata": {},
   "outputs": [
    {
     "data": {
      "text/plain": [
       "(9.921186994792352, 9.051303346292261, 0.7074266458546106, 0.43989358151678126)"
      ]
     },
     "execution_count": 33,
     "metadata": {},
     "output_type": "execute_result"
    }
   ],
   "source": [
    "test_rmse_LR, test_mae_LR, test_corr_LR, test_r2_LR"
   ]
  },
  {
   "cell_type": "code",
   "execution_count": 34,
   "id": "1835a34a-53e5-42a0-9730-ee86cc5d7dd4",
   "metadata": {},
   "outputs": [
    {
     "data": {
      "image/png": "[encoded data removed]",
      "text/plain": [
       "<Figure size 500x500 with 1 Axes>"
      ]
     },
     "metadata": {},
     "output_type": "display_data"
    }
   ],
   "source": [
    "# plot the data test predicted and true values\n",
    "\n",
    "plt.figure(figsize = (5,5))\n",
    "plt.scatter(y_pred_LR, y_test)\n",
    "plt.title(\"Scatter plot for true vs predicted values for the test set from LR model\")\n",
    "plt.xlabel(\"predicted counts\")\n",
    "plt.ylabel(\"True counts\")\n",
    "plt.show()"
   ]
  },
  {
   "cell_type": "markdown",
   "id": "bf8f1419-6540-4c82-bb39-632700449aee",
   "metadata": {},
   "source": [
    "SVR model"
   ]
  },
  {
   "cell_type": "code",
   "execution_count": 35,
   "id": "c860db7f-69e8-4ded-8982-3b0d6294ea82",
   "metadata": {},
   "outputs": [],
   "source": [
    "SVR_model = SVR()"
   ]
  },
  {
   "cell_type": "code",
   "execution_count": 36,
   "id": "9140976d-80aa-4e66-a08f-89b0c02ce190",
   "metadata": {},
   "outputs": [],
   "source": [
    "SVR_param_grid = {'kernel': ['linear', 'poly'], 'degree': [1,2,3]}"
   ]
  },
  {
   "cell_type": "code",
   "execution_count": 37,
   "id": "f8e2589c-ca8b-48d9-ba94-fa2ac9a11bac",
   "metadata": {},
   "outputs": [],
   "source": [
    "# Set up the GridSearchCV\n",
    "grid_search_SVR = GridSearchCV(estimator=SVR_model, param_grid=SVR_param_grid, cv=ps, scoring='neg_mean_absolute_error', n_jobs=-1, verbose=1)"
   ]
  },
  {
   "cell_type": "code",
   "execution_count": 38,
   "id": "6e721ebd-2cc1-40ab-8d25-8066a915306e",
   "metadata": {},
   "outputs": [],
   "source": [
    "# import sklearn"
   ]
  },
  {
   "cell_type": "code",
   "execution_count": 39,
   "id": "85701673-d94f-438e-8540-df7298555f9b",
   "metadata": {},
   "outputs": [],
   "source": [
    "# sklearn.metrics.get_scorer_names()"
   ]
  },
  {
   "cell_type": "code",
   "execution_count": 40,
   "id": "bc89e342-2b94-4a40-9b79-bb6d4409241b",
   "metadata": {},
   "outputs": [
    {
     "name": "stdout",
     "output_type": "stream",
     "text": [
      "Fitting 1 folds for each of 6 candidates, totalling 6 fits\n"
     ]
    },
    {
     "data": {
      "text/html": [
       "<style>#sk-container-id-3 {color: black;background-color: white;}#sk-container-id-3 pre{padding: 0;}#sk-container-id-3 div.sk-toggleable {background-color: white;}#sk-container-id-3 label.sk-toggleable__label {cursor: pointer;display: block;width: 100%;margin-bottom: 0;padding: 0.3em;box-sizing: border-box;text-align: center;}#sk-container-id-3 label.sk-toggleable__label-arrow:before {content: \"▸\";float: left;margin-right: 0.25em;color: #696969;}#sk-container-id-3 label.sk-toggleable__label-arrow:hover:before {color: black;}#sk-container-id-3 div.sk-estimator:hover label.sk-toggleable__label-arrow:before {color: black;}#sk-container-id-3 div.sk-toggleable__content {max-height: 0;max-width: 0;overflow: hidden;text-align: left;background-color: #f0f8ff;}#sk-container-id-3 div.sk-toggleable__content pre {margin: 0.2em;color: black;border-radius: 0.25em;background-color: #f0f8ff;}#sk-container-id-3 input.sk-toggleable__control:checked~div.sk-toggleable__content {max-height: 200px;max-width: 100%;overflow: auto;}#sk-container-id-3 input.sk-toggleable__control:checked~label.sk-toggleable__label-arrow:before {content: \"▾\";}#sk-container-id-3 div.sk-estimator input.sk-toggleable__control:checked~label.sk-toggleable__label {background-color: #d4ebff;}#sk-container-id-3 div.sk-label input.sk-toggleable__control:checked~label.sk-toggleable__label {background-color: #d4ebff;}#sk-container-id-3 input.sk-hidden--visually {border: 0;clip: rect(1px 1px 1px 1px);clip: rect(1px, 1px, 1px, 1px);height: 1px;margin: -1px;overflow: hidden;padding: 0;position: absolute;width: 1px;}#sk-container-id-3 div.sk-estimator {font-family: monospace;background-color: #f0f8ff;border: 1px dotted black;border-radius: 0.25em;box-sizing: border-box;margin-bottom: 0.5em;}#sk-container-id-3 div.sk-estimator:hover {background-color: #d4ebff;}#sk-container-id-3 div.sk-parallel-item::after {content: \"\";width: 100%;border-bottom: 1px solid gray;flex-grow: 1;}#sk-container-id-3 div.sk-label:hover label.sk-toggleable__label {background-color: #d4ebff;}#sk-container-id-3 div.sk-serial::before {content: \"\";position: absolute;border-left: 1px solid gray;box-sizing: border-box;top: 0;bottom: 0;left: 50%;z-index: 0;}#sk-container-id-3 div.sk-serial {display: flex;flex-direction: column;align-items: center;background-color: white;padding-right: 0.2em;padding-left: 0.2em;position: relative;}#sk-container-id-3 div.sk-item {position: relative;z-index: 1;}#sk-container-id-3 div.sk-parallel {display: flex;align-items: stretch;justify-content: center;background-color: white;position: relative;}#sk-container-id-3 div.sk-item::before, #sk-container-id-3 div.sk-parallel-item::before {content: \"\";position: absolute;border-left: 1px solid gray;box-sizing: border-box;top: 0;bottom: 0;left: 50%;z-index: -1;}#sk-container-id-3 div.sk-parallel-item {display: flex;flex-direction: column;z-index: 1;position: relative;background-color: white;}#sk-container-id-3 div.sk-parallel-item:first-child::after {align-self: flex-end;width: 50%;}#sk-container-id-3 div.sk-parallel-item:last-child::after {align-self: flex-start;width: 50%;}#sk-container-id-3 div.sk-parallel-item:only-child::after {width: 0;}#sk-container-id-3 div.sk-dashed-wrapped {border: 1px dashed gray;margin: 0 0.4em 0.5em 0.4em;box-sizing: border-box;padding-bottom: 0.4em;background-color: white;}#sk-container-id-3 div.sk-label label {font-family: monospace;font-weight: bold;display: inline-block;line-height: 1.2em;}#sk-container-id-3 div.sk-label-container {text-align: center;}#sk-container-id-3 div.sk-container {/* jupyter's `normalize.less` sets `[hidden] { display: none; }` but bootstrap.min.css set `[hidden] { display: none !important; }` so we also need the `!important` here to be able to override the default hidden behavior on the sphinx rendered scikit-learn.org. See: https://github.com/scikit-learn/scikit-learn/issues/21755 */display: inline-block !important;position: relative;}#sk-container-id-3 div.sk-text-repr-fallback {display: none;}</style><div id=\"sk-container-id-3\" class=\"sk-top-container\"><div class=\"sk-text-repr-fallback\"><pre>GridSearchCV(cv=PredefinedSplit(test_fold=array([-1, -1, -1, -1, -1, -1, -1, -1, -1, -1, -1, -1, -1, -1, -1, -1, -1,\n",
       "       -1, -1, -1, -1, -1, -1, -1,  0,  0,  0,  0,  0,  0,  0,  0])),\n",
       "             estimator=SVR(), n_jobs=-1,\n",
       "             param_grid={&#x27;degree&#x27;: [1, 2, 3], &#x27;kernel&#x27;: [&#x27;linear&#x27;, &#x27;poly&#x27;]},\n",
       "             scoring=&#x27;neg_mean_absolute_error&#x27;, verbose=1)</pre><b>In a Jupyter environment, please rerun this cell to show the HTML representation or trust the notebook. <br />On GitHub, the HTML representation is unable to render, please try loading this page with nbviewer.org.</b></div><div class=\"sk-container\" hidden><div class=\"sk-item sk-dashed-wrapped\"><div class=\"sk-label-container\"><div class=\"sk-label sk-toggleable\"><input class=\"sk-toggleable__control sk-hidden--visually\" id=\"sk-estimator-id-7\" type=\"checkbox\" ><label for=\"sk-estimator-id-7\" class=\"sk-toggleable__label sk-toggleable__label-arrow\">GridSearchCV</label><div class=\"sk-toggleable__content\"><pre>GridSearchCV(cv=PredefinedSplit(test_fold=array([-1, -1, -1, -1, -1, -1, -1, -1, -1, -1, -1, -1, -1, -1, -1, -1, -1,\n",
       "       -1, -1, -1, -1, -1, -1, -1,  0,  0,  0,  0,  0,  0,  0,  0])),\n",
       "             estimator=SVR(), n_jobs=-1,\n",
       "             param_grid={&#x27;degree&#x27;: [1, 2, 3], &#x27;kernel&#x27;: [&#x27;linear&#x27;, &#x27;poly&#x27;]},\n",
       "             scoring=&#x27;neg_mean_absolute_error&#x27;, verbose=1)</pre></div></div></div><div class=\"sk-parallel\"><div class=\"sk-parallel-item\"><div class=\"sk-item\"><div class=\"sk-label-container\"><div class=\"sk-label sk-toggleable\"><input class=\"sk-toggleable__control sk-hidden--visually\" id=\"sk-estimator-id-8\" type=\"checkbox\" ><label for=\"sk-estimator-id-8\" class=\"sk-toggleable__label sk-toggleable__label-arrow\">estimator: SVR</label><div class=\"sk-toggleable__content\"><pre>SVR()</pre></div></div></div><div class=\"sk-serial\"><div class=\"sk-item\"><div class=\"sk-estimator sk-toggleable\"><input class=\"sk-toggleable__control sk-hidden--visually\" id=\"sk-estimator-id-9\" type=\"checkbox\" ><label for=\"sk-estimator-id-9\" class=\"sk-toggleable__label sk-toggleable__label-arrow\">SVR</label><div class=\"sk-toggleable__content\"><pre>SVR()</pre></div></div></div></div></div></div></div></div></div></div>"
      ],
      "text/plain": [
       "GridSearchCV(cv=PredefinedSplit(test_fold=array([-1, -1, -1, -1, -1, -1, -1, -1, -1, -1, -1, -1, -1, -1, -1, -1, -1,\n",
       "       -1, -1, -1, -1, -1, -1, -1,  0,  0,  0,  0,  0,  0,  0,  0])),\n",
       "             estimator=SVR(), n_jobs=-1,\n",
       "             param_grid={'degree': [1, 2, 3], 'kernel': ['linear', 'poly']},\n",
       "             scoring='neg_mean_absolute_error', verbose=1)"
      ]
     },
     "execution_count": 40,
     "metadata": {},
     "output_type": "execute_result"
    }
   ],
   "source": [
    "# Fit the grid search to the data\n",
    "grid_search_SVR.fit(X_full, y_full)"
   ]
  },
  {
   "cell_type": "code",
   "execution_count": 41,
   "id": "8904079a-16ac-4456-b580-e2a6fc9cec7e",
   "metadata": {},
   "outputs": [
    {
     "name": "stdout",
     "output_type": "stream",
     "text": [
      "Best parameters found: {'degree': 3, 'kernel': 'poly'}\n",
      "Best score (MSE): 8.699707664562585\n"
     ]
    }
   ],
   "source": [
    "# Print the best parameters and best score\n",
    "print(f\"Best parameters found: {grid_search_SVR.best_params_}\")\n",
    "print(f\"Best score (MSE): {-grid_search_SVR.best_score_}\")"
   ]
  },
  {
   "cell_type": "code",
   "execution_count": 42,
   "id": "d002ab63-2097-4252-b849-4d868370dcd2",
   "metadata": {},
   "outputs": [],
   "source": [
    "# Evaluate the best model on the test set\n",
    "best_model_SVR = grid_search_SVR.best_estimator_\n",
    "y_pred_SVR = best_model_SVR.predict(X_test)\n",
    "test_rmse_SVR = np.sqrt(mean_squared_error(y_test, y_pred_SVR))\n",
    "test_mae_SVR = mean_absolute_error(y_test,y_pred_SVR)\n",
    "test_corr_SVR = pearsonr(y_test, y_pred_SVR)[0]\n",
    "test_r2_SVR = r2_score(y_test, y_pred_SVR)"
   ]
  },
  {
   "cell_type": "code",
   "execution_count": 43,
   "id": "d08e0a38-e5ce-4738-8484-85aa1bad15e7",
   "metadata": {},
   "outputs": [
    {
     "data": {
      "text/plain": [
       "(10.445750217333805, 8.348135284052393, 0.6782819707379752, 0.3790987244076225)"
      ]
     },
     "execution_count": 43,
     "metadata": {},
     "output_type": "execute_result"
    }
   ],
   "source": [
    "test_rmse_SVR, test_mae_SVR, test_corr_SVR, test_r2_SVR"
   ]
  },
  {
   "cell_type": "code",
   "execution_count": 44,
   "id": "efbcd90f-28dd-4af4-92f9-1785033d16fe",
   "metadata": {},
   "outputs": [
    {
     "data": {
      "image/png": "[encoded data removed]",
      "text/plain": [
       "<Figure size 500x500 with 1 Axes>"
      ]
     },
     "metadata": {},
     "output_type": "display_data"
    }
   ],
   "source": [
    "# plot the data test predicted and true values\n",
    "\n",
    "plt.figure(figsize = (5,5))\n",
    "plt.scatter(y_pred_SVR, y_test)\n",
    "plt.title(\"Scatter plot for true vs predicted values for the test set from SVR model\")\n",
    "plt.xlabel(\"predicted counts\")\n",
    "plt.ylabel(\"True counts\")\n",
    "plt.show()"
   ]
  },
  {
   "cell_type": "markdown",
   "id": "7fd1a9f0-6342-44d7-b84d-9a0f4f36f8a1",
   "metadata": {},
   "source": [
    "SGDregressor model"
   ]
  },
  {
   "cell_type": "code",
   "execution_count": 45,
   "id": "e43200ef-7fed-437a-9b0a-65ddd2a51a1e",
   "metadata": {},
   "outputs": [],
   "source": [
    "# Initialize the SGDRegressor model\n",
    "SGD_model = SGDRegressor(random_state=42)\n",
    "\n",
    "# Define the parameter grid\n",
    "SGD_param_grid = {\n",
    "    'loss': ['squared_loss', 'huber', 'epsilon_insensitive'],\n",
    "    'penalty': ['l2', 'l1', 'elasticnet'],\n",
    "    'alpha': [0.0001, 0.001, 0.01],\n",
    "    'learning_rate': ['constant', 'optimal', 'invscaling', 'adaptive'],\n",
    "    'eta0': [0.001, 0.01, 0.1]}"
   ]
  },
  {
   "cell_type": "code",
   "execution_count": 46,
   "id": "a6b79e69-f80f-4080-ad17-b7b82091a947",
   "metadata": {},
   "outputs": [],
   "source": [
    "# Set up the GridSearchCV\n",
    "SGD_grid_search = GridSearchCV(estimator=SGD_model, param_grid=SGD_param_grid, cv=ps, scoring='neg_mean_squared_error', n_jobs=-1, verbose=2)"
   ]
  },
  {
   "cell_type": "code",
   "execution_count": 47,
   "id": "1bc85bc2-5fa2-47ae-ae99-7d0568009402",
   "metadata": {},
   "outputs": [
    {
     "name": "stdout",
     "output_type": "stream",
     "text": [
      "Fitting 1 folds for each of 324 candidates, totalling 324 fits\n"
     ]
    },
    {
     "data": {
      "text/html": [
       "<style>#sk-container-id-4 {color: black;background-color: white;}#sk-container-id-4 pre{padding: 0;}#sk-container-id-4 div.sk-toggleable {background-color: white;}#sk-container-id-4 label.sk-toggleable__label {cursor: pointer;display: block;width: 100%;margin-bottom: 0;padding: 0.3em;box-sizing: border-box;text-align: center;}#sk-container-id-4 label.sk-toggleable__label-arrow:before {content: \"▸\";float: left;margin-right: 0.25em;color: #696969;}#sk-container-id-4 label.sk-toggleable__label-arrow:hover:before {color: black;}#sk-container-id-4 div.sk-estimator:hover label.sk-toggleable__label-arrow:before {color: black;}#sk-container-id-4 div.sk-toggleable__content {max-height: 0;max-width: 0;overflow: hidden;text-align: left;background-color: #f0f8ff;}#sk-container-id-4 div.sk-toggleable__content pre {margin: 0.2em;color: black;border-radius: 0.25em;background-color: #f0f8ff;}#sk-container-id-4 input.sk-toggleable__control:checked~div.sk-toggleable__content {max-height: 200px;max-width: 100%;overflow: auto;}#sk-container-id-4 input.sk-toggleable__control:checked~label.sk-toggleable__label-arrow:before {content: \"▾\";}#sk-container-id-4 div.sk-estimator input.sk-toggleable__control:checked~label.sk-toggleable__label {background-color: #d4ebff;}#sk-container-id-4 div.sk-label input.sk-toggleable__control:checked~label.sk-toggleable__label {background-color: #d4ebff;}#sk-container-id-4 input.sk-hidden--visually {border: 0;clip: rect(1px 1px 1px 1px);clip: rect(1px, 1px, 1px, 1px);height: 1px;margin: -1px;overflow: hidden;padding: 0;position: absolute;width: 1px;}#sk-container-id-4 div.sk-estimator {font-family: monospace;background-color: #f0f8ff;border: 1px dotted black;border-radius: 0.25em;box-sizing: border-box;margin-bottom: 0.5em;}#sk-container-id-4 div.sk-estimator:hover {background-color: #d4ebff;}#sk-container-id-4 div.sk-parallel-item::after {content: \"\";width: 100%;border-bottom: 1px solid gray;flex-grow: 1;}#sk-container-id-4 div.sk-label:hover label.sk-toggleable__label {background-color: #d4ebff;}#sk-container-id-4 div.sk-serial::before {content: \"\";position: absolute;border-left: 1px solid gray;box-sizing: border-box;top: 0;bottom: 0;left: 50%;z-index: 0;}#sk-container-id-4 div.sk-serial {display: flex;flex-direction: column;align-items: center;background-color: white;padding-right: 0.2em;padding-left: 0.2em;position: relative;}#sk-container-id-4 div.sk-item {position: relative;z-index: 1;}#sk-container-id-4 div.sk-parallel {display: flex;align-items: stretch;justify-content: center;background-color: white;position: relative;}#sk-container-id-4 div.sk-item::before, #sk-container-id-4 div.sk-parallel-item::before {content: \"\";position: absolute;border-left: 1px solid gray;box-sizing: border-box;top: 0;bottom: 0;left: 50%;z-index: -1;}#sk-container-id-4 div.sk-parallel-item {display: flex;flex-direction: column;z-index: 1;position: relative;background-color: white;}#sk-container-id-4 div.sk-parallel-item:first-child::after {align-self: flex-end;width: 50%;}#sk-container-id-4 div.sk-parallel-item:last-child::after {align-self: flex-start;width: 50%;}#sk-container-id-4 div.sk-parallel-item:only-child::after {width: 0;}#sk-container-id-4 div.sk-dashed-wrapped {border: 1px dashed gray;margin: 0 0.4em 0.5em 0.4em;box-sizing: border-box;padding-bottom: 0.4em;background-color: white;}#sk-container-id-4 div.sk-label label {font-family: monospace;font-weight: bold;display: inline-block;line-height: 1.2em;}#sk-container-id-4 div.sk-label-container {text-align: center;}#sk-container-id-4 div.sk-container {/* jupyter's `normalize.less` sets `[hidden] { display: none; }` but bootstrap.min.css set `[hidden] { display: none !important; }` so we also need the `!important` here to be able to override the default hidden behavior on the sphinx rendered scikit-learn.org. See: https://github.com/scikit-learn/scikit-learn/issues/21755 */display: inline-block !important;position: relative;}#sk-container-id-4 div.sk-text-repr-fallback {display: none;}</style><div id=\"sk-container-id-4\" class=\"sk-top-container\"><div class=\"sk-text-repr-fallback\"><pre>GridSearchCV(cv=PredefinedSplit(test_fold=array([-1, -1, -1, -1, -1, -1, -1, -1, -1, -1, -1, -1, -1, -1, -1, -1, -1,\n",
       "       -1, -1, -1, -1, -1, -1, -1,  0,  0,  0,  0,  0,  0,  0,  0])),\n",
       "             estimator=SGDRegressor(random_state=42), n_jobs=-1,\n",
       "             param_grid={&#x27;alpha&#x27;: [0.0001, 0.001, 0.01],\n",
       "                         &#x27;eta0&#x27;: [0.001, 0.01, 0.1],\n",
       "                         &#x27;learning_rate&#x27;: [&#x27;constant&#x27;, &#x27;optimal&#x27;, &#x27;invscaling&#x27;,\n",
       "                                           &#x27;adaptive&#x27;],\n",
       "                         &#x27;loss&#x27;: [&#x27;squared_loss&#x27;, &#x27;huber&#x27;,\n",
       "                                  &#x27;epsilon_insensitive&#x27;],\n",
       "                         &#x27;penalty&#x27;: [&#x27;l2&#x27;, &#x27;l1&#x27;, &#x27;elasticnet&#x27;]},\n",
       "             scoring=&#x27;neg_mean_squared_error&#x27;, verbose=2)</pre><b>In a Jupyter environment, please rerun this cell to show the HTML representation or trust the notebook. <br />On GitHub, the HTML representation is unable to render, please try loading this page with nbviewer.org.</b></div><div class=\"sk-container\" hidden><div class=\"sk-item sk-dashed-wrapped\"><div class=\"sk-label-container\"><div class=\"sk-label sk-toggleable\"><input class=\"sk-toggleable__control sk-hidden--visually\" id=\"sk-estimator-id-10\" type=\"checkbox\" ><label for=\"sk-estimator-id-10\" class=\"sk-toggleable__label sk-toggleable__label-arrow\">GridSearchCV</label><div class=\"sk-toggleable__content\"><pre>GridSearchCV(cv=PredefinedSplit(test_fold=array([-1, -1, -1, -1, -1, -1, -1, -1, -1, -1, -1, -1, -1, -1, -1, -1, -1,\n",
       "       -1, -1, -1, -1, -1, -1, -1,  0,  0,  0,  0,  0,  0,  0,  0])),\n",
       "             estimator=SGDRegressor(random_state=42), n_jobs=-1,\n",
       "             param_grid={&#x27;alpha&#x27;: [0.0001, 0.001, 0.01],\n",
       "                         &#x27;eta0&#x27;: [0.001, 0.01, 0.1],\n",
       "                         &#x27;learning_rate&#x27;: [&#x27;constant&#x27;, &#x27;optimal&#x27;, &#x27;invscaling&#x27;,\n",
       "                                           &#x27;adaptive&#x27;],\n",
       "                         &#x27;loss&#x27;: [&#x27;squared_loss&#x27;, &#x27;huber&#x27;,\n",
       "                                  &#x27;epsilon_insensitive&#x27;],\n",
       "                         &#x27;penalty&#x27;: [&#x27;l2&#x27;, &#x27;l1&#x27;, &#x27;elasticnet&#x27;]},\n",
       "             scoring=&#x27;neg_mean_squared_error&#x27;, verbose=2)</pre></div></div></div><div class=\"sk-parallel\"><div class=\"sk-parallel-item\"><div class=\"sk-item\"><div class=\"sk-label-container\"><div class=\"sk-label sk-toggleable\"><input class=\"sk-toggleable__control sk-hidden--visually\" id=\"sk-estimator-id-11\" type=\"checkbox\" ><label for=\"sk-estimator-id-11\" class=\"sk-toggleable__label sk-toggleable__label-arrow\">estimator: SGDRegressor</label><div class=\"sk-toggleable__content\"><pre>SGDRegressor(random_state=42)</pre></div></div></div><div class=\"sk-serial\"><div class=\"sk-item\"><div class=\"sk-estimator sk-toggleable\"><input class=\"sk-toggleable__control sk-hidden--visually\" id=\"sk-estimator-id-12\" type=\"checkbox\" ><label for=\"sk-estimator-id-12\" class=\"sk-toggleable__label sk-toggleable__label-arrow\">SGDRegressor</label><div class=\"sk-toggleable__content\"><pre>SGDRegressor(random_state=42)</pre></div></div></div></div></div></div></div></div></div></div>"
      ],
      "text/plain": [
       "GridSearchCV(cv=PredefinedSplit(test_fold=array([-1, -1, -1, -1, -1, -1, -1, -1, -1, -1, -1, -1, -1, -1, -1, -1, -1,\n",
       "       -1, -1, -1, -1, -1, -1, -1,  0,  0,  0,  0,  0,  0,  0,  0])),\n",
       "             estimator=SGDRegressor(random_state=42), n_jobs=-1,\n",
       "             param_grid={'alpha': [0.0001, 0.001, 0.01],\n",
       "                         'eta0': [0.001, 0.01, 0.1],\n",
       "                         'learning_rate': ['constant', 'optimal', 'invscaling',\n",
       "                                           'adaptive'],\n",
       "                         'loss': ['squared_loss', 'huber',\n",
       "                                  'epsilon_insensitive'],\n",
       "                         'penalty': ['l2', 'l1', 'elasticnet']},\n",
       "             scoring='neg_mean_squared_error', verbose=2)"
      ]
     },
     "execution_count": 47,
     "metadata": {},
     "output_type": "execute_result"
    }
   ],
   "source": [
    "# Fit the grid search to the data\n",
    "SGD_grid_search.fit(X_full, y_full)"
   ]
  },
  {
   "cell_type": "code",
   "execution_count": 48,
   "id": "39394eaf-91e1-4fc6-b0f7-819d8fd064e7",
   "metadata": {},
   "outputs": [
    {
     "name": "stdout",
     "output_type": "stream",
     "text": [
      "Best parameters found: {'alpha': 0.001, 'eta0': 0.1, 'learning_rate': 'invscaling', 'loss': 'huber', 'penalty': 'l1'}\n",
      "Best score (MSE): 105.68574054101865\n"
     ]
    }
   ],
   "source": [
    "# Print the best parameters and best score\n",
    "print(f\"Best parameters found: {SGD_grid_search.best_params_}\")\n",
    "print(f\"Best score (MSE): {-SGD_grid_search.best_score_}\")"
   ]
  },
  {
   "cell_type": "code",
   "execution_count": 49,
   "id": "4ca4abd8-a150-4188-8e78-f8d4368f3516",
   "metadata": {},
   "outputs": [],
   "source": [
    "# Evaluate the best model on the test set\n",
    "best_model_SGD = SGD_grid_search.best_estimator_\n",
    "y_pred_SGD = best_model_SGD.predict(X_test)\n",
    "test_rmse_SGD = np.sqrt(mean_squared_error(y_test, y_pred_SGD))\n",
    "test_mae_SGD = mean_absolute_error(y_test,y_pred_SGD)\n",
    "test_corr_SGD = pearsonr(y_test, y_pred_SGD)[0]\n",
    "test_r2_SGD = r2_score(y_test, y_pred_SGD)"
   ]
  },
  {
   "cell_type": "code",
   "execution_count": 50,
   "id": "4a6ef76d-5583-4661-8ca8-768b3c8aee8d",
   "metadata": {},
   "outputs": [
    {
     "data": {
      "text/plain": [
       "(10.755001111537608,\n",
       " 9.323550158097689,\n",
       " 0.7074266458546106,\n",
       " 0.34179042142907334)"
      ]
     },
     "execution_count": 50,
     "metadata": {},
     "output_type": "execute_result"
    }
   ],
   "source": [
    "test_rmse_SGD, test_mae_SGD, test_corr_SGD, test_r2_SGD"
   ]
  },
  {
   "cell_type": "code",
   "execution_count": 51,
   "id": "bbea2426-69b3-42b8-88c5-73e271ab8c00",
   "metadata": {},
   "outputs": [
    {
     "data": {
      "image/png": "[encoded data removed]",
      "text/plain": [
       "<Figure size 500x500 with 1 Axes>"
      ]
     },
     "metadata": {},
     "output_type": "display_data"
    }
   ],
   "source": [
    "# plot the data test predicted and true values\n",
    "\n",
    "plt.figure(figsize = (5,5))\n",
    "plt.scatter(y_pred_SGD, y_test)\n",
    "plt.title(\"Scatter plot for true vs predicted values for the test set from SGD model\")\n",
    "plt.xlabel(\"predicted counts\")\n",
    "plt.ylabel(\"True counts\")\n",
    "plt.show()"
   ]
  },
  {
   "cell_type": "markdown",
   "id": "bbb857ff-f8f6-48b5-94c5-c8ee4c9c3073",
   "metadata": {},
   "source": [
    "Nearest neighbor regression"
   ]
  },
  {
   "cell_type": "code",
   "execution_count": 52,
   "id": "fedbf5e2-3e60-42e2-bfa8-23f6ca5f92bf",
   "metadata": {},
   "outputs": [],
   "source": [
    "# Initialize the KNeighborsRegressor model\n",
    "NN_model = KNeighborsRegressor()"
   ]
  },
  {
   "cell_type": "code",
   "execution_count": 53,
   "id": "0b02f0de-dbc7-4c36-b746-2252174cd4fd",
   "metadata": {},
   "outputs": [],
   "source": [
    "# Define the parameter grid\n",
    "NN_param_grid = {\n",
    "    'n_neighbors': [3, 5, 7, 9, 11],           # Number of neighbors to use\n",
    "    'weights': ['uniform', 'distance'],        # Weight function used in prediction\n",
    "    'algorithm': ['auto', 'ball_tree', 'kd_tree', 'brute'], # Algorithm used to compute the nearest neighbors\n",
    "    'leaf_size': [20, 30, 40],                 # Leaf size for the tree-based algorithms\n",
    "    'p': [1, 2]                                # Power parameter for the Minkowski metric (1 for Manhattan, 2 for Euclidean)\n",
    "}"
   ]
  },
  {
   "cell_type": "code",
   "execution_count": 54,
   "id": "00099b17-b934-4a9f-8a63-6e1ac5ebab8b",
   "metadata": {},
   "outputs": [],
   "source": [
    "# Set up the GridSearchCV\n",
    "NN_grid_search = GridSearchCV(estimator=NN_model, param_grid=NN_param_grid, cv=ps, scoring='neg_mean_squared_error', n_jobs=-1, verbose=2)"
   ]
  },
  {
   "cell_type": "code",
   "execution_count": 55,
   "id": "00c8f4e9-c749-4f5b-b8b8-de4412516213",
   "metadata": {},
   "outputs": [
    {
     "name": "stdout",
     "output_type": "stream",
     "text": [
      "Fitting 1 folds for each of 240 candidates, totalling 240 fits\n"
     ]
    },
    {
     "data": {
      "text/html": [
       "<style>#sk-container-id-5 {color: black;background-color: white;}#sk-container-id-5 pre{padding: 0;}#sk-container-id-5 div.sk-toggleable {background-color: white;}#sk-container-id-5 label.sk-toggleable__label {cursor: pointer;display: block;width: 100%;margin-bottom: 0;padding: 0.3em;box-sizing: border-box;text-align: center;}#sk-container-id-5 label.sk-toggleable__label-arrow:before {content: \"▸\";float: left;margin-right: 0.25em;color: #696969;}#sk-container-id-5 label.sk-toggleable__label-arrow:hover:before {color: black;}#sk-container-id-5 div.sk-estimator:hover label.sk-toggleable__label-arrow:before {color: black;}#sk-container-id-5 div.sk-toggleable__content {max-height: 0;max-width: 0;overflow: hidden;text-align: left;background-color: #f0f8ff;}#sk-container-id-5 div.sk-toggleable__content pre {margin: 0.2em;color: black;border-radius: 0.25em;background-color: #f0f8ff;}#sk-container-id-5 input.sk-toggleable__control:checked~div.sk-toggleable__content {max-height: 200px;max-width: 100%;overflow: auto;}#sk-container-id-5 input.sk-toggleable__control:checked~label.sk-toggleable__label-arrow:before {content: \"▾\";}#sk-container-id-5 div.sk-estimator input.sk-toggleable__control:checked~label.sk-toggleable__label {background-color: #d4ebff;}#sk-container-id-5 div.sk-label input.sk-toggleable__control:checked~label.sk-toggleable__label {background-color: #d4ebff;}#sk-container-id-5 input.sk-hidden--visually {border: 0;clip: rect(1px 1px 1px 1px);clip: rect(1px, 1px, 1px, 1px);height: 1px;margin: -1px;overflow: hidden;padding: 0;position: absolute;width: 1px;}#sk-container-id-5 div.sk-estimator {font-family: monospace;background-color: #f0f8ff;border: 1px dotted black;border-radius: 0.25em;box-sizing: border-box;margin-bottom: 0.5em;}#sk-container-id-5 div.sk-estimator:hover {background-color: #d4ebff;}#sk-container-id-5 div.sk-parallel-item::after {content: \"\";width: 100%;border-bottom: 1px solid gray;flex-grow: 1;}#sk-container-id-5 div.sk-label:hover label.sk-toggleable__label {background-color: #d4ebff;}#sk-container-id-5 div.sk-serial::before {content: \"\";position: absolute;border-left: 1px solid gray;box-sizing: border-box;top: 0;bottom: 0;left: 50%;z-index: 0;}#sk-container-id-5 div.sk-serial {display: flex;flex-direction: column;align-items: center;background-color: white;padding-right: 0.2em;padding-left: 0.2em;position: relative;}#sk-container-id-5 div.sk-item {position: relative;z-index: 1;}#sk-container-id-5 div.sk-parallel {display: flex;align-items: stretch;justify-content: center;background-color: white;position: relative;}#sk-container-id-5 div.sk-item::before, #sk-container-id-5 div.sk-parallel-item::before {content: \"\";position: absolute;border-left: 1px solid gray;box-sizing: border-box;top: 0;bottom: 0;left: 50%;z-index: -1;}#sk-container-id-5 div.sk-parallel-item {display: flex;flex-direction: column;z-index: 1;position: relative;background-color: white;}#sk-container-id-5 div.sk-parallel-item:first-child::after {align-self: flex-end;width: 50%;}#sk-container-id-5 div.sk-parallel-item:last-child::after {align-self: flex-start;width: 50%;}#sk-container-id-5 div.sk-parallel-item:only-child::after {width: 0;}#sk-container-id-5 div.sk-dashed-wrapped {border: 1px dashed gray;margin: 0 0.4em 0.5em 0.4em;box-sizing: border-box;padding-bottom: 0.4em;background-color: white;}#sk-container-id-5 div.sk-label label {font-family: monospace;font-weight: bold;display: inline-block;line-height: 1.2em;}#sk-container-id-5 div.sk-label-container {text-align: center;}#sk-container-id-5 div.sk-container {/* jupyter's `normalize.less` sets `[hidden] { display: none; }` but bootstrap.min.css set `[hidden] { display: none !important; }` so we also need the `!important` here to be able to override the default hidden behavior on the sphinx rendered scikit-learn.org. See: https://github.com/scikit-learn/scikit-learn/issues/21755 */display: inline-block !important;position: relative;}#sk-container-id-5 div.sk-text-repr-fallback {display: none;}</style><div id=\"sk-container-id-5\" class=\"sk-top-container\"><div class=\"sk-text-repr-fallback\"><pre>GridSearchCV(cv=PredefinedSplit(test_fold=array([-1, -1, -1, -1, -1, -1, -1, -1, -1, -1, -1, -1, -1, -1, -1, -1, -1,\n",
       "       -1, -1, -1, -1, -1, -1, -1,  0,  0,  0,  0,  0,  0,  0,  0])),\n",
       "             estimator=KNeighborsRegressor(), n_jobs=-1,\n",
       "             param_grid={&#x27;algorithm&#x27;: [&#x27;auto&#x27;, &#x27;ball_tree&#x27;, &#x27;kd_tree&#x27;, &#x27;brute&#x27;],\n",
       "                         &#x27;leaf_size&#x27;: [20, 30, 40],\n",
       "                         &#x27;n_neighbors&#x27;: [3, 5, 7, 9, 11], &#x27;p&#x27;: [1, 2],\n",
       "                         &#x27;weights&#x27;: [&#x27;uniform&#x27;, &#x27;distance&#x27;]},\n",
       "             scoring=&#x27;neg_mean_squared_error&#x27;, verbose=2)</pre><b>In a Jupyter environment, please rerun this cell to show the HTML representation or trust the notebook. <br />On GitHub, the HTML representation is unable to render, please try loading this page with nbviewer.org.</b></div><div class=\"sk-container\" hidden><div class=\"sk-item sk-dashed-wrapped\"><div class=\"sk-label-container\"><div class=\"sk-label sk-toggleable\"><input class=\"sk-toggleable__control sk-hidden--visually\" id=\"sk-estimator-id-13\" type=\"checkbox\" ><label for=\"sk-estimator-id-13\" class=\"sk-toggleable__label sk-toggleable__label-arrow\">GridSearchCV</label><div class=\"sk-toggleable__content\"><pre>GridSearchCV(cv=PredefinedSplit(test_fold=array([-1, -1, -1, -1, -1, -1, -1, -1, -1, -1, -1, -1, -1, -1, -1, -1, -1,\n",
       "       -1, -1, -1, -1, -1, -1, -1,  0,  0,  0,  0,  0,  0,  0,  0])),\n",
       "             estimator=KNeighborsRegressor(), n_jobs=-1,\n",
       "             param_grid={&#x27;algorithm&#x27;: [&#x27;auto&#x27;, &#x27;ball_tree&#x27;, &#x27;kd_tree&#x27;, &#x27;brute&#x27;],\n",
       "                         &#x27;leaf_size&#x27;: [20, 30, 40],\n",
       "                         &#x27;n_neighbors&#x27;: [3, 5, 7, 9, 11], &#x27;p&#x27;: [1, 2],\n",
       "                         &#x27;weights&#x27;: [&#x27;uniform&#x27;, &#x27;distance&#x27;]},\n",
       "             scoring=&#x27;neg_mean_squared_error&#x27;, verbose=2)</pre></div></div></div><div class=\"sk-parallel\"><div class=\"sk-parallel-item\"><div class=\"sk-item\"><div class=\"sk-label-container\"><div class=\"sk-label sk-toggleable\"><input class=\"sk-toggleable__control sk-hidden--visually\" id=\"sk-estimator-id-14\" type=\"checkbox\" ><label for=\"sk-estimator-id-14\" class=\"sk-toggleable__label sk-toggleable__label-arrow\">estimator: KNeighborsRegressor</label><div class=\"sk-toggleable__content\"><pre>KNeighborsRegressor()</pre></div></div></div><div class=\"sk-serial\"><div class=\"sk-item\"><div class=\"sk-estimator sk-toggleable\"><input class=\"sk-toggleable__control sk-hidden--visually\" id=\"sk-estimator-id-15\" type=\"checkbox\" ><label for=\"sk-estimator-id-15\" class=\"sk-toggleable__label sk-toggleable__label-arrow\">KNeighborsRegressor</label><div class=\"sk-toggleable__content\"><pre>KNeighborsRegressor()</pre></div></div></div></div></div></div></div></div></div></div>"
      ],
      "text/plain": [
       "GridSearchCV(cv=PredefinedSplit(test_fold=array([-1, -1, -1, -1, -1, -1, -1, -1, -1, -1, -1, -1, -1, -1, -1, -1, -1,\n",
       "       -1, -1, -1, -1, -1, -1, -1,  0,  0,  0,  0,  0,  0,  0,  0])),\n",
       "             estimator=KNeighborsRegressor(), n_jobs=-1,\n",
       "             param_grid={'algorithm': ['auto', 'ball_tree', 'kd_tree', 'brute'],\n",
       "                         'leaf_size': [20, 30, 40],\n",
       "                         'n_neighbors': [3, 5, 7, 9, 11], 'p': [1, 2],\n",
       "                         'weights': ['uniform', 'distance']},\n",
       "             scoring='neg_mean_squared_error', verbose=2)"
      ]
     },
     "execution_count": 55,
     "metadata": {},
     "output_type": "execute_result"
    }
   ],
   "source": [
    "# Fit the grid search to the data\n",
    "NN_grid_search.fit(X_full, y_full)"
   ]
  },
  {
   "cell_type": "code",
   "execution_count": 56,
   "id": "5e9eaf94-b63e-4667-9628-a2d6e3aa18a7",
   "metadata": {},
   "outputs": [
    {
     "name": "stdout",
     "output_type": "stream",
     "text": [
      "Best parameters found: {'algorithm': 'brute', 'leaf_size': 20, 'n_neighbors': 3, 'p': 2, 'weights': 'distance'}\n",
      "Best score (MSE): 65.02672303828268\n"
     ]
    }
   ],
   "source": [
    "# Print the best parameters and best score\n",
    "print(f\"Best parameters found: {NN_grid_search.best_params_}\")\n",
    "print(f\"Best score (MSE): {-NN_grid_search.best_score_}\")"
   ]
  },
  {
   "cell_type": "code",
   "execution_count": 57,
   "id": "f7b5dabd-033d-4994-858c-5d7a769e8507",
   "metadata": {},
   "outputs": [],
   "source": [
    "# Evaluate the best model on the test set\n",
    "best_model_NN = NN_grid_search.best_estimator_\n",
    "y_pred_NN = best_model_NN.predict(X_test)\n",
    "test_rmse_NN = np.sqrt(mean_squared_error(y_test, y_pred_NN))\n",
    "test_mae_NN = mean_absolute_error(y_test,y_pred_NN)\n",
    "test_corr_NN = pearsonr(y_test, y_pred_NN)[0]\n",
    "test_r2_NN = r2_score(y_test, y_pred_NN)"
   ]
  },
  {
   "cell_type": "code",
   "execution_count": 58,
   "id": "8f8aec5b-4a89-4a2b-ba20-1d336ba08f6b",
   "metadata": {},
   "outputs": [
    {
     "data": {
      "text/plain": [
       "(0.0, 0.0, 1.0, 1.0)"
      ]
     },
     "execution_count": 58,
     "metadata": {},
     "output_type": "execute_result"
    }
   ],
   "source": [
    "test_rmse_NN, test_mae_NN, test_corr_NN, test_r2_NN"
   ]
  },
  {
   "cell_type": "code",
   "execution_count": 59,
   "id": "3a58d3e9-d2a0-4a6b-a30b-8aecbbd1dabe",
   "metadata": {},
   "outputs": [
    {
     "data": {
      "image/png": "[encoded data removed]",
      "text/plain": [
       "<Figure size 500x500 with 1 Axes>"
      ]
     },
     "metadata": {},
     "output_type": "display_data"
    }
   ],
   "source": [
    "# plot the data test predicted and true values\n",
    "\n",
    "plt.figure(figsize = (5,5))\n",
    "plt.scatter( y_pred_NN, y_test)\n",
    "plt.title(\"Scatter plot for true vs predicted values for the test set from NN model\")\n",
    "plt.xlabel(\"predicted counts\")\n",
    "plt.ylabel(\"True counts\")\n",
    "plt.show()"
   ]
  },
  {
   "cell_type": "markdown",
   "id": "99b7b870-77f1-4e6d-aba3-0df48f65e866",
   "metadata": {},
   "source": [
    "Gaussian process regression"
   ]
  },
  {
   "cell_type": "code",
   "execution_count": 60,
   "id": "6047c62d-8c5e-4c3d-89cd-6d5f5a03dceb",
   "metadata": {},
   "outputs": [],
   "source": [
    "GPR_model = GaussianProcessRegressor()\n",
    "\n",
    "# Define the parameter grid\n",
    "GPR_param_grid = {\n",
    "    'alpha': [1e-10, 1e-5, 1e-2],  # Noise level added to the diagonal of the kernel matrix\n",
    "    'kernel': [RBF(length_scale=1.0),          # Radial-basis function (RBF) kernel\n",
    "               Matern(length_scale=1.0, nu=1.5), # Matern kernel with nu=1.5\n",
    "               RationalQuadratic(length_scale=1.0, alpha=0.1), # Rational Quadratic kernel\n",
    "               ExpSineSquared(length_scale=1.0, periodicity=3.0)] # Exponential Sine Squared kernel\n",
    "}"
   ]
  },
  {
   "cell_type": "code",
   "execution_count": 61,
   "id": "26802529-aa3b-49d4-b46e-8d8e9cd80605",
   "metadata": {},
   "outputs": [],
   "source": [
    "\n",
    "# Set up the GridSearchCV\n",
    "GPR_grid_search = GridSearchCV(estimator=GPR_model, param_grid=GPR_param_grid, cv=ps, scoring='neg_mean_squared_error', n_jobs=-1, verbose=2)\n"
   ]
  },
  {
   "cell_type": "code",
   "execution_count": 62,
   "id": "6b949725-2a8b-44ef-853d-89a543409e73",
   "metadata": {},
   "outputs": [
    {
     "name": "stdout",
     "output_type": "stream",
     "text": [
      "Fitting 1 folds for each of 12 candidates, totalling 12 fits\n"
     ]
    },
    {
     "data": {
      "text/html": [
       "<style>#sk-container-id-6 {color: black;background-color: white;}#sk-container-id-6 pre{padding: 0;}#sk-container-id-6 div.sk-toggleable {background-color: white;}#sk-container-id-6 label.sk-toggleable__label {cursor: pointer;display: block;width: 100%;margin-bottom: 0;padding: 0.3em;box-sizing: border-box;text-align: center;}#sk-container-id-6 label.sk-toggleable__label-arrow:before {content: \"▸\";float: left;margin-right: 0.25em;color: #696969;}#sk-container-id-6 label.sk-toggleable__label-arrow:hover:before {color: black;}#sk-container-id-6 div.sk-estimator:hover label.sk-toggleable__label-arrow:before {color: black;}#sk-container-id-6 div.sk-toggleable__content {max-height: 0;max-width: 0;overflow: hidden;text-align: left;background-color: #f0f8ff;}#sk-container-id-6 div.sk-toggleable__content pre {margin: 0.2em;color: black;border-radius: 0.25em;background-color: #f0f8ff;}#sk-container-id-6 input.sk-toggleable__control:checked~div.sk-toggleable__content {max-height: 200px;max-width: 100%;overflow: auto;}#sk-container-id-6 input.sk-toggleable__control:checked~label.sk-toggleable__label-arrow:before {content: \"▾\";}#sk-container-id-6 div.sk-estimator input.sk-toggleable__control:checked~label.sk-toggleable__label {background-color: #d4ebff;}#sk-container-id-6 div.sk-label input.sk-toggleable__control:checked~label.sk-toggleable__label {background-color: #d4ebff;}#sk-container-id-6 input.sk-hidden--visually {border: 0;clip: rect(1px 1px 1px 1px);clip: rect(1px, 1px, 1px, 1px);height: 1px;margin: -1px;overflow: hidden;padding: 0;position: absolute;width: 1px;}#sk-container-id-6 div.sk-estimator {font-family: monospace;background-color: #f0f8ff;border: 1px dotted black;border-radius: 0.25em;box-sizing: border-box;margin-bottom: 0.5em;}#sk-container-id-6 div.sk-estimator:hover {background-color: #d4ebff;}#sk-container-id-6 div.sk-parallel-item::after {content: \"\";width: 100%;border-bottom: 1px solid gray;flex-grow: 1;}#sk-container-id-6 div.sk-label:hover label.sk-toggleable__label {background-color: #d4ebff;}#sk-container-id-6 div.sk-serial::before {content: \"\";position: absolute;border-left: 1px solid gray;box-sizing: border-box;top: 0;bottom: 0;left: 50%;z-index: 0;}#sk-container-id-6 div.sk-serial {display: flex;flex-direction: column;align-items: center;background-color: white;padding-right: 0.2em;padding-left: 0.2em;position: relative;}#sk-container-id-6 div.sk-item {position: relative;z-index: 1;}#sk-container-id-6 div.sk-parallel {display: flex;align-items: stretch;justify-content: center;background-color: white;position: relative;}#sk-container-id-6 div.sk-item::before, #sk-container-id-6 div.sk-parallel-item::before {content: \"\";position: absolute;border-left: 1px solid gray;box-sizing: border-box;top: 0;bottom: 0;left: 50%;z-index: -1;}#sk-container-id-6 div.sk-parallel-item {display: flex;flex-direction: column;z-index: 1;position: relative;background-color: white;}#sk-container-id-6 div.sk-parallel-item:first-child::after {align-self: flex-end;width: 50%;}#sk-container-id-6 div.sk-parallel-item:last-child::after {align-self: flex-start;width: 50%;}#sk-container-id-6 div.sk-parallel-item:only-child::after {width: 0;}#sk-container-id-6 div.sk-dashed-wrapped {border: 1px dashed gray;margin: 0 0.4em 0.5em 0.4em;box-sizing: border-box;padding-bottom: 0.4em;background-color: white;}#sk-container-id-6 div.sk-label label {font-family: monospace;font-weight: bold;display: inline-block;line-height: 1.2em;}#sk-container-id-6 div.sk-label-container {text-align: center;}#sk-container-id-6 div.sk-container {/* jupyter's `normalize.less` sets `[hidden] { display: none; }` but bootstrap.min.css set `[hidden] { display: none !important; }` so we also need the `!important` here to be able to override the default hidden behavior on the sphinx rendered scikit-learn.org. See: https://github.com/scikit-learn/scikit-learn/issues/21755 */display: inline-block !important;position: relative;}#sk-container-id-6 div.sk-text-repr-fallback {display: none;}</style><div id=\"sk-container-id-6\" class=\"sk-top-container\"><div class=\"sk-text-repr-fallback\"><pre>GridSearchCV(cv=PredefinedSplit(test_fold=array([-1, -1, -1, -1, -1, -1, -1, -1, -1, -1, -1, -1, -1, -1, -1, -1, -1,\n",
       "       -1, -1, -1, -1, -1, -1, -1,  0,  0,  0,  0,  0,  0,  0,  0])),\n",
       "             estimator=GaussianProcessRegressor(), n_jobs=-1,\n",
       "             param_grid={&#x27;alpha&#x27;: [1e-10, 1e-05, 0.01],\n",
       "                         &#x27;kernel&#x27;: [RBF(length_scale=1),\n",
       "                                    Matern(length_scale=1, nu=1.5),\n",
       "                                    RationalQuadratic(alpha=0.1, length_scale=1),\n",
       "                                    ExpSineSquared(length_scale=1, periodicity=3)]},\n",
       "             scoring=&#x27;neg_mean_squared_error&#x27;, verbose=2)</pre><b>In a Jupyter environment, please rerun this cell to show the HTML representation or trust the notebook. <br />On GitHub, the HTML representation is unable to render, please try loading this page with nbviewer.org.</b></div><div class=\"sk-container\" hidden><div class=\"sk-item sk-dashed-wrapped\"><div class=\"sk-label-container\"><div class=\"sk-label sk-toggleable\"><input class=\"sk-toggleable__control sk-hidden--visually\" id=\"sk-estimator-id-16\" type=\"checkbox\" ><label for=\"sk-estimator-id-16\" class=\"sk-toggleable__label sk-toggleable__label-arrow\">GridSearchCV</label><div class=\"sk-toggleable__content\"><pre>GridSearchCV(cv=PredefinedSplit(test_fold=array([-1, -1, -1, -1, -1, -1, -1, -1, -1, -1, -1, -1, -1, -1, -1, -1, -1,\n",
       "       -1, -1, -1, -1, -1, -1, -1,  0,  0,  0,  0,  0,  0,  0,  0])),\n",
       "             estimator=GaussianProcessRegressor(), n_jobs=-1,\n",
       "             param_grid={&#x27;alpha&#x27;: [1e-10, 1e-05, 0.01],\n",
       "                         &#x27;kernel&#x27;: [RBF(length_scale=1),\n",
       "                                    Matern(length_scale=1, nu=1.5),\n",
       "                                    RationalQuadratic(alpha=0.1, length_scale=1),\n",
       "                                    ExpSineSquared(length_scale=1, periodicity=3)]},\n",
       "             scoring=&#x27;neg_mean_squared_error&#x27;, verbose=2)</pre></div></div></div><div class=\"sk-parallel\"><div class=\"sk-parallel-item\"><div class=\"sk-item\"><div class=\"sk-label-container\"><div class=\"sk-label sk-toggleable\"><input class=\"sk-toggleable__control sk-hidden--visually\" id=\"sk-estimator-id-17\" type=\"checkbox\" ><label for=\"sk-estimator-id-17\" class=\"sk-toggleable__label sk-toggleable__label-arrow\">estimator: GaussianProcessRegressor</label><div class=\"sk-toggleable__content\"><pre>GaussianProcessRegressor()</pre></div></div></div><div class=\"sk-serial\"><div class=\"sk-item\"><div class=\"sk-estimator sk-toggleable\"><input class=\"sk-toggleable__control sk-hidden--visually\" id=\"sk-estimator-id-18\" type=\"checkbox\" ><label for=\"sk-estimator-id-18\" class=\"sk-toggleable__label sk-toggleable__label-arrow\">GaussianProcessRegressor</label><div class=\"sk-toggleable__content\"><pre>GaussianProcessRegressor()</pre></div></div></div></div></div></div></div></div></div></div>"
      ],
      "text/plain": [
       "GridSearchCV(cv=PredefinedSplit(test_fold=array([-1, -1, -1, -1, -1, -1, -1, -1, -1, -1, -1, -1, -1, -1, -1, -1, -1,\n",
       "       -1, -1, -1, -1, -1, -1, -1,  0,  0,  0,  0,  0,  0,  0,  0])),\n",
       "             estimator=GaussianProcessRegressor(), n_jobs=-1,\n",
       "             param_grid={'alpha': [1e-10, 1e-05, 0.01],\n",
       "                         'kernel': [RBF(length_scale=1),\n",
       "                                    Matern(length_scale=1, nu=1.5),\n",
       "                                    RationalQuadratic(alpha=0.1, length_scale=1),\n",
       "                                    ExpSineSquared(length_scale=1, periodicity=3)]},\n",
       "             scoring='neg_mean_squared_error', verbose=2)"
      ]
     },
     "execution_count": 62,
     "metadata": {},
     "output_type": "execute_result"
    }
   ],
   "source": [
    "# Fit the grid search to the data\n",
    "GPR_grid_search.fit(X_full, y_full)"
   ]
  },
  {
   "cell_type": "code",
   "execution_count": 63,
   "id": "5c9cfa0e-d5cb-4789-9e3b-c4dbdc0b9fa9",
   "metadata": {},
   "outputs": [
    {
     "name": "stdout",
     "output_type": "stream",
     "text": [
      "Best parameters found: {'alpha': 1e-05, 'kernel': RationalQuadratic(alpha=0.1, length_scale=1)}\n",
      "Best score (MSE): 101.01712173513116\n"
     ]
    }
   ],
   "source": [
    "# Print the best parameters and best score\n",
    "print(f\"Best parameters found: {GPR_grid_search.best_params_}\")\n",
    "print(f\"Best score (MSE): {-GPR_grid_search.best_score_}\")"
   ]
  },
  {
   "cell_type": "code",
   "execution_count": 64,
   "id": "68252164-76d5-4cb6-b576-a375ed68ca6b",
   "metadata": {},
   "outputs": [],
   "source": [
    "# Evaluate the best model on the test set\n",
    "best_model_GPR = GPR_grid_search.best_estimator_\n",
    "y_pred_GPR = best_model_GPR.predict(X_test)\n",
    "test_rmse_GPR = np.sqrt(mean_squared_error(y_test, y_pred_GPR))\n",
    "test_mae_GPR = mean_absolute_error(y_test,y_pred_GPR)\n",
    "test_corr_GPR = pearsonr(y_test, y_pred_GPR)[0]\n",
    "test_r2_GPR = r2_score(y_test, y_pred_GPR)"
   ]
  },
  {
   "cell_type": "code",
   "execution_count": 65,
   "id": "4195f7d0-cc22-4952-82f2-3431a9f8161a",
   "metadata": {},
   "outputs": [
    {
     "data": {
      "text/plain": [
       "(0.00014666081326573208,\n",
       " 0.00013754169067214939,\n",
       " 0.9999999999818003,\n",
       " 0.9999999998776028)"
      ]
     },
     "execution_count": 65,
     "metadata": {},
     "output_type": "execute_result"
    }
   ],
   "source": [
    "test_rmse_GPR, test_mae_GPR, test_corr_GPR, test_r2_GPR"
   ]
  },
  {
   "cell_type": "code",
   "execution_count": 66,
   "id": "68d60362-311b-4802-985c-817122fc07b4",
   "metadata": {},
   "outputs": [
    {
     "data": {
      "image/png": "[encoded data removed]",
      "text/plain": [
       "<Figure size 500x500 with 1 Axes>"
      ]
     },
     "metadata": {},
     "output_type": "display_data"
    }
   ],
   "source": [
    "# plot the data test predicted and true values\n",
    "\n",
    "plt.figure(figsize = (5,5))\n",
    "plt.scatter( y_pred_GPR, y_test)\n",
    "plt.title(\"Scatter plot for true vs predicted values for the test set from GPR model\")\n",
    "plt.xlabel(\"predicted counts\")\n",
    "plt.ylabel(\"True counts\")\n",
    "plt.show()"
   ]
  },
  {
   "cell_type": "markdown",
   "id": "46034772-89c9-45a7-96dd-7187a5e12088",
   "metadata": {},
   "source": [
    "Perceptron"
   ]
  },
  {
   "cell_type": "code",
   "execution_count": 67,
   "id": "7d17d024-adfb-40a8-98c8-03adab3ea885",
   "metadata": {},
   "outputs": [],
   "source": [
    "import tensorflow as tf"
   ]
  },
  {
   "cell_type": "code",
   "execution_count": 68,
   "id": "5084a28b-ea1c-4d15-898f-0bb9c3ed3037",
   "metadata": {},
   "outputs": [
    {
     "data": {
      "text/plain": [
       "[PhysicalDevice(name='/physical_device:GPU:0', device_type='GPU')]"
      ]
     },
     "execution_count": 68,
     "metadata": {},
     "output_type": "execute_result"
    }
   ],
   "source": [
    "tf.config.list_physical_devices(\"GPU\")"
   ]
  },
  {
   "cell_type": "code",
   "execution_count": 69,
   "id": "f997aadf-b9d7-4ab4-b072-1bba2988240a",
   "metadata": {},
   "outputs": [],
   "source": [
    "# input layer\n",
    "input_layer = tf.keras.layers.Input(shape = (1,))"
   ]
  },
  {
   "cell_type": "code",
   "execution_count": 70,
   "id": "da163dd1-cfd0-44b9-8334-42057c9fbff7",
   "metadata": {},
   "outputs": [],
   "source": [
    "# Define the first dense layer\n",
    "x_1 = tf.keras.layers.Dense(16)"
   ]
  },
  {
   "cell_type": "code",
   "execution_count": 71,
   "id": "6609eac8-8c21-4227-abd4-4f26c618f95f",
   "metadata": {},
   "outputs": [],
   "source": [
    "x_1_out = x_1(input_layer)"
   ]
  },
  {
   "cell_type": "code",
   "execution_count": 72,
   "id": "398894f1-db74-440c-8e5a-0528e60a7d59",
   "metadata": {},
   "outputs": [],
   "source": [
    "# add another dense layer\n",
    "x_2 = tf.keras.layers.Dense(8)"
   ]
  },
  {
   "cell_type": "code",
   "execution_count": 73,
   "id": "41193719-558a-4721-812e-1e602f22b0f6",
   "metadata": {},
   "outputs": [],
   "source": [
    "X_2_out = x_2(x_1_out)"
   ]
  },
  {
   "cell_type": "code",
   "execution_count": 74,
   "id": "be8a7a07-6a82-4811-98a6-55814290d189",
   "metadata": {},
   "outputs": [],
   "source": [
    "pred_head = tf.keras.layers.Dense(1, activation = 'relu')"
   ]
  },
  {
   "cell_type": "code",
   "execution_count": 75,
   "id": "cabfd188-6710-4220-8d1c-2a0b7230bc13",
   "metadata": {},
   "outputs": [],
   "source": [
    "pred_out = pred_head(X_2_out)"
   ]
  },
  {
   "cell_type": "code",
   "execution_count": 76,
   "id": "27adc8df-ba4c-4d15-90d8-046aae478ec1",
   "metadata": {},
   "outputs": [],
   "source": [
    "final_model = tf.keras.Model(inputs = input_layer, outputs = pred_out)"
   ]
  },
  {
   "cell_type": "code",
   "execution_count": 77,
   "id": "21f045bc-91de-46bb-95ef-ffe265667b1e",
   "metadata": {},
   "outputs": [
    {
     "name": "stdout",
     "output_type": "stream",
     "text": [
      "Model: \"model\"\n",
      "_________________________________________________________________\n",
      " Layer (type)                Output Shape              Param #   \n",
      "=================================================================\n",
      " input_1 (InputLayer)        [(None, 1)]               0         \n",
      "                                                                 \n",
      " dense (Dense)               (None, 16)                32        \n",
      "                                                                 \n",
      " dense_1 (Dense)             (None, 8)                 136       \n",
      "                                                                 \n",
      " dense_2 (Dense)             (None, 1)                 9         \n",
      "                                                                 \n",
      "=================================================================\n",
      "Total params: 177\n",
      "Trainable params: 177\n",
      "Non-trainable params: 0\n",
      "_________________________________________________________________\n"
     ]
    }
   ],
   "source": [
    "final_model.summary()"
   ]
  },
  {
   "cell_type": "code",
   "execution_count": 78,
   "id": "31756152-3e8f-460b-9a9a-4f1ac6a7861d",
   "metadata": {},
   "outputs": [],
   "source": [
    "# define the optimizer for the model\n",
    "opt = tf.keras.optimizers.Adam(learning_rate = 0.1)"
   ]
  },
  {
   "cell_type": "code",
   "execution_count": 79,
   "id": "b56d84f7-792f-462c-ad9d-ca21be6b493d",
   "metadata": {},
   "outputs": [],
   "source": [
    "# compile the model\n",
    "final_model.compile(loss = 'mean_squared_error', optimizer = opt, metrics = ['mean_absolute_error'])"
   ]
  },
  {
   "cell_type": "code",
   "execution_count": 80,
   "id": "def5be9d-9d9d-422a-85b7-2346421e6c9f",
   "metadata": {},
   "outputs": [],
   "source": [
    "# add early stopping\n",
    "ES = tf.keras.callbacks.EarlyStopping(monitor='val_loss', restore_best_weights = True, verbose = 1, patience = 15)"
   ]
  },
  {
   "cell_type": "code",
   "execution_count": 81,
   "id": "62be4510-2b93-48c7-9bbd-990fc49c2c6c",
   "metadata": {},
   "outputs": [
    {
     "name": "stdout",
     "output_type": "stream",
     "text": [
      "Epoch 1/300\n",
      "1/1 [==============================] - 1s 1s/step - loss: 706.2116 - mean_absolute_error: 22.9477 - val_loss: 643.3903 - val_mean_absolute_error: 22.0186\n",
      "Epoch 2/300\n",
      "1/1 [==============================] - 0s 18ms/step - loss: 405.3601 - mean_absolute_error: 16.9956 - val_loss: 202.7659 - val_mean_absolute_error: 13.1670\n",
      "Epoch 3/300\n",
      "1/1 [==============================] - 0s 18ms/step - loss: 107.5467 - mean_absolute_error: 8.3130 - val_loss: 138.2980 - val_mean_absolute_error: 8.7356\n",
      "Epoch 4/300\n",
      "1/1 [==============================] - 0s 18ms/step - loss: 161.4991 - mean_absolute_error: 11.0277 - val_loss: 216.5693 - val_mean_absolute_error: 11.8098\n",
      "Epoch 5/300\n",
      "1/1 [==============================] - 0s 27ms/step - loss: 265.7376 - mean_absolute_error: 14.3865 - val_loss: 164.8675 - val_mean_absolute_error: 10.0248\n",
      "Epoch 6/300\n",
      "1/1 [==============================] - 0s 19ms/step - loss: 199.6963 - mean_absolute_error: 12.3941 - val_loss: 105.1856 - val_mean_absolute_error: 8.0740\n",
      "Epoch 7/300\n",
      "1/1 [==============================] - 0s 17ms/step - loss: 96.8384 - mean_absolute_error: 7.8900 - val_loss: 164.8108 - val_mean_absolute_error: 11.7605\n",
      "Epoch 8/300\n",
      "1/1 [==============================] - 0s 26ms/step - loss: 89.4977 - mean_absolute_error: 7.4992 - val_loss: 284.5908 - val_mean_absolute_error: 15.5147\n",
      "Epoch 9/300\n",
      "1/1 [==============================] - 0s 17ms/step - loss: 156.2984 - mean_absolute_error: 10.3295 - val_loss: 260.1480 - val_mean_absolute_error: 14.8912\n",
      "Epoch 10/300\n",
      "1/1 [==============================] - 0s 21ms/step - loss: 141.4046 - mean_absolute_error: 9.7686 - val_loss: 154.1680 - val_mean_absolute_error: 11.3095\n",
      "Epoch 11/300\n",
      "1/1 [==============================] - 0s 26ms/step - loss: 85.3427 - mean_absolute_error: 7.3919 - val_loss: 104.7590 - val_mean_absolute_error: 8.7004\n",
      "Epoch 12/300\n",
      "1/1 [==============================] - 0s 17ms/step - loss: 82.9536 - mean_absolute_error: 7.1109 - val_loss: 109.9691 - val_mean_absolute_error: 7.4888\n",
      "Epoch 13/300\n",
      "1/1 [==============================] - 0s 17ms/step - loss: 115.3703 - mean_absolute_error: 9.0209 - val_loss: 118.0009 - val_mean_absolute_error: 7.9408\n",
      "Epoch 14/300\n",
      "1/1 [==============================] - 0s 17ms/step - loss: 131.4847 - mean_absolute_error: 9.8343 - val_loss: 109.6113 - val_mean_absolute_error: 7.4989\n",
      "Epoch 15/300\n",
      "1/1 [==============================] - 0s 18ms/step - loss: 115.3240 - mean_absolute_error: 9.0264 - val_loss: 102.6029 - val_mean_absolute_error: 8.4738\n",
      "Epoch 16/300\n",
      "1/1 [==============================] - 0s 17ms/step - loss: 86.4819 - mean_absolute_error: 7.3593 - val_loss: 125.4458 - val_mean_absolute_error: 9.8218\n",
      "Epoch 17/300\n",
      "1/1 [==============================] - 0s 17ms/step - loss: 76.9046 - mean_absolute_error: 7.0357 - val_loss: 175.2706 - val_mean_absolute_error: 12.2407\n",
      "Epoch 18/300\n",
      "1/1 [==============================] - 0s 17ms/step - loss: 95.2663 - mean_absolute_error: 7.6765 - val_loss: 200.2392 - val_mean_absolute_error: 13.1407\n",
      "Epoch 19/300\n",
      "1/1 [==============================] - 0s 17ms/step - loss: 108.1591 - mean_absolute_error: 8.3392 - val_loss: 171.9185 - val_mean_absolute_error: 12.1167\n",
      "Epoch 20/300\n",
      "1/1 [==============================] - 0s 17ms/step - loss: 93.8317 - mean_absolute_error: 7.5969 - val_loss: 128.1589 - val_mean_absolute_error: 9.9782\n",
      "Epoch 21/300\n",
      "1/1 [==============================] - 0s 18ms/step - loss: 77.4477 - mean_absolute_error: 7.0781 - val_loss: 105.1247 - val_mean_absolute_error: 8.9124\n",
      "Epoch 22/300\n",
      "1/1 [==============================] - 0s 25ms/step - loss: 79.4555 - mean_absolute_error: 6.9939 - val_loss: 101.1560 - val_mean_absolute_error: 8.2526\n",
      "Epoch 23/300\n",
      "1/1 [==============================] - 0s 17ms/step - loss: 90.6017 - mean_absolute_error: 7.6515 - val_loss: 101.4671 - val_mean_absolute_error: 8.0737\n",
      "Epoch 24/300\n",
      "1/1 [==============================] - 0s 23ms/step - loss: 94.9030 - mean_absolute_error: 7.8883 - val_loss: 100.8593 - val_mean_absolute_error: 8.3594\n",
      "Epoch 25/300\n",
      "1/1 [==============================] - 0s 17ms/step - loss: 88.1136 - mean_absolute_error: 7.5098 - val_loss: 105.6997 - val_mean_absolute_error: 9.0012\n",
      "Epoch 26/300\n",
      "1/1 [==============================] - 0s 17ms/step - loss: 78.3448 - mean_absolute_error: 6.9467 - val_loss: 123.1434 - val_mean_absolute_error: 9.7926\n",
      "Epoch 27/300\n",
      "1/1 [==============================] - 0s 17ms/step - loss: 76.5532 - mean_absolute_error: 7.0058 - val_loss: 146.4465 - val_mean_absolute_error: 11.0358\n",
      "Epoch 28/300\n",
      "1/1 [==============================] - 0s 26ms/step - loss: 83.3729 - mean_absolute_error: 7.3052 - val_loss: 155.5739 - val_mean_absolute_error: 11.4655\n",
      "Epoch 29/300\n",
      "1/1 [==============================] - 0s 16ms/step - loss: 87.1312 - mean_absolute_error: 7.4000 - val_loss: 142.3692 - val_mean_absolute_error: 10.8412\n",
      "Epoch 30/300\n",
      "1/1 [==============================] - 0s 17ms/step - loss: 81.9610 - mean_absolute_error: 7.2592 - val_loss: 121.1093 - val_mean_absolute_error: 9.7404\n",
      "Epoch 31/300\n",
      "1/1 [==============================] - 0s 23ms/step - loss: 76.2624 - mean_absolute_error: 6.9754 - val_loss: 106.9077 - val_mean_absolute_error: 9.1292\n",
      "Epoch 32/300\n",
      "1/1 [==============================] - 0s 17ms/step - loss: 77.0786 - mean_absolute_error: 6.8840 - val_loss: 101.6385 - val_mean_absolute_error: 8.7292\n",
      "Epoch 33/300\n",
      "1/1 [==============================] - 0s 26ms/step - loss: 81.2138 - mean_absolute_error: 7.0342 - val_loss: 100.8022 - val_mean_absolute_error: 8.6398\n",
      "Epoch 34/300\n",
      "1/1 [==============================] - 0s 17ms/step - loss: 82.4915 - mean_absolute_error: 7.1377 - val_loss: 102.6773 - val_mean_absolute_error: 8.8563\n",
      "Epoch 35/300\n",
      "1/1 [==============================] - 0s 17ms/step - loss: 79.4984 - mean_absolute_error: 6.9783 - val_loss: 109.4170 - val_mean_absolute_error: 9.2903\n",
      "Epoch 36/300\n",
      "1/1 [==============================] - 0s 17ms/step - loss: 76.1054 - mean_absolute_error: 6.8540 - val_loss: 121.5729 - val_mean_absolute_error: 9.7787\n",
      "Epoch 37/300\n",
      "1/1 [==============================] - 0s 17ms/step - loss: 76.3781 - mean_absolute_error: 6.9850 - val_loss: 132.8569 - val_mean_absolute_error: 10.3655\n",
      "Epoch 38/300\n",
      "1/1 [==============================] - 0s 17ms/step - loss: 79.1264 - mean_absolute_error: 7.1435 - val_loss: 134.3903 - val_mean_absolute_error: 10.4562\n",
      "Epoch 39/300\n",
      "1/1 [==============================] - 0s 17ms/step - loss: 79.6368 - mean_absolute_error: 7.1627 - val_loss: 125.4742 - val_mean_absolute_error: 9.9289\n",
      "Epoch 40/300\n",
      "1/1 [==============================] - 0s 17ms/step - loss: 77.2038 - mean_absolute_error: 7.0440 - val_loss: 113.9288 - val_mean_absolute_error: 9.5141\n",
      "Epoch 41/300\n",
      "1/1 [==============================] - 0s 17ms/step - loss: 75.6317 - mean_absolute_error: 6.8763 - val_loss: 106.2177 - val_mean_absolute_error: 9.1534\n",
      "Epoch 42/300\n",
      "1/1 [==============================] - 0s 17ms/step - loss: 76.6524 - mean_absolute_error: 6.8662 - val_loss: 103.1736 - val_mean_absolute_error: 8.9643\n",
      "Epoch 43/300\n",
      "1/1 [==============================] - 0s 17ms/step - loss: 78.1051 - mean_absolute_error: 6.9166 - val_loss: 103.5279 - val_mean_absolute_error: 8.9963\n",
      "Epoch 44/300\n",
      "1/1 [==============================] - 0s 17ms/step - loss: 77.7862 - mean_absolute_error: 6.9018 - val_loss: 107.1355 - val_mean_absolute_error: 9.2192\n",
      "Epoch 45/300\n",
      "1/1 [==============================] - 0s 17ms/step - loss: 76.2355 - mean_absolute_error: 6.8500 - val_loss: 114.0247 - val_mean_absolute_error: 9.5356\n",
      "Epoch 46/300\n",
      "1/1 [==============================] - 0s 17ms/step - loss: 75.5979 - mean_absolute_error: 6.8738 - val_loss: 121.5510 - val_mean_absolute_error: 9.8074\n",
      "Epoch 47/300\n",
      "1/1 [==============================] - 0s 17ms/step - loss: 76.5056 - mean_absolute_error: 6.9866 - val_loss: 124.8002 - val_mean_absolute_error: 9.9211\n",
      "Epoch 48/300\n",
      "1/1 [==============================] - ETA: 0s - loss: 77.2156 - mean_absolute_error: 7.0347Restoring model weights from the end of the best epoch: 33.\n",
      "1/1 [==============================] - 0s 19ms/step - loss: 77.2156 - mean_absolute_error: 7.0347 - val_loss: 121.5096 - val_mean_absolute_error: 9.8108\n",
      "Epoch 48: early stopping\n"
     ]
    }
   ],
   "source": [
    "   # # fit the model (fine tuned)\n",
    "history_new = final_model.fit(X_train, y_train,\n",
    "          epochs = 300, callbacks = [ES],\n",
    "          validation_data = (X_test, y_test))\n"
   ]
  },
  {
   "cell_type": "code",
   "execution_count": 82,
   "id": "327aad06-01bc-42b0-93ca-dfc93ad3b332",
   "metadata": {},
   "outputs": [],
   "source": [
    "P_preds = final_model.predict(X_test)"
   ]
  },
  {
   "cell_type": "code",
   "execution_count": 83,
   "id": "0f908ef6-bb70-4e9a-ac6f-7fa72cbf87c3",
   "metadata": {},
   "outputs": [],
   "source": [
    "test_rmse_P= np.sqrt(mean_squared_error(y_test, P_preds))\n",
    "test_mae_P = mean_absolute_error(y_test,P_preds)\n",
    "test_corr_P = pearsonr(y_test, P_preds)[0]\n",
    "test_r2_P = r2_score(y_test, P_preds)"
   ]
  },
  {
   "cell_type": "code",
   "execution_count": 85,
   "id": "97a1d14b-a74f-4621-8d2b-c58722ab0841",
   "metadata": {},
   "outputs": [
    {
     "data": {
      "text/plain": [
       "(10.040029423379591,\n",
       " 8.639821290969849,\n",
       " array([0.707426582446026], dtype=object),\n",
       " 0.42639457520859003)"
      ]
     },
     "execution_count": 85,
     "metadata": {},
     "output_type": "execute_result"
    }
   ],
   "source": [
    "test_rmse_P, test_mae_P, test_corr_P, test_r2_P"
   ]
  },
  {
   "cell_type": "code",
   "execution_count": 86,
   "id": "6462e7ea-1481-4a62-bf19-ca29b883f295",
   "metadata": {},
   "outputs": [
    {
     "data": {
      "image/png": "[encoded data removed]",
      "text/plain": [
       "<Figure size 500x500 with 1 Axes>"
      ]
     },
     "metadata": {},
     "output_type": "display_data"
    }
   ],
   "source": [
    "# plot the data test predicted and true values\n",
    "\n",
    "plt.figure(figsize = (5,5))\n",
    "plt.scatter( P_preds, y_test)\n",
    "plt.title(\"Scatter plot for true vs predicted values for the test set from perceptron model\")\n",
    "plt.xlabel(\"predicted counts\")\n",
    "plt.ylabel(\"True counts\")\n",
    "plt.show()"
   ]
  }
 ],
 "metadata": {
  "kernelspec": {
   "display_name": "Python (tf_with_py38_gpu_29)",
   "language": "python",
   "name": "tf_with_py38_gpu_29"
  },
  "language_info": {
   "codemirror_mode": {
    "name": "ipython",
    "version": 3
   },
   "file_extension": ".py",
   "mimetype": "text/x-python",
   "name": "python",
   "nbconvert_exporter": "python",
   "pygments_lexer": "ipython3",
   "version": "3.8.13"
  }
 },
 "nbformat": 4,
 "nbformat_minor": 5
}
